{
 "cells": [
  {
   "attachments": {},
   "cell_type": "markdown",
   "metadata": {
    "id": "6dArCN8VR58u",
    "pycharm": {
     "name": "#%% md\n"
    }
   },
   "source": [
    "### Importing the packages"
   ]
  },
  {
   "cell_type": "code",
   "execution_count": 1,
   "metadata": {
    "executionInfo": {
     "elapsed": 6160,
     "status": "ok",
     "timestamp": 1684328947738,
     "user": {
      "displayName": "Sayed Mohammad Reza Rastegari",
      "userId": "13739570185515099270"
     },
     "user_tz": -210
    },
    "id": "cDKRpc1tR58x",
    "pycharm": {
     "name": "#%%\n"
    }
   },
   "outputs": [],
   "source": [
    "import numpy as np\n",
    "\n",
    "import torch\n",
    "import torch.nn as nn\n",
    "from torchvision import datasets\n",
    "import torchvision.transforms as transforms\n",
    "from torchvision.models import resnet34\n",
    "from torch.utils.data import DataLoader\n",
    "\n",
    "from sklearn.metrics import confusion_matrix, f1_score\n",
    "from tqdm import tqdm\n",
    "\n",
    "from numpy.ma.core import ceil\n",
    "from scipy.spatial import distance #distance calculation\n",
    "from sklearn.cluster import MiniBatchKMeans\n",
    "from sklearn.metrics import accuracy_score #scoring\n",
    "import matplotlib.pyplot as plt\n",
    "from matplotlib import animation, colors\n",
    "\n",
    "import math\n",
    "import random\n"
   ]
  },
  {
   "attachments": {},
   "cell_type": "markdown",
   "metadata": {
    "id": "RzNaw36zR58z",
    "pycharm": {
     "name": "#%% md\n"
    }
   },
   "source": [
    "### Loading Data"
   ]
  },
  {
   "cell_type": "code",
   "execution_count": 2,
   "metadata": {
    "executionInfo": {
     "elapsed": 1074,
     "status": "ok",
     "timestamp": 1684328970275,
     "user": {
      "displayName": "Sayed Mohammad Reza Rastegari",
      "userId": "13739570185515099270"
     },
     "user_tz": -210
    },
    "id": "8nt7dY4mR58z",
    "pycharm": {
     "name": "#%%\n"
    }
   },
   "outputs": [],
   "source": [
    "transform = transforms.Compose([\n",
    "    transforms.Resize((64, 64)), # Resize to 224x224 (height x width)\n",
    "    transforms.ToTensor(),\n",
    "    transforms.Normalize(mean=[0.485, 0.456, 0.406],\n",
    "                          std=[0.229, 0.224, 0.225])\n",
    "])"
   ]
  },
  {
   "cell_type": "code",
   "execution_count": 3,
   "metadata": {
    "colab": {
     "base_uri": "https://localhost:8080/"
    },
    "executionInfo": {
     "elapsed": 5488,
     "status": "ok",
     "timestamp": 1684328978578,
     "user": {
      "displayName": "Sayed Mohammad Reza Rastegari",
      "userId": "13739570185515099270"
     },
     "user_tz": -210
    },
    "id": "gT3o1KrLR580",
    "outputId": "0e9f43ea-ecda-4831-f03e-5c92a3e6a696",
    "pycharm": {
     "name": "#%%\n"
    }
   },
   "outputs": [
    {
     "name": "stdout",
     "output_type": "stream",
     "text": [
      "Files already downloaded and verified\n",
      "Files already downloaded and verified\n"
     ]
    }
   ],
   "source": [
    "batch_size = 32\n",
    "#drop_last=True\n",
    "train_data = datasets.CIFAR10('data', train=True,\n",
    "                              download=True, transform=transform)\n",
    "train_dataloader = DataLoader(train_data, batch_size=batch_size,shuffle=True )\n",
    "\n",
    "#loading the test data\n",
    "test_data = datasets.CIFAR10('data', train=False,\n",
    "                             download=True, transform=transform)\n",
    "test_dataloader = DataLoader(test_data,batch_size=batch_size, shuffle=True)"
   ]
  },
  {
   "cell_type": "code",
   "execution_count": 4,
   "metadata": {
    "colab": {
     "base_uri": "https://localhost:8080/"
    },
    "executionInfo": {
     "elapsed": 339,
     "status": "ok",
     "timestamp": 1684328985390,
     "user": {
      "displayName": "Sayed Mohammad Reza Rastegari",
      "userId": "13739570185515099270"
     },
     "user_tz": -210
    },
    "id": "vRAmj2pOR580",
    "outputId": "5d588759-4d10-4c04-e690-220fbd6804e9",
    "pycharm": {
     "name": "#%%\n"
    }
   },
   "outputs": [
    {
     "name": "stdout",
     "output_type": "stream",
     "text": [
      "cuda\n"
     ]
    }
   ],
   "source": [
    "device = torch.device(\"cuda\" if torch.cuda.is_available() else \"cpu\")\n",
    "print(device)"
   ]
  },
  {
   "attachments": {},
   "cell_type": "markdown",
   "metadata": {
    "id": "dVFKRao0R580",
    "pycharm": {
     "name": "#%% md\n"
    }
   },
   "source": [
    "### Setting up the Feature Extractor"
   ]
  },
  {
   "cell_type": "code",
   "execution_count": 5,
   "metadata": {
    "colab": {
     "base_uri": "https://localhost:8080/"
    },
    "executionInfo": {
     "elapsed": 2148,
     "status": "ok",
     "timestamp": 1684328995527,
     "user": {
      "displayName": "Sayed Mohammad Reza Rastegari",
      "userId": "13739570185515099270"
     },
     "user_tz": -210
    },
    "id": "_OGcLNO9R581",
    "outputId": "f90363aa-d94d-44d0-82cd-93386a81b91b",
    "pycharm": {
     "name": "#%%\n"
    }
   },
   "outputs": [],
   "source": [
    "feature_extractor = resnet34(weights=\"DEFAULT\")\n",
    "num_features = feature_extractor.fc.in_features\n",
    "\n",
    "for param in feature_extractor.parameters():\n",
    "  param.requires_grad = False\n",
    "\n",
    "feature_extractor.fc = nn.Identity()\n",
    "feature_extractor = feature_extractor.to(device)"
   ]
  },
  {
   "attachments": {},
   "cell_type": "markdown",
   "metadata": {
    "id": "ponN08y8R581",
    "pycharm": {
     "name": "#%% md\n"
    }
   },
   "source": [
    "### Finding Centers using Minibatch K-Means"
   ]
  },
  {
   "cell_type": "code",
   "execution_count": 6,
   "metadata": {
    "colab": {
     "background_save": true,
     "base_uri": "https://localhost:8080/"
    },
    "id": "uSw40NvMR581",
    "pycharm": {
     "name": "#%%\n"
    }
   },
   "outputs": [
    {
     "name": "stderr",
     "output_type": "stream",
     "text": [
      "Training:   0%|\u001B[34m          \u001B[0m| 0/1563 [00:00<?, ?it/s]c:\\Users\\rrast\\AppData\\Local\\Programs\\Python\\Python310\\lib\\site-packages\\sklearn\\cluster\\_kmeans.py:870: FutureWarning: The default value of `n_init` will change from 3 to 'auto' in 1.4. Set the value of `n_init` explicitly to suppress the warning\n",
      "  warnings.warn(\n",
      "Training: 100%|\u001B[34m██████████\u001B[0m| 1563/1563 [01:05<00:00, 23.95it/s]\n"
     ]
    }
   ],
   "source": [
    "kmeans =  MiniBatchKMeans(n_clusters=20, max_iter=100, random_state=0, batch_size=32)\n",
    "\n",
    "for x_train, y_train in tqdm(train_dataloader, desc=f\"Training\", colour=\"blue\"):\n",
    "    x_train, y_train = x_train.to(device), y_train.to(device)\n",
    "    x = feature_extractor(x_train)\n",
    "    x = x.cpu()\n",
    "    kmeans = kmeans.partial_fit(x)"
   ]
  },
  {
   "cell_type": "code",
   "execution_count": 7,
   "metadata": {
    "colab": {
     "background_save": true
    },
    "id": "sViZCqkNR582",
    "pycharm": {
     "name": "#%%\n"
    }
   },
   "outputs": [],
   "source": [
    "centers = torch.from_numpy(kmeans.cluster_centers_.copy())"
   ]
  },
  {
   "cell_type": "code",
   "execution_count": 8,
   "metadata": {
    "colab": {
     "background_save": true
    },
    "id": "sv7ZguVCR583",
    "outputId": "e05b1669-2aea-4cbc-ed81-da39eacf78c8",
    "pycharm": {
     "name": "#%%\n"
    }
   },
   "outputs": [
    {
     "data": {
      "text/plain": [
       "torch.Size([20, 512])"
      ]
     },
     "execution_count": 8,
     "metadata": {},
     "output_type": "execute_result"
    }
   ],
   "source": [
    "centers.shape"
   ]
  },
  {
   "attachments": {},
   "cell_type": "markdown",
   "metadata": {
    "id": "D1WWa6H5R583",
    "pycharm": {
     "name": "#%% md\n"
    }
   },
   "source": [
    "### calculating dmax for rbf radius"
   ]
  },
  {
   "cell_type": "code",
   "execution_count": 9,
   "metadata": {
    "colab": {
     "background_save": true
    },
    "id": "Xd5yw1J0R584",
    "outputId": "b4ba56f0-8e3c-435e-e0d5-2336717cb9f8",
    "pycharm": {
     "name": "#%%\n"
    }
   },
   "outputs": [
    {
     "name": "stdout",
     "output_type": "stream",
     "text": [
      "The maximum distance between any two vectors is: 57.16002137279293\n"
     ]
    }
   ],
   "source": [
    "def max_distance_between_vectors(centers):\n",
    "    \"\"\"\n",
    "    Calculates the maximum distance between any two vectors in a given set of centers.\n",
    "\n",
    "    Args:\n",
    "        centers (torch.Tensor): Tensor representing the centers/vectors.\n",
    "\n",
    "    Returns:\n",
    "        float: Maximum distance between any two vectors.\n",
    "    \"\"\"\n",
    "    num_vectors = centers.shape[0]\n",
    "    max_distance = 0.0\n",
    "\n",
    "    for i in range(num_vectors):\n",
    "        for j in range(i + 1, num_vectors):\n",
    "            distance = torch.norm(centers[i] - centers[j])\n",
    "            max_distance = max(max_distance, distance)\n",
    "\n",
    "    return max_distance\n",
    "\n",
    "dmax = max_distance_between_vectors(centers)\n",
    "\n",
    "print(f\"The maximum distance between any two vectors is: {dmax}\")"
   ]
  },
  {
   "cell_type": "code",
   "execution_count": null,
   "metadata": {
    "colab": {
     "background_save": true
    },
    "id": "bawqZ_A6R584",
    "pycharm": {
     "name": "#%%\n"
    }
   },
   "outputs": [],
   "source": []
  },
  {
   "cell_type": "code",
   "execution_count": 19,
   "metadata": {
    "colab": {
     "background_save": true
    },
    "id": "ZuNBvAb8R584",
    "outputId": "c65b1263-4bcf-48fb-b5a3-767fc5bf6e52",
    "pycharm": {
     "name": "#%%\n"
    }
   },
   "outputs": [
    {
     "name": "stdout",
     "output_type": "stream",
     "text": [
      "tensor([[81.6817, 81.6817, 81.6817, 81.6817, 81.6817, 81.6817, 81.6817, 81.6817,\n",
      "         81.6817, 81.6817, 81.6817, 81.6817, 81.6817, 81.6817, 81.6817, 81.6817,\n",
      "         81.6817, 81.6817, 81.6817, 81.6817]])\n"
     ]
    },
    {
     "data": {
      "text/plain": [
       "torch.Size([1, 20])"
      ]
     },
     "execution_count": 19,
     "metadata": {},
     "output_type": "execute_result"
    }
   ],
   "source": [
    "sigma = (dmax / math.sqrt(2 * centers.shape[0]) * torch.ones((1, 20))) ** 2\n",
    "print(sigma)\n",
    "sigma.shape"
   ]
  },
  {
   "cell_type": "code",
   "execution_count": null,
   "metadata": {
    "colab": {
     "background_save": true
    },
    "id": "eCK2afx-R585",
    "pycharm": {
     "name": "#%%\n"
    }
   },
   "outputs": [],
   "source": []
  },
  {
   "attachments": {},
   "cell_type": "markdown",
   "metadata": {
    "id": "1Wz1x_zVR585",
    "pycharm": {
     "name": "#%% md\n"
    }
   },
   "source": [
    "### RBF Layer"
   ]
  },
  {
   "cell_type": "code",
   "execution_count": null,
   "metadata": {
    "colab": {
     "background_save": true
    },
    "id": "IcXtizf-R585",
    "pycharm": {
     "name": "#%%\n"
    }
   },
   "outputs": [],
   "source": [
    "class RBF_Layer:\n",
    "    \"\"\"\n",
    "    Radial Basis Function (RBF) Layer for neural networks.\n",
    "    \"\"\"\n",
    "  \n",
    "    def __init__(self, n_inputs, n_neurons, centers, dmax):\n",
    "      \"\"\"\n",
    "        Initializes the RBF layer.\n",
    "\n",
    "        Args:\n",
    "            n_inputs (int): Number of input features.\n",
    "            n_neurons (int): Number of RBF neurons.\n",
    "            centers (torch.Tensor): Centers of the RBF neurons with shape (n_neurons, n_inputs).\n",
    "            dmax (float): Maximum distance between any two vectors.\n",
    "\n",
    "        \"\"\"\n",
    "      self.centers = centers # shape: (n_neurons, n_features)\n",
    "      self.centers = self.centers.to(device)\n",
    "      self.sigma = sigma # shape: (1, n_neurons)\n",
    "      self.sigma = ((dmax / math.sqrt(2 * centers.shape[0]))) * torch.ones((1, n_neurons)) ** 2\n",
    "      self.sigma = self.sigma.to(device)\n",
    "\n",
    "    def forward(self, x):\n",
    "      \"\"\"\n",
    "        Performs the forward pass of the RBF layer.\n",
    "\n",
    "        Args:\n",
    "            x (torch.Tensor): Input tensor with shape (batch_size, n_inputs).\n",
    "\n",
    "        Returns:\n",
    "            torch.Tensor: Output tensor with shape (batch_size, n_neurons).\n",
    "        \"\"\"\n",
    "      self.inputs = x\n",
    "      self.inputs = self.inputs.to(device)\n",
    "      self.diff = self.diff.to(device)\n",
    "      self.l2_norm = torch.cdist(self.inputs, self.centers, p=2)\n",
    "      self.l2_norm  = self.l2_norm.to(device)\n",
    "      # calculate the exponential term\n",
    "      self.output = torch.exp(-self.l2_norm ** 2 / (2*self.sigma)) # shape: (batch_size, n_neurons)\n",
    "      self.output = self.output.to(device)\n",
    "      return self.output\n",
    "\n",
    "    def backward(self, output_error):\n",
    "        \"\"\"\n",
    "        Performs the backward pass of the RBF layer.\n",
    "\n",
    "        Args:\n",
    "            output_error (torch.Tensor): Output error tensor with shape (batch_size, n_neurons).\n",
    "\n",
    "        Returns:\n",
    "            torch.Tensor: Input error tensor with shape (batch_size, n_inputs).\n",
    "        \"\"\"\n",
    "        self.centers_grad = torch.sum(output_error * (-torch.sum(self.diff, dim=2) / self.sigma) * self.output,dim=0).reshape(512,20)\n",
    "        self.centers_grad =  self.centers_grad.to(device)\n",
    "        self.sigma_grad = torch.sum(output_error * (self.l2_norm / (2*self.sigma**2)) * self.output, dim=0)\n",
    "        self.sigma_grad = self.sigma_grad.to(device)"
   ]
  },
  {
   "attachments": {},
   "cell_type": "markdown",
   "metadata": {
    "id": "wYtpZAANptYp",
    "pycharm": {
     "name": "#%% md\n"
    }
   },
   "source": [
    "### Linear Output Layer"
   ]
  },
  {
   "cell_type": "code",
   "execution_count": null,
   "metadata": {
    "colab": {
     "background_save": true
    },
    "id": "gCxAFPFApxWz",
    "pycharm": {
     "name": "#%%\n"
    }
   },
   "outputs": [],
   "source": [
    "class Dense:\n",
    "    \"\"\"\n",
    "    A class representing a dense layer in a neural network.\n",
    "\n",
    "    Args:\n",
    "        n_inputs (int): The number of input features.\n",
    "        n_neurons (int): The number of neurons in the layer.\n",
    "\n",
    "    Attributes:\n",
    "        weights (torch.Tensor): The weight matrix of shape (n_inputs, n_neurons)\n",
    "            initialized using the He weight initialization method.\n",
    "        biases (torch.Tensor): The bias vector of shape (1, n_neurons) initialized\n",
    "            with zeros.\n",
    "        prev_wchange (torch.Tensor): The previous weight change matrix of shape\n",
    "            (n_inputs, n_neurons) initialized with zeros.\n",
    "        prev_bchange (torch.Tensor): The previous bias change matrix of shape\n",
    "            (1, n_neurons) initialized with zeros.\n",
    "\n",
    "    Methods:\n",
    "        forward(inputs): Performs forward propagation and returns the output\n",
    "            of the layer.\n",
    "        backward(output_error): Performs backward propagation and returns\n",
    "            the input error.\n",
    "    \"\"\"\n",
    "    def __init__(self, n_inputs, n_neurons):\n",
    "        self.weights = torch.randn(n_inputs, n_neurons)\n",
    "        self.biases = torch.zeros((1, n_neurons))\n",
    "        self.weights = self.weights.to(device)\n",
    "        self.biases = self.biases.to(device)\n",
    "\n",
    "    def forward(self, inputs):\n",
    "        \"\"\"\n",
    "        Performs forward propagation for the dense layer.\n",
    "\n",
    "        Args:\n",
    "            inputs (torch.Tensor): The input tensor of shape (batch_size, n_inputs).\n",
    "\n",
    "        Returns:\n",
    "            torch.Tensor: The output tensor of shape (batch_size, n_neurons).\n",
    "        \"\"\"\n",
    "        self.inputs = inputs.float()\n",
    "        self.inputs = self.inputs.to(device)\n",
    "        return torch.matmul(self.inputs, self.weights) + self.biases\n",
    "\n",
    "    def backward(self, output_error):\n",
    "        \"\"\"\n",
    "        Performs backward propagation for the dense layer.\n",
    "\n",
    "        Args:\n",
    "            output_error (torch.Tensor): The error tensor from the subsequent layer\n",
    "                of shape (batch_size, n_neurons).\n",
    "\n",
    "        Returns:\n",
    "            torch.Tensor: The input error tensor of shape (batch_size, n_inputs).\n",
    "        \"\"\"\n",
    "        # calculating errors\n",
    "        self.inputs_error = torch.matmul(output_error, self.weights.T)\n",
    "        self.inputs_error = self.inputs_error.to(device)\n",
    "        self.weights_grad = torch.matmul(self.inputs.T, output_error)\n",
    "        self.weights_grad = self.weights_grad.to(device)\n",
    "        self.biases_grad = torch.sum(output_error, axis=0, keepdims=True)\n",
    "        self.biases_grad =  self.biases_grad.to(device)\n",
    "        return self.inputs_error\n"
   ]
  },
  {
   "attachments": {},
   "cell_type": "markdown",
   "metadata": {
    "id": "KCT0RbZiqEyC",
    "pycharm": {
     "name": "#%% md\n"
    }
   },
   "source": [
    "### Softmax"
   ]
  },
  {
   "cell_type": "code",
   "execution_count": null,
   "metadata": {
    "colab": {
     "background_save": true
    },
    "id": "ZmLMMp1QqHTS",
    "pycharm": {
     "name": "#%%\n"
    }
   },
   "outputs": [],
   "source": [
    "class Softmax:\n",
    "    \"\"\"\n",
    "    A class representing the Softmax activation function.\n",
    "\n",
    "    Methods:\n",
    "        forward(inputs):\n",
    "            Applies the Softmax activation function to the inputs and returns the result.\n",
    "    \"\"\"\n",
    "    def forward(self, inputs):\n",
    "        \"\"\"\n",
    "        Applies the Softmax activation function to the inputs.\n",
    "\n",
    "        Args:\n",
    "            inputs (torch.Tensor): The input tensor.\n",
    "\n",
    "        Returns:\n",
    "            torch.Tensor: The tensor after applying the Softmax activation function.\n",
    "        \"\"\"\n",
    "        self.inputs = inputs.clone()\n",
    "        self.inputs = self.inputs.to(device)\n",
    "        exp_inputs = torch.exp(self.inputs - torch.max(self.inputs, dim=1, keepdim=True).values)\n",
    "        exp_inputs = exp_inputs.to(device)\n",
    "        self.outputs = exp_inputs / torch.sum(exp_inputs, dim=1, keepdim=True)\n",
    "        self.outputs = self.outputs.to(device)\n",
    "        return self.outputs\n",
    "\n"
   ]
  },
  {
   "attachments": {},
   "cell_type": "markdown",
   "metadata": {
    "id": "XW7940JpqM94",
    "pycharm": {
     "name": "#%% md\n"
    }
   },
   "source": [
    "### Categorical Cross Entropy Loss"
   ]
  },
  {
   "cell_type": "code",
   "execution_count": null,
   "metadata": {
    "colab": {
     "background_save": true
    },
    "id": "MFAZY0fdqSRj",
    "pycharm": {
     "name": "#%%\n"
    }
   },
   "outputs": [],
   "source": [
    "class Categorical_Cross_Entropy_loss:\n",
    "    \"\"\"\n",
    "    A class representing the Categorical Cross-Entropy loss function.\n",
    "\n",
    "    Methods:\n",
    "        forward(softmax_output, class_label):\n",
    "            Calculates the Categorical Cross-Entropy loss given the softmax output and class labels.\n",
    "\n",
    "        backward(class_label):\n",
    "            Calculates the input error for the Categorical Cross-Entropy loss function given the class labels.\n",
    "    \"\"\"\n",
    "    def forward(self, softmax_output, class_label):\n",
    "        \"\"\"\n",
    "        Calculates the Categorical Cross-Entropy loss given the softmax output and class labels.\n",
    "\n",
    "        Args:\n",
    "            softmax_output (torch.Tensor): The output tensor after applying the softmax activation function.\n",
    "            class_label (torch.Tensor): The class labels tensor.\n",
    "\n",
    "        Returns:\n",
    "            torch.Tensor: The calculated Categorical Cross-Entropy loss.\n",
    "        \"\"\"\n",
    "        # Apply softmax function to the output\n",
    "        self.softmax_output = torch.clamp(softmax_output, 1e-12, 1. - 1e-12)\n",
    "        self.softmax_output = self.softmax_output.to(device)\n",
    "        N = softmax_output.shape[0]\n",
    "        # Convert the class label to one-hot encoding\n",
    "        self.class_label = torch.zeros_like(softmax_output)\n",
    "        self.class_label = self.class_label.to(device)\n",
    "        self.class_label[torch.arange(N), class_label] = 1\n",
    "        # Calculate the cross-entropy loss\n",
    "        self.loss = -torch.sum(self.class_label * torch.log(self.softmax_output)) / N\n",
    "        self.loss = self.loss.to(device)\n",
    "        return self.loss\n",
    "    \n",
    "    def backward(self, class_label):\n",
    "        \"\"\"\n",
    "        Calculates the input error for the Categorical Cross-Entropy loss function given the class labels.\n",
    "\n",
    "        Args:\n",
    "            class_label (torch.Tensor): The class labels tensor.\n",
    "\n",
    "        Returns:\n",
    "            torch.Tensor: The input error tensor for the Categorical Cross-Entropy loss function.\n",
    "        \"\"\"\n",
    "        # Calculate the derivative of the loss with respect to the softmax output\n",
    "        N = self.softmax_output.shape[0]\n",
    "        self.inputs_error = self.softmax_output.clone()\n",
    "        self.inputs_error = self.inputs_error.to(device)\n",
    "        self.inputs_error[torch.arange(N), class_label] -= 1\n",
    "        self.inputs_error = self.inputs_error / N\n",
    "        return self.inputs_error\n"
   ]
  },
  {
   "attachments": {},
   "cell_type": "markdown",
   "metadata": {
    "id": "XOxjfRSBquTE",
    "pycharm": {
     "name": "#%% md\n"
    }
   },
   "source": [
    "### Optimizer"
   ]
  },
  {
   "cell_type": "code",
   "execution_count": null,
   "metadata": {
    "colab": {
     "background_save": true
    },
    "id": "Cm0ZDSysqwkI",
    "pycharm": {
     "name": "#%%\n"
    }
   },
   "outputs": [],
   "source": [
    "class SGD:\n",
    "    \"\"\"\n",
    "    A class representing the Stochastic Gradient Descent (SGD) optimizer.\n",
    "\n",
    "    Args:\n",
    "        learning_rate (float): The learning rate for the optimizer.\n",
    "        momentum (float): The momentum factor for SGD.\n",
    "\n",
    "    Methods:\n",
    "        __call__(layer, num_epoch):\n",
    "            Updates the weights and biases of the layer using SGD optimization.\n",
    "    \"\"\"\n",
    "    def __init__(self, learning_rate=0.01):\n",
    "        self.learning_rate=learning_rate\n",
    "    \n",
    "    def __call__(self, layer):\n",
    "        \"\"\"\n",
    "        Updates the weights and biases of the layer using SGD optimization.\n",
    "\n",
    "        Args:\n",
    "            layer (Dense): The layer to be updated.\n",
    "            num_epoch (int): The current epoch.\n",
    "\n",
    "        Returns:\n",
    "            None\n",
    "        \"\"\"\n",
    "\n",
    "        if type(layer).__name__ == 'Dense':\n",
    "\n",
    "          layer.weights = layer.weights.to(device)\n",
    "          layer.biases = layer.biases.to(device)\n",
    "\n",
    "          layer.weights -=  self.learning_rate*layer.weights_grad.to(device)\n",
    "          layer.biases -= self.learning_rate * layer.biases_grad.to(device)\n",
    "\n",
    "        elif type(layer).__name__ == 'RBF_Layer':\n",
    "\n",
    "          layer.centers = layer.centers.to(device)\n",
    "          layer.sigma = layer.sigma.to(device)\n",
    "\n",
    "          layer.centers -=  self.learning_rate*layer.centers_grad.to(device)\n",
    "          layer.sigma -= self.learning_rate * layer.sigma_grad.to(device)\n",
    "        \n",
    "\n"
   ]
  },
  {
   "attachments": {},
   "cell_type": "markdown",
   "metadata": {
    "id": "geoP7nO9s7iC",
    "pycharm": {
     "name": "#%% md\n"
    }
   },
   "source": [
    "### Architecture"
   ]
  },
  {
   "cell_type": "code",
   "execution_count": null,
   "metadata": {
    "colab": {
     "background_save": true
    },
    "id": "B7CVFOsWs0Qq",
    "pycharm": {
     "name": "#%%\n"
    }
   },
   "outputs": [],
   "source": [
    "#model\n",
    "Layer1 = RBF_Layer(num_features, 20, centers, dmax)\n",
    "Layer2 = Dense(20,10)\n",
    "Act2 = Softmax()\n",
    "Loss = Categorical_Cross_Entropy_loss()\n",
    "Optimizer = SGD(learning_rate=0.001)"
   ]
  },
  {
   "cell_type": "code",
   "execution_count": null,
   "metadata": {
    "colab": {
     "background_save": true
    },
    "id": "_1K5Rw_qtbP2",
    "pycharm": {
     "name": "#%%\n"
    }
   },
   "outputs": [],
   "source": [
    "train_acc = []\n",
    "train_loss =[]\n",
    "test_loss = []\n",
    "test_acc = []"
   ]
  },
  {
   "cell_type": "code",
   "execution_count": null,
   "metadata": {
    "colab": {
     "background_save": true
    },
    "id": "FOT8LjaJto86",
    "outputId": "3abb5173-1951-4dec-cba7-c5e7b3ec298f",
    "pycharm": {
     "name": "#%%\n"
    }
   },
   "outputs": [
    {
     "name": "stderr",
     "output_type": "stream",
     "text": [
      "Epoch 1:   0%|\u001B[34m          \u001B[0m| 0/1563 [00:00<?, ?it/s]"
     ]
    },
    {
     "name": "stdout",
     "output_type": "stream",
     "text": [
      "torch.Size([32, 20])\n",
      "torch.Size([32, 20, 512])\n",
      "torch.Size([32, 20])\n",
      "torch.Size([1, 20])\n",
      "torch.Size([32, 20])\n"
     ]
    },
    {
     "name": "stderr",
     "output_type": "stream",
     "text": [
      "\n"
     ]
    },
    {
     "ename": "RuntimeError",
     "evalue": "ignored",
     "output_type": "error",
     "traceback": [
      "\u001B[0;31m---------------------------------------------------------------------------\u001B[0m",
      "\u001B[0;31mRuntimeError\u001B[0m                              Traceback (most recent call last)",
      "\u001B[0;32m<ipython-input-18-ae30bef3b701>\u001B[0m in \u001B[0;36m<cell line: 6>\u001B[0;34m()\u001B[0m\n\u001B[1;32m     33\u001B[0m \u001B[0;34m\u001B[0m\u001B[0m\n\u001B[1;32m     34\u001B[0m         \u001B[0;31m# Update parameters\u001B[0m\u001B[0;34m\u001B[0m\u001B[0;34m\u001B[0m\u001B[0m\n\u001B[0;32m---> 35\u001B[0;31m         \u001B[0mOptimizer\u001B[0m\u001B[0;34m(\u001B[0m\u001B[0mLayer1\u001B[0m\u001B[0;34m)\u001B[0m\u001B[0;34m\u001B[0m\u001B[0;34m\u001B[0m\u001B[0m\n\u001B[0m\u001B[1;32m     36\u001B[0m         \u001B[0mOptimizer\u001B[0m\u001B[0;34m(\u001B[0m\u001B[0mLayer2\u001B[0m\u001B[0;34m)\u001B[0m\u001B[0;34m\u001B[0m\u001B[0;34m\u001B[0m\u001B[0m\n\u001B[1;32m     37\u001B[0m \u001B[0;34m\u001B[0m\u001B[0m\n",
      "\u001B[0;32m<ipython-input-15-2994fc308957>\u001B[0m in \u001B[0;36m__call__\u001B[0;34m(self, layer)\u001B[0m\n\u001B[1;32m     18\u001B[0m           \u001B[0mlayer\u001B[0m\u001B[0;34m.\u001B[0m\u001B[0msigma\u001B[0m \u001B[0;34m=\u001B[0m \u001B[0mlayer\u001B[0m\u001B[0;34m.\u001B[0m\u001B[0msigma\u001B[0m\u001B[0;34m.\u001B[0m\u001B[0mto\u001B[0m\u001B[0;34m(\u001B[0m\u001B[0mdevice\u001B[0m\u001B[0;34m)\u001B[0m\u001B[0;34m\u001B[0m\u001B[0;34m\u001B[0m\u001B[0m\n\u001B[1;32m     19\u001B[0m \u001B[0;34m\u001B[0m\u001B[0m\n\u001B[0;32m---> 20\u001B[0;31m           \u001B[0mlayer\u001B[0m\u001B[0;34m.\u001B[0m\u001B[0mcenters\u001B[0m \u001B[0;34m-=\u001B[0m  \u001B[0mself\u001B[0m\u001B[0;34m.\u001B[0m\u001B[0mlearning_rate\u001B[0m\u001B[0;34m*\u001B[0m\u001B[0mlayer\u001B[0m\u001B[0;34m.\u001B[0m\u001B[0mcenters_grad\u001B[0m\u001B[0;34m.\u001B[0m\u001B[0mto\u001B[0m\u001B[0;34m(\u001B[0m\u001B[0mdevice\u001B[0m\u001B[0;34m)\u001B[0m\u001B[0;34m\u001B[0m\u001B[0;34m\u001B[0m\u001B[0m\n\u001B[0m\u001B[1;32m     21\u001B[0m           \u001B[0mlayer\u001B[0m\u001B[0;34m.\u001B[0m\u001B[0msigma\u001B[0m \u001B[0;34m-=\u001B[0m \u001B[0mself\u001B[0m\u001B[0;34m.\u001B[0m\u001B[0mlearning_rate\u001B[0m \u001B[0;34m*\u001B[0m \u001B[0mlayer\u001B[0m\u001B[0;34m.\u001B[0m\u001B[0msigma_grad\u001B[0m\u001B[0;34m.\u001B[0m\u001B[0mto\u001B[0m\u001B[0;34m(\u001B[0m\u001B[0mdevice\u001B[0m\u001B[0;34m)\u001B[0m\u001B[0;34m\u001B[0m\u001B[0;34m\u001B[0m\u001B[0m\n\u001B[1;32m     22\u001B[0m \u001B[0;34m\u001B[0m\u001B[0m\n",
      "\u001B[0;31mRuntimeError\u001B[0m: The size of tensor a (512) must match the size of tensor b (20) at non-singleton dimension 1"
     ]
    }
   ],
   "source": [
    "\n",
    "epochs = 20\n",
    "y_predtr= torch.zeros(0,dtype=torch.long, device=device)\n",
    "y_true_train = torch.zeros(0,dtype=torch.long, device=device)\n",
    "y_predts= torch.zeros(0,dtype=torch.long, device=device)\n",
    "y_true_test = torch.zeros(0,dtype=torch.long, device=device)\n",
    "for epoch in range(epochs):\n",
    "    epoch_train_loss = 0\n",
    "    epoch_train_accuracy = 0\n",
    "    epoch_test_loss = 0\n",
    "    epoch_test_accuracy = 0\n",
    "    for x_train, y_train in tqdm(train_dataloader, desc=f\"Epoch {epoch+1}\", colour=\"blue\"):\n",
    "        # Forward pass\n",
    "        x_train, y_train = x_train.to(device), y_train.to(device)\n",
    "        x = feature_extractor(x_train)\n",
    "        x = Layer1.forward(x)\n",
    "        x = Layer2.forward(x)\n",
    "        x = Act2.forward(x)\n",
    "        loss = Loss.forward(x, y_train)\n",
    "\n",
    "        # Report batch metrics\n",
    "\n",
    "        y_predict_train = torch.argmax(x, dim=1)\n",
    "        accuracy = torch.mean((y_train == y_predict_train).float())\n",
    "        epoch_train_loss += loss.item()\n",
    "        epoch_train_accuracy += accuracy.item()\n",
    "        if epoch == epochs-1:\n",
    "            y_predtr=torch.cat([y_predtr,y_predict_train.view(-1)])\n",
    "            y_true_train=torch.cat([y_true_train,y_train.view(-1)])\n",
    "        # Backward pass\n",
    "        x = Loss.backward(y_train)\n",
    "        x = Layer2.backward(x)\n",
    "        Layer1.backward(x)\n",
    "\n",
    "        # Update parameters\n",
    "        Optimizer(Layer1)\n",
    "        Optimizer(Layer2)\n",
    "\n",
    "    with torch.no_grad():\n",
    "        for x_test, y_test in tqdm(test_dataloader, desc=f\"Testing\", colour=\"green\"):\n",
    "                # Forward pass\n",
    "                x_test, y_test = x_test.to(device), y_test.to(device)\n",
    "                x = feature_extractor(x_test)\n",
    "                x = Layer1.forward(x)\n",
    "                x = Layer2.forward(x)\n",
    "                x = Act2.forward(x)\n",
    "                loss = Loss.forward(x, y_test)\n",
    "\n",
    "                # Report batch metrics\n",
    "                y_predict_test = torch.argmax(x, dim=1)\n",
    "                accuracy = torch.mean((y_test == y_predict_test).float())\n",
    "                epoch_test_loss += loss.item()\n",
    "                epoch_test_accuracy += accuracy.item()\n",
    "                if epoch == epochs-1:\n",
    "                    y_predts=torch.cat([y_predts,y_predict_test.view(-1)])\n",
    "                    y_true_test=torch.cat([y_true_test,y_test.view(-1)])\n",
    "                \n",
    "    # Report epoch metrics\n",
    "    epoch_train_loss /= len(train_dataloader)\n",
    "    epoch_train_accuracy /= len(train_dataloader)\n",
    "    epoch_test_loss /= len(test_dataloader)\n",
    "    epoch_test_accuracy /= len(test_dataloader)\n",
    "    train_loss.append(epoch_train_loss)\n",
    "    train_acc.append(epoch_train_accuracy)\n",
    "    test_loss.append(epoch_test_loss)\n",
    "    test_acc.append(epoch_test_accuracy)\n",
    "    print(f'Epoch: {epoch+1}')\n",
    "    print(f'Train Loss: {epoch_train_loss:.7f}')\n",
    "    print(f'Train Accuracy: {epoch_train_accuracy:.7f}')\n",
    "    print(f'Test Loss: {epoch_test_loss:.7f}')\n",
    "    print(f'Test Accuracy: {epoch_test_accuracy:.7f}')\n",
    "    print('--------------------------')\n"
   ]
  },
  {
   "cell_type": "code",
   "execution_count": 24,
   "metadata": {
    "id": "A4trnYLeuAcG",
    "pycharm": {
     "name": "#%%\n"
    }
   },
   "outputs": [
    {
     "name": "stdout",
     "output_type": "stream",
     "text": [
      "torch.Size([32, 20])\n",
      "torch.Size([32, 20])\n"
     ]
    }
   ],
   "source": [
    "import torch\n",
    "X = torch.rand(32, 512) # a tensor with shape 32*512\n",
    "A = torch.rand(20, 512) # a tensor with shape 512*20\n",
    "D = torch.cdist(X, A, p=2) # a tensor with shape 32*20\n",
    "print(D.shape)\n",
    "#print(D)\n",
    "print((D/sigma).shape)"
   ]
  },
  {
   "cell_type": "code",
   "execution_count": 30,
   "metadata": {
    "pycharm": {
     "name": "#%%\n"
    }
   },
   "outputs": [
    {
     "name": "stdout",
     "output_type": "stream",
     "text": [
      "torch.Size([32, 20, 512])\n"
     ]
    }
   ],
   "source": [
    "import torch\n",
    "B = torch.rand(32, 512) # a tensor with shape 32*512\n",
    "C = torch.rand(20, 512) # a tensor with shape 20*512\n",
    "B_expanded = B.unsqueeze(1) # a tensor with shape 32*1*512\n",
    "C_expanded = C.unsqueeze(0) # a tensor with shape 1*20*512\n",
    "G = B_expanded - C_expanded # a tensor with shape 32*20*512\n",
    "\n",
    "D_expanded = D.unsqueeze(2) # a tensor with shape 32*20*1\n",
    "H = G / D_expanded # a tensor with shape 32*20*512\n",
    "print(H.shape)\n"
   ]
  },
  {
   "cell_type": "code",
   "execution_count": 32,
   "metadata": {
    "pycharm": {
     "name": "#%%\n"
    }
   },
   "outputs": [
    {
     "ename": "RuntimeError",
     "evalue": "The size of tensor a (20) must match the size of tensor b (512) at non-singleton dimension 2",
     "output_type": "error",
     "traceback": [
      "\u001B[1;31m---------------------------------------------------------------------------\u001B[0m",
      "\u001B[1;31mRuntimeError\u001B[0m                              Traceback (most recent call last)",
      "Cell \u001B[1;32mIn[32], line 2\u001B[0m\n\u001B[0;32m      1\u001B[0m U \u001B[39m=\u001B[39m torch\u001B[39m.\u001B[39mrand(\u001B[39m32\u001B[39m,\u001B[39m20\u001B[39m)\n\u001B[1;32m----> 2\u001B[0m K \u001B[39m=\u001B[39m torch\u001B[39m.\u001B[39;49mexp(U)\u001B[39m*\u001B[39;49mH\u001B[39m/\u001B[39m(sigma)\n",
      "\u001B[1;31mRuntimeError\u001B[0m: The size of tensor a (20) must match the size of tensor b (512) at non-singleton dimension 2"
     ]
    }
   ],
   "source": [
    "U = torch.rand(32,20)\n",
    "K = torch.exp(U)*H/(sigma)"
   ]
  },
  {
   "cell_type": "code",
   "execution_count": null,
   "metadata": {
    "pycharm": {
     "name": "#%%\n"
    }
   },
   "outputs": [],
   "source": []
  }
 ],
 "metadata": {
  "accelerator": "GPU",
  "colab": {
   "name": "",
   "version": ""
  },
  "gpuClass": "standard",
  "kernelspec": {
   "display_name": "Python 3",
   "language": "python",
   "name": "python3"
  },
  "language_info": {
   "codemirror_mode": {
    "name": "ipython",
    "version": 3
   },
   "file_extension": ".py",
   "mimetype": "text/x-python",
   "name": "python",
   "nbconvert_exporter": "python",
   "pygments_lexer": "ipython3",
   "version": "3.10.9"
  }
 },
 "nbformat": 4,
 "nbformat_minor": 0
}