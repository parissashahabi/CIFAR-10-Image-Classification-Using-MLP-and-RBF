{
  "cells": [
    {
      "attachments": {},
      "cell_type": "markdown",
      "metadata": {
        "id": "6dArCN8VR58u"
      },
      "source": [
        "### Importing the packages"
      ]
    },
    {
      "cell_type": "code",
      "execution_count": 2,
      "metadata": {
        "id": "cDKRpc1tR58x"
      },
      "outputs": [],
      "source": [
        "import numpy as np\n",
        "\n",
        "import torch\n",
        "import torch.nn as nn\n",
        "from torchvision import datasets\n",
        "import torchvision.transforms as transforms\n",
        "from torchvision.models import resnet34\n",
        "from torch.utils.data import DataLoader\n",
        "\n",
        "from sklearn.metrics import confusion_matrix, f1_score\n",
        "from tqdm import tqdm\n",
        "\n",
        "from numpy.ma.core import ceil\n",
        "from scipy.spatial import distance #distance calculation\n",
        "from sklearn.cluster import MiniBatchKMeans\n",
        "from sklearn.metrics import accuracy_score #scoring\n",
        "import matplotlib.pyplot as plt\n",
        "from matplotlib import animation, colors\n",
        "\n",
        "import math\n",
        "import random\n",
        "import seaborn as sb"
      ]
    },
    {
      "attachments": {},
      "cell_type": "markdown",
      "metadata": {
        "id": "RzNaw36zR58z"
      },
      "source": [
        "### Loading Data"
      ]
    },
    {
      "cell_type": "code",
      "execution_count": 3,
      "metadata": {
        "id": "8nt7dY4mR58z"
      },
      "outputs": [],
      "source": [
        "transform = transforms.Compose([\n",
        "    transforms.Resize((64, 64)), # Resize to 224x224 (height x width)\n",
        "    transforms.ToTensor(),\n",
        "    transforms.Normalize(mean=[0.485, 0.456, 0.406],\n",
        "                          std=[0.229, 0.224, 0.225])])"
      ]
    },
    {
      "cell_type": "code",
      "execution_count": 4,
      "metadata": {
        "colab": {
          "base_uri": "https://localhost:8080/"
        },
        "id": "gT3o1KrLR580",
        "outputId": "5a750b01-daa8-409e-b800-fa7669a5a59e"
      },
      "outputs": [
        {
          "name": "stdout",
          "output_type": "stream",
          "text": [
            "Files already downloaded and verified\n",
            "Files already downloaded and verified\n"
          ]
        }
      ],
      "source": [
        "batch_size = 32\n",
        "\n",
        "train_data = datasets.CIFAR10('data', train=True, download=True, transform=transform)\n",
        "train_dataloader = DataLoader(train_data, batch_size=batch_size,shuffle=True )\n",
        "\n",
        "test_data = datasets.CIFAR10('data', train=False, download=True, transform=transform)\n",
        "test_dataloader = DataLoader(test_data,batch_size=batch_size, shuffle=True)"
      ]
    },
    {
      "cell_type": "code",
      "execution_count": 5,
      "metadata": {
        "colab": {
          "base_uri": "https://localhost:8080/"
        },
        "id": "vRAmj2pOR580",
        "outputId": "ff235bdf-be08-42bf-9d48-32d1076ec2f8"
      },
      "outputs": [
        {
          "name": "stdout",
          "output_type": "stream",
          "text": [
            "cuda\n"
          ]
        }
      ],
      "source": [
        "device = torch.device(\"cuda\" if torch.cuda.is_available() else \"cpu\")\n",
        "print(device)"
      ]
    },
    {
      "attachments": {},
      "cell_type": "markdown",
      "metadata": {
        "id": "dVFKRao0R580"
      },
      "source": [
        "### Setting up the Feature Extractor"
      ]
    },
    {
      "cell_type": "code",
      "execution_count": 6,
      "metadata": {
        "colab": {
          "base_uri": "https://localhost:8080/"
        },
        "id": "_OGcLNO9R581",
        "outputId": "0fe39418-48d6-46ab-ed16-0f7e572cad6d"
      },
      "outputs": [],
      "source": [
        "feature_extractor = resnet34(weights=\"DEFAULT\")\n",
        "num_features = feature_extractor.fc.in_features\n",
        "\n",
        "for param in feature_extractor.parameters():\n",
        "  param.requires_grad = False\n",
        "\n",
        "feature_extractor.fc = nn.Identity()\n",
        "feature_extractor = feature_extractor.to(device)"
      ]
    },
    {
      "attachments": {},
      "cell_type": "markdown",
      "metadata": {
        "id": "ponN08y8R581"
      },
      "source": [
        "### Finding Centers using Minibatch K-Means"
      ]
    },
    {
      "cell_type": "code",
      "execution_count": 7,
      "metadata": {
        "colab": {
          "base_uri": "https://localhost:8080/"
        },
        "id": "uSw40NvMR581",
        "outputId": "25025ca6-4d41-49a8-e865-223179ff0d74"
      },
      "outputs": [
        {
          "name": "stderr",
          "output_type": "stream",
          "text": [
            "Training:   0%|\u001b[34m          \u001b[0m| 0/1563 [00:00<?, ?it/s]c:\\Users\\rrast\\AppData\\Local\\Programs\\Python\\Python310\\lib\\site-packages\\sklearn\\cluster\\_kmeans.py:870: FutureWarning: The default value of `n_init` will change from 3 to 'auto' in 1.4. Set the value of `n_init` explicitly to suppress the warning\n",
            "  warnings.warn(\n",
            "Training: 100%|\u001b[34m██████████\u001b[0m| 1563/1563 [00:57<00:00, 27.36it/s]\n"
          ]
        }
      ],
      "source": [
        "kmeans =  MiniBatchKMeans(n_clusters=20, max_iter=100, random_state=0, batch_size=batch_size)\n",
        "\n",
        "for x_train, y_train in tqdm(train_dataloader, desc=f\"Training\", colour=\"blue\"):\n",
        "    x_train, y_train = x_train.to(device), y_train.to(device)\n",
        "    x = feature_extractor(x_train)\n",
        "    x = x.cpu()\n",
        "    kmeans = kmeans.partial_fit(x)"
      ]
    },
    {
      "cell_type": "code",
      "execution_count": 8,
      "metadata": {
        "id": "MSGgZUw78ury"
      },
      "outputs": [],
      "source": [
        "centers = torch.from_numpy(kmeans.cluster_centers_.copy())"
      ]
    },
    {
      "attachments": {},
      "cell_type": "markdown",
      "metadata": {
        "id": "D1WWa6H5R583"
      },
      "source": [
        "### calculating dmax for rbf radius"
      ]
    },
    {
      "cell_type": "code",
      "execution_count": 9,
      "metadata": {
        "colab": {
          "base_uri": "https://localhost:8080/"
        },
        "id": "Xd5yw1J0R584",
        "outputId": "015db95c-0861-4846-bca4-ef4523103ab8"
      },
      "outputs": [
        {
          "name": "stdout",
          "output_type": "stream",
          "text": [
            "The maximum distance between any two vectors is: 56.52018892827413\n"
          ]
        }
      ],
      "source": [
        "def max_distance_between_vectors(centers):\n",
        "    num_vectors = centers.shape[0]\n",
        "    max_distance = 0.0\n",
        "\n",
        "    for i in range(num_vectors):\n",
        "        for j in range(i + 1, num_vectors):\n",
        "            distance = torch.norm(centers[i] - centers[j])\n",
        "            max_distance = max(max_distance, distance)\n",
        "\n",
        "    return max_distance\n",
        "\n",
        "dmax = max_distance_between_vectors(centers)\n",
        "\n",
        "print(f\"The maximum distance between any two vectors is: {dmax}\")"
      ]
    },
    {
      "attachments": {},
      "cell_type": "markdown",
      "metadata": {
        "id": "1Wz1x_zVR585"
      },
      "source": [
        "### RBF Layer"
      ]
    },
    {
      "cell_type": "code",
      "execution_count": 10,
      "metadata": {
        "id": "IcXtizf-R585"
      },
      "outputs": [],
      "source": [
        "class RBF_Layer:\n",
        "    def __init__(self, n_inputs, n_neurons, centers, dmax):\n",
        "      self.centers = centers # shape: (n_neurons, n_features)\n",
        "      self.centers = self.centers.to(device)\n",
        "      self.sigma = (((dmax / math.sqrt(2 * centers.shape[0]))) * torch.ones((1, n_neurons))) ** 2\n",
        "      self.sigma = self.sigma.to(device)\n",
        "\n",
        "    def forward(self, x):\n",
        "      self.inputs = x\n",
        "      self.inputs = self.inputs.to(device)\n",
        "      # in_v (32 * 512) - w_v (20 * 512) = diff (32 * 20 * 512)\n",
        "      self.diff = self.inputs.unsqueeze(1) - self.centers.unsqueeze(0)\n",
        "      self.diff = self.diff.to(device)\n",
        "      # net_v (32 * 20)\n",
        "      self.l2_norm = torch.cdist(self.inputs.float(), self.centers.float(), p=2)\n",
        "      self.l2_norm  = self.l2_norm.to(device)\n",
        "      # calculate the exponential term\n",
        "      self.output = torch.exp(-(self.l2_norm ** 2) / (2 * self.sigma)) # shape: (batch_size, n_neurons)\n",
        "      self.output = self.output.to(device)\n",
        "      # output (32 * 20)\n",
        "      return self.output\n",
        "\n",
        "    def backward(self, output_error):\n",
        "        H = - self.diff / self.l2_norm.unsqueeze(2) # 32 * 20 * 512\n",
        "        self.centers_grad = torch.sum(output_error.unsqueeze(2) * ((-self.l2_norm/self.sigma)* self.output).unsqueeze(2) * H, dim=0) / 32\n",
        "        self.centers_grad = self.centers_grad.to(device)\n",
        "\n",
        "        self.sigma_grad = torch.sum(output_error * (self.l2_norm / (2*(self.sigma**2))) * self.output, dim=0) / 32\n",
        "        self.sigma_grad = self.sigma_grad.to(device)"
      ]
    },
    {
      "attachments": {},
      "cell_type": "markdown",
      "metadata": {
        "id": "wYtpZAANptYp"
      },
      "source": [
        "### Linear Output Layer"
      ]
    },
    {
      "cell_type": "code",
      "execution_count": 11,
      "metadata": {
        "id": "gCxAFPFApxWz"
      },
      "outputs": [],
      "source": [
        "class Dense:\n",
        "    def __init__(self, n_inputs, n_neurons):\n",
        "        self.weights = torch.randn(n_inputs, n_neurons)\n",
        "        self.biases = torch.zeros((1, n_neurons))\n",
        "        self.weights = self.weights.to(device)\n",
        "        self.biases = self.biases.to(device)\n",
        "\n",
        "    def forward(self, inputs):\n",
        "        self.inputs = inputs.float()\n",
        "        self.inputs = self.inputs.to(device)\n",
        "        return torch.matmul(self.inputs, self.weights) + self.biases\n",
        "\n",
        "    def backward(self, output_error):\n",
        "        # calculating errors\n",
        "        self.inputs_error = torch.matmul(output_error, self.weights.T)\n",
        "        self.inputs_error = self.inputs_error.to(device)\n",
        "        self.weights_grad = torch.matmul(self.inputs.T, output_error)\n",
        "        self.weights_grad = self.weights_grad.to(device)\n",
        "        self.biases_grad = torch.sum(output_error, axis=0, keepdims=True)\n",
        "        self.biases_grad =  self.biases_grad.to(device)\n",
        "        return self.inputs_error\n"
      ]
    },
    {
      "attachments": {},
      "cell_type": "markdown",
      "metadata": {
        "id": "KCT0RbZiqEyC"
      },
      "source": [
        "### Softmax"
      ]
    },
    {
      "cell_type": "code",
      "execution_count": 12,
      "metadata": {
        "id": "ZmLMMp1QqHTS"
      },
      "outputs": [],
      "source": [
        "class Softmax:\n",
        "    def forward(self, inputs):\n",
        "        self.inputs = inputs.clone()\n",
        "        self.inputs = self.inputs.to(device)\n",
        "        exp_inputs = torch.exp(self.inputs - torch.max(self.inputs, dim=1, keepdim=True).values)\n",
        "        exp_inputs = exp_inputs.to(device)\n",
        "        self.outputs = exp_inputs / torch.sum(exp_inputs, dim=1, keepdim=True)\n",
        "        self.outputs = self.outputs.to(device)\n",
        "        return self.outputs"
      ]
    },
    {
      "attachments": {},
      "cell_type": "markdown",
      "metadata": {
        "id": "XW7940JpqM94"
      },
      "source": [
        "### Categorical Cross Entropy Loss"
      ]
    },
    {
      "cell_type": "code",
      "execution_count": 13,
      "metadata": {
        "id": "MFAZY0fdqSRj"
      },
      "outputs": [],
      "source": [
        "class Categorical_Cross_Entropy_loss:\n",
        "    def forward(self, softmax_output, class_label):\n",
        "        # Apply softmax function to the output\n",
        "        self.softmax_output = torch.clamp(softmax_output, 1e-12, 1. - 1e-12)\n",
        "        self.softmax_output = self.softmax_output.to(device)\n",
        "        N = softmax_output.shape[0]\n",
        "        # Convert the class label to one-hot encoding\n",
        "        self.class_label = torch.zeros_like(softmax_output)\n",
        "        self.class_label = self.class_label.to(device)\n",
        "        self.class_label[torch.arange(N), class_label] = 1\n",
        "        # Calculate the cross-entropy loss\n",
        "        self.loss = -torch.sum(self.class_label * torch.log(self.softmax_output)) / N\n",
        "        self.loss = self.loss.to(device)\n",
        "        return self.loss\n",
        "    \n",
        "    def backward(self, class_label):\n",
        "        # Calculate the derivative of the loss with respect to the softmax output\n",
        "        N = self.softmax_output.shape[0]\n",
        "        self.inputs_error = self.softmax_output.clone()\n",
        "        self.inputs_error = self.inputs_error.to(device)\n",
        "        self.inputs_error[torch.arange(N), class_label] -= 1\n",
        "        self.inputs_error = self.inputs_error / N\n",
        "        return self.inputs_error\n"
      ]
    },
    {
      "attachments": {},
      "cell_type": "markdown",
      "metadata": {
        "id": "XOxjfRSBquTE"
      },
      "source": [
        "### Optimizer"
      ]
    },
    {
      "cell_type": "code",
      "execution_count": 14,
      "metadata": {
        "id": "Cm0ZDSysqwkI"
      },
      "outputs": [],
      "source": [
        "class SGD:\n",
        "    def __init__(self, learning_rate=0.01):\n",
        "        self.learning_rate=learning_rate\n",
        "    \n",
        "    def __call__(self, layer):\n",
        "        if type(layer).__name__ == 'Dense':\n",
        "\n",
        "          layer.weights = layer.weights.to(device)\n",
        "          layer.biases = layer.biases.to(device)\n",
        "\n",
        "          layer.weights -=  self.learning_rate*layer.weights_grad.to(device)\n",
        "          layer.biases -= self.learning_rate * layer.biases_grad.to(device)\n",
        "\n",
        "        elif type(layer).__name__ == 'RBF_Layer':\n",
        "\n",
        "          layer.centers = layer.centers.to(device)\n",
        "          layer.sigma = layer.sigma.to(device)\n",
        "\n",
        "          layer.centers = layer.centers - self.learning_rate * layer.centers_grad.to(device)\n",
        "          layer.sigma = layer.sigma - self.learning_rate * layer.sigma_grad.to(device)"
      ]
    },
    {
      "attachments": {},
      "cell_type": "markdown",
      "metadata": {
        "id": "geoP7nO9s7iC"
      },
      "source": [
        "### Architecture"
      ]
    },
    {
      "cell_type": "code",
      "execution_count": 15,
      "metadata": {
        "id": "B7CVFOsWs0Qq"
      },
      "outputs": [],
      "source": [
        "#model\n",
        "Layer1 = RBF_Layer(num_features, 20, centers, dmax)\n",
        "Layer2 = Dense(20, 10)\n",
        "Act2 = Softmax()\n",
        "Loss = Categorical_Cross_Entropy_loss()\n",
        "Optimizer = SGD(learning_rate = 0.1)"
      ]
    },
    {
      "cell_type": "code",
      "execution_count": 16,
      "metadata": {
        "id": "_1K5Rw_qtbP2"
      },
      "outputs": [],
      "source": [
        "train_acc = []\n",
        "train_loss =[]\n",
        "test_loss = []\n",
        "test_acc = []"
      ]
    },
    {
      "cell_type": "code",
      "execution_count": 17,
      "metadata": {
        "colab": {
          "base_uri": "https://localhost:8080/"
        },
        "id": "FOT8LjaJto86",
        "outputId": "a145a6a5-5c97-4ec2-bc6f-ac68391eaaed"
      },
      "outputs": [
        {
          "name": "stderr",
          "output_type": "stream",
          "text": [
            "Epoch 1: 100%|\u001b[34m██████████\u001b[0m| 1563/1563 [00:26<00:00, 59.02it/s]\n",
            "Testing: 100%|\u001b[32m██████████\u001b[0m| 313/313 [00:05<00:00, 60.10it/s]\n"
          ]
        },
        {
          "name": "stdout",
          "output_type": "stream",
          "text": [
            "Epoch: 1\n",
            "Train Loss: 2.3058477\n",
            "Train Accuracy: 0.1062860\n",
            "Test Loss: 2.3043384\n",
            "Test Accuracy: 0.0911542\n",
            "--------------------------\n"
          ]
        },
        {
          "name": "stderr",
          "output_type": "stream",
          "text": [
            "Epoch 2: 100%|\u001b[34m██████████\u001b[0m| 1563/1563 [00:26<00:00, 59.12it/s]\n",
            "Testing: 100%|\u001b[32m██████████\u001b[0m| 313/313 [00:05<00:00, 59.71it/s]\n"
          ]
        },
        {
          "name": "stdout",
          "output_type": "stream",
          "text": [
            "Epoch: 2\n",
            "Train Loss: 2.2997651\n",
            "Train Accuracy: 0.1113044\n",
            "Test Loss: 2.2987066\n",
            "Test Accuracy: 0.1206070\n",
            "--------------------------\n"
          ]
        },
        {
          "name": "stderr",
          "output_type": "stream",
          "text": [
            "Epoch 3: 100%|\u001b[34m██████████\u001b[0m| 1563/1563 [00:27<00:00, 57.17it/s]\n",
            "Testing: 100%|\u001b[32m██████████\u001b[0m| 313/313 [00:05<00:00, 60.70it/s]\n"
          ]
        },
        {
          "name": "stdout",
          "output_type": "stream",
          "text": [
            "Epoch: 3\n",
            "Train Loss: 2.2948704\n",
            "Train Accuracy: 0.1161828\n",
            "Test Loss: 2.2931747\n",
            "Test Accuracy: 0.1201078\n",
            "--------------------------\n"
          ]
        },
        {
          "name": "stderr",
          "output_type": "stream",
          "text": [
            "Epoch 4: 100%|\u001b[34m██████████\u001b[0m| 1563/1563 [00:26<00:00, 58.83it/s]\n",
            "Testing: 100%|\u001b[32m██████████\u001b[0m| 313/313 [00:05<00:00, 60.04it/s]\n"
          ]
        },
        {
          "name": "stdout",
          "output_type": "stream",
          "text": [
            "Epoch: 4\n",
            "Train Loss: 2.2905320\n",
            "Train Accuracy: 0.1269394\n",
            "Test Loss: 2.2894733\n",
            "Test Accuracy: 0.1145168\n",
            "--------------------------\n"
          ]
        },
        {
          "name": "stderr",
          "output_type": "stream",
          "text": [
            "Epoch 5: 100%|\u001b[34m██████████\u001b[0m| 1563/1563 [00:26<00:00, 58.51it/s]\n",
            "Testing: 100%|\u001b[32m██████████\u001b[0m| 313/313 [00:05<00:00, 59.75it/s]\n"
          ]
        },
        {
          "name": "stdout",
          "output_type": "stream",
          "text": [
            "Epoch: 5\n",
            "Train Loss: 2.2862339\n",
            "Train Accuracy: 0.1335972\n",
            "Test Loss: 2.2835582\n",
            "Test Accuracy: 0.1288938\n",
            "--------------------------\n"
          ]
        },
        {
          "name": "stderr",
          "output_type": "stream",
          "text": [
            "Epoch 6: 100%|\u001b[34m██████████\u001b[0m| 1563/1563 [00:26<00:00, 57.99it/s]\n",
            "Testing: 100%|\u001b[32m██████████\u001b[0m| 313/313 [00:05<00:00, 57.72it/s]\n"
          ]
        },
        {
          "name": "stdout",
          "output_type": "stream",
          "text": [
            "Epoch: 6\n",
            "Train Loss: 2.2830229\n",
            "Train Accuracy: 0.1388756\n",
            "Test Loss: 2.2793811\n",
            "Test Accuracy: 0.1475639\n",
            "--------------------------\n"
          ]
        },
        {
          "name": "stderr",
          "output_type": "stream",
          "text": [
            "Epoch 7: 100%|\u001b[34m██████████\u001b[0m| 1563/1563 [00:26<00:00, 59.77it/s]\n",
            "Testing: 100%|\u001b[32m██████████\u001b[0m| 313/313 [00:05<00:00, 60.50it/s]\n"
          ]
        },
        {
          "name": "stdout",
          "output_type": "stream",
          "text": [
            "Epoch: 7\n",
            "Train Loss: 2.2798678\n",
            "Train Accuracy: 0.1416947\n",
            "Test Loss: 2.2774402\n",
            "Test Accuracy: 0.1445687\n",
            "--------------------------\n"
          ]
        },
        {
          "name": "stderr",
          "output_type": "stream",
          "text": [
            "Epoch 8: 100%|\u001b[34m██████████\u001b[0m| 1563/1563 [00:26<00:00, 59.67it/s]\n",
            "Testing: 100%|\u001b[32m██████████\u001b[0m| 313/313 [00:05<00:00, 61.71it/s]\n"
          ]
        },
        {
          "name": "stdout",
          "output_type": "stream",
          "text": [
            "Epoch: 8\n",
            "Train Loss: 2.2772260\n",
            "Train Accuracy: 0.1444938\n",
            "Test Loss: 2.2752085\n",
            "Test Accuracy: 0.1577476\n",
            "--------------------------\n"
          ]
        },
        {
          "name": "stderr",
          "output_type": "stream",
          "text": [
            "Epoch 9: 100%|\u001b[34m██████████\u001b[0m| 1563/1563 [00:26<00:00, 59.85it/s]\n",
            "Testing: 100%|\u001b[32m██████████\u001b[0m| 313/313 [00:05<00:00, 60.89it/s]\n"
          ]
        },
        {
          "name": "stdout",
          "output_type": "stream",
          "text": [
            "Epoch: 9\n",
            "Train Loss: 2.2745159\n",
            "Train Accuracy: 0.1505118\n",
            "Test Loss: 2.2718308\n",
            "Test Accuracy: 0.1507588\n",
            "--------------------------\n"
          ]
        },
        {
          "name": "stderr",
          "output_type": "stream",
          "text": [
            "Epoch 10: 100%|\u001b[34m██████████\u001b[0m| 1563/1563 [00:26<00:00, 58.51it/s]\n",
            "Testing: 100%|\u001b[32m██████████\u001b[0m| 313/313 [00:05<00:00, 53.83it/s]\n"
          ]
        },
        {
          "name": "stdout",
          "output_type": "stream",
          "text": [
            "Epoch: 10\n",
            "Train Loss: 2.2723450\n",
            "Train Accuracy: 0.1495721\n",
            "Test Loss: 2.2698358\n",
            "Test Accuracy: 0.1517572\n",
            "--------------------------\n"
          ]
        },
        {
          "name": "stderr",
          "output_type": "stream",
          "text": [
            "Epoch 11: 100%|\u001b[34m██████████\u001b[0m| 1563/1563 [00:28<00:00, 55.03it/s]\n",
            "Testing: 100%|\u001b[32m██████████\u001b[0m| 313/313 [00:05<00:00, 59.90it/s]\n"
          ]
        },
        {
          "name": "stdout",
          "output_type": "stream",
          "text": [
            "Epoch: 11\n",
            "Train Loss: 2.2708110\n",
            "Train Accuracy: 0.1540307\n",
            "Test Loss: 2.2669245\n",
            "Test Accuracy: 0.1501597\n",
            "--------------------------\n"
          ]
        },
        {
          "name": "stderr",
          "output_type": "stream",
          "text": [
            "Epoch 12: 100%|\u001b[34m██████████\u001b[0m| 1563/1563 [00:29<00:00, 52.20it/s]\n",
            "Testing: 100%|\u001b[32m██████████\u001b[0m| 313/313 [00:05<00:00, 54.62it/s]\n"
          ]
        },
        {
          "name": "stdout",
          "output_type": "stream",
          "text": [
            "Epoch: 12\n",
            "Train Loss: 2.2692693\n",
            "Train Accuracy: 0.1538308\n",
            "Test Loss: 2.2671532\n",
            "Test Accuracy: 0.1500599\n",
            "--------------------------\n"
          ]
        },
        {
          "name": "stderr",
          "output_type": "stream",
          "text": [
            "Epoch 13: 100%|\u001b[34m██████████\u001b[0m| 1563/1563 [00:29<00:00, 52.89it/s]\n",
            "Testing: 100%|\u001b[32m██████████\u001b[0m| 313/313 [00:05<00:00, 53.50it/s]\n"
          ]
        },
        {
          "name": "stdout",
          "output_type": "stream",
          "text": [
            "Epoch: 13\n",
            "Train Loss: 2.2678989\n",
            "Train Accuracy: 0.1537308\n",
            "Test Loss: 2.2662189\n",
            "Test Accuracy: 0.1598442\n",
            "--------------------------\n"
          ]
        },
        {
          "name": "stderr",
          "output_type": "stream",
          "text": [
            "Epoch 14: 100%|\u001b[34m██████████\u001b[0m| 1563/1563 [00:28<00:00, 54.36it/s]\n",
            "Testing: 100%|\u001b[32m██████████\u001b[0m| 313/313 [00:05<00:00, 56.34it/s]\n"
          ]
        },
        {
          "name": "stdout",
          "output_type": "stream",
          "text": [
            "Epoch: 14\n",
            "Train Loss: 2.2666426\n",
            "Train Accuracy: 0.1537508\n",
            "Test Loss: 2.2656372\n",
            "Test Accuracy: 0.1555511\n",
            "--------------------------\n"
          ]
        },
        {
          "name": "stderr",
          "output_type": "stream",
          "text": [
            "Epoch 15: 100%|\u001b[34m██████████\u001b[0m| 1563/1563 [00:28<00:00, 55.65it/s]\n",
            "Testing: 100%|\u001b[32m██████████\u001b[0m| 313/313 [00:05<00:00, 55.04it/s]\n"
          ]
        },
        {
          "name": "stdout",
          "output_type": "stream",
          "text": [
            "Epoch: 15\n",
            "Train Loss: 2.2657149\n",
            "Train Accuracy: 0.1560901\n",
            "Test Loss: 2.2625727\n",
            "Test Accuracy: 0.1609425\n",
            "--------------------------\n"
          ]
        },
        {
          "name": "stderr",
          "output_type": "stream",
          "text": [
            "Epoch 16: 100%|\u001b[34m██████████\u001b[0m| 1563/1563 [00:31<00:00, 49.31it/s]\n",
            "Testing: 100%|\u001b[32m██████████\u001b[0m| 313/313 [00:06<00:00, 47.51it/s]\n"
          ]
        },
        {
          "name": "stdout",
          "output_type": "stream",
          "text": [
            "Epoch: 16\n",
            "Train Loss: 2.2634897\n",
            "Train Accuracy: 0.1575896\n",
            "Test Loss: 2.2617087\n",
            "Test Accuracy: 0.1596446\n",
            "--------------------------\n"
          ]
        },
        {
          "name": "stderr",
          "output_type": "stream",
          "text": [
            "Epoch 17: 100%|\u001b[34m██████████\u001b[0m| 1563/1563 [00:30<00:00, 51.26it/s]\n",
            "Testing: 100%|\u001b[32m██████████\u001b[0m| 313/313 [00:05<00:00, 52.52it/s]\n"
          ]
        },
        {
          "name": "stdout",
          "output_type": "stream",
          "text": [
            "Epoch: 17\n",
            "Train Loss: 2.2639592\n",
            "Train Accuracy: 0.1565699\n",
            "Test Loss: 2.2599322\n",
            "Test Accuracy: 0.1644369\n",
            "--------------------------\n"
          ]
        },
        {
          "name": "stderr",
          "output_type": "stream",
          "text": [
            "Epoch 18: 100%|\u001b[34m██████████\u001b[0m| 1563/1563 [00:31<00:00, 50.33it/s]\n",
            "Testing: 100%|\u001b[32m██████████\u001b[0m| 313/313 [00:05<00:00, 53.78it/s]\n"
          ]
        },
        {
          "name": "stdout",
          "output_type": "stream",
          "text": [
            "Epoch: 18\n",
            "Train Loss: 2.2619317\n",
            "Train Accuracy: 0.1572897\n",
            "Test Loss: 2.2595563\n",
            "Test Accuracy: 0.1497604\n",
            "--------------------------\n"
          ]
        },
        {
          "name": "stderr",
          "output_type": "stream",
          "text": [
            "Epoch 19: 100%|\u001b[34m██████████\u001b[0m| 1563/1563 [00:28<00:00, 54.75it/s]\n",
            "Testing: 100%|\u001b[32m██████████\u001b[0m| 313/313 [00:05<00:00, 57.25it/s]\n"
          ]
        },
        {
          "name": "stdout",
          "output_type": "stream",
          "text": [
            "Epoch: 19\n",
            "Train Loss: 2.2611328\n",
            "Train Accuracy: 0.1584293\n",
            "Test Loss: 2.2590773\n",
            "Test Accuracy: 0.1638379\n",
            "--------------------------\n"
          ]
        },
        {
          "name": "stderr",
          "output_type": "stream",
          "text": [
            "Epoch 20: 100%|\u001b[34m██████████\u001b[0m| 1563/1563 [00:27<00:00, 57.04it/s]\n",
            "Testing: 100%|\u001b[32m██████████\u001b[0m| 313/313 [00:05<00:00, 59.67it/s]"
          ]
        },
        {
          "name": "stdout",
          "output_type": "stream",
          "text": [
            "Epoch: 20\n",
            "Train Loss: 2.2600526\n",
            "Train Accuracy: 0.1596089\n",
            "Test Loss: 2.2545381\n",
            "Test Accuracy: 0.1593450\n",
            "--------------------------\n"
          ]
        },
        {
          "name": "stderr",
          "output_type": "stream",
          "text": [
            "\n"
          ]
        }
      ],
      "source": [
        "epochs = 20\n",
        "y_predtr= torch.zeros(0,dtype=torch.long, device=device)\n",
        "y_true_train = torch.zeros(0,dtype=torch.long, device=device)\n",
        "y_predts= torch.zeros(0,dtype=torch.long, device=device)\n",
        "y_true_test = torch.zeros(0,dtype=torch.long, device=device)\n",
        "for epoch in range(epochs):\n",
        "    epoch_train_loss = 0\n",
        "    epoch_train_accuracy = 0\n",
        "    epoch_test_loss = 0\n",
        "    epoch_test_accuracy = 0\n",
        "    for x_train, y_train in tqdm(train_dataloader, desc=f\"Epoch {epoch+1}\", colour=\"blue\"):\n",
        "        # Forward pass\n",
        "        x_train, y_train = x_train.to(device), y_train.to(device)\n",
        "        x = feature_extractor(x_train)\n",
        "        x = Layer1.forward(x)\n",
        "        x = Layer2.forward(x)\n",
        "        x = Act2.forward(x)\n",
        "        loss = Loss.forward(x, y_train)\n",
        "\n",
        "        # Report batch metrics\n",
        "\n",
        "        y_predict_train = torch.argmax(x, dim=1)\n",
        "        accuracy = torch.mean((y_train == y_predict_train).float())\n",
        "        epoch_train_loss += loss.item()\n",
        "        epoch_train_accuracy += accuracy.item()\n",
        "        if epoch == epochs-1:\n",
        "            y_predtr=torch.cat([y_predtr,y_predict_train.view(-1)])\n",
        "            y_true_train=torch.cat([y_true_train,y_train.view(-1)])\n",
        "        # Backward pass\n",
        "        x = Loss.backward(y_train)\n",
        "        x = Layer2.backward(x)\n",
        "        Layer1.backward(x)\n",
        "\n",
        "        # Update parameters\n",
        "        Optimizer(Layer1)\n",
        "        Optimizer(Layer2)\n",
        "\n",
        "    with torch.no_grad():\n",
        "        for x_test, y_test in tqdm(test_dataloader, desc=f\"Testing\", colour=\"green\"):\n",
        "                # Forward pass\n",
        "                x_test, y_test = x_test.to(device), y_test.to(device)\n",
        "                x = feature_extractor(x_test)\n",
        "                x = Layer1.forward(x)\n",
        "                x = Layer2.forward(x)\n",
        "                x = Act2.forward(x)\n",
        "                loss = Loss.forward(x, y_test)\n",
        "\n",
        "                # Report batch metrics\n",
        "                y_predict_test = torch.argmax(x, dim=1)\n",
        "                accuracy = torch.mean((y_test == y_predict_test).float())\n",
        "                epoch_test_loss += loss.item()\n",
        "                epoch_test_accuracy += accuracy.item()\n",
        "                if epoch == epochs-1:\n",
        "                    y_predts=torch.cat([y_predts,y_predict_test.view(-1)])\n",
        "                    y_true_test=torch.cat([y_true_test,y_test.view(-1)])\n",
        "                \n",
        "    # Report epoch metrics\n",
        "    epoch_train_loss /= len(train_dataloader)\n",
        "    epoch_train_accuracy /= len(train_dataloader)\n",
        "    epoch_test_loss /= len(test_dataloader)\n",
        "    epoch_test_accuracy /= len(test_dataloader)\n",
        "    train_loss.append(epoch_train_loss)\n",
        "    train_acc.append(epoch_train_accuracy)\n",
        "    test_loss.append(epoch_test_loss)\n",
        "    test_acc.append(epoch_test_accuracy)\n",
        "    print(f'Epoch: {epoch+1}')\n",
        "    print(f'Train Loss: {epoch_train_loss:.7f}')\n",
        "    print(f'Train Accuracy: {epoch_train_accuracy:.7f}')\n",
        "    print(f'Test Loss: {epoch_test_loss:.7f}')\n",
        "    print(f'Test Accuracy: {epoch_test_accuracy:.7f}')\n",
        "    print('--------------------------')\n"
      ]
    },
    {
      "cell_type": "code",
      "execution_count": null,
      "metadata": {
        "id": "A4trnYLeuAcG"
      },
      "outputs": [],
      "source": [
        "import torch\n",
        "X = torch.rand(32, 512) # a tensor with shape 32*512\n",
        "A = torch.rand(20, 512) # a tensor with shape 512*20\n",
        "D = torch.cdist(X, A, p=2) # a tensor with shape 32*20\n",
        "print(D.shape)\n",
        "#print(D)\n",
        "print((D/sigma).shape)"
      ]
    },
    {
      "cell_type": "code",
      "execution_count": null,
      "metadata": {
        "id": "RP7V0JMb4X8r"
      },
      "outputs": [],
      "source": [
        "import torch\n",
        "B = torch.rand(32, 512) # a tensor with shape 32*512\n",
        "C = torch.rand(20, 512) # a tensor with shape 20*512\n",
        "B_expanded = B.unsqueeze(1) # a tensor with shape 32*1*512\n",
        "C_expanded = C.unsqueeze(0) # a tensor with shape 1*20*512\n",
        "G = B_expanded - C_expanded # a tensor with shape 32*20*512\n",
        "\n",
        "D_expanded = D.unsqueeze(2) # a tensor with shape 32*20*1\n",
        "H = G / D_expanded # a tensor with shape 32*20*512\n",
        "print(H.shape)\n"
      ]
    },
    {
      "cell_type": "code",
      "execution_count": null,
      "metadata": {
        "id": "yc9BvdEk4X8r"
      },
      "outputs": [],
      "source": [
        "U = torch.rand(32,20)\n",
        "K = torch.exp(U)*H/(sigma)"
      ]
    },
    {
      "cell_type": "code",
      "execution_count": 18,
      "metadata": {
        "id": "d9IikxeT4X8r"
      },
      "outputs": [
        {
          "ename": "NameError",
          "evalue": "name 'sb' is not defined",
          "output_type": "error",
          "traceback": [
            "\u001b[1;31m---------------------------------------------------------------------------\u001b[0m",
            "\u001b[1;31mNameError\u001b[0m                                 Traceback (most recent call last)",
            "Cell \u001b[1;32mIn[18], line 6\u001b[0m\n\u001b[0;32m      4\u001b[0m cm_train \u001b[39m=\u001b[39m confusion_matrix(y_train_numpy, y_predtr_numpy)\n\u001b[0;32m      5\u001b[0m plt\u001b[39m.\u001b[39msubplots(figsize\u001b[39m=\u001b[39m(\u001b[39m10\u001b[39m, \u001b[39m6\u001b[39m))\n\u001b[1;32m----> 6\u001b[0m sb\u001b[39m.\u001b[39mheatmap(cm_train, annot \u001b[39m=\u001b[39m \u001b[39mTrue\u001b[39;00m, fmt \u001b[39m=\u001b[39m \u001b[39m'\u001b[39m\u001b[39mg\u001b[39m\u001b[39m'\u001b[39m)\n\u001b[0;32m      7\u001b[0m plt\u001b[39m.\u001b[39mxlabel(\u001b[39m\"\u001b[39m\u001b[39mPredicted\u001b[39m\u001b[39m\"\u001b[39m)\n\u001b[0;32m      8\u001b[0m plt\u001b[39m.\u001b[39mylabel(\u001b[39m\"\u001b[39m\u001b[39mActual\u001b[39m\u001b[39m\"\u001b[39m)\n",
            "\u001b[1;31mNameError\u001b[0m: name 'sb' is not defined"
          ]
        },
        {
          "data": {
            "image/png": "[encoded data removed]",
            "text/plain": [
              "<Figure size 1000x600 with 1 Axes>"
            ]
          },
          "metadata": {},
          "output_type": "display_data"
        }
      ],
      "source": [
        "#Confusion Matrix for the training set\n",
        "y_predtr_numpy = y_predtr.data.cpu().numpy()\n",
        "y_train_numpy = y_true_train.data.cpu().numpy()\n",
        "cm_train = confusion_matrix(y_train_numpy, y_predtr_numpy)\n",
        "plt.subplots(figsize=(10, 6))\n",
        "sb.heatmap(cm_train, annot = True, fmt = 'g')\n",
        "plt.xlabel(\"Predicted\")\n",
        "plt.ylabel(\"Actual\")\n",
        "plt.title(\"Confusion Matrix for the training set\")\n",
        "plt.show()\n",
        "\n"
      ]
    },
    {
      "cell_type": "code",
      "execution_count": null,
      "metadata": {},
      "outputs": [],
      "source": []
    }
  ],
  "metadata": {
    "accelerator": "GPU",
    "colab": {
      "provenance": []
    },
    "gpuClass": "standard",
    "kernelspec": {
      "display_name": "Python 3",
      "language": "python",
      "name": "python3"
    },
    "language_info": {
      "codemirror_mode": {
        "name": "ipython",
        "version": 3
      },
      "file_extension": ".py",
      "mimetype": "text/x-python",
      "name": "python",
      "nbconvert_exporter": "python",
      "pygments_lexer": "ipython3",
      "version": "3.10.9"
    }
  },
  "nbformat": 4,
  "nbformat_minor": 0
}
