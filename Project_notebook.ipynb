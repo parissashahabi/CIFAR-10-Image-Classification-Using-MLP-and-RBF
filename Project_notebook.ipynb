{
 "cells": [
  {
   "cell_type": "code",
   "execution_count": 32,
   "id": "d30e5368",
   "metadata": {
    "id": "d30e5368"
   },
   "outputs": [],
   "source": [
    "import numpy as np\n",
    "import matplotlib.pyplot as plt\n",
    "import seaborn as sb\n",
    "\n",
    "import torch\n",
    "import torch.nn as nn\n",
    "from torchvision import datasets\n",
    "import torchvision.transforms as transforms\n",
    "from torchvision.models import resnet34\n",
    "from torch.utils.data import DataLoader\n",
    "\n",
    "from sklearn.metrics import confusion_matrix, f1_score\n",
    "import math\n",
    "from tqdm import tqdm"
   ]
  },
  {
   "cell_type": "code",
   "execution_count": 33,
   "id": "4f56ff7d",
   "metadata": {},
   "outputs": [
    {
     "name": "stdout",
     "output_type": "stream",
     "text": [
      "cuda\n"
     ]
    }
   ],
   "source": [
    "device = torch.device(\"cuda\" if torch.cuda.is_available() else \"cpu\")\n",
    "print(device)"
   ]
  },
  {
   "cell_type": "code",
   "execution_count": 34,
   "id": "017f587f",
   "metadata": {
    "id": "017f587f"
   },
   "outputs": [],
   "source": [
    "# convert data to a normalized torch.FloatTensor\n",
    "# transform = transforms.Compose([    transforms.ToTensor(), transforms.Normalize(\n",
    "#         mean=[0.4914, 0.4822, 0.4465],\n",
    "#         std=[0.2023, 0.1994, 0.2010])\n",
    "# ])\n",
    "\n",
    "# # convert data to a normalized torch.FloatTensor\n",
    "# transform = transforms.Compose([\n",
    "#     transforms.Resize((224, 224)), # Resize to 224x224 (height x width)\n",
    "#     transforms.ToTensor(),\n",
    "#     transforms.Normalize(mean=[0.485, 0.456, 0.406],\n",
    "#                           std=[0.229, 0.224, 0.225])\n",
    "# ])\n",
    "transform = transforms.Compose([\n",
    "    transforms.Resize((128, 128)), # Resize to 224x224 (height x width)\n",
    "    transforms.ToTensor(),\n",
    "    transforms.Normalize(mean=[0.485, 0.456, 0.406],\n",
    "                          std=[0.229, 0.224, 0.225])\n",
    "])\n"
   ]
  },
  {
   "cell_type": "code",
   "execution_count": 35,
   "id": "9580db19",
   "metadata": {
    "colab": {
     "base_uri": "https://localhost:8080/"
    },
    "id": "9580db19",
    "outputId": "a20385fb-fb10-492b-d966-63702b2a6f23"
   },
   "outputs": [
    {
     "name": "stdout",
     "output_type": "stream",
     "text": [
      "Files already downloaded and verified\n",
      "Files already downloaded and verified\n"
     ]
    }
   ],
   "source": [
    "# loading the train data\n",
    "batch_size = 32\n",
    "#drop_last=True\n",
    "train_data = datasets.CIFAR10('data', train=True,\n",
    "                              download=True, transform=transform)\n",
    "train_dataloader = DataLoader(train_data, batch_size=batch_size,shuffle=True )\n",
    "\n",
    "#loading the test data\n",
    "test_data = datasets.CIFAR10('data', train=False,\n",
    "                             download=True, transform=transform)\n",
    "test_dataloader = DataLoader(test_data, batch_size=batch_size, shuffle=False )\n"
   ]
  },
  {
   "attachments": {},
   "cell_type": "markdown",
   "id": "15a09947",
   "metadata": {
    "id": "15a09947"
   },
   "source": [
    "### Dense (fully connected) layer"
   ]
  },
  {
   "cell_type": "code",
   "execution_count": 36,
   "id": "d3ef2947",
   "metadata": {
    "id": "d3ef2947"
   },
   "outputs": [],
   "source": [
    "class Dense:\n",
    "    def __init__(self, n_inputs, n_neurons):\n",
    "        # He Weight Initialization\n",
    "        self.weights = torch.randn(n_inputs, n_neurons) * torch.sqrt(torch.tensor(2. / n_inputs))\n",
    "        self.biases = torch.zeros((1, n_neurons))\n",
    "        self.weights = self.weights.to(device)\n",
    "        self.biases = self.biases.to(device)\n",
    "    \n",
    "    def forward(self, inputs):\n",
    "        self.inputs = inputs\n",
    "        self.inputs = self.inputs.to(device)\n",
    "        return torch.matmul(self.inputs, self.weights) + self.biases\n",
    "\n",
    "    def backward(self, output_error):\n",
    "        # calculating errors\n",
    "        self.inputs_error = torch.matmul(output_error, self.weights.T)\n",
    "        self.inputs_error = self.inputs_error.to(device)\n",
    "        self.weights_grad = torch.matmul(self.inputs.T, output_error)\n",
    "        self.weights_grad = self.weights_grad.to(device)\n",
    "        self.biases_grad = torch.sum(output_error, axis=0, keepdims=True)\n",
    "        self.biases_grad =  self.biases_grad.to(device)\n",
    "        return self.inputs_error\n"
   ]
  },
  {
   "attachments": {},
   "cell_type": "markdown",
   "id": "8de1c92a",
   "metadata": {
    "id": "8de1c92a"
   },
   "source": [
    "### Activation Layers\n"
   ]
  },
  {
   "cell_type": "code",
   "execution_count": 37,
   "id": "7116c715",
   "metadata": {
    "id": "7116c715"
   },
   "outputs": [],
   "source": [
    "class ReLU:\n",
    "    def forward(self, inputs):\n",
    "        self.inputs = inputs.clone()\n",
    "        self.inputs = self.inputs.to(device)\n",
    "        return torch.maximum(torch.zeros_like(inputs), inputs)\n",
    "\n",
    "    def backward(self, output_error):\n",
    "        self.inputs_error = output_error.clone()\n",
    "        self.inputs_error = self.inputs_error.to(device)\n",
    "        self.inputs_error[self.inputs <= 0] = 0\n",
    "        return self.inputs_error\n"
   ]
  },
  {
   "attachments": {},
   "cell_type": "markdown",
   "id": "4a5d82c3",
   "metadata": {},
   "source": []
  },
  {
   "cell_type": "code",
   "execution_count": 38,
   "id": "393a2d31",
   "metadata": {
    "id": "393a2d31"
   },
   "outputs": [],
   "source": [
    "class Sigmoid:\n",
    "    def forward(self,inputs):\n",
    "        self.outputs = 1 / (1 + np.exp(-inputs))\n",
    "        self.outputs.to(device)\n",
    "        return self.outputs\n",
    "\n",
    "    def backward(self,output_error):\n",
    "        self.outputs_grad = output_error * (1-self.outputs) * self.outputs\n",
    "        self.outputs_grad = self.outputs_grad.to(device)\n",
    "        return self.outputs_grad"
   ]
  },
  {
   "cell_type": "code",
   "execution_count": 39,
   "id": "e4ea7b84",
   "metadata": {
    "id": "e4ea7b84"
   },
   "outputs": [],
   "source": [
    "class Softmax:\n",
    "    def forward(self, inputs):\n",
    "        self.inputs = inputs.clone()\n",
    "        self.inputs = self.inputs.to(device)\n",
    "        exp_inputs = torch.exp(self.inputs - torch.max(self.inputs, dim=1, keepdim=True).values)\n",
    "        exp_inputs = exp_inputs.to(device)\n",
    "        self.outputs = exp_inputs / torch.sum(exp_inputs, dim=1, keepdim=True)\n",
    "        self.outputs = self.outputs.to(device)\n",
    "        return self.outputs\n",
    "\n"
   ]
  },
  {
   "attachments": {},
   "cell_type": "markdown",
   "id": "a78183ba",
   "metadata": {
    "id": "a78183ba"
   },
   "source": [
    "### Loss function"
   ]
  },
  {
   "cell_type": "code",
   "execution_count": 40,
   "id": "1e21c202",
   "metadata": {
    "id": "1e21c202"
   },
   "outputs": [],
   "source": [
    "class Categorical_Cross_Entropy_loss:\n",
    "    \n",
    "    def forward(self, softmax_output, class_label):\n",
    "        # Apply softmax function to the output\n",
    "        self.softmax_output = torch.clamp(softmax_output, 1e-12, 1. - 1e-12)\n",
    "        self.softmax_output = self.softmax_output.to(device)\n",
    "        N = softmax_output.shape[0]\n",
    "        # Convert the class label to one-hot encoding\n",
    "        self.class_label = torch.zeros_like(softmax_output)\n",
    "        self.class_label = self.class_label.to(device)\n",
    "        self.class_label[torch.arange(N), class_label] = 1\n",
    "        # Calculate the cross-entropy loss\n",
    "        self.loss = -torch.sum(self.class_label * torch.log(self.softmax_output)) / N\n",
    "        self.loss = self.loss.to(device)\n",
    "        return self.loss\n",
    "    \n",
    "    def backward(self, class_label):\n",
    "        # Calculate the derivative of the loss with respect to the softmax output\n",
    "        N = self.softmax_output.shape[0]\n",
    "        self.inputs_error = self.softmax_output.clone()\n",
    "        self.inputs_error = self.inputs_error.to(device)\n",
    "        self.inputs_error[torch.arange(N), class_label] -= 1\n",
    "        self.inputs_error = self.inputs_error / N\n",
    "        return self.inputs_error\n"
   ]
  },
  {
   "cell_type": "code",
   "execution_count": null,
   "id": "Q2U7Kv8DRCpR",
   "metadata": {
    "id": "Q2U7Kv8DRCpR"
   },
   "outputs": [],
   "source": []
  },
  {
   "attachments": {},
   "cell_type": "markdown",
   "id": "7b6170d6",
   "metadata": {
    "id": "7b6170d6"
   },
   "source": [
    "### Optimizer"
   ]
  },
  {
   "cell_type": "code",
   "execution_count": 41,
   "id": "a109e234",
   "metadata": {},
   "outputs": [],
   "source": [
    "class FactorScheduler:\n",
    "    def __init__(self, factor=1, stop_factor_lr=1e-7, base_lr=0.001):\n",
    "        self.factor = factor\n",
    "        self.stop_factor_lr = stop_factor_lr\n",
    "        self.base_lr = base_lr\n",
    "\n",
    "    def __call__(self, num_update):\n",
    "        self.base_lr = max(self.stop_factor_lr, self.base_lr * self.factor)\n",
    "        return self.base_lr"
   ]
  },
  {
   "cell_type": "code",
   "execution_count": 42,
   "id": "af57ccac",
   "metadata": {
    "id": "af57ccac"
   },
   "outputs": [],
   "source": [
    "class SGD:\n",
    "    def __init__(self, learning_rate=0.01):\n",
    "        self.learning_rate=learning_rate\n",
    "        self.scheduler = FactorScheduler(factor=0.9, stop_factor_lr=1e-2, base_lr=learning_rate)\n",
    "    \n",
    "    def __call__(self, layer, num_epoch):\n",
    "        device = layer.weights.device\n",
    "        layer.weights = layer.weights.to(device)\n",
    "        layer.biases = layer.biases.to(device)\n",
    "        layer.weights -= self.scheduler(num_epoch) * layer.weights_grad.to(device)\n",
    "        layer.biases -= self.scheduler(num_epoch) * layer.biases_grad.to(device)\n"
   ]
  },
  {
   "attachments": {},
   "cell_type": "markdown",
   "id": "7ea3ce45",
   "metadata": {
    "id": "7ea3ce45"
   },
   "source": [
    "### Architecture"
   ]
  },
  {
   "cell_type": "code",
   "execution_count": 43,
   "id": "4-p7NtSzPiXc",
   "metadata": {
    "colab": {
     "base_uri": "https://localhost:8080/"
    },
    "id": "4-p7NtSzPiXc",
    "outputId": "85dedb6d-1624-4fb0-e1e1-28b27c505036"
   },
   "outputs": [
    {
     "name": "stderr",
     "output_type": "stream",
     "text": [
      "c:\\Users\\rrast\\AppData\\Local\\Programs\\Python\\Python310\\lib\\site-packages\\torchvision\\models\\_utils.py:208: UserWarning: The parameter 'pretrained' is deprecated since 0.13 and may be removed in the future, please use 'weights' instead.\n",
      "  warnings.warn(\n",
      "c:\\Users\\rrast\\AppData\\Local\\Programs\\Python\\Python310\\lib\\site-packages\\torchvision\\models\\_utils.py:223: UserWarning: Arguments other than a weight enum or `None` for 'weights' are deprecated since 0.13 and may be removed in the future. The current behavior is equivalent to passing `weights=ResNet34_Weights.IMAGENET1K_V1`. You can also use `weights=ResNet34_Weights.DEFAULT` to get the most up-to-date weights.\n",
      "  warnings.warn(msg)\n"
     ]
    }
   ],
   "source": [
    "feature_extractor = resnet34(pretrained=True)\n",
    "num_features = feature_extractor.fc.in_features\n",
    "\n",
    "for param in feature_extractor.parameters():\n",
    "    param.requires_grad = False\n",
    "\n",
    "feature_extractor.fc = nn.Identity()\n",
    "feature_extractor = feature_extractor.to(device)"
   ]
  },
  {
   "cell_type": "code",
   "execution_count": 44,
   "id": "e940679d",
   "metadata": {
    "id": "e940679d"
   },
   "outputs": [],
   "source": [
    "#model\n",
    "Layer1 = Dense(num_features,20)\n",
    "Act1 = ReLU()\n",
    "Layer2 = Dense(20,10)\n",
    "Act2 = Softmax()\n",
    "Loss = Categorical_Cross_Entropy_loss()\n",
    "Optimizer = SGD(learning_rate=0.001)"
   ]
  },
  {
   "attachments": {},
   "cell_type": "markdown",
   "id": "bb4b9a7e",
   "metadata": {
    "id": "bb4b9a7e"
   },
   "source": [
    "### Train"
   ]
  },
  {
   "cell_type": "code",
   "execution_count": 45,
   "id": "21e1afab",
   "metadata": {
    "id": "21e1afab"
   },
   "outputs": [
    {
     "name": "stderr",
     "output_type": "stream",
     "text": [
      "Epoch 1: 100%|\u001b[34m██████████\u001b[0m| 1563/1563 [00:44<00:00, 35.00it/s]\n"
     ]
    },
    {
     "name": "stdout",
     "output_type": "stream",
     "text": [
      "Epoch: 1\n",
      "Loss: 1.0886751\n",
      "Accuracy: 0.6229207\n",
      "--------------------------\n"
     ]
    },
    {
     "name": "stderr",
     "output_type": "stream",
     "text": [
      "Epoch 2: 100%|\u001b[34m██████████\u001b[0m| 1563/1563 [00:47<00:00, 32.89it/s]\n"
     ]
    },
    {
     "name": "stdout",
     "output_type": "stream",
     "text": [
      "Epoch: 2\n",
      "Loss: 0.7004347\n",
      "Accuracy: 0.7618762\n",
      "--------------------------\n"
     ]
    },
    {
     "name": "stderr",
     "output_type": "stream",
     "text": [
      "Epoch 3: 100%|\u001b[34m██████████\u001b[0m| 1563/1563 [00:47<00:00, 32.79it/s]\n"
     ]
    },
    {
     "name": "stdout",
     "output_type": "stream",
     "text": [
      "Epoch: 3\n",
      "Loss: 0.6507498\n",
      "Accuracy: 0.7781710\n",
      "--------------------------\n"
     ]
    },
    {
     "name": "stderr",
     "output_type": "stream",
     "text": [
      "Epoch 4: 100%|\u001b[34m██████████\u001b[0m| 1563/1563 [00:46<00:00, 33.55it/s]\n"
     ]
    },
    {
     "name": "stdout",
     "output_type": "stream",
     "text": [
      "Epoch: 4\n",
      "Loss: 0.6227038\n",
      "Accuracy: 0.7878879\n",
      "--------------------------\n"
     ]
    },
    {
     "name": "stderr",
     "output_type": "stream",
     "text": [
      "Epoch 5: 100%|\u001b[34m██████████\u001b[0m| 1563/1563 [00:46<00:00, 33.89it/s]\n"
     ]
    },
    {
     "name": "stdout",
     "output_type": "stream",
     "text": [
      "Epoch: 5\n",
      "Loss: 0.6057787\n",
      "Accuracy: 0.7944458\n",
      "--------------------------\n"
     ]
    },
    {
     "name": "stderr",
     "output_type": "stream",
     "text": [
      "Epoch 6: 100%|\u001b[34m██████████\u001b[0m| 1563/1563 [00:45<00:00, 34.61it/s]\n"
     ]
    },
    {
     "name": "stdout",
     "output_type": "stream",
     "text": [
      "Epoch: 6\n",
      "Loss: 0.6016509\n",
      "Accuracy: 0.7942458\n",
      "--------------------------\n"
     ]
    },
    {
     "name": "stderr",
     "output_type": "stream",
     "text": [
      "Epoch 7: 100%|\u001b[34m██████████\u001b[0m| 1563/1563 [00:46<00:00, 33.40it/s]\n"
     ]
    },
    {
     "name": "stdout",
     "output_type": "stream",
     "text": [
      "Epoch: 7\n",
      "Loss: 0.5887606\n",
      "Accuracy: 0.7988444\n",
      "--------------------------\n"
     ]
    },
    {
     "name": "stderr",
     "output_type": "stream",
     "text": [
      "Epoch 8: 100%|\u001b[34m██████████\u001b[0m| 1563/1563 [00:44<00:00, 34.88it/s]\n"
     ]
    },
    {
     "name": "stdout",
     "output_type": "stream",
     "text": [
      "Epoch: 8\n",
      "Loss: 0.5888465\n",
      "Accuracy: 0.8008237\n",
      "--------------------------\n"
     ]
    },
    {
     "name": "stderr",
     "output_type": "stream",
     "text": [
      "Epoch 9: 100%|\u001b[34m██████████\u001b[0m| 1563/1563 [00:44<00:00, 34.77it/s]\n"
     ]
    },
    {
     "name": "stdout",
     "output_type": "stream",
     "text": [
      "Epoch: 9\n",
      "Loss: 0.5821530\n",
      "Accuracy: 0.8006038\n",
      "--------------------------\n"
     ]
    },
    {
     "name": "stderr",
     "output_type": "stream",
     "text": [
      "Epoch 10: 100%|\u001b[34m██████████\u001b[0m| 1563/1563 [00:44<00:00, 34.81it/s]\n"
     ]
    },
    {
     "name": "stdout",
     "output_type": "stream",
     "text": [
      "Epoch: 10\n",
      "Loss: 0.5789062\n",
      "Accuracy: 0.8043826\n",
      "--------------------------\n"
     ]
    },
    {
     "name": "stderr",
     "output_type": "stream",
     "text": [
      "Epoch 11: 100%|\u001b[34m██████████\u001b[0m| 1563/1563 [00:46<00:00, 33.70it/s]\n"
     ]
    },
    {
     "name": "stdout",
     "output_type": "stream",
     "text": [
      "Epoch: 11\n",
      "Loss: 0.5749831\n",
      "Accuracy: 0.8027831\n",
      "--------------------------\n"
     ]
    },
    {
     "name": "stderr",
     "output_type": "stream",
     "text": [
      "Epoch 12: 100%|\u001b[34m██████████\u001b[0m| 1563/1563 [00:46<00:00, 33.78it/s]\n"
     ]
    },
    {
     "name": "stdout",
     "output_type": "stream",
     "text": [
      "Epoch: 12\n",
      "Loss: 0.5699417\n",
      "Accuracy: 0.8071217\n",
      "--------------------------\n"
     ]
    },
    {
     "name": "stderr",
     "output_type": "stream",
     "text": [
      "Epoch 13: 100%|\u001b[34m██████████\u001b[0m| 1563/1563 [00:47<00:00, 33.03it/s]\n"
     ]
    },
    {
     "name": "stdout",
     "output_type": "stream",
     "text": [
      "Epoch: 13\n",
      "Loss: 0.5653297\n",
      "Accuracy: 0.8078615\n",
      "--------------------------\n"
     ]
    },
    {
     "name": "stderr",
     "output_type": "stream",
     "text": [
      "Epoch 14: 100%|\u001b[34m██████████\u001b[0m| 1563/1563 [00:46<00:00, 33.71it/s]\n"
     ]
    },
    {
     "name": "stdout",
     "output_type": "stream",
     "text": [
      "Epoch: 14\n",
      "Loss: 0.5662525\n",
      "Accuracy: 0.8075816\n",
      "--------------------------\n"
     ]
    },
    {
     "name": "stderr",
     "output_type": "stream",
     "text": [
      "Epoch 15: 100%|\u001b[34m██████████\u001b[0m| 1563/1563 [00:46<00:00, 33.64it/s]\n"
     ]
    },
    {
     "name": "stdout",
     "output_type": "stream",
     "text": [
      "Epoch: 15\n",
      "Loss: 0.5621181\n",
      "Accuracy: 0.8098808\n",
      "--------------------------\n"
     ]
    },
    {
     "name": "stderr",
     "output_type": "stream",
     "text": [
      "Epoch 16: 100%|\u001b[34m██████████\u001b[0m| 1563/1563 [00:46<00:00, 33.74it/s]\n"
     ]
    },
    {
     "name": "stdout",
     "output_type": "stream",
     "text": [
      "Epoch: 16\n",
      "Loss: 0.5608892\n",
      "Accuracy: 0.8087412\n",
      "--------------------------\n"
     ]
    },
    {
     "name": "stderr",
     "output_type": "stream",
     "text": [
      "Epoch 17: 100%|\u001b[34m██████████\u001b[0m| 1563/1563 [00:43<00:00, 35.99it/s]\n"
     ]
    },
    {
     "name": "stdout",
     "output_type": "stream",
     "text": [
      "Epoch: 17\n",
      "Loss: 0.5613574\n",
      "Accuracy: 0.8075016\n",
      "--------------------------\n"
     ]
    },
    {
     "name": "stderr",
     "output_type": "stream",
     "text": [
      "Epoch 18: 100%|\u001b[34m██████████\u001b[0m| 1563/1563 [00:46<00:00, 33.94it/s]\n"
     ]
    },
    {
     "name": "stdout",
     "output_type": "stream",
     "text": [
      "Epoch: 18\n",
      "Loss: 0.5551299\n",
      "Accuracy: 0.8116403\n",
      "--------------------------\n"
     ]
    },
    {
     "name": "stderr",
     "output_type": "stream",
     "text": [
      "Epoch 19: 100%|\u001b[34m██████████\u001b[0m| 1563/1563 [00:47<00:00, 33.06it/s]\n"
     ]
    },
    {
     "name": "stdout",
     "output_type": "stream",
     "text": [
      "Epoch: 19\n",
      "Loss: 0.5557029\n",
      "Accuracy: 0.8097009\n",
      "--------------------------\n"
     ]
    },
    {
     "name": "stderr",
     "output_type": "stream",
     "text": [
      "Epoch 20: 100%|\u001b[34m██████████\u001b[0m| 1563/1563 [00:53<00:00, 29.26it/s]"
     ]
    },
    {
     "name": "stdout",
     "output_type": "stream",
     "text": [
      "Epoch: 20\n",
      "Loss: 0.5605586\n",
      "Accuracy: 0.8096209\n",
      "--------------------------\n"
     ]
    },
    {
     "name": "stderr",
     "output_type": "stream",
     "text": [
      "\n"
     ]
    }
   ],
   "source": [
    "\n",
    "\n",
    "epochs = 20\n",
    "y_predtr= torch.zeros(0,dtype=torch.long, device=device)\n",
    "y_true = torch.zeros(0,dtype=torch.long, device=device)\n",
    "\n",
    "for epoch in range(epochs):\n",
    "    epoch_loss = 0\n",
    "    epoch_accuracy = 0\n",
    "    for x_train, y_train in tqdm(train_dataloader, desc=f\"Epoch {epoch+1}\", colour=\"blue\"):\n",
    "        # Forward pass\n",
    "        x_train, y_train = x_train.to(device), y_train.to(device)\n",
    "        x = feature_extractor(x_train)\n",
    "        x = Layer1.forward(x)\n",
    "        x = Act1.forward(x)\n",
    "        x = Layer2.forward(x)\n",
    "        x = Act2.forward(x)\n",
    "        loss = Loss.forward(x, y_train)\n",
    "\n",
    "        # Report batch metrics\n",
    "        y_predict_train = torch.argmax(x, dim=1)\n",
    "        accuracy = torch.mean((y_train == y_predict_train).float())\n",
    "        epoch_loss += loss.item()\n",
    "        epoch_accuracy += accuracy.item()\n",
    "        if epoch == epochs-1:\n",
    "            y_predtr=torch.cat([y_predtr,y_predict_train.view(-1)])\n",
    "            y_true=torch.cat([y_true,y_train.view(-1)])\n",
    "        # Backward pass\n",
    "        x = Loss.backward(y_train)\n",
    "        #x = Act2.backward(x)\n",
    "        x = Layer2.backward(x)\n",
    "        x = Act1.backward(x)\n",
    "        x = Layer1.backward(x)\n",
    "\n",
    "        # Update parameters\n",
    "        Optimizer(Layer1, epoch)\n",
    "        Optimizer(Layer2, epoch)\n",
    "\n",
    "    # Report epoch metrics\n",
    "    epoch_loss /= len(train_dataloader)\n",
    "    epoch_accuracy /= len(train_dataloader)\n",
    "    print(f'Epoch: {epoch+1}')\n",
    "    print(f'Loss: {epoch_loss:.7f}')\n",
    "    print(f'Accuracy: {epoch_accuracy:.7f}')\n",
    "    print('--------------------------')\n"
   ]
  },
  {
   "attachments": {},
   "cell_type": "markdown",
   "id": "a5b524b3",
   "metadata": {},
   "source": [
    "### Test"
   ]
  },
  {
   "cell_type": "code",
   "execution_count": null,
   "id": "e76c68d7",
   "metadata": {},
   "outputs": [],
   "source": []
  },
  {
   "cell_type": "code",
   "execution_count": 46,
   "id": "59d73c53",
   "metadata": {},
   "outputs": [
    {
     "name": "stderr",
     "output_type": "stream",
     "text": [
      "Testing: 100%|\u001b[32m██████████\u001b[0m| 313/313 [00:09<00:00, 31.67it/s]"
     ]
    },
    {
     "name": "stdout",
     "output_type": "stream",
     "text": [
      "Test Loss: 0.6083828\n",
      "Test Accuracy: 0.7940296\n"
     ]
    },
    {
     "name": "stderr",
     "output_type": "stream",
     "text": [
      "\n"
     ]
    }
   ],
   "source": [
    "test_loss = 0\n",
    "test_accuracy = 0\n",
    "y_predts= torch.zeros(0,dtype=torch.long, device=device)\n",
    "y_true_test = torch.zeros(0,dtype=torch.long, device=device)\n",
    "with torch.no_grad():\n",
    "        for x_test, y_test in tqdm(test_dataloader, desc=f\"Testing\", colour=\"green\"):\n",
    "                # Forward pass\n",
    "                x_test, y_test = x_test.to(device), y_test.to(device)\n",
    "                x = feature_extractor(x_test)\n",
    "                x = Layer1.forward(x)\n",
    "                x = Act1.forward(x)\n",
    "                x = Layer2.forward(x)\n",
    "                x = Act2.forward(x)\n",
    "                loss = Loss.forward(x, y_test)\n",
    "\n",
    "                # Report batch metrics\n",
    "                y_predict_test = torch.argmax(x, dim=1)\n",
    "                accuracy = torch.mean((y_test == y_predict_test).float())\n",
    "                test_loss += loss.item()\n",
    "                test_accuracy += accuracy.item()\n",
    "                y_predts=torch.cat([y_predts,y_predict_test.view(-1)])\n",
    "                y_true_test=torch.cat([y_true_test,y_test.view(-1)])\n",
    "                \n",
    "test_loss /= len(test_dataloader)\n",
    "test_accuracy /= len(test_dataloader)\n",
    "print(f'Test Loss: {test_loss:.7f}')\n",
    "print(f'Test Accuracy: {test_accuracy:.7f}')\n",
    "\n",
    "   "
   ]
  },
  {
   "attachments": {},
   "cell_type": "markdown",
   "id": "c5892666",
   "metadata": {
    "id": "c5892666"
   },
   "source": [
    "### Evaluation"
   ]
  },
  {
   "cell_type": "code",
   "execution_count": 47,
   "id": "f7e0237a",
   "metadata": {
    "id": "f7e0237a"
   },
   "outputs": [
    {
     "data": {
      "image/png": "[encoded data removed]",
      "text/plain": [
       "<Figure size 1000x600 with 2 Axes>"
      ]
     },
     "metadata": {},
     "output_type": "display_data"
    }
   ],
   "source": [
    "#Confusion Matrix for the training set\n",
    "y_predtr_numpy = y_predtr.data.cpu().numpy()\n",
    "y_train_numpy = y_true.data.cpu().numpy()\n",
    "cm_train = confusion_matrix(y_train_numpy, y_predtr_numpy)\n",
    "plt.subplots(figsize=(10, 6))\n",
    "sb.heatmap(cm_train, annot = True, fmt = 'g')\n",
    "plt.xlabel(\"Predicted\")\n",
    "plt.ylabel(\"Actual\")\n",
    "plt.title(\"Confusion Matrix for the training set\")\n",
    "plt.show()\n",
    "\n"
   ]
  },
  {
   "cell_type": "code",
   "execution_count": 48,
   "id": "9acecf54",
   "metadata": {},
   "outputs": [
    {
     "name": "stdout",
     "output_type": "stream",
     "text": [
      "0.80966\n"
     ]
    }
   ],
   "source": [
    "print(f1_score(y_train_numpy, y_predtr_numpy, average='micro'))"
   ]
  },
  {
   "cell_type": "code",
   "execution_count": 49,
   "id": "48ba3c94",
   "metadata": {},
   "outputs": [
    {
     "data": {
      "image/png": "[encoded data removed]",
      "text/plain": [
       "<Figure size 1000x600 with 2 Axes>"
      ]
     },
     "metadata": {},
     "output_type": "display_data"
    }
   ],
   "source": [
    "#Confusion Matrix for the test set\n",
    "y_predts_numpy = y_predts.data.cpu().numpy()\n",
    "y_test_numpy = y_true_test.data.cpu().numpy()\n",
    "cm_train = confusion_matrix(y_test_numpy, y_predts_numpy)\n",
    "plt.subplots(figsize=(10, 6))\n",
    "sb.heatmap(cm_train, annot = True, fmt = 'g')\n",
    "plt.xlabel(\"Predicted\")\n",
    "plt.ylabel(\"Actual\")\n",
    "plt.title(\"Confusion Matrix for the testing set\")\n",
    "plt.show()"
   ]
  },
  {
   "cell_type": "code",
   "execution_count": 50,
   "id": "4311dd70",
   "metadata": {},
   "outputs": [
    {
     "name": "stdout",
     "output_type": "stream",
     "text": [
      "0.7942\n"
     ]
    }
   ],
   "source": [
    "print(f1_score(y_test_numpy, y_predts_numpy, average='micro'))"
   ]
  },
  {
   "cell_type": "code",
   "execution_count": null,
   "id": "934e6f14",
   "metadata": {},
   "outputs": [],
   "source": []
  }
 ],
 "metadata": {
  "colab": {
   "provenance": []
  },
  "kernelspec": {
   "display_name": "Python 3 (ipykernel)",
   "language": "python",
   "name": "python3"
  },
  "language_info": {
   "codemirror_mode": {
    "name": "ipython",
    "version": 3
   },
   "file_extension": ".py",
   "mimetype": "text/x-python",
   "name": "python",
   "nbconvert_exporter": "python",
   "pygments_lexer": "ipython3",
   "version": "3.10.9"
  }
 },
 "nbformat": 4,
 "nbformat_minor": 5
}
