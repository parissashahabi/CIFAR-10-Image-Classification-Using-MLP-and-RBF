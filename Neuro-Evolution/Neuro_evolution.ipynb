{
  "cells": [
    {
      "cell_type": "code",
      "execution_count": 49,
      "id": "d30e5368",
      "metadata": {
        "id": "d30e5368"
      },
      "outputs": [],
      "source": [
        "import numpy as np\n",
        "import matplotlib.pyplot as plt\n",
        "import seaborn as sb\n",
        "import random\n",
        "import torch\n",
        "import torch.nn as nn\n",
        "from torchvision import datasets\n",
        "import torchvision.transforms as transforms\n",
        "from torchvision.models import resnet34\n",
        "from torch.utils.data import DataLoader\n",
        "import time\n",
        "from sklearn.metrics import confusion_matrix, f1_score\n",
        "import math\n",
        "from tqdm import tqdm"
      ]
    },
    {
      "cell_type": "code",
      "execution_count": 50,
      "id": "bb1892a0",
      "metadata": {
        "id": "bb1892a0"
      },
      "outputs": [],
      "source": [
        "N_ITER = 20\n",
        "POPULATION_SIZE = 50\n",
        "MUT_PROB = 0.9\n",
        "RECOMB_PROB = 0.1"
      ]
    },
    {
      "cell_type": "code",
      "execution_count": 51,
      "id": "4f56ff7d",
      "metadata": {
        "colab": {
          "base_uri": "https://localhost:8080/"
        },
        "id": "4f56ff7d",
        "outputId": "4b3c3ea7-65a9-4d47-9fef-0c520032e14f"
      },
      "outputs": [
        {
          "name": "stdout",
          "output_type": "stream",
          "text": [
            "cuda\n"
          ]
        }
      ],
      "source": [
        "device = torch.device(\"cuda\" if torch.cuda.is_available() else \"cpu\")\n",
        "print(device)"
      ]
    },
    {
      "cell_type": "code",
      "execution_count": 52,
      "id": "EctNMYeTyXPY",
      "metadata": {
        "id": "EctNMYeTyXPY"
      },
      "outputs": [],
      "source": [
        "image_resize = 64\n",
        "transform = transforms.Compose([\n",
        "    transforms.Resize((image_resize, image_resize)), # Resize to 128 x 128 (height x width)\n",
        "    transforms.ToTensor(),\n",
        "    transforms.Normalize(mean=[0.485, 0.456, 0.406],\n",
        "                          std=[0.229, 0.224, 0.225])])"
      ]
    },
    {
      "cell_type": "code",
      "execution_count": 53,
      "id": "9903a87a",
      "metadata": {
        "colab": {
          "base_uri": "https://localhost:8080/"
        },
        "id": "9903a87a",
        "outputId": "7887cb73-ab7b-4527-aa8e-79fa3e81ba89"
      },
      "outputs": [
        {
          "name": "stdout",
          "output_type": "stream",
          "text": [
            "Files already downloaded and verified\n",
            "Files already downloaded and verified\n"
          ]
        }
      ],
      "source": [
        "# loading the train data\n",
        "batch_size = 1024\n",
        "\n",
        "train_data = datasets.CIFAR10('data', train=True, download=True, transform=transform)\n",
        "train_dataloader = DataLoader(train_data, batch_size=batch_size,shuffle=True )\n",
        "\n",
        "#loading the test data\n",
        "test_data = datasets.CIFAR10('data', train=False, download=True, transform=transform)\n",
        "test_dataloader = DataLoader(test_data, batch_size=batch_size, shuffle=False )"
      ]
    },
    {
      "attachments": {},
      "cell_type": "markdown",
      "id": "15a09947",
      "metadata": {
        "id": "15a09947"
      },
      "source": [
        "### Dense (fully connected) layer"
      ]
    },
    {
      "cell_type": "code",
      "execution_count": 54,
      "id": "d3ef2947",
      "metadata": {
        "id": "d3ef2947"
      },
      "outputs": [],
      "source": [
        "class Dense:\n",
        "  def __init__(self, n_inputs, n_neurons):\n",
        "    # He Weight Initialization\n",
        "    self.weights = torch.randn(n_inputs, n_neurons) * torch.sqrt(torch.tensor(2. / n_inputs))\n",
        "    self.biases = torch.zeros((1, n_neurons))\n",
        "    self.weights = self.weights.to(device)\n",
        "    self.biases = self.biases.to(device)\n",
        "    self.prev_wchange = torch.zeros((n_inputs, n_neurons))\n",
        "    self.prev_bchange = torch.zeros((1, n_neurons))\n",
        "    self.prev_wchange = self.prev_wchange.to(device)\n",
        "    self.prev_bchange = self.prev_bchange.to(device)\n",
        "\n",
        "  \n",
        "  def forward(self, inputs):\n",
        "    self.inputs = inputs\n",
        "    self.inputs = self.inputs.to(device)\n",
        "    return torch.matmul(self.inputs, self.weights) + self.biases\n",
        "\n",
        "  def backward(self, output_error):\n",
        "    # calculating errors\n",
        "    self.inputs_error = torch.matmul(output_error, self.weights.T)\n",
        "    self.inputs_error = self.inputs_error.to(device)\n",
        "    self.weights_grad = torch.matmul(self.inputs.T, output_error)\n",
        "    self.weights_grad = self.weights_grad.to(device)\n",
        "    self.biases_grad = torch.sum(output_error, axis=0, keepdims=True)\n",
        "    self.biases_grad =  self.biases_grad.to(device)\n",
        "    return self.inputs_error\n"
      ]
    },
    {
      "attachments": {},
      "cell_type": "markdown",
      "id": "8de1c92a",
      "metadata": {
        "id": "8de1c92a"
      },
      "source": [
        "### Activation Layers\n"
      ]
    },
    {
      "cell_type": "code",
      "execution_count": 55,
      "id": "7116c715",
      "metadata": {
        "id": "7116c715"
      },
      "outputs": [],
      "source": [
        "class ReLU:\n",
        "  def forward(self, inputs):\n",
        "    self.inputs = inputs.clone()\n",
        "    self.inputs = self.inputs.to(device)\n",
        "    return torch.maximum(torch.zeros_like(inputs), inputs)\n",
        "\n",
        "  def backward(self, output_error):\n",
        "    self.inputs_error = output_error.clone()\n",
        "    self.inputs_error = self.inputs_error.to(device)\n",
        "    self.inputs_error[self.inputs <= 0] = 0\n",
        "    return self.inputs_error"
      ]
    },
    {
      "cell_type": "code",
      "execution_count": 56,
      "id": "e4ea7b84",
      "metadata": {
        "id": "e4ea7b84"
      },
      "outputs": [],
      "source": [
        "class Softmax:\n",
        "  def forward(self, inputs):\n",
        "    self.inputs = inputs.clone()\n",
        "    self.inputs = self.inputs.to(device)\n",
        "    exp_inputs = torch.exp(self.inputs - torch.max(self.inputs, dim=1, keepdim=True).values)\n",
        "    exp_inputs = exp_inputs.to(device)\n",
        "    self.outputs = exp_inputs / torch.sum(exp_inputs, dim=1, keepdim=True)\n",
        "    self.outputs = self.outputs.to(device)\n",
        "    return self.outputs"
      ]
    },
    {
      "cell_type": "code",
      "execution_count": 57,
      "id": "1167e8a6",
      "metadata": {
        "id": "1167e8a6"
      },
      "outputs": [],
      "source": [
        "feature_extractor = resnet34(weights=\"DEFAULT\")\n",
        "num_features = feature_extractor.fc.in_features\n",
        "\n",
        "for param in feature_extractor.parameters():\n",
        "  param.requires_grad = False\n",
        "\n",
        "feature_extractor.fc = nn.Identity()\n",
        "feature_extractor = feature_extractor.to(device)"
      ]
    },
    {
      "cell_type": "code",
      "execution_count": 58,
      "id": "4d7042e5",
      "metadata": {
        "id": "4d7042e5"
      },
      "outputs": [],
      "source": [
        "def calculate_k(population_size, curr_iter):\n",
        "  return max(2, population_size * curr_iter // N_ITER)"
      ]
    },
    {
      "cell_type": "code",
      "execution_count": 59,
      "id": "677a10d9",
      "metadata": {
        "id": "677a10d9"
      },
      "outputs": [],
      "source": [
        "class Model:\n",
        "  def __init__(self):\n",
        "    self.Layer1 = Dense(num_features, 20)\n",
        "    self.Act1 = ReLU()\n",
        "    self.Layer2 = Dense(20, 10)\n",
        "    self.Act2 = Softmax()\n",
        "    self.y_predtr = torch.zeros(0, dtype=torch.long, device = device)\n",
        "    self.y_true_train = torch.zeros(0, dtype=torch.long, device = device)\n",
        "    self.y_predts = torch.zeros(0, dtype=torch.long, device = device)\n",
        "    self.y_true_test = torch.zeros(0, dtype=torch.long, device = device)\n",
        "        \n",
        "  def get_train_accuracy(self, iter):\n",
        "    train_accuracy = 0\n",
        "    for x_train, y_train in tqdm(train_dataloader, desc=f\"Training\", colour=\"blue\"):\n",
        "      # Forward pass\n",
        "      x_train, y_train = x_train.to(device), y_train.to(device)\n",
        "      x = feature_extractor(x_train)\n",
        "      x = self.Layer1.forward(x)\n",
        "      x = self.Act1.forward(x)\n",
        "      x = self.Layer2.forward(x)\n",
        "      x = self.Act2.forward(x)\n",
        "        \n",
        "      y_predict_train = torch.argmax(x, dim=1)\n",
        "      accuracy = torch.mean((y_train == y_predict_train).float())\n",
        "      train_accuracy += accuracy.item()\n",
        "      if iter == N_ITER:\n",
        "        self.y_predtr = torch.cat([self.y_predtr, y_predict_train.view(-1)])\n",
        "        self.y_true_train = torch.cat([self.y_true_train, y_train.view(-1)])\n",
        "        \n",
        "    train_accuracy /= len(train_dataloader)\n",
        "    return train_accuracy\n",
        "\n",
        "  def get_test_accuracy(self, iter):\n",
        "    test_accuracy = 0\n",
        "    with torch.no_grad():\n",
        "      for x_test, y_test in tqdm(test_dataloader, desc=f\"Testing\", colour=\"green\"):\n",
        "        # Forward pass\n",
        "        x_test, y_test = x_test.to(device), y_test.to(device)\n",
        "        x = feature_extractor(x_test)\n",
        "        x = self.Layer1.forward(x)\n",
        "        x = self.Act1.forward(x)\n",
        "        x = self.Layer2.forward(x)\n",
        "        x = self.Act2.forward(x)\n",
        "\n",
        "        # Report batch metrics\n",
        "        y_predict_test = torch.argmax(x, dim=1)\n",
        "        accuracy = torch.mean((y_test == y_predict_test).float())\n",
        "        test_accuracy += accuracy.item()\n",
        "        if iter == N_ITER:\n",
        "          self.y_predts = torch.cat([self.y_predts,y_predict_test.view(-1)])\n",
        "          self.y_true_test=torch.cat([self.y_true_test, y_test.view(-1)])\n",
        "\n",
        "    test_accuracy /= len(test_dataloader)\n",
        "    return test_accuracy"
      ]
    },
    {
      "cell_type": "code",
      "execution_count": 60,
      "id": "117e6e8d",
      "metadata": {
        "id": "117e6e8d"
      },
      "outputs": [],
      "source": [
        "class Chromosome:\n",
        "  def __init__(self, mut_prob, recomb_prob, id, calc_fitness):\n",
        "    self.model = None\n",
        "    self.id = id\n",
        "    self.current_iter = 0\n",
        "    self.mut_prob = mut_prob\n",
        "    self.recomb_prob = recomb_prob\n",
        "    self.train_fitness = 0\n",
        "    self.test_fitness = 0\n",
        "    self.calc_fitness = calc_fitness\n",
        "    self.init_chromosome()\n",
        "      \n",
        "  def init_chromosome(self):\n",
        "    self.model = Model()\n",
        "    if self.calc_fitness:\n",
        "      self.calculate_fitness()\n",
        "      \n",
        "  def mutation(self):\n",
        "    for i in range(len(self.model.Layer1.weights)):\n",
        "      prob = random.uniform(0, 1)\n",
        "      if prob <= self.mut_prob:\n",
        "        for j in range(len(self.model.Layer1.weights[i])):\n",
        "          r = random.gauss(0, 0.5)\n",
        "          new_w = self.model.Layer1.weights[i, j] + r\n",
        "          self.model.Layer1.weights[i, j] = max(min(1.5, new_w), -1.5)\n",
        "            \n",
        "    for i in range(len(self.model.Layer2.weights)):\n",
        "      prob = random.uniform(0, 1)\n",
        "      if prob <= self.mut_prob:\n",
        "        for j in range(len(self.model.Layer2.weights[i])):\n",
        "          r = random.gauss(0, 0.5)\n",
        "          new_w = self.model.Layer2.weights[i, j] + r\n",
        "          self.model.Layer2.weights[i, j] = max(min(1.5, new_w), -1.5)\n",
        "        \n",
        "    for i in range(len(self.model.Layer1.biases)):\n",
        "      prob = random.uniform(0, 1)\n",
        "      if prob <= self.mut_prob:\n",
        "        for j in range(len(self.model.Layer1.biases[i])):\n",
        "          r = random.gauss(0, 0.5)\n",
        "          new_b = self.model.Layer1.biases[i, j] + r\n",
        "          self.model.Layer1.biases[i, j] = max(min(1.5, new_b), -1.5)\n",
        "            \n",
        "    for i in range(len(self.model.Layer2.biases)):\n",
        "      prob = random.uniform(0, 1)\n",
        "      if prob <= self.mut_prob:\n",
        "        for j in range(len(self.model.Layer2.biases[i])):\n",
        "          r = random.gauss(0, 0.5)\n",
        "          new_b = self.model.Layer2.biases[i, j] + r\n",
        "          self.model.Layer2.biases[i, j] = max(min(1.5, new_b), -1.5)\n",
        "        \n",
        "    self.calculate_fitness()\n",
        "\n",
        "  def calculate_fitness(self):\n",
        "    print(f\"Chromosome: {self.id}\")\n",
        "    self.train_fitness = self.model.get_train_accuracy(self.current_iter)\n",
        "    self.test_fitness = self.model.get_test_accuracy(self.current_iter)"
      ]
    },
    {
      "cell_type": "code",
      "execution_count": 61,
      "id": "92e92fd9",
      "metadata": {
        "id": "92e92fd9"
      },
      "outputs": [],
      "source": [
        "class EvolutionaryAlgorithm:\n",
        "  def __init__(self, n_iter, mut_prob, recomb_prob, population_size):\n",
        "    self.n_iter = n_iter\n",
        "    self.mut_prob = mut_prob\n",
        "    self.recomb_prob = recomb_prob\n",
        "    self.population = []\n",
        "    self.population_size = population_size\n",
        "    self.current_iter = 0\n",
        "    self.train_fitness_avg = 0\n",
        "    self.test_fitness_avg = 0\n",
        "    self.train_acc = {'128':[]}\n",
        "    self.test_acc = {'128':[]}\n",
        "\n",
        "  # Random initialization\n",
        "  def init_population(self):\n",
        "    for id in range(self.population_size):\n",
        "      young_pop = Chromosome(self.mut_prob, self.recomb_prob, id + 1, True)\n",
        "      self.population.append(young_pop)\n",
        "\n",
        "  # Fitness Tournament selection\n",
        "  def tournament_selection(self, tour_pop, k):\n",
        "    parents = random.sample(tour_pop, k=k)\n",
        "    parents = sorted(parents, key=lambda agent: agent.train_fitness, reverse=True)\n",
        "    bestparent = parents[0]\n",
        "    \n",
        "    return bestparent\n",
        "\n",
        "  def parent_selection(self):\n",
        "    parents = []\n",
        "    for _ in range(self.population_size):\n",
        "      best_parent = self.tournament_selection(self.population, calculate_k(len(self.population), self.current_iter))\n",
        "      parents.append(best_parent)\n",
        "\n",
        "    return parents\n",
        "  \n",
        "  def crossover(self, nn1_weights, nn2_weights):\n",
        "    child_weights = torch.empty((nn1_weights.shape[0], nn1_weights.shape[1]))\n",
        "    for i in range(len(nn1_weights)):\n",
        "      split = random.randint(0, nn1_weights[i].shape[0]-1)\n",
        "      child_weights[i] = torch.cat((nn1_weights[i][:split], nn2_weights[i][split:]), 0)\n",
        "        \n",
        "    return child_weights\n",
        "\n",
        "#     # One-point crossover\n",
        "#     def recombination(self, mating_pool):\n",
        "#         youngs = []\n",
        "#         for _ in range(self.population_size // 2):\n",
        "#             parents = random.choices(mating_pool, k=2)\n",
        "#             young_1 = Chromosome(self.mut_prob, self.recomb_prob)\n",
        "#             young_2 = Chromosome(self.mut_prob, self.recomb_prob)\n",
        "#             prob = random.uniform(0, 1)\n",
        "#             if prob <= self.recomb_prob:\n",
        "#                 young_1.model.Layer1.weights = self.crossover(parents[0].model.Layer1.weights.detach().clone(), parents[1].model.Layer1.weights.detach().clone())\n",
        "#                 young_2.model.Layer1.weights = self.crossover(parents[1].model.Layer1.weights.detach().clone(), parents[0].model.Layer1.weights.detach().clone())\n",
        "#                 young_1.model.Layer2.weights = self.crossover(parents[0].model.Layer2.weights.detach().clone(), parents[1].model.Layer2.weights.detach().clone())\n",
        "#                 young_2.model.Layer2.weights = self.crossover(parents[1].model.Layer2.weights.detach().clone(), parents[0].model.Layer2.weights.detach().clone())\n",
        "#             else:\n",
        "#                 young_1.model.Layer1.weights = parents[0].model.Layer1.weights.detach().clone()\n",
        "#                 young_2.model.Layer1.weights = parents[1].model.Layer1.weights.detach().clone()\n",
        "#                 young_1.model.Layer2.weights = parents[0].model.Layer2.weights.detach().clone()\n",
        "#                 young_2.model.Layer2.weights = parents[1].model.Layer2.weights.detach().clone()\n",
        "\n",
        "#             youngs.append(young_1)\n",
        "#             youngs.append(young_2)\n",
        "          \n",
        "#         return youngs\n",
        "  \n",
        "  # Whole crossover\n",
        "  def recombination(self, mating_pool):\n",
        "    youngs = []\n",
        "    for _ in range(self.population_size):\n",
        "      parents = random.choices(mating_pool, k=2)\n",
        "      young = Chromosome(self.mut_prob, self.recomb_prob, 0, False)\n",
        "      prob = random.uniform(0, 1)\n",
        "      alpha = random.uniform(0, 1)\n",
        "      young.model.Layer1.weights = ((alpha * parents[0].model.Layer1.weights.detach().clone()) \n",
        "                                  + ((1 - alpha) * parents[1].model.Layer1.weights.detach().clone()))\n",
        "\n",
        "      young.model.Layer2.weights = ((alpha * parents[0].model.Layer2.weights.detach().clone()) \n",
        "                                  + ((1 - alpha) * parents[1].model.Layer2.weights.detach().clone()))\n",
        "\n",
        "      young.model.Layer1.biases = ((alpha * parents[0].model.Layer1.biases.detach().clone()) \n",
        "                                  + ((1 - alpha) * parents[1].model.Layer1.biases.detach().clone()))\n",
        "\n",
        "      young.model.Layer2.biases = ((alpha * parents[0].model.Layer2.biases.detach().clone()) \n",
        "                                  + ((1 - alpha) * parents[1].model.Layer2.biases.detach().clone()))\n",
        "\n",
        "      youngs.append(young)\n",
        "        \n",
        "    return youngs\n",
        "\n",
        "\n",
        "  def survival_selection(self, youngs):\n",
        "    mpl = self.population.copy() + youngs\n",
        "    mpl = sorted(mpl, key=lambda agent: agent.train_fitness, reverse=True)\n",
        "    mpl = mpl[:self.population_size].copy()\n",
        "    \n",
        "    return mpl\n",
        "\n",
        "  def mutation(self, youngs):\n",
        "    for young in youngs:\n",
        "      young.current_iter = self.current_iter + 1\n",
        "      young.mutation()\n",
        "        \n",
        "    return youngs\n",
        "      \n",
        "  def calculate_train_fitness_avg(self):\n",
        "    self.train_fitness_avg = 0\n",
        "    for pop in self.population:\n",
        "      self.train_fitness_avg += pop.train_fitness\n",
        "        \n",
        "    self.train_fitness_avg /= self.population_size\n",
        "\n",
        "  def calculate_test_fitness_avg(self):\n",
        "    self.test_fitness_avg = 0\n",
        "    for pop in self.population:\n",
        "      self.test_fitness_avg += pop.test_fitness\n",
        "        \n",
        "    self.test_fitness_avg /= self.population_size\n",
        "\n",
        "  def set_id(self, youngs):\n",
        "    for id, young in enumerate(youngs):\n",
        "      young.id  = id + 1\n",
        "\n",
        "    return youngs\n",
        "\n",
        "  def run(self):\n",
        "    print(\"------------------------------------Initialization------------------------------------\")\n",
        "    self.init_population()\n",
        "    print(\"------------------------------------Training------------------------------------\")\n",
        "    for _ in range(self.n_iter):\n",
        "      parents = self.parent_selection().copy()\n",
        "      youngs = self.recombination(parents).copy()\n",
        "      youngs = self.set_id(youngs).copy()\n",
        "      youngs = self.mutation(youngs).copy()\n",
        "      self.population = self.survival_selection(youngs).copy()\n",
        "      self.calculate_train_fitness_avg()\n",
        "      self.calculate_test_fitness_avg()\n",
        "      self.current_iter += 1\n",
        "      best_current = sorted(self.population, key=lambda agent: agent.train_fitness, reverse=True)[0]\n",
        "      print(f\"current iteration: {self.current_iter} / {self.n_iter}\",\n",
        "            f\", best train fitness: {best_current.train_fitness}, average train fitness: {self.train_fitness_avg}, average test fitness: {self.test_fitness_avg}\")\n",
        "      print(\"-------------------------------------------------------------------------------------------------\")\n",
        "      self.train_acc['128'].append(self.train_fitness_avg)\n",
        "      self.test_acc['128'].append(self.test_fitness_avg)\n",
        "\n",
        "    ans = sorted(self.population, key=lambda agent: agent.train_fitness, reverse=True)[0]\n",
        "    \n",
        "    return ans, self.train_acc, self.test_acc"
      ]
    },
    {
      "cell_type": "code",
      "execution_count": 62,
      "id": "00c44753",
      "metadata": {
        "colab": {
          "base_uri": "https://localhost:8080/",
          "height": 990
        },
        "id": "00c44753",
        "outputId": "8a1086d6-f0c2-4fae-c8a5-7e005a8c4d52"
      },
      "outputs": [
        {
          "name": "stdout",
          "output_type": "stream",
          "text": [
            "------------------------------------Initialization------------------------------------\n",
            "Chromosome: 1\n"
          ]
        },
        {
          "name": "stderr",
          "output_type": "stream",
          "text": [
            "Training: 100%|\u001b[34m██████████\u001b[0m| 49/49 [00:16<00:00,  2.90it/s]\n",
            "Testing: 100%|\u001b[32m██████████\u001b[0m| 10/10 [00:03<00:00,  3.12it/s]\n"
          ]
        },
        {
          "name": "stdout",
          "output_type": "stream",
          "text": [
            "Chromosome: 2\n"
          ]
        },
        {
          "name": "stderr",
          "output_type": "stream",
          "text": [
            "Training: 100%|\u001b[34m██████████\u001b[0m| 49/49 [00:16<00:00,  2.97it/s]\n",
            "Testing: 100%|\u001b[32m██████████\u001b[0m| 10/10 [00:03<00:00,  3.11it/s]\n"
          ]
        },
        {
          "name": "stdout",
          "output_type": "stream",
          "text": [
            "Chromosome: 3\n"
          ]
        },
        {
          "name": "stderr",
          "output_type": "stream",
          "text": [
            "Training: 100%|\u001b[34m██████████\u001b[0m| 49/49 [00:17<00:00,  2.80it/s]\n",
            "Testing: 100%|\u001b[32m██████████\u001b[0m| 10/10 [00:03<00:00,  3.03it/s]\n"
          ]
        },
        {
          "name": "stdout",
          "output_type": "stream",
          "text": [
            "Chromosome: 4\n"
          ]
        },
        {
          "name": "stderr",
          "output_type": "stream",
          "text": [
            "Training: 100%|\u001b[34m██████████\u001b[0m| 49/49 [00:16<00:00,  2.95it/s]\n",
            "Testing: 100%|\u001b[32m██████████\u001b[0m| 10/10 [00:03<00:00,  3.11it/s]\n"
          ]
        },
        {
          "name": "stdout",
          "output_type": "stream",
          "text": [
            "Chromosome: 5\n"
          ]
        },
        {
          "name": "stderr",
          "output_type": "stream",
          "text": [
            "Training: 100%|\u001b[34m██████████\u001b[0m| 49/49 [00:16<00:00,  2.93it/s]\n",
            "Testing: 100%|\u001b[32m██████████\u001b[0m| 10/10 [00:03<00:00,  3.07it/s]\n"
          ]
        },
        {
          "name": "stdout",
          "output_type": "stream",
          "text": [
            "Chromosome: 6\n"
          ]
        },
        {
          "name": "stderr",
          "output_type": "stream",
          "text": [
            "Training: 100%|\u001b[34m██████████\u001b[0m| 49/49 [00:16<00:00,  2.97it/s]\n",
            "Testing: 100%|\u001b[32m██████████\u001b[0m| 10/10 [00:03<00:00,  2.93it/s]\n"
          ]
        },
        {
          "name": "stdout",
          "output_type": "stream",
          "text": [
            "Chromosome: 7\n"
          ]
        },
        {
          "name": "stderr",
          "output_type": "stream",
          "text": [
            "Training: 100%|\u001b[34m██████████\u001b[0m| 49/49 [00:16<00:00,  2.91it/s]\n",
            "Testing: 100%|\u001b[32m██████████\u001b[0m| 10/10 [00:03<00:00,  3.04it/s]\n"
          ]
        },
        {
          "name": "stdout",
          "output_type": "stream",
          "text": [
            "Chromosome: 8\n"
          ]
        },
        {
          "name": "stderr",
          "output_type": "stream",
          "text": [
            "Training: 100%|\u001b[34m██████████\u001b[0m| 49/49 [00:16<00:00,  2.92it/s]\n",
            "Testing: 100%|\u001b[32m██████████\u001b[0m| 10/10 [00:03<00:00,  3.02it/s]\n"
          ]
        },
        {
          "name": "stdout",
          "output_type": "stream",
          "text": [
            "Chromosome: 9\n"
          ]
        },
        {
          "name": "stderr",
          "output_type": "stream",
          "text": [
            "Training: 100%|\u001b[34m██████████\u001b[0m| 49/49 [00:16<00:00,  2.93it/s]\n",
            "Testing: 100%|\u001b[32m██████████\u001b[0m| 10/10 [00:03<00:00,  3.03it/s]\n"
          ]
        },
        {
          "name": "stdout",
          "output_type": "stream",
          "text": [
            "Chromosome: 10\n"
          ]
        },
        {
          "name": "stderr",
          "output_type": "stream",
          "text": [
            "Training: 100%|\u001b[34m██████████\u001b[0m| 49/49 [00:16<00:00,  2.89it/s]\n",
            "Testing: 100%|\u001b[32m██████████\u001b[0m| 10/10 [00:03<00:00,  2.96it/s]\n"
          ]
        },
        {
          "name": "stdout",
          "output_type": "stream",
          "text": [
            "Chromosome: 11\n"
          ]
        },
        {
          "name": "stderr",
          "output_type": "stream",
          "text": [
            "Training: 100%|\u001b[34m██████████\u001b[0m| 49/49 [00:16<00:00,  2.90it/s]\n",
            "Testing: 100%|\u001b[32m██████████\u001b[0m| 10/10 [00:03<00:00,  3.09it/s]\n"
          ]
        },
        {
          "name": "stdout",
          "output_type": "stream",
          "text": [
            "Chromosome: 12\n"
          ]
        },
        {
          "name": "stderr",
          "output_type": "stream",
          "text": [
            "Training: 100%|\u001b[34m██████████\u001b[0m| 49/49 [00:16<00:00,  2.96it/s]\n",
            "Testing: 100%|\u001b[32m██████████\u001b[0m| 10/10 [00:03<00:00,  3.05it/s]\n"
          ]
        },
        {
          "name": "stdout",
          "output_type": "stream",
          "text": [
            "Chromosome: 13\n"
          ]
        },
        {
          "name": "stderr",
          "output_type": "stream",
          "text": [
            "Training: 100%|\u001b[34m██████████\u001b[0m| 49/49 [00:16<00:00,  2.93it/s]\n",
            "Testing: 100%|\u001b[32m██████████\u001b[0m| 10/10 [00:03<00:00,  2.98it/s]\n"
          ]
        },
        {
          "name": "stdout",
          "output_type": "stream",
          "text": [
            "Chromosome: 14\n"
          ]
        },
        {
          "name": "stderr",
          "output_type": "stream",
          "text": [
            "Training: 100%|\u001b[34m██████████\u001b[0m| 49/49 [00:16<00:00,  2.94it/s]\n",
            "Testing: 100%|\u001b[32m██████████\u001b[0m| 10/10 [00:03<00:00,  3.09it/s]\n"
          ]
        },
        {
          "name": "stdout",
          "output_type": "stream",
          "text": [
            "Chromosome: 15\n"
          ]
        },
        {
          "name": "stderr",
          "output_type": "stream",
          "text": [
            "Training: 100%|\u001b[34m██████████\u001b[0m| 49/49 [00:17<00:00,  2.83it/s]\n",
            "Testing: 100%|\u001b[32m██████████\u001b[0m| 10/10 [00:03<00:00,  2.88it/s]\n"
          ]
        },
        {
          "name": "stdout",
          "output_type": "stream",
          "text": [
            "Chromosome: 16\n"
          ]
        },
        {
          "name": "stderr",
          "output_type": "stream",
          "text": [
            "Training: 100%|\u001b[34m██████████\u001b[0m| 49/49 [00:16<00:00,  2.90it/s]\n",
            "Testing: 100%|\u001b[32m██████████\u001b[0m| 10/10 [00:03<00:00,  2.71it/s]\n"
          ]
        },
        {
          "name": "stdout",
          "output_type": "stream",
          "text": [
            "Chromosome: 17\n"
          ]
        },
        {
          "name": "stderr",
          "output_type": "stream",
          "text": [
            "Training: 100%|\u001b[34m██████████\u001b[0m| 49/49 [00:16<00:00,  2.96it/s]\n",
            "Testing: 100%|\u001b[32m██████████\u001b[0m| 10/10 [00:03<00:00,  3.14it/s]\n"
          ]
        },
        {
          "name": "stdout",
          "output_type": "stream",
          "text": [
            "Chromosome: 18\n"
          ]
        },
        {
          "name": "stderr",
          "output_type": "stream",
          "text": [
            "Training: 100%|\u001b[34m██████████\u001b[0m| 49/49 [00:16<00:00,  3.03it/s]\n",
            "Testing: 100%|\u001b[32m██████████\u001b[0m| 10/10 [00:03<00:00,  3.11it/s]\n"
          ]
        },
        {
          "name": "stdout",
          "output_type": "stream",
          "text": [
            "Chromosome: 19\n"
          ]
        },
        {
          "name": "stderr",
          "output_type": "stream",
          "text": [
            "Training: 100%|\u001b[34m██████████\u001b[0m| 49/49 [00:16<00:00,  3.01it/s]\n",
            "Testing: 100%|\u001b[32m██████████\u001b[0m| 10/10 [00:03<00:00,  3.13it/s]\n"
          ]
        },
        {
          "name": "stdout",
          "output_type": "stream",
          "text": [
            "Chromosome: 20\n"
          ]
        },
        {
          "name": "stderr",
          "output_type": "stream",
          "text": [
            "Training: 100%|\u001b[34m██████████\u001b[0m| 49/49 [00:16<00:00,  2.99it/s]\n",
            "Testing: 100%|\u001b[32m██████████\u001b[0m| 10/10 [00:03<00:00,  3.13it/s]\n"
          ]
        },
        {
          "name": "stdout",
          "output_type": "stream",
          "text": [
            "Chromosome: 21\n"
          ]
        },
        {
          "name": "stderr",
          "output_type": "stream",
          "text": [
            "Training: 100%|\u001b[34m██████████\u001b[0m| 49/49 [00:16<00:00,  3.01it/s]\n",
            "Testing: 100%|\u001b[32m██████████\u001b[0m| 10/10 [00:03<00:00,  3.14it/s]\n"
          ]
        },
        {
          "name": "stdout",
          "output_type": "stream",
          "text": [
            "Chromosome: 22\n"
          ]
        },
        {
          "name": "stderr",
          "output_type": "stream",
          "text": [
            "Training: 100%|\u001b[34m██████████\u001b[0m| 49/49 [00:15<00:00,  3.07it/s]\n",
            "Testing: 100%|\u001b[32m██████████\u001b[0m| 10/10 [00:03<00:00,  3.18it/s]\n"
          ]
        },
        {
          "name": "stdout",
          "output_type": "stream",
          "text": [
            "Chromosome: 23\n"
          ]
        },
        {
          "name": "stderr",
          "output_type": "stream",
          "text": [
            "Training: 100%|\u001b[34m██████████\u001b[0m| 49/49 [00:16<00:00,  2.94it/s]\n",
            "Testing: 100%|\u001b[32m██████████\u001b[0m| 10/10 [00:03<00:00,  3.12it/s]\n"
          ]
        },
        {
          "name": "stdout",
          "output_type": "stream",
          "text": [
            "Chromosome: 24\n"
          ]
        },
        {
          "name": "stderr",
          "output_type": "stream",
          "text": [
            "Training: 100%|\u001b[34m██████████\u001b[0m| 49/49 [00:16<00:00,  2.99it/s]\n",
            "Testing: 100%|\u001b[32m██████████\u001b[0m| 10/10 [00:03<00:00,  3.07it/s]\n"
          ]
        },
        {
          "name": "stdout",
          "output_type": "stream",
          "text": [
            "Chromosome: 25\n"
          ]
        },
        {
          "name": "stderr",
          "output_type": "stream",
          "text": [
            "Training: 100%|\u001b[34m██████████\u001b[0m| 49/49 [00:16<00:00,  2.96it/s]\n",
            "Testing: 100%|\u001b[32m██████████\u001b[0m| 10/10 [00:03<00:00,  3.00it/s]\n"
          ]
        },
        {
          "name": "stdout",
          "output_type": "stream",
          "text": [
            "Chromosome: 26\n"
          ]
        },
        {
          "name": "stderr",
          "output_type": "stream",
          "text": [
            "Training: 100%|\u001b[34m██████████\u001b[0m| 49/49 [00:16<00:00,  2.89it/s]\n",
            "Testing: 100%|\u001b[32m██████████\u001b[0m| 10/10 [00:03<00:00,  2.80it/s]\n"
          ]
        },
        {
          "name": "stdout",
          "output_type": "stream",
          "text": [
            "Chromosome: 27\n"
          ]
        },
        {
          "name": "stderr",
          "output_type": "stream",
          "text": [
            "Training: 100%|\u001b[34m██████████\u001b[0m| 49/49 [00:16<00:00,  3.03it/s]\n",
            "Testing: 100%|\u001b[32m██████████\u001b[0m| 10/10 [00:03<00:00,  3.17it/s]\n"
          ]
        },
        {
          "name": "stdout",
          "output_type": "stream",
          "text": [
            "Chromosome: 28\n"
          ]
        },
        {
          "name": "stderr",
          "output_type": "stream",
          "text": [
            "Training: 100%|\u001b[34m██████████\u001b[0m| 49/49 [00:16<00:00,  3.05it/s]\n",
            "Testing: 100%|\u001b[32m██████████\u001b[0m| 10/10 [00:03<00:00,  3.11it/s]\n"
          ]
        },
        {
          "name": "stdout",
          "output_type": "stream",
          "text": [
            "Chromosome: 29\n"
          ]
        },
        {
          "name": "stderr",
          "output_type": "stream",
          "text": [
            "Training: 100%|\u001b[34m██████████\u001b[0m| 49/49 [00:16<00:00,  3.02it/s]\n",
            "Testing: 100%|\u001b[32m██████████\u001b[0m| 10/10 [00:03<00:00,  3.12it/s]\n"
          ]
        },
        {
          "name": "stdout",
          "output_type": "stream",
          "text": [
            "Chromosome: 30\n"
          ]
        },
        {
          "name": "stderr",
          "output_type": "stream",
          "text": [
            "Training: 100%|\u001b[34m██████████\u001b[0m| 49/49 [00:17<00:00,  2.77it/s]\n",
            "Testing: 100%|\u001b[32m██████████\u001b[0m| 10/10 [00:03<00:00,  3.05it/s]\n"
          ]
        },
        {
          "name": "stdout",
          "output_type": "stream",
          "text": [
            "Chromosome: 31\n"
          ]
        },
        {
          "name": "stderr",
          "output_type": "stream",
          "text": [
            "Training: 100%|\u001b[34m██████████\u001b[0m| 49/49 [00:16<00:00,  2.93it/s]\n",
            "Testing: 100%|\u001b[32m██████████\u001b[0m| 10/10 [00:03<00:00,  3.05it/s]\n"
          ]
        },
        {
          "name": "stdout",
          "output_type": "stream",
          "text": [
            "Chromosome: 32\n"
          ]
        },
        {
          "name": "stderr",
          "output_type": "stream",
          "text": [
            "Training: 100%|\u001b[34m██████████\u001b[0m| 49/49 [00:17<00:00,  2.79it/s]\n",
            "Testing: 100%|\u001b[32m██████████\u001b[0m| 10/10 [00:03<00:00,  2.85it/s]\n"
          ]
        },
        {
          "name": "stdout",
          "output_type": "stream",
          "text": [
            "Chromosome: 33\n"
          ]
        },
        {
          "name": "stderr",
          "output_type": "stream",
          "text": [
            "Training: 100%|\u001b[34m██████████\u001b[0m| 49/49 [00:17<00:00,  2.83it/s]\n",
            "Testing: 100%|\u001b[32m██████████\u001b[0m| 10/10 [00:03<00:00,  3.07it/s]\n"
          ]
        },
        {
          "name": "stdout",
          "output_type": "stream",
          "text": [
            "Chromosome: 34\n"
          ]
        },
        {
          "name": "stderr",
          "output_type": "stream",
          "text": [
            "Training: 100%|\u001b[34m██████████\u001b[0m| 49/49 [00:16<00:00,  2.96it/s]\n",
            "Testing: 100%|\u001b[32m██████████\u001b[0m| 10/10 [00:03<00:00,  2.99it/s]\n"
          ]
        },
        {
          "name": "stdout",
          "output_type": "stream",
          "text": [
            "Chromosome: 35\n"
          ]
        },
        {
          "name": "stderr",
          "output_type": "stream",
          "text": [
            "Training: 100%|\u001b[34m██████████\u001b[0m| 49/49 [00:16<00:00,  2.95it/s]\n",
            "Testing: 100%|\u001b[32m██████████\u001b[0m| 10/10 [00:03<00:00,  3.06it/s]\n"
          ]
        },
        {
          "name": "stdout",
          "output_type": "stream",
          "text": [
            "Chromosome: 36\n"
          ]
        },
        {
          "name": "stderr",
          "output_type": "stream",
          "text": [
            "Training: 100%|\u001b[34m██████████\u001b[0m| 49/49 [00:16<00:00,  2.89it/s]\n",
            "Testing: 100%|\u001b[32m██████████\u001b[0m| 10/10 [00:03<00:00,  2.61it/s]\n"
          ]
        },
        {
          "name": "stdout",
          "output_type": "stream",
          "text": [
            "Chromosome: 37\n"
          ]
        },
        {
          "name": "stderr",
          "output_type": "stream",
          "text": [
            "Training: 100%|\u001b[34m██████████\u001b[0m| 49/49 [00:18<00:00,  2.66it/s]\n",
            "Testing: 100%|\u001b[32m██████████\u001b[0m| 10/10 [00:03<00:00,  3.14it/s]\n"
          ]
        },
        {
          "name": "stdout",
          "output_type": "stream",
          "text": [
            "Chromosome: 38\n"
          ]
        },
        {
          "name": "stderr",
          "output_type": "stream",
          "text": [
            "Training: 100%|\u001b[34m██████████\u001b[0m| 49/49 [00:16<00:00,  3.01it/s]\n",
            "Testing: 100%|\u001b[32m██████████\u001b[0m| 10/10 [00:03<00:00,  3.17it/s]\n"
          ]
        },
        {
          "name": "stdout",
          "output_type": "stream",
          "text": [
            "Chromosome: 39\n"
          ]
        },
        {
          "name": "stderr",
          "output_type": "stream",
          "text": [
            "Training: 100%|\u001b[34m██████████\u001b[0m| 49/49 [00:17<00:00,  2.81it/s]\n",
            "Testing: 100%|\u001b[32m██████████\u001b[0m| 10/10 [00:03<00:00,  2.90it/s]\n"
          ]
        },
        {
          "name": "stdout",
          "output_type": "stream",
          "text": [
            "Chromosome: 40\n"
          ]
        },
        {
          "name": "stderr",
          "output_type": "stream",
          "text": [
            "Training: 100%|\u001b[34m██████████\u001b[0m| 49/49 [00:17<00:00,  2.85it/s]\n",
            "Testing: 100%|\u001b[32m██████████\u001b[0m| 10/10 [00:03<00:00,  3.07it/s]\n"
          ]
        },
        {
          "name": "stdout",
          "output_type": "stream",
          "text": [
            "Chromosome: 41\n"
          ]
        },
        {
          "name": "stderr",
          "output_type": "stream",
          "text": [
            "Training: 100%|\u001b[34m██████████\u001b[0m| 49/49 [00:18<00:00,  2.59it/s]\n",
            "Testing: 100%|\u001b[32m██████████\u001b[0m| 10/10 [00:03<00:00,  2.83it/s]\n"
          ]
        },
        {
          "name": "stdout",
          "output_type": "stream",
          "text": [
            "Chromosome: 42\n"
          ]
        },
        {
          "name": "stderr",
          "output_type": "stream",
          "text": [
            "Training: 100%|\u001b[34m██████████\u001b[0m| 49/49 [00:16<00:00,  2.95it/s]\n",
            "Testing: 100%|\u001b[32m██████████\u001b[0m| 10/10 [00:03<00:00,  3.06it/s]\n"
          ]
        },
        {
          "name": "stdout",
          "output_type": "stream",
          "text": [
            "Chromosome: 43\n"
          ]
        },
        {
          "name": "stderr",
          "output_type": "stream",
          "text": [
            "Training: 100%|\u001b[34m██████████\u001b[0m| 49/49 [00:16<00:00,  3.04it/s]\n",
            "Testing: 100%|\u001b[32m██████████\u001b[0m| 10/10 [00:03<00:00,  3.09it/s]\n"
          ]
        },
        {
          "name": "stdout",
          "output_type": "stream",
          "text": [
            "Chromosome: 44\n"
          ]
        },
        {
          "name": "stderr",
          "output_type": "stream",
          "text": [
            "Training: 100%|\u001b[34m██████████\u001b[0m| 49/49 [00:16<00:00,  2.97it/s]\n",
            "Testing: 100%|\u001b[32m██████████\u001b[0m| 10/10 [00:03<00:00,  2.96it/s]\n"
          ]
        },
        {
          "name": "stdout",
          "output_type": "stream",
          "text": [
            "Chromosome: 45\n"
          ]
        },
        {
          "name": "stderr",
          "output_type": "stream",
          "text": [
            "Training: 100%|\u001b[34m██████████\u001b[0m| 49/49 [00:16<00:00,  2.99it/s]\n",
            "Testing: 100%|\u001b[32m██████████\u001b[0m| 10/10 [00:03<00:00,  3.13it/s]\n"
          ]
        },
        {
          "name": "stdout",
          "output_type": "stream",
          "text": [
            "Chromosome: 46\n"
          ]
        },
        {
          "name": "stderr",
          "output_type": "stream",
          "text": [
            "Training: 100%|\u001b[34m██████████\u001b[0m| 49/49 [00:16<00:00,  2.93it/s]\n",
            "Testing: 100%|\u001b[32m██████████\u001b[0m| 10/10 [00:03<00:00,  2.95it/s]\n"
          ]
        },
        {
          "name": "stdout",
          "output_type": "stream",
          "text": [
            "Chromosome: 47\n"
          ]
        },
        {
          "name": "stderr",
          "output_type": "stream",
          "text": [
            "Training: 100%|\u001b[34m██████████\u001b[0m| 49/49 [00:17<00:00,  2.79it/s]\n",
            "Testing: 100%|\u001b[32m██████████\u001b[0m| 10/10 [00:03<00:00,  2.84it/s]\n"
          ]
        },
        {
          "name": "stdout",
          "output_type": "stream",
          "text": [
            "Chromosome: 48\n"
          ]
        },
        {
          "name": "stderr",
          "output_type": "stream",
          "text": [
            "Training: 100%|\u001b[34m██████████\u001b[0m| 49/49 [00:17<00:00,  2.83it/s]\n",
            "Testing: 100%|\u001b[32m██████████\u001b[0m| 10/10 [00:03<00:00,  3.13it/s]\n"
          ]
        },
        {
          "name": "stdout",
          "output_type": "stream",
          "text": [
            "Chromosome: 49\n"
          ]
        },
        {
          "name": "stderr",
          "output_type": "stream",
          "text": [
            "Training: 100%|\u001b[34m██████████\u001b[0m| 49/49 [00:16<00:00,  3.00it/s]\n",
            "Testing: 100%|\u001b[32m██████████\u001b[0m| 10/10 [00:03<00:00,  3.13it/s]\n"
          ]
        },
        {
          "name": "stdout",
          "output_type": "stream",
          "text": [
            "Chromosome: 50\n"
          ]
        },
        {
          "name": "stderr",
          "output_type": "stream",
          "text": [
            "Training: 100%|\u001b[34m██████████\u001b[0m| 49/49 [00:15<00:00,  3.08it/s]\n",
            "Testing: 100%|\u001b[32m██████████\u001b[0m| 10/10 [00:03<00:00,  3.12it/s]\n"
          ]
        },
        {
          "name": "stdout",
          "output_type": "stream",
          "text": [
            "------------------------------------Training------------------------------------\n",
            "Chromosome: 1\n"
          ]
        },
        {
          "name": "stderr",
          "output_type": "stream",
          "text": [
            "Training: 100%|\u001b[34m██████████\u001b[0m| 49/49 [00:16<00:00,  2.99it/s]\n",
            "Testing: 100%|\u001b[32m██████████\u001b[0m| 10/10 [00:03<00:00,  3.10it/s]\n"
          ]
        },
        {
          "name": "stdout",
          "output_type": "stream",
          "text": [
            "Chromosome: 2\n"
          ]
        },
        {
          "name": "stderr",
          "output_type": "stream",
          "text": [
            "Training: 100%|\u001b[34m██████████\u001b[0m| 49/49 [00:16<00:00,  3.04it/s]\n",
            "Testing: 100%|\u001b[32m██████████\u001b[0m| 10/10 [00:03<00:00,  3.08it/s]\n"
          ]
        },
        {
          "name": "stdout",
          "output_type": "stream",
          "text": [
            "Chromosome: 3\n"
          ]
        },
        {
          "name": "stderr",
          "output_type": "stream",
          "text": [
            "Training: 100%|\u001b[34m██████████\u001b[0m| 49/49 [00:16<00:00,  3.03it/s]\n",
            "Testing: 100%|\u001b[32m██████████\u001b[0m| 10/10 [00:03<00:00,  3.06it/s]\n"
          ]
        },
        {
          "name": "stdout",
          "output_type": "stream",
          "text": [
            "Chromosome: 4\n"
          ]
        },
        {
          "name": "stderr",
          "output_type": "stream",
          "text": [
            "Training: 100%|\u001b[34m██████████\u001b[0m| 49/49 [00:16<00:00,  3.06it/s]\n",
            "Testing: 100%|\u001b[32m██████████\u001b[0m| 10/10 [00:03<00:00,  3.19it/s]\n"
          ]
        },
        {
          "name": "stdout",
          "output_type": "stream",
          "text": [
            "Chromosome: 5\n"
          ]
        },
        {
          "name": "stderr",
          "output_type": "stream",
          "text": [
            "Training: 100%|\u001b[34m██████████\u001b[0m| 49/49 [00:16<00:00,  3.06it/s]\n",
            "Testing: 100%|\u001b[32m██████████\u001b[0m| 10/10 [00:03<00:00,  3.07it/s]\n"
          ]
        },
        {
          "name": "stdout",
          "output_type": "stream",
          "text": [
            "Chromosome: 6\n"
          ]
        },
        {
          "name": "stderr",
          "output_type": "stream",
          "text": [
            "Training: 100%|\u001b[34m██████████\u001b[0m| 49/49 [00:16<00:00,  3.03it/s]\n",
            "Testing: 100%|\u001b[32m██████████\u001b[0m| 10/10 [00:03<00:00,  3.11it/s]\n"
          ]
        },
        {
          "name": "stdout",
          "output_type": "stream",
          "text": [
            "Chromosome: 7\n"
          ]
        },
        {
          "name": "stderr",
          "output_type": "stream",
          "text": [
            "Training: 100%|\u001b[34m██████████\u001b[0m| 49/49 [00:16<00:00,  2.94it/s]\n",
            "Testing: 100%|\u001b[32m██████████\u001b[0m| 10/10 [00:03<00:00,  2.98it/s]\n"
          ]
        },
        {
          "name": "stdout",
          "output_type": "stream",
          "text": [
            "Chromosome: 8\n"
          ]
        },
        {
          "name": "stderr",
          "output_type": "stream",
          "text": [
            "Training: 100%|\u001b[34m██████████\u001b[0m| 49/49 [00:16<00:00,  2.99it/s]\n",
            "Testing: 100%|\u001b[32m██████████\u001b[0m| 10/10 [00:03<00:00,  3.07it/s]\n"
          ]
        },
        {
          "name": "stdout",
          "output_type": "stream",
          "text": [
            "Chromosome: 9\n"
          ]
        },
        {
          "name": "stderr",
          "output_type": "stream",
          "text": [
            "Training: 100%|\u001b[34m██████████\u001b[0m| 49/49 [00:16<00:00,  3.03it/s]\n",
            "Testing: 100%|\u001b[32m██████████\u001b[0m| 10/10 [00:03<00:00,  3.12it/s]\n"
          ]
        },
        {
          "name": "stdout",
          "output_type": "stream",
          "text": [
            "Chromosome: 10\n"
          ]
        },
        {
          "name": "stderr",
          "output_type": "stream",
          "text": [
            "Training: 100%|\u001b[34m██████████\u001b[0m| 49/49 [00:17<00:00,  2.78it/s]\n",
            "Testing: 100%|\u001b[32m██████████\u001b[0m| 10/10 [00:03<00:00,  3.08it/s]\n"
          ]
        },
        {
          "name": "stdout",
          "output_type": "stream",
          "text": [
            "Chromosome: 11\n"
          ]
        },
        {
          "name": "stderr",
          "output_type": "stream",
          "text": [
            "Training: 100%|\u001b[34m██████████\u001b[0m| 49/49 [00:16<00:00,  2.89it/s]\n",
            "Testing: 100%|\u001b[32m██████████\u001b[0m| 10/10 [00:03<00:00,  2.89it/s]\n"
          ]
        },
        {
          "name": "stdout",
          "output_type": "stream",
          "text": [
            "Chromosome: 12\n"
          ]
        },
        {
          "name": "stderr",
          "output_type": "stream",
          "text": [
            "Training: 100%|\u001b[34m██████████\u001b[0m| 49/49 [00:17<00:00,  2.83it/s]\n",
            "Testing: 100%|\u001b[32m██████████\u001b[0m| 10/10 [00:03<00:00,  3.12it/s]\n"
          ]
        },
        {
          "name": "stdout",
          "output_type": "stream",
          "text": [
            "Chromosome: 13\n"
          ]
        },
        {
          "name": "stderr",
          "output_type": "stream",
          "text": [
            "Training: 100%|\u001b[34m██████████\u001b[0m| 49/49 [00:16<00:00,  2.95it/s]\n",
            "Testing: 100%|\u001b[32m██████████\u001b[0m| 10/10 [00:03<00:00,  3.06it/s]\n"
          ]
        },
        {
          "name": "stdout",
          "output_type": "stream",
          "text": [
            "Chromosome: 14\n"
          ]
        },
        {
          "name": "stderr",
          "output_type": "stream",
          "text": [
            "Training: 100%|\u001b[34m██████████\u001b[0m| 49/49 [00:16<00:00,  3.03it/s]\n",
            "Testing: 100%|\u001b[32m██████████\u001b[0m| 10/10 [00:03<00:00,  3.12it/s]\n"
          ]
        },
        {
          "name": "stdout",
          "output_type": "stream",
          "text": [
            "Chromosome: 15\n"
          ]
        },
        {
          "name": "stderr",
          "output_type": "stream",
          "text": [
            "Training: 100%|\u001b[34m██████████\u001b[0m| 49/49 [00:16<00:00,  3.00it/s]\n",
            "Testing: 100%|\u001b[32m██████████\u001b[0m| 10/10 [00:03<00:00,  3.13it/s]\n"
          ]
        },
        {
          "name": "stdout",
          "output_type": "stream",
          "text": [
            "Chromosome: 16\n"
          ]
        },
        {
          "name": "stderr",
          "output_type": "stream",
          "text": [
            "Training: 100%|\u001b[34m██████████\u001b[0m| 49/49 [00:17<00:00,  2.80it/s]\n",
            "Testing: 100%|\u001b[32m██████████\u001b[0m| 10/10 [00:03<00:00,  2.94it/s]\n"
          ]
        },
        {
          "name": "stdout",
          "output_type": "stream",
          "text": [
            "Chromosome: 17\n"
          ]
        },
        {
          "name": "stderr",
          "output_type": "stream",
          "text": [
            "Training: 100%|\u001b[34m██████████\u001b[0m| 49/49 [00:16<00:00,  2.98it/s]\n",
            "Testing: 100%|\u001b[32m██████████\u001b[0m| 10/10 [00:03<00:00,  3.02it/s]\n"
          ]
        },
        {
          "name": "stdout",
          "output_type": "stream",
          "text": [
            "Chromosome: 18\n"
          ]
        },
        {
          "name": "stderr",
          "output_type": "stream",
          "text": [
            "Training: 100%|\u001b[34m██████████\u001b[0m| 49/49 [00:16<00:00,  2.97it/s]\n",
            "Testing: 100%|\u001b[32m██████████\u001b[0m| 10/10 [00:03<00:00,  3.13it/s]\n"
          ]
        },
        {
          "name": "stdout",
          "output_type": "stream",
          "text": [
            "Chromosome: 19\n"
          ]
        },
        {
          "name": "stderr",
          "output_type": "stream",
          "text": [
            "Training: 100%|\u001b[34m██████████\u001b[0m| 49/49 [00:16<00:00,  3.01it/s]\n",
            "Testing: 100%|\u001b[32m██████████\u001b[0m| 10/10 [00:03<00:00,  3.16it/s]\n"
          ]
        },
        {
          "name": "stdout",
          "output_type": "stream",
          "text": [
            "Chromosome: 20\n"
          ]
        },
        {
          "name": "stderr",
          "output_type": "stream",
          "text": [
            "Training: 100%|\u001b[34m██████████\u001b[0m| 49/49 [00:16<00:00,  2.98it/s]\n",
            "Testing: 100%|\u001b[32m██████████\u001b[0m| 10/10 [00:03<00:00,  2.86it/s]\n"
          ]
        },
        {
          "name": "stdout",
          "output_type": "stream",
          "text": [
            "Chromosome: 21\n"
          ]
        },
        {
          "name": "stderr",
          "output_type": "stream",
          "text": [
            "Training: 100%|\u001b[34m██████████\u001b[0m| 49/49 [00:16<00:00,  3.02it/s]\n",
            "Testing: 100%|\u001b[32m██████████\u001b[0m| 10/10 [00:03<00:00,  3.14it/s]\n"
          ]
        },
        {
          "name": "stdout",
          "output_type": "stream",
          "text": [
            "Chromosome: 22\n"
          ]
        },
        {
          "name": "stderr",
          "output_type": "stream",
          "text": [
            "Training: 100%|\u001b[34m██████████\u001b[0m| 49/49 [00:17<00:00,  2.87it/s]\n",
            "Testing: 100%|\u001b[32m██████████\u001b[0m| 10/10 [00:03<00:00,  3.04it/s]\n"
          ]
        },
        {
          "name": "stdout",
          "output_type": "stream",
          "text": [
            "Chromosome: 23\n"
          ]
        },
        {
          "name": "stderr",
          "output_type": "stream",
          "text": [
            "Training: 100%|\u001b[34m██████████\u001b[0m| 49/49 [00:17<00:00,  2.87it/s]\n",
            "Testing: 100%|\u001b[32m██████████\u001b[0m| 10/10 [00:03<00:00,  2.93it/s]\n"
          ]
        },
        {
          "name": "stdout",
          "output_type": "stream",
          "text": [
            "Chromosome: 24\n"
          ]
        },
        {
          "name": "stderr",
          "output_type": "stream",
          "text": [
            "Training: 100%|\u001b[34m██████████\u001b[0m| 49/49 [00:16<00:00,  2.94it/s]\n",
            "Testing: 100%|\u001b[32m██████████\u001b[0m| 10/10 [00:03<00:00,  2.94it/s]\n"
          ]
        },
        {
          "name": "stdout",
          "output_type": "stream",
          "text": [
            "Chromosome: 25\n"
          ]
        },
        {
          "name": "stderr",
          "output_type": "stream",
          "text": [
            "Training: 100%|\u001b[34m██████████\u001b[0m| 49/49 [00:15<00:00,  3.09it/s]\n",
            "Testing: 100%|\u001b[32m██████████\u001b[0m| 10/10 [00:03<00:00,  3.21it/s]\n"
          ]
        },
        {
          "name": "stdout",
          "output_type": "stream",
          "text": [
            "Chromosome: 26\n"
          ]
        },
        {
          "name": "stderr",
          "output_type": "stream",
          "text": [
            "Training: 100%|\u001b[34m██████████\u001b[0m| 49/49 [00:17<00:00,  2.85it/s]\n",
            "Testing: 100%|\u001b[32m██████████\u001b[0m| 10/10 [00:03<00:00,  3.00it/s]\n"
          ]
        },
        {
          "name": "stdout",
          "output_type": "stream",
          "text": [
            "Chromosome: 27\n"
          ]
        },
        {
          "name": "stderr",
          "output_type": "stream",
          "text": [
            "Training: 100%|\u001b[34m██████████\u001b[0m| 49/49 [00:17<00:00,  2.84it/s]\n",
            "Testing: 100%|\u001b[32m██████████\u001b[0m| 10/10 [00:04<00:00,  2.38it/s]\n"
          ]
        },
        {
          "name": "stdout",
          "output_type": "stream",
          "text": [
            "Chromosome: 28\n"
          ]
        },
        {
          "name": "stderr",
          "output_type": "stream",
          "text": [
            "Training: 100%|\u001b[34m██████████\u001b[0m| 49/49 [00:18<00:00,  2.67it/s]\n",
            "Testing: 100%|\u001b[32m██████████\u001b[0m| 10/10 [00:03<00:00,  2.69it/s]\n"
          ]
        },
        {
          "name": "stdout",
          "output_type": "stream",
          "text": [
            "Chromosome: 29\n"
          ]
        },
        {
          "name": "stderr",
          "output_type": "stream",
          "text": [
            "Training: 100%|\u001b[34m██████████\u001b[0m| 49/49 [00:17<00:00,  2.85it/s]\n",
            "Testing: 100%|\u001b[32m██████████\u001b[0m| 10/10 [00:03<00:00,  3.02it/s]\n"
          ]
        },
        {
          "name": "stdout",
          "output_type": "stream",
          "text": [
            "Chromosome: 30\n"
          ]
        },
        {
          "name": "stderr",
          "output_type": "stream",
          "text": [
            "Training: 100%|\u001b[34m██████████\u001b[0m| 49/49 [00:17<00:00,  2.84it/s]\n",
            "Testing: 100%|\u001b[32m██████████\u001b[0m| 10/10 [00:03<00:00,  2.93it/s]\n"
          ]
        },
        {
          "name": "stdout",
          "output_type": "stream",
          "text": [
            "Chromosome: 31\n"
          ]
        },
        {
          "name": "stderr",
          "output_type": "stream",
          "text": [
            "Training: 100%|\u001b[34m██████████\u001b[0m| 49/49 [00:17<00:00,  2.83it/s]\n",
            "Testing: 100%|\u001b[32m██████████\u001b[0m| 10/10 [00:03<00:00,  2.97it/s]\n"
          ]
        },
        {
          "name": "stdout",
          "output_type": "stream",
          "text": [
            "Chromosome: 32\n"
          ]
        },
        {
          "name": "stderr",
          "output_type": "stream",
          "text": [
            "Training: 100%|\u001b[34m██████████\u001b[0m| 49/49 [00:16<00:00,  2.90it/s]\n",
            "Testing: 100%|\u001b[32m██████████\u001b[0m| 10/10 [00:05<00:00,  1.99it/s]\n"
          ]
        },
        {
          "name": "stdout",
          "output_type": "stream",
          "text": [
            "Chromosome: 33\n"
          ]
        },
        {
          "name": "stderr",
          "output_type": "stream",
          "text": [
            "Training: 100%|\u001b[34m██████████\u001b[0m| 49/49 [00:21<00:00,  2.28it/s]\n",
            "Testing: 100%|\u001b[32m██████████\u001b[0m| 10/10 [00:03<00:00,  2.71it/s]\n"
          ]
        },
        {
          "name": "stdout",
          "output_type": "stream",
          "text": [
            "Chromosome: 34\n"
          ]
        },
        {
          "name": "stderr",
          "output_type": "stream",
          "text": [
            "Training: 100%|\u001b[34m██████████\u001b[0m| 49/49 [00:18<00:00,  2.64it/s]\n",
            "Testing: 100%|\u001b[32m██████████\u001b[0m| 10/10 [00:03<00:00,  2.66it/s]\n"
          ]
        },
        {
          "name": "stdout",
          "output_type": "stream",
          "text": [
            "Chromosome: 35\n"
          ]
        },
        {
          "name": "stderr",
          "output_type": "stream",
          "text": [
            "Training: 100%|\u001b[34m██████████\u001b[0m| 49/49 [00:17<00:00,  2.73it/s]\n",
            "Testing: 100%|\u001b[32m██████████\u001b[0m| 10/10 [00:03<00:00,  2.63it/s]\n"
          ]
        },
        {
          "name": "stdout",
          "output_type": "stream",
          "text": [
            "Chromosome: 36\n"
          ]
        },
        {
          "name": "stderr",
          "output_type": "stream",
          "text": [
            "Training: 100%|\u001b[34m██████████\u001b[0m| 49/49 [00:17<00:00,  2.83it/s]\n",
            "Testing: 100%|\u001b[32m██████████\u001b[0m| 10/10 [00:03<00:00,  2.73it/s]\n"
          ]
        },
        {
          "name": "stdout",
          "output_type": "stream",
          "text": [
            "Chromosome: 37\n"
          ]
        },
        {
          "name": "stderr",
          "output_type": "stream",
          "text": [
            "Training: 100%|\u001b[34m██████████\u001b[0m| 49/49 [00:16<00:00,  2.94it/s]\n",
            "Testing: 100%|\u001b[32m██████████\u001b[0m| 10/10 [00:03<00:00,  2.91it/s]\n"
          ]
        },
        {
          "name": "stdout",
          "output_type": "stream",
          "text": [
            "Chromosome: 38\n"
          ]
        },
        {
          "name": "stderr",
          "output_type": "stream",
          "text": [
            "Training: 100%|\u001b[34m██████████\u001b[0m| 49/49 [00:17<00:00,  2.87it/s]\n",
            "Testing: 100%|\u001b[32m██████████\u001b[0m| 10/10 [00:03<00:00,  2.93it/s]\n"
          ]
        },
        {
          "name": "stdout",
          "output_type": "stream",
          "text": [
            "Chromosome: 39\n"
          ]
        },
        {
          "name": "stderr",
          "output_type": "stream",
          "text": [
            "Training: 100%|\u001b[34m██████████\u001b[0m| 49/49 [00:16<00:00,  2.94it/s]\n",
            "Testing: 100%|\u001b[32m██████████\u001b[0m| 10/10 [00:03<00:00,  2.90it/s]\n"
          ]
        },
        {
          "name": "stdout",
          "output_type": "stream",
          "text": [
            "Chromosome: 40\n"
          ]
        },
        {
          "name": "stderr",
          "output_type": "stream",
          "text": [
            "Training: 100%|\u001b[34m██████████\u001b[0m| 49/49 [00:16<00:00,  2.96it/s]\n",
            "Testing: 100%|\u001b[32m██████████\u001b[0m| 10/10 [00:03<00:00,  2.89it/s]\n"
          ]
        },
        {
          "name": "stdout",
          "output_type": "stream",
          "text": [
            "Chromosome: 41\n"
          ]
        },
        {
          "name": "stderr",
          "output_type": "stream",
          "text": [
            "Training: 100%|\u001b[34m██████████\u001b[0m| 49/49 [00:16<00:00,  2.91it/s]\n",
            "Testing: 100%|\u001b[32m██████████\u001b[0m| 10/10 [00:03<00:00,  2.87it/s]\n"
          ]
        },
        {
          "name": "stdout",
          "output_type": "stream",
          "text": [
            "Chromosome: 42\n"
          ]
        },
        {
          "name": "stderr",
          "output_type": "stream",
          "text": [
            "Training: 100%|\u001b[34m██████████\u001b[0m| 49/49 [00:16<00:00,  2.98it/s]\n",
            "Testing: 100%|\u001b[32m██████████\u001b[0m| 10/10 [00:03<00:00,  2.91it/s]\n"
          ]
        },
        {
          "name": "stdout",
          "output_type": "stream",
          "text": [
            "Chromosome: 43\n"
          ]
        },
        {
          "name": "stderr",
          "output_type": "stream",
          "text": [
            "Training: 100%|\u001b[34m██████████\u001b[0m| 49/49 [00:16<00:00,  2.95it/s]\n",
            "Testing: 100%|\u001b[32m██████████\u001b[0m| 10/10 [00:03<00:00,  3.11it/s]\n"
          ]
        },
        {
          "name": "stdout",
          "output_type": "stream",
          "text": [
            "Chromosome: 44\n"
          ]
        },
        {
          "name": "stderr",
          "output_type": "stream",
          "text": [
            "Training: 100%|\u001b[34m██████████\u001b[0m| 49/49 [00:17<00:00,  2.86it/s]\n",
            "Testing: 100%|\u001b[32m██████████\u001b[0m| 10/10 [00:03<00:00,  2.88it/s]\n"
          ]
        },
        {
          "name": "stdout",
          "output_type": "stream",
          "text": [
            "Chromosome: 45\n"
          ]
        },
        {
          "name": "stderr",
          "output_type": "stream",
          "text": [
            "Training: 100%|\u001b[34m██████████\u001b[0m| 49/49 [00:16<00:00,  2.93it/s]\n",
            "Testing: 100%|\u001b[32m██████████\u001b[0m| 10/10 [00:03<00:00,  3.04it/s]\n"
          ]
        },
        {
          "name": "stdout",
          "output_type": "stream",
          "text": [
            "Chromosome: 46\n"
          ]
        },
        {
          "name": "stderr",
          "output_type": "stream",
          "text": [
            "Training: 100%|\u001b[34m██████████\u001b[0m| 49/49 [00:18<00:00,  2.59it/s]\n",
            "Testing: 100%|\u001b[32m██████████\u001b[0m| 10/10 [00:03<00:00,  3.12it/s]\n"
          ]
        },
        {
          "name": "stdout",
          "output_type": "stream",
          "text": [
            "Chromosome: 47\n"
          ]
        },
        {
          "name": "stderr",
          "output_type": "stream",
          "text": [
            "Training: 100%|\u001b[34m██████████\u001b[0m| 49/49 [00:16<00:00,  3.06it/s]\n",
            "Testing: 100%|\u001b[32m██████████\u001b[0m| 10/10 [00:03<00:00,  3.05it/s]\n"
          ]
        },
        {
          "name": "stdout",
          "output_type": "stream",
          "text": [
            "Chromosome: 48\n"
          ]
        },
        {
          "name": "stderr",
          "output_type": "stream",
          "text": [
            "Training: 100%|\u001b[34m██████████\u001b[0m| 49/49 [00:15<00:00,  3.07it/s]\n",
            "Testing: 100%|\u001b[32m██████████\u001b[0m| 10/10 [00:03<00:00,  3.15it/s]\n"
          ]
        },
        {
          "name": "stdout",
          "output_type": "stream",
          "text": [
            "Chromosome: 49\n"
          ]
        },
        {
          "name": "stderr",
          "output_type": "stream",
          "text": [
            "Training: 100%|\u001b[34m██████████\u001b[0m| 49/49 [00:16<00:00,  3.06it/s]\n",
            "Testing: 100%|\u001b[32m██████████\u001b[0m| 10/10 [00:03<00:00,  3.09it/s]\n"
          ]
        },
        {
          "name": "stdout",
          "output_type": "stream",
          "text": [
            "Chromosome: 50\n"
          ]
        },
        {
          "name": "stderr",
          "output_type": "stream",
          "text": [
            "Training: 100%|\u001b[34m██████████\u001b[0m| 49/49 [00:16<00:00,  3.05it/s]\n",
            "Testing: 100%|\u001b[32m██████████\u001b[0m| 10/10 [00:03<00:00,  3.09it/s]\n"
          ]
        },
        {
          "name": "stdout",
          "output_type": "stream",
          "text": [
            "current iteration: 1 / 20 , best train fitness: 0.12920858209230462, average train fitness: 0.11005474319567485, average test fitness: 0.11014333522319796\n",
            "-------------------------------------------------------------------------------------------------\n",
            "Chromosome: 1\n"
          ]
        },
        {
          "name": "stderr",
          "output_type": "stream",
          "text": [
            "Training: 100%|\u001b[34m██████████\u001b[0m| 49/49 [00:16<00:00,  3.05it/s]\n",
            "Testing: 100%|\u001b[32m██████████\u001b[0m| 10/10 [00:03<00:00,  2.86it/s]\n"
          ]
        },
        {
          "name": "stdout",
          "output_type": "stream",
          "text": [
            "Chromosome: 2\n"
          ]
        },
        {
          "name": "stderr",
          "output_type": "stream",
          "text": [
            "Training: 100%|\u001b[34m██████████\u001b[0m| 49/49 [00:16<00:00,  2.90it/s]\n",
            "Testing: 100%|\u001b[32m██████████\u001b[0m| 10/10 [00:03<00:00,  2.92it/s]\n"
          ]
        },
        {
          "name": "stdout",
          "output_type": "stream",
          "text": [
            "Chromosome: 3\n"
          ]
        },
        {
          "name": "stderr",
          "output_type": "stream",
          "text": [
            "Training: 100%|\u001b[34m██████████\u001b[0m| 49/49 [00:16<00:00,  2.93it/s]\n",
            "Testing: 100%|\u001b[32m██████████\u001b[0m| 10/10 [00:03<00:00,  3.00it/s]\n"
          ]
        },
        {
          "name": "stdout",
          "output_type": "stream",
          "text": [
            "Chromosome: 4\n"
          ]
        },
        {
          "name": "stderr",
          "output_type": "stream",
          "text": [
            "Training: 100%|\u001b[34m██████████\u001b[0m| 49/49 [00:16<00:00,  3.01it/s]\n",
            "Testing: 100%|\u001b[32m██████████\u001b[0m| 10/10 [00:03<00:00,  3.04it/s]\n"
          ]
        },
        {
          "name": "stdout",
          "output_type": "stream",
          "text": [
            "Chromosome: 5\n"
          ]
        },
        {
          "name": "stderr",
          "output_type": "stream",
          "text": [
            "Training: 100%|\u001b[34m██████████\u001b[0m| 49/49 [00:16<00:00,  2.99it/s]\n",
            "Testing: 100%|\u001b[32m██████████\u001b[0m| 10/10 [00:03<00:00,  3.05it/s]\n"
          ]
        },
        {
          "name": "stdout",
          "output_type": "stream",
          "text": [
            "Chromosome: 6\n"
          ]
        },
        {
          "name": "stderr",
          "output_type": "stream",
          "text": [
            "Training: 100%|\u001b[34m██████████\u001b[0m| 49/49 [00:16<00:00,  3.00it/s]\n",
            "Testing: 100%|\u001b[32m██████████\u001b[0m| 10/10 [00:03<00:00,  3.03it/s]\n"
          ]
        },
        {
          "name": "stdout",
          "output_type": "stream",
          "text": [
            "Chromosome: 7\n"
          ]
        },
        {
          "name": "stderr",
          "output_type": "stream",
          "text": [
            "Training: 100%|\u001b[34m██████████\u001b[0m| 49/49 [00:17<00:00,  2.88it/s]\n",
            "Testing: 100%|\u001b[32m██████████\u001b[0m| 10/10 [00:03<00:00,  2.92it/s]\n"
          ]
        },
        {
          "name": "stdout",
          "output_type": "stream",
          "text": [
            "Chromosome: 8\n"
          ]
        },
        {
          "name": "stderr",
          "output_type": "stream",
          "text": [
            "Training: 100%|\u001b[34m██████████\u001b[0m| 49/49 [00:17<00:00,  2.82it/s]\n",
            "Testing: 100%|\u001b[32m██████████\u001b[0m| 10/10 [00:03<00:00,  3.11it/s]\n"
          ]
        },
        {
          "name": "stdout",
          "output_type": "stream",
          "text": [
            "Chromosome: 9\n"
          ]
        },
        {
          "name": "stderr",
          "output_type": "stream",
          "text": [
            "Training: 100%|\u001b[34m██████████\u001b[0m| 49/49 [00:16<00:00,  2.96it/s]\n",
            "Testing: 100%|\u001b[32m██████████\u001b[0m| 10/10 [00:03<00:00,  3.00it/s]\n"
          ]
        },
        {
          "name": "stdout",
          "output_type": "stream",
          "text": [
            "Chromosome: 10\n"
          ]
        },
        {
          "name": "stderr",
          "output_type": "stream",
          "text": [
            "Training: 100%|\u001b[34m██████████\u001b[0m| 49/49 [00:16<00:00,  2.94it/s]\n",
            "Testing: 100%|\u001b[32m██████████\u001b[0m| 10/10 [00:03<00:00,  3.07it/s]\n"
          ]
        },
        {
          "name": "stdout",
          "output_type": "stream",
          "text": [
            "Chromosome: 11\n"
          ]
        },
        {
          "name": "stderr",
          "output_type": "stream",
          "text": [
            "Training: 100%|\u001b[34m██████████\u001b[0m| 49/49 [00:16<00:00,  2.89it/s]\n",
            "Testing: 100%|\u001b[32m██████████\u001b[0m| 10/10 [00:03<00:00,  3.03it/s]\n"
          ]
        },
        {
          "name": "stdout",
          "output_type": "stream",
          "text": [
            "Chromosome: 12\n"
          ]
        },
        {
          "name": "stderr",
          "output_type": "stream",
          "text": [
            "Training: 100%|\u001b[34m██████████\u001b[0m| 49/49 [00:17<00:00,  2.87it/s]\n",
            "Testing: 100%|\u001b[32m██████████\u001b[0m| 10/10 [00:03<00:00,  3.10it/s]\n"
          ]
        },
        {
          "name": "stdout",
          "output_type": "stream",
          "text": [
            "Chromosome: 13\n"
          ]
        },
        {
          "name": "stderr",
          "output_type": "stream",
          "text": [
            "Training: 100%|\u001b[34m██████████\u001b[0m| 49/49 [00:16<00:00,  3.03it/s]\n",
            "Testing: 100%|\u001b[32m██████████\u001b[0m| 10/10 [00:03<00:00,  2.80it/s]\n"
          ]
        },
        {
          "name": "stdout",
          "output_type": "stream",
          "text": [
            "Chromosome: 14\n"
          ]
        },
        {
          "name": "stderr",
          "output_type": "stream",
          "text": [
            "Training: 100%|\u001b[34m██████████\u001b[0m| 49/49 [00:16<00:00,  3.03it/s]\n",
            "Testing: 100%|\u001b[32m██████████\u001b[0m| 10/10 [00:03<00:00,  3.09it/s]\n"
          ]
        },
        {
          "name": "stdout",
          "output_type": "stream",
          "text": [
            "Chromosome: 15\n"
          ]
        },
        {
          "name": "stderr",
          "output_type": "stream",
          "text": [
            "Training: 100%|\u001b[34m██████████\u001b[0m| 49/49 [00:19<00:00,  2.47it/s]\n",
            "Testing: 100%|\u001b[32m██████████\u001b[0m| 10/10 [00:03<00:00,  3.12it/s]\n"
          ]
        },
        {
          "name": "stdout",
          "output_type": "stream",
          "text": [
            "Chromosome: 16\n"
          ]
        },
        {
          "name": "stderr",
          "output_type": "stream",
          "text": [
            "Training: 100%|\u001b[34m██████████\u001b[0m| 49/49 [00:16<00:00,  3.02it/s]\n",
            "Testing: 100%|\u001b[32m██████████\u001b[0m| 10/10 [00:03<00:00,  3.03it/s]\n"
          ]
        },
        {
          "name": "stdout",
          "output_type": "stream",
          "text": [
            "Chromosome: 17\n"
          ]
        },
        {
          "name": "stderr",
          "output_type": "stream",
          "text": [
            "Training: 100%|\u001b[34m██████████\u001b[0m| 49/49 [00:16<00:00,  3.01it/s]\n",
            "Testing: 100%|\u001b[32m██████████\u001b[0m| 10/10 [00:03<00:00,  3.06it/s]\n"
          ]
        },
        {
          "name": "stdout",
          "output_type": "stream",
          "text": [
            "Chromosome: 18\n"
          ]
        },
        {
          "name": "stderr",
          "output_type": "stream",
          "text": [
            "Training: 100%|\u001b[34m██████████\u001b[0m| 49/49 [00:16<00:00,  3.03it/s]\n",
            "Testing: 100%|\u001b[32m██████████\u001b[0m| 10/10 [00:03<00:00,  3.12it/s]\n"
          ]
        },
        {
          "name": "stdout",
          "output_type": "stream",
          "text": [
            "Chromosome: 19\n"
          ]
        },
        {
          "name": "stderr",
          "output_type": "stream",
          "text": [
            "Training: 100%|\u001b[34m██████████\u001b[0m| 49/49 [00:16<00:00,  3.03it/s]\n",
            "Testing: 100%|\u001b[32m██████████\u001b[0m| 10/10 [00:03<00:00,  3.06it/s]\n"
          ]
        },
        {
          "name": "stdout",
          "output_type": "stream",
          "text": [
            "Chromosome: 20\n"
          ]
        },
        {
          "name": "stderr",
          "output_type": "stream",
          "text": [
            "Training: 100%|\u001b[34m██████████\u001b[0m| 49/49 [00:16<00:00,  3.05it/s]\n",
            "Testing: 100%|\u001b[32m██████████\u001b[0m| 10/10 [00:03<00:00,  3.10it/s]\n"
          ]
        },
        {
          "name": "stdout",
          "output_type": "stream",
          "text": [
            "Chromosome: 21\n"
          ]
        },
        {
          "name": "stderr",
          "output_type": "stream",
          "text": [
            "Training: 100%|\u001b[34m██████████\u001b[0m| 49/49 [00:16<00:00,  3.04it/s]\n",
            "Testing: 100%|\u001b[32m██████████\u001b[0m| 10/10 [00:03<00:00,  2.99it/s]\n"
          ]
        },
        {
          "name": "stdout",
          "output_type": "stream",
          "text": [
            "Chromosome: 22\n"
          ]
        },
        {
          "name": "stderr",
          "output_type": "stream",
          "text": [
            "Training: 100%|\u001b[34m██████████\u001b[0m| 49/49 [00:16<00:00,  3.04it/s]\n",
            "Testing: 100%|\u001b[32m██████████\u001b[0m| 10/10 [00:03<00:00,  3.06it/s]\n"
          ]
        },
        {
          "name": "stdout",
          "output_type": "stream",
          "text": [
            "Chromosome: 23\n"
          ]
        },
        {
          "name": "stderr",
          "output_type": "stream",
          "text": [
            "Training: 100%|\u001b[34m██████████\u001b[0m| 49/49 [00:16<00:00,  3.05it/s]\n",
            "Testing: 100%|\u001b[32m██████████\u001b[0m| 10/10 [00:03<00:00,  3.09it/s]\n"
          ]
        },
        {
          "name": "stdout",
          "output_type": "stream",
          "text": [
            "Chromosome: 24\n"
          ]
        },
        {
          "name": "stderr",
          "output_type": "stream",
          "text": [
            "Training: 100%|\u001b[34m██████████\u001b[0m| 49/49 [00:16<00:00,  2.89it/s]\n",
            "Testing: 100%|\u001b[32m██████████\u001b[0m| 10/10 [00:03<00:00,  3.07it/s]\n"
          ]
        },
        {
          "name": "stdout",
          "output_type": "stream",
          "text": [
            "Chromosome: 25\n"
          ]
        },
        {
          "name": "stderr",
          "output_type": "stream",
          "text": [
            "Training: 100%|\u001b[34m██████████\u001b[0m| 49/49 [00:17<00:00,  2.84it/s]\n",
            "Testing: 100%|\u001b[32m██████████\u001b[0m| 10/10 [00:03<00:00,  2.69it/s]\n"
          ]
        },
        {
          "name": "stdout",
          "output_type": "stream",
          "text": [
            "Chromosome: 26\n"
          ]
        },
        {
          "name": "stderr",
          "output_type": "stream",
          "text": [
            "Training: 100%|\u001b[34m██████████\u001b[0m| 49/49 [00:17<00:00,  2.74it/s]\n",
            "Testing: 100%|\u001b[32m██████████\u001b[0m| 10/10 [00:03<00:00,  2.82it/s]\n"
          ]
        },
        {
          "name": "stdout",
          "output_type": "stream",
          "text": [
            "Chromosome: 27\n"
          ]
        },
        {
          "name": "stderr",
          "output_type": "stream",
          "text": [
            "Training: 100%|\u001b[34m██████████\u001b[0m| 49/49 [00:17<00:00,  2.81it/s]\n",
            "Testing: 100%|\u001b[32m██████████\u001b[0m| 10/10 [00:03<00:00,  2.91it/s]\n"
          ]
        },
        {
          "name": "stdout",
          "output_type": "stream",
          "text": [
            "Chromosome: 28\n"
          ]
        },
        {
          "name": "stderr",
          "output_type": "stream",
          "text": [
            "Training: 100%|\u001b[34m██████████\u001b[0m| 49/49 [00:17<00:00,  2.84it/s]\n",
            "Testing: 100%|\u001b[32m██████████\u001b[0m| 10/10 [00:03<00:00,  2.93it/s]\n"
          ]
        },
        {
          "name": "stdout",
          "output_type": "stream",
          "text": [
            "Chromosome: 29\n"
          ]
        },
        {
          "name": "stderr",
          "output_type": "stream",
          "text": [
            "Training: 100%|\u001b[34m██████████\u001b[0m| 49/49 [00:18<00:00,  2.70it/s]\n",
            "Testing: 100%|\u001b[32m██████████\u001b[0m| 10/10 [00:04<00:00,  2.14it/s]\n"
          ]
        },
        {
          "name": "stdout",
          "output_type": "stream",
          "text": [
            "Chromosome: 30\n"
          ]
        },
        {
          "name": "stderr",
          "output_type": "stream",
          "text": [
            "Training: 100%|\u001b[34m██████████\u001b[0m| 49/49 [00:16<00:00,  2.96it/s]\n",
            "Testing: 100%|\u001b[32m██████████\u001b[0m| 10/10 [00:03<00:00,  3.13it/s]\n"
          ]
        },
        {
          "name": "stdout",
          "output_type": "stream",
          "text": [
            "Chromosome: 31\n"
          ]
        },
        {
          "name": "stderr",
          "output_type": "stream",
          "text": [
            "Training: 100%|\u001b[34m██████████\u001b[0m| 49/49 [00:16<00:00,  3.04it/s]\n",
            "Testing: 100%|\u001b[32m██████████\u001b[0m| 10/10 [00:03<00:00,  3.12it/s]\n"
          ]
        },
        {
          "name": "stdout",
          "output_type": "stream",
          "text": [
            "Chromosome: 32\n"
          ]
        },
        {
          "name": "stderr",
          "output_type": "stream",
          "text": [
            "Training: 100%|\u001b[34m██████████\u001b[0m| 49/49 [00:16<00:00,  3.06it/s]\n",
            "Testing: 100%|\u001b[32m██████████\u001b[0m| 10/10 [00:03<00:00,  2.96it/s]\n"
          ]
        },
        {
          "name": "stdout",
          "output_type": "stream",
          "text": [
            "Chromosome: 33\n"
          ]
        },
        {
          "name": "stderr",
          "output_type": "stream",
          "text": [
            "Training: 100%|\u001b[34m██████████\u001b[0m| 49/49 [00:16<00:00,  2.93it/s]\n",
            "Testing: 100%|\u001b[32m██████████\u001b[0m| 10/10 [00:03<00:00,  3.14it/s]\n"
          ]
        },
        {
          "name": "stdout",
          "output_type": "stream",
          "text": [
            "Chromosome: 34\n"
          ]
        },
        {
          "name": "stderr",
          "output_type": "stream",
          "text": [
            "Training: 100%|\u001b[34m██████████\u001b[0m| 49/49 [00:15<00:00,  3.07it/s]\n",
            "Testing: 100%|\u001b[32m██████████\u001b[0m| 10/10 [00:03<00:00,  3.14it/s]\n"
          ]
        },
        {
          "name": "stdout",
          "output_type": "stream",
          "text": [
            "Chromosome: 35\n"
          ]
        },
        {
          "name": "stderr",
          "output_type": "stream",
          "text": [
            "Training: 100%|\u001b[34m██████████\u001b[0m| 49/49 [00:16<00:00,  3.05it/s]\n",
            "Testing: 100%|\u001b[32m██████████\u001b[0m| 10/10 [00:03<00:00,  3.14it/s]\n"
          ]
        },
        {
          "name": "stdout",
          "output_type": "stream",
          "text": [
            "Chromosome: 36\n"
          ]
        },
        {
          "name": "stderr",
          "output_type": "stream",
          "text": [
            "Training: 100%|\u001b[34m██████████\u001b[0m| 49/49 [00:15<00:00,  3.06it/s]\n",
            "Testing: 100%|\u001b[32m██████████\u001b[0m| 10/10 [00:03<00:00,  3.00it/s]\n"
          ]
        },
        {
          "name": "stdout",
          "output_type": "stream",
          "text": [
            "Chromosome: 37\n"
          ]
        },
        {
          "name": "stderr",
          "output_type": "stream",
          "text": [
            "Training: 100%|\u001b[34m██████████\u001b[0m| 49/49 [00:15<00:00,  3.07it/s]\n",
            "Testing: 100%|\u001b[32m██████████\u001b[0m| 10/10 [00:03<00:00,  3.13it/s]\n"
          ]
        },
        {
          "name": "stdout",
          "output_type": "stream",
          "text": [
            "Chromosome: 38\n"
          ]
        },
        {
          "name": "stderr",
          "output_type": "stream",
          "text": [
            "Training: 100%|\u001b[34m██████████\u001b[0m| 49/49 [00:15<00:00,  3.07it/s]\n",
            "Testing: 100%|\u001b[32m██████████\u001b[0m| 10/10 [00:03<00:00,  3.14it/s]\n"
          ]
        },
        {
          "name": "stdout",
          "output_type": "stream",
          "text": [
            "Chromosome: 39\n"
          ]
        },
        {
          "name": "stderr",
          "output_type": "stream",
          "text": [
            "Training: 100%|\u001b[34m██████████\u001b[0m| 49/49 [00:15<00:00,  3.07it/s]\n",
            "Testing: 100%|\u001b[32m██████████\u001b[0m| 10/10 [00:03<00:00,  3.12it/s]\n"
          ]
        },
        {
          "name": "stdout",
          "output_type": "stream",
          "text": [
            "Chromosome: 40\n"
          ]
        },
        {
          "name": "stderr",
          "output_type": "stream",
          "text": [
            "Training: 100%|\u001b[34m██████████\u001b[0m| 49/49 [00:16<00:00,  3.06it/s]\n",
            "Testing: 100%|\u001b[32m██████████\u001b[0m| 10/10 [00:03<00:00,  3.11it/s]\n"
          ]
        },
        {
          "name": "stdout",
          "output_type": "stream",
          "text": [
            "Chromosome: 41\n"
          ]
        },
        {
          "name": "stderr",
          "output_type": "stream",
          "text": [
            "Training: 100%|\u001b[34m██████████\u001b[0m| 49/49 [00:16<00:00,  3.06it/s]\n",
            "Testing: 100%|\u001b[32m██████████\u001b[0m| 10/10 [00:03<00:00,  3.13it/s]\n"
          ]
        },
        {
          "name": "stdout",
          "output_type": "stream",
          "text": [
            "Chromosome: 42\n"
          ]
        },
        {
          "name": "stderr",
          "output_type": "stream",
          "text": [
            "Training: 100%|\u001b[34m██████████\u001b[0m| 49/49 [00:16<00:00,  3.01it/s]\n",
            "Testing: 100%|\u001b[32m██████████\u001b[0m| 10/10 [00:03<00:00,  3.13it/s]\n"
          ]
        },
        {
          "name": "stdout",
          "output_type": "stream",
          "text": [
            "Chromosome: 43\n"
          ]
        },
        {
          "name": "stderr",
          "output_type": "stream",
          "text": [
            "Training: 100%|\u001b[34m██████████\u001b[0m| 49/49 [00:15<00:00,  3.07it/s]\n",
            "Testing: 100%|\u001b[32m██████████\u001b[0m| 10/10 [00:03<00:00,  3.14it/s]\n"
          ]
        },
        {
          "name": "stdout",
          "output_type": "stream",
          "text": [
            "Chromosome: 44\n"
          ]
        },
        {
          "name": "stderr",
          "output_type": "stream",
          "text": [
            "Training: 100%|\u001b[34m██████████\u001b[0m| 49/49 [00:17<00:00,  2.78it/s]\n",
            "Testing: 100%|\u001b[32m██████████\u001b[0m| 10/10 [00:03<00:00,  2.85it/s]\n"
          ]
        },
        {
          "name": "stdout",
          "output_type": "stream",
          "text": [
            "Chromosome: 45\n"
          ]
        },
        {
          "name": "stderr",
          "output_type": "stream",
          "text": [
            "Training: 100%|\u001b[34m██████████\u001b[0m| 49/49 [00:17<00:00,  2.74it/s]\n",
            "Testing: 100%|\u001b[32m██████████\u001b[0m| 10/10 [00:03<00:00,  2.73it/s]\n"
          ]
        },
        {
          "name": "stdout",
          "output_type": "stream",
          "text": [
            "Chromosome: 46\n"
          ]
        },
        {
          "name": "stderr",
          "output_type": "stream",
          "text": [
            "Training: 100%|\u001b[34m██████████\u001b[0m| 49/49 [00:17<00:00,  2.79it/s]\n",
            "Testing: 100%|\u001b[32m██████████\u001b[0m| 10/10 [00:03<00:00,  3.04it/s]\n"
          ]
        },
        {
          "name": "stdout",
          "output_type": "stream",
          "text": [
            "Chromosome: 47\n"
          ]
        },
        {
          "name": "stderr",
          "output_type": "stream",
          "text": [
            "Training: 100%|\u001b[34m██████████\u001b[0m| 49/49 [00:16<00:00,  2.89it/s]\n",
            "Testing: 100%|\u001b[32m██████████\u001b[0m| 10/10 [00:03<00:00,  2.82it/s]\n"
          ]
        },
        {
          "name": "stdout",
          "output_type": "stream",
          "text": [
            "Chromosome: 48\n"
          ]
        },
        {
          "name": "stderr",
          "output_type": "stream",
          "text": [
            "Training: 100%|\u001b[34m██████████\u001b[0m| 49/49 [00:17<00:00,  2.76it/s]\n",
            "Testing: 100%|\u001b[32m██████████\u001b[0m| 10/10 [00:03<00:00,  2.90it/s]\n"
          ]
        },
        {
          "name": "stdout",
          "output_type": "stream",
          "text": [
            "Chromosome: 49\n"
          ]
        },
        {
          "name": "stderr",
          "output_type": "stream",
          "text": [
            "Training: 100%|\u001b[34m██████████\u001b[0m| 49/49 [00:17<00:00,  2.76it/s]\n",
            "Testing: 100%|\u001b[32m██████████\u001b[0m| 10/10 [00:03<00:00,  2.88it/s]\n"
          ]
        },
        {
          "name": "stdout",
          "output_type": "stream",
          "text": [
            "Chromosome: 50\n"
          ]
        },
        {
          "name": "stderr",
          "output_type": "stream",
          "text": [
            "Training: 100%|\u001b[34m██████████\u001b[0m| 49/49 [00:17<00:00,  2.79it/s]\n",
            "Testing: 100%|\u001b[32m██████████\u001b[0m| 10/10 [00:03<00:00,  2.91it/s]\n"
          ]
        },
        {
          "name": "stdout",
          "output_type": "stream",
          "text": [
            "current iteration: 2 / 20 , best train fitness: 0.12920858209230462, average train fitness: 0.11454232803716952, average test fitness: 0.11531544932723044\n",
            "-------------------------------------------------------------------------------------------------\n",
            "Chromosome: 1\n"
          ]
        },
        {
          "name": "stderr",
          "output_type": "stream",
          "text": [
            "Training: 100%|\u001b[34m██████████\u001b[0m| 49/49 [00:17<00:00,  2.83it/s]\n",
            "Testing: 100%|\u001b[32m██████████\u001b[0m| 10/10 [00:03<00:00,  2.99it/s]\n"
          ]
        },
        {
          "name": "stdout",
          "output_type": "stream",
          "text": [
            "Chromosome: 2\n"
          ]
        },
        {
          "name": "stderr",
          "output_type": "stream",
          "text": [
            "Training: 100%|\u001b[34m██████████\u001b[0m| 49/49 [00:17<00:00,  2.86it/s]\n",
            "Testing: 100%|\u001b[32m██████████\u001b[0m| 10/10 [00:03<00:00,  2.98it/s]\n"
          ]
        },
        {
          "name": "stdout",
          "output_type": "stream",
          "text": [
            "Chromosome: 3\n"
          ]
        },
        {
          "name": "stderr",
          "output_type": "stream",
          "text": [
            "Training: 100%|\u001b[34m██████████\u001b[0m| 49/49 [00:16<00:00,  2.97it/s]\n",
            "Testing: 100%|\u001b[32m██████████\u001b[0m| 10/10 [00:03<00:00,  3.06it/s]\n"
          ]
        },
        {
          "name": "stdout",
          "output_type": "stream",
          "text": [
            "Chromosome: 4\n"
          ]
        },
        {
          "name": "stderr",
          "output_type": "stream",
          "text": [
            "Training: 100%|\u001b[34m██████████\u001b[0m| 49/49 [00:16<00:00,  2.99it/s]\n",
            "Testing: 100%|\u001b[32m██████████\u001b[0m| 10/10 [00:03<00:00,  2.87it/s]\n"
          ]
        },
        {
          "name": "stdout",
          "output_type": "stream",
          "text": [
            "Chromosome: 5\n"
          ]
        },
        {
          "name": "stderr",
          "output_type": "stream",
          "text": [
            "Training: 100%|\u001b[34m██████████\u001b[0m| 49/49 [00:16<00:00,  2.98it/s]\n",
            "Testing: 100%|\u001b[32m██████████\u001b[0m| 10/10 [00:03<00:00,  2.96it/s]\n"
          ]
        },
        {
          "name": "stdout",
          "output_type": "stream",
          "text": [
            "Chromosome: 6\n"
          ]
        },
        {
          "name": "stderr",
          "output_type": "stream",
          "text": [
            "Training: 100%|\u001b[34m██████████\u001b[0m| 49/49 [00:16<00:00,  2.93it/s]\n",
            "Testing: 100%|\u001b[32m██████████\u001b[0m| 10/10 [00:03<00:00,  2.99it/s]\n"
          ]
        },
        {
          "name": "stdout",
          "output_type": "stream",
          "text": [
            "Chromosome: 7\n"
          ]
        },
        {
          "name": "stderr",
          "output_type": "stream",
          "text": [
            "Training: 100%|\u001b[34m██████████\u001b[0m| 49/49 [00:16<00:00,  2.96it/s]\n",
            "Testing: 100%|\u001b[32m██████████\u001b[0m| 10/10 [00:03<00:00,  3.02it/s]\n"
          ]
        },
        {
          "name": "stdout",
          "output_type": "stream",
          "text": [
            "Chromosome: 8\n"
          ]
        },
        {
          "name": "stderr",
          "output_type": "stream",
          "text": [
            "Training: 100%|\u001b[34m██████████\u001b[0m| 49/49 [00:16<00:00,  2.98it/s]\n",
            "Testing: 100%|\u001b[32m██████████\u001b[0m| 10/10 [00:03<00:00,  3.04it/s]\n"
          ]
        },
        {
          "name": "stdout",
          "output_type": "stream",
          "text": [
            "Chromosome: 9\n"
          ]
        },
        {
          "name": "stderr",
          "output_type": "stream",
          "text": [
            "Training: 100%|\u001b[34m██████████\u001b[0m| 49/49 [00:16<00:00,  2.99it/s]\n",
            "Testing: 100%|\u001b[32m██████████\u001b[0m| 10/10 [00:03<00:00,  3.04it/s]\n"
          ]
        },
        {
          "name": "stdout",
          "output_type": "stream",
          "text": [
            "Chromosome: 10\n"
          ]
        },
        {
          "name": "stderr",
          "output_type": "stream",
          "text": [
            "Training: 100%|\u001b[34m██████████\u001b[0m| 49/49 [00:16<00:00,  2.98it/s]\n",
            "Testing: 100%|\u001b[32m██████████\u001b[0m| 10/10 [00:03<00:00,  3.05it/s]\n"
          ]
        },
        {
          "name": "stdout",
          "output_type": "stream",
          "text": [
            "Chromosome: 11\n"
          ]
        },
        {
          "name": "stderr",
          "output_type": "stream",
          "text": [
            "Training: 100%|\u001b[34m██████████\u001b[0m| 49/49 [00:16<00:00,  2.91it/s]\n",
            "Testing: 100%|\u001b[32m██████████\u001b[0m| 10/10 [00:03<00:00,  3.01it/s]\n"
          ]
        },
        {
          "name": "stdout",
          "output_type": "stream",
          "text": [
            "Chromosome: 12\n"
          ]
        },
        {
          "name": "stderr",
          "output_type": "stream",
          "text": [
            "Training: 100%|\u001b[34m██████████\u001b[0m| 49/49 [00:16<00:00,  2.99it/s]\n",
            "Testing: 100%|\u001b[32m██████████\u001b[0m| 10/10 [00:03<00:00,  3.00it/s]\n"
          ]
        },
        {
          "name": "stdout",
          "output_type": "stream",
          "text": [
            "Chromosome: 13\n"
          ]
        },
        {
          "name": "stderr",
          "output_type": "stream",
          "text": [
            "Training: 100%|\u001b[34m██████████\u001b[0m| 49/49 [00:16<00:00,  2.90it/s]\n",
            "Testing: 100%|\u001b[32m██████████\u001b[0m| 10/10 [00:03<00:00,  3.04it/s]\n"
          ]
        },
        {
          "name": "stdout",
          "output_type": "stream",
          "text": [
            "Chromosome: 14\n"
          ]
        },
        {
          "name": "stderr",
          "output_type": "stream",
          "text": [
            "Training: 100%|\u001b[34m██████████\u001b[0m| 49/49 [00:16<00:00,  2.98it/s]\n",
            "Testing: 100%|\u001b[32m██████████\u001b[0m| 10/10 [00:03<00:00,  3.04it/s]\n"
          ]
        },
        {
          "name": "stdout",
          "output_type": "stream",
          "text": [
            "Chromosome: 15\n"
          ]
        },
        {
          "name": "stderr",
          "output_type": "stream",
          "text": [
            "Training: 100%|\u001b[34m██████████\u001b[0m| 49/49 [00:16<00:00,  2.99it/s]\n",
            "Testing: 100%|\u001b[32m██████████\u001b[0m| 10/10 [00:03<00:00,  2.91it/s]\n"
          ]
        },
        {
          "name": "stdout",
          "output_type": "stream",
          "text": [
            "Chromosome: 16\n"
          ]
        },
        {
          "name": "stderr",
          "output_type": "stream",
          "text": [
            "Training: 100%|\u001b[34m██████████\u001b[0m| 49/49 [00:16<00:00,  2.95it/s]\n",
            "Testing: 100%|\u001b[32m██████████\u001b[0m| 10/10 [00:03<00:00,  2.56it/s]\n"
          ]
        },
        {
          "name": "stdout",
          "output_type": "stream",
          "text": [
            "Chromosome: 17\n"
          ]
        },
        {
          "name": "stderr",
          "output_type": "stream",
          "text": [
            "Training: 100%|\u001b[34m██████████\u001b[0m| 49/49 [00:16<00:00,  2.94it/s]\n",
            "Testing: 100%|\u001b[32m██████████\u001b[0m| 10/10 [00:03<00:00,  3.06it/s]\n"
          ]
        },
        {
          "name": "stdout",
          "output_type": "stream",
          "text": [
            "Chromosome: 18\n"
          ]
        },
        {
          "name": "stderr",
          "output_type": "stream",
          "text": [
            "Training: 100%|\u001b[34m██████████\u001b[0m| 49/49 [00:16<00:00,  3.00it/s]\n",
            "Testing: 100%|\u001b[32m██████████\u001b[0m| 10/10 [00:03<00:00,  2.98it/s]\n"
          ]
        },
        {
          "name": "stdout",
          "output_type": "stream",
          "text": [
            "Chromosome: 19\n"
          ]
        },
        {
          "name": "stderr",
          "output_type": "stream",
          "text": [
            "Training: 100%|\u001b[34m██████████\u001b[0m| 49/49 [00:16<00:00,  2.99it/s]\n",
            "Testing: 100%|\u001b[32m██████████\u001b[0m| 10/10 [00:03<00:00,  3.01it/s]\n"
          ]
        },
        {
          "name": "stdout",
          "output_type": "stream",
          "text": [
            "Chromosome: 20\n"
          ]
        },
        {
          "name": "stderr",
          "output_type": "stream",
          "text": [
            "Training: 100%|\u001b[34m██████████\u001b[0m| 49/49 [00:16<00:00,  2.97it/s]\n",
            "Testing: 100%|\u001b[32m██████████\u001b[0m| 10/10 [00:03<00:00,  2.92it/s]\n"
          ]
        },
        {
          "name": "stdout",
          "output_type": "stream",
          "text": [
            "Chromosome: 21\n"
          ]
        },
        {
          "name": "stderr",
          "output_type": "stream",
          "text": [
            "Training: 100%|\u001b[34m██████████\u001b[0m| 49/49 [00:16<00:00,  3.00it/s]\n",
            "Testing: 100%|\u001b[32m██████████\u001b[0m| 10/10 [00:03<00:00,  3.00it/s]\n"
          ]
        },
        {
          "name": "stdout",
          "output_type": "stream",
          "text": [
            "Chromosome: 22\n"
          ]
        },
        {
          "name": "stderr",
          "output_type": "stream",
          "text": [
            "Training: 100%|\u001b[34m██████████\u001b[0m| 49/49 [00:16<00:00,  2.97it/s]\n",
            "Testing: 100%|\u001b[32m██████████\u001b[0m| 10/10 [00:03<00:00,  3.01it/s]\n"
          ]
        },
        {
          "name": "stdout",
          "output_type": "stream",
          "text": [
            "Chromosome: 23\n"
          ]
        },
        {
          "name": "stderr",
          "output_type": "stream",
          "text": [
            "Training: 100%|\u001b[34m██████████\u001b[0m| 49/49 [00:16<00:00,  2.97it/s]\n",
            "Testing: 100%|\u001b[32m██████████\u001b[0m| 10/10 [00:03<00:00,  3.05it/s]\n"
          ]
        },
        {
          "name": "stdout",
          "output_type": "stream",
          "text": [
            "Chromosome: 24\n"
          ]
        },
        {
          "name": "stderr",
          "output_type": "stream",
          "text": [
            "Training: 100%|\u001b[34m██████████\u001b[0m| 49/49 [00:16<00:00,  2.99it/s]\n",
            "Testing: 100%|\u001b[32m██████████\u001b[0m| 10/10 [00:03<00:00,  3.03it/s]\n"
          ]
        },
        {
          "name": "stdout",
          "output_type": "stream",
          "text": [
            "Chromosome: 25\n"
          ]
        },
        {
          "name": "stderr",
          "output_type": "stream",
          "text": [
            "Training: 100%|\u001b[34m██████████\u001b[0m| 49/49 [00:16<00:00,  2.99it/s]\n",
            "Testing: 100%|\u001b[32m██████████\u001b[0m| 10/10 [00:03<00:00,  3.03it/s]\n"
          ]
        },
        {
          "name": "stdout",
          "output_type": "stream",
          "text": [
            "Chromosome: 26\n"
          ]
        },
        {
          "name": "stderr",
          "output_type": "stream",
          "text": [
            "Training: 100%|\u001b[34m██████████\u001b[0m| 49/49 [00:16<00:00,  3.00it/s]\n",
            "Testing: 100%|\u001b[32m██████████\u001b[0m| 10/10 [00:03<00:00,  3.03it/s]\n"
          ]
        },
        {
          "name": "stdout",
          "output_type": "stream",
          "text": [
            "Chromosome: 27\n"
          ]
        },
        {
          "name": "stderr",
          "output_type": "stream",
          "text": [
            "Training: 100%|\u001b[34m██████████\u001b[0m| 49/49 [00:16<00:00,  2.98it/s]\n",
            "Testing: 100%|\u001b[32m██████████\u001b[0m| 10/10 [00:03<00:00,  3.02it/s]\n"
          ]
        },
        {
          "name": "stdout",
          "output_type": "stream",
          "text": [
            "Chromosome: 28\n"
          ]
        },
        {
          "name": "stderr",
          "output_type": "stream",
          "text": [
            "Training: 100%|\u001b[34m██████████\u001b[0m| 49/49 [00:16<00:00,  3.00it/s]\n",
            "Testing: 100%|\u001b[32m██████████\u001b[0m| 10/10 [00:03<00:00,  3.04it/s]\n"
          ]
        },
        {
          "name": "stdout",
          "output_type": "stream",
          "text": [
            "Chromosome: 29\n"
          ]
        },
        {
          "name": "stderr",
          "output_type": "stream",
          "text": [
            "Training: 100%|\u001b[34m██████████\u001b[0m| 49/49 [00:16<00:00,  2.99it/s]\n",
            "Testing: 100%|\u001b[32m██████████\u001b[0m| 10/10 [00:03<00:00,  3.02it/s]\n"
          ]
        },
        {
          "name": "stdout",
          "output_type": "stream",
          "text": [
            "Chromosome: 30\n"
          ]
        },
        {
          "name": "stderr",
          "output_type": "stream",
          "text": [
            "Training: 100%|\u001b[34m██████████\u001b[0m| 49/49 [00:16<00:00,  2.96it/s]\n",
            "Testing: 100%|\u001b[32m██████████\u001b[0m| 10/10 [00:03<00:00,  3.02it/s]\n"
          ]
        },
        {
          "name": "stdout",
          "output_type": "stream",
          "text": [
            "Chromosome: 31\n"
          ]
        },
        {
          "name": "stderr",
          "output_type": "stream",
          "text": [
            "Training: 100%|\u001b[34m██████████\u001b[0m| 49/49 [00:16<00:00,  2.98it/s]\n",
            "Testing: 100%|\u001b[32m██████████\u001b[0m| 10/10 [00:03<00:00,  3.03it/s]\n"
          ]
        },
        {
          "name": "stdout",
          "output_type": "stream",
          "text": [
            "Chromosome: 32\n"
          ]
        },
        {
          "name": "stderr",
          "output_type": "stream",
          "text": [
            "Training: 100%|\u001b[34m██████████\u001b[0m| 49/49 [00:16<00:00,  2.98it/s]\n",
            "Testing: 100%|\u001b[32m██████████\u001b[0m| 10/10 [00:03<00:00,  3.05it/s]\n"
          ]
        },
        {
          "name": "stdout",
          "output_type": "stream",
          "text": [
            "Chromosome: 33\n"
          ]
        },
        {
          "name": "stderr",
          "output_type": "stream",
          "text": [
            "Training: 100%|\u001b[34m██████████\u001b[0m| 49/49 [00:16<00:00,  2.99it/s]\n",
            "Testing: 100%|\u001b[32m██████████\u001b[0m| 10/10 [00:03<00:00,  3.05it/s]\n"
          ]
        },
        {
          "name": "stdout",
          "output_type": "stream",
          "text": [
            "Chromosome: 34\n"
          ]
        },
        {
          "name": "stderr",
          "output_type": "stream",
          "text": [
            "Training: 100%|\u001b[34m██████████\u001b[0m| 49/49 [00:16<00:00,  2.98it/s]\n",
            "Testing: 100%|\u001b[32m██████████\u001b[0m| 10/10 [00:03<00:00,  3.04it/s]\n"
          ]
        },
        {
          "name": "stdout",
          "output_type": "stream",
          "text": [
            "Chromosome: 35\n"
          ]
        },
        {
          "name": "stderr",
          "output_type": "stream",
          "text": [
            "Training: 100%|\u001b[34m██████████\u001b[0m| 49/49 [00:16<00:00,  2.96it/s]\n",
            "Testing: 100%|\u001b[32m██████████\u001b[0m| 10/10 [00:03<00:00,  3.03it/s]\n"
          ]
        },
        {
          "name": "stdout",
          "output_type": "stream",
          "text": [
            "Chromosome: 36\n"
          ]
        },
        {
          "name": "stderr",
          "output_type": "stream",
          "text": [
            "Training: 100%|\u001b[34m██████████\u001b[0m| 49/49 [00:16<00:00,  2.98it/s]\n",
            "Testing: 100%|\u001b[32m██████████\u001b[0m| 10/10 [00:03<00:00,  3.03it/s]\n"
          ]
        },
        {
          "name": "stdout",
          "output_type": "stream",
          "text": [
            "Chromosome: 37\n"
          ]
        },
        {
          "name": "stderr",
          "output_type": "stream",
          "text": [
            "Training: 100%|\u001b[34m██████████\u001b[0m| 49/49 [00:16<00:00,  2.95it/s]\n",
            "Testing: 100%|\u001b[32m██████████\u001b[0m| 10/10 [00:03<00:00,  3.04it/s]\n"
          ]
        },
        {
          "name": "stdout",
          "output_type": "stream",
          "text": [
            "Chromosome: 38\n"
          ]
        },
        {
          "name": "stderr",
          "output_type": "stream",
          "text": [
            "Training: 100%|\u001b[34m██████████\u001b[0m| 49/49 [00:16<00:00,  3.00it/s]\n",
            "Testing: 100%|\u001b[32m██████████\u001b[0m| 10/10 [00:03<00:00,  3.05it/s]\n"
          ]
        },
        {
          "name": "stdout",
          "output_type": "stream",
          "text": [
            "Chromosome: 39\n"
          ]
        },
        {
          "name": "stderr",
          "output_type": "stream",
          "text": [
            "Training: 100%|\u001b[34m██████████\u001b[0m| 49/49 [00:16<00:00,  3.02it/s]\n",
            "Testing: 100%|\u001b[32m██████████\u001b[0m| 10/10 [00:03<00:00,  3.05it/s]\n"
          ]
        },
        {
          "name": "stdout",
          "output_type": "stream",
          "text": [
            "Chromosome: 40\n"
          ]
        },
        {
          "name": "stderr",
          "output_type": "stream",
          "text": [
            "Training: 100%|\u001b[34m██████████\u001b[0m| 49/49 [00:16<00:00,  2.99it/s]\n",
            "Testing: 100%|\u001b[32m██████████\u001b[0m| 10/10 [00:03<00:00,  3.04it/s]\n"
          ]
        },
        {
          "name": "stdout",
          "output_type": "stream",
          "text": [
            "Chromosome: 41\n"
          ]
        },
        {
          "name": "stderr",
          "output_type": "stream",
          "text": [
            "Training: 100%|\u001b[34m██████████\u001b[0m| 49/49 [00:16<00:00,  3.03it/s]\n",
            "Testing: 100%|\u001b[32m██████████\u001b[0m| 10/10 [00:03<00:00,  3.07it/s]\n"
          ]
        },
        {
          "name": "stdout",
          "output_type": "stream",
          "text": [
            "Chromosome: 42\n"
          ]
        },
        {
          "name": "stderr",
          "output_type": "stream",
          "text": [
            "Training: 100%|\u001b[34m██████████\u001b[0m| 49/49 [00:16<00:00,  3.03it/s]\n",
            "Testing: 100%|\u001b[32m██████████\u001b[0m| 10/10 [00:03<00:00,  3.05it/s]\n"
          ]
        },
        {
          "name": "stdout",
          "output_type": "stream",
          "text": [
            "Chromosome: 43\n"
          ]
        },
        {
          "name": "stderr",
          "output_type": "stream",
          "text": [
            "Training: 100%|\u001b[34m██████████\u001b[0m| 49/49 [00:16<00:00,  3.03it/s]\n",
            "Testing: 100%|\u001b[32m██████████\u001b[0m| 10/10 [00:03<00:00,  3.07it/s]\n"
          ]
        },
        {
          "name": "stdout",
          "output_type": "stream",
          "text": [
            "Chromosome: 44\n"
          ]
        },
        {
          "name": "stderr",
          "output_type": "stream",
          "text": [
            "Training: 100%|\u001b[34m██████████\u001b[0m| 49/49 [00:16<00:00,  3.02it/s]\n",
            "Testing: 100%|\u001b[32m██████████\u001b[0m| 10/10 [00:03<00:00,  3.05it/s]\n"
          ]
        },
        {
          "name": "stdout",
          "output_type": "stream",
          "text": [
            "Chromosome: 45\n"
          ]
        },
        {
          "name": "stderr",
          "output_type": "stream",
          "text": [
            "Training: 100%|\u001b[34m██████████\u001b[0m| 49/49 [00:16<00:00,  3.01it/s]\n",
            "Testing: 100%|\u001b[32m██████████\u001b[0m| 10/10 [00:03<00:00,  2.88it/s]\n"
          ]
        },
        {
          "name": "stdout",
          "output_type": "stream",
          "text": [
            "Chromosome: 46\n"
          ]
        },
        {
          "name": "stderr",
          "output_type": "stream",
          "text": [
            "Training: 100%|\u001b[34m██████████\u001b[0m| 49/49 [00:17<00:00,  2.84it/s]\n",
            "Testing: 100%|\u001b[32m██████████\u001b[0m| 10/10 [00:03<00:00,  2.90it/s]\n"
          ]
        },
        {
          "name": "stdout",
          "output_type": "stream",
          "text": [
            "Chromosome: 47\n"
          ]
        },
        {
          "name": "stderr",
          "output_type": "stream",
          "text": [
            "Training: 100%|\u001b[34m██████████\u001b[0m| 49/49 [00:16<00:00,  2.94it/s]\n",
            "Testing: 100%|\u001b[32m██████████\u001b[0m| 10/10 [00:03<00:00,  3.01it/s]\n"
          ]
        },
        {
          "name": "stdout",
          "output_type": "stream",
          "text": [
            "Chromosome: 48\n"
          ]
        },
        {
          "name": "stderr",
          "output_type": "stream",
          "text": [
            "Training: 100%|\u001b[34m██████████\u001b[0m| 49/49 [00:17<00:00,  2.73it/s]\n",
            "Testing: 100%|\u001b[32m██████████\u001b[0m| 10/10 [00:03<00:00,  2.89it/s]\n"
          ]
        },
        {
          "name": "stdout",
          "output_type": "stream",
          "text": [
            "Chromosome: 49\n"
          ]
        },
        {
          "name": "stderr",
          "output_type": "stream",
          "text": [
            "Training: 100%|\u001b[34m██████████\u001b[0m| 49/49 [00:17<00:00,  2.79it/s]\n",
            "Testing: 100%|\u001b[32m██████████\u001b[0m| 10/10 [00:03<00:00,  2.69it/s]\n"
          ]
        },
        {
          "name": "stdout",
          "output_type": "stream",
          "text": [
            "Chromosome: 50\n"
          ]
        },
        {
          "name": "stderr",
          "output_type": "stream",
          "text": [
            "Training: 100%|\u001b[34m██████████\u001b[0m| 49/49 [00:17<00:00,  2.85it/s]\n",
            "Testing: 100%|\u001b[32m██████████\u001b[0m| 10/10 [00:03<00:00,  3.08it/s]\n"
          ]
        },
        {
          "name": "stdout",
          "output_type": "stream",
          "text": [
            "current iteration: 3 / 20 , best train fitness: 0.12941540123856798, average train fitness: 0.11774363302758765, average test fitness: 0.11787862692773342\n",
            "-------------------------------------------------------------------------------------------------\n",
            "Chromosome: 1\n"
          ]
        },
        {
          "name": "stderr",
          "output_type": "stream",
          "text": [
            "Training: 100%|\u001b[34m██████████\u001b[0m| 49/49 [00:17<00:00,  2.87it/s]\n",
            "Testing: 100%|\u001b[32m██████████\u001b[0m| 10/10 [00:04<00:00,  2.43it/s]\n"
          ]
        },
        {
          "name": "stdout",
          "output_type": "stream",
          "text": [
            "Chromosome: 2\n"
          ]
        },
        {
          "name": "stderr",
          "output_type": "stream",
          "text": [
            "Training: 100%|\u001b[34m██████████\u001b[0m| 49/49 [00:19<00:00,  2.47it/s]\n",
            "Testing: 100%|\u001b[32m██████████\u001b[0m| 10/10 [00:03<00:00,  3.06it/s]\n"
          ]
        },
        {
          "name": "stdout",
          "output_type": "stream",
          "text": [
            "Chromosome: 3\n"
          ]
        },
        {
          "name": "stderr",
          "output_type": "stream",
          "text": [
            "Training: 100%|\u001b[34m██████████\u001b[0m| 49/49 [00:17<00:00,  2.78it/s]\n",
            "Testing: 100%|\u001b[32m██████████\u001b[0m| 10/10 [00:03<00:00,  2.82it/s]\n"
          ]
        },
        {
          "name": "stdout",
          "output_type": "stream",
          "text": [
            "Chromosome: 4\n"
          ]
        },
        {
          "name": "stderr",
          "output_type": "stream",
          "text": [
            "Training: 100%|\u001b[34m██████████\u001b[0m| 49/49 [00:17<00:00,  2.76it/s]\n",
            "Testing: 100%|\u001b[32m██████████\u001b[0m| 10/10 [00:03<00:00,  2.92it/s]\n"
          ]
        },
        {
          "name": "stdout",
          "output_type": "stream",
          "text": [
            "Chromosome: 5\n"
          ]
        },
        {
          "name": "stderr",
          "output_type": "stream",
          "text": [
            "Training: 100%|\u001b[34m██████████\u001b[0m| 49/49 [00:18<00:00,  2.64it/s]\n",
            "Testing: 100%|\u001b[32m██████████\u001b[0m| 10/10 [00:03<00:00,  2.64it/s]\n"
          ]
        },
        {
          "name": "stdout",
          "output_type": "stream",
          "text": [
            "Chromosome: 6\n"
          ]
        },
        {
          "name": "stderr",
          "output_type": "stream",
          "text": [
            "Training: 100%|\u001b[34m██████████\u001b[0m| 49/49 [00:17<00:00,  2.81it/s]\n",
            "Testing: 100%|\u001b[32m██████████\u001b[0m| 10/10 [00:03<00:00,  2.86it/s]\n"
          ]
        },
        {
          "name": "stdout",
          "output_type": "stream",
          "text": [
            "Chromosome: 7\n"
          ]
        },
        {
          "name": "stderr",
          "output_type": "stream",
          "text": [
            "Training: 100%|\u001b[34m██████████\u001b[0m| 49/49 [00:17<00:00,  2.82it/s]\n",
            "Testing: 100%|\u001b[32m██████████\u001b[0m| 10/10 [00:03<00:00,  2.86it/s]\n"
          ]
        },
        {
          "name": "stdout",
          "output_type": "stream",
          "text": [
            "Chromosome: 8\n"
          ]
        },
        {
          "name": "stderr",
          "output_type": "stream",
          "text": [
            "Training: 100%|\u001b[34m██████████\u001b[0m| 49/49 [00:17<00:00,  2.81it/s]\n",
            "Testing: 100%|\u001b[32m██████████\u001b[0m| 10/10 [00:03<00:00,  2.65it/s]\n"
          ]
        },
        {
          "name": "stdout",
          "output_type": "stream",
          "text": [
            "Chromosome: 9\n"
          ]
        },
        {
          "name": "stderr",
          "output_type": "stream",
          "text": [
            "Training: 100%|\u001b[34m██████████\u001b[0m| 49/49 [00:17<00:00,  2.84it/s]\n",
            "Testing: 100%|\u001b[32m██████████\u001b[0m| 10/10 [00:03<00:00,  2.96it/s]\n"
          ]
        },
        {
          "name": "stdout",
          "output_type": "stream",
          "text": [
            "Chromosome: 10\n"
          ]
        },
        {
          "name": "stderr",
          "output_type": "stream",
          "text": [
            "Training: 100%|\u001b[34m██████████\u001b[0m| 49/49 [00:16<00:00,  2.90it/s]\n",
            "Testing: 100%|\u001b[32m██████████\u001b[0m| 10/10 [00:03<00:00,  2.97it/s]\n"
          ]
        },
        {
          "name": "stdout",
          "output_type": "stream",
          "text": [
            "Chromosome: 11\n"
          ]
        },
        {
          "name": "stderr",
          "output_type": "stream",
          "text": [
            "Training: 100%|\u001b[34m██████████\u001b[0m| 49/49 [00:17<00:00,  2.87it/s]\n",
            "Testing: 100%|\u001b[32m██████████\u001b[0m| 10/10 [00:03<00:00,  2.90it/s]\n"
          ]
        },
        {
          "name": "stdout",
          "output_type": "stream",
          "text": [
            "Chromosome: 12\n"
          ]
        },
        {
          "name": "stderr",
          "output_type": "stream",
          "text": [
            "Training: 100%|\u001b[34m██████████\u001b[0m| 49/49 [00:17<00:00,  2.73it/s]\n",
            "Testing: 100%|\u001b[32m██████████\u001b[0m| 10/10 [00:03<00:00,  2.82it/s]\n"
          ]
        },
        {
          "name": "stdout",
          "output_type": "stream",
          "text": [
            "Chromosome: 13\n"
          ]
        },
        {
          "name": "stderr",
          "output_type": "stream",
          "text": [
            "Training: 100%|\u001b[34m██████████\u001b[0m| 49/49 [00:17<00:00,  2.75it/s]\n",
            "Testing: 100%|\u001b[32m██████████\u001b[0m| 10/10 [00:03<00:00,  2.70it/s]\n"
          ]
        },
        {
          "name": "stdout",
          "output_type": "stream",
          "text": [
            "Chromosome: 14\n"
          ]
        },
        {
          "name": "stderr",
          "output_type": "stream",
          "text": [
            "Training: 100%|\u001b[34m██████████\u001b[0m| 49/49 [00:17<00:00,  2.75it/s]\n",
            "Testing: 100%|\u001b[32m██████████\u001b[0m| 10/10 [00:03<00:00,  2.61it/s]\n"
          ]
        },
        {
          "name": "stdout",
          "output_type": "stream",
          "text": [
            "Chromosome: 15\n"
          ]
        },
        {
          "name": "stderr",
          "output_type": "stream",
          "text": [
            "Training: 100%|\u001b[34m██████████\u001b[0m| 49/49 [00:17<00:00,  2.84it/s]\n",
            "Testing: 100%|\u001b[32m██████████\u001b[0m| 10/10 [00:03<00:00,  2.89it/s]\n"
          ]
        },
        {
          "name": "stdout",
          "output_type": "stream",
          "text": [
            "Chromosome: 16\n"
          ]
        },
        {
          "name": "stderr",
          "output_type": "stream",
          "text": [
            "Training: 100%|\u001b[34m██████████\u001b[0m| 49/49 [00:18<00:00,  2.67it/s]\n",
            "Testing: 100%|\u001b[32m██████████\u001b[0m| 10/10 [00:03<00:00,  2.61it/s]\n"
          ]
        },
        {
          "name": "stdout",
          "output_type": "stream",
          "text": [
            "Chromosome: 17\n"
          ]
        },
        {
          "name": "stderr",
          "output_type": "stream",
          "text": [
            "Training: 100%|\u001b[34m██████████\u001b[0m| 49/49 [00:19<00:00,  2.50it/s]\n",
            "Testing: 100%|\u001b[32m██████████\u001b[0m| 10/10 [00:04<00:00,  2.29it/s]\n"
          ]
        },
        {
          "name": "stdout",
          "output_type": "stream",
          "text": [
            "Chromosome: 18\n"
          ]
        },
        {
          "name": "stderr",
          "output_type": "stream",
          "text": [
            "Training: 100%|\u001b[34m██████████\u001b[0m| 49/49 [00:18<00:00,  2.63it/s]\n",
            "Testing: 100%|\u001b[32m██████████\u001b[0m| 10/10 [00:03<00:00,  2.53it/s]\n"
          ]
        },
        {
          "name": "stdout",
          "output_type": "stream",
          "text": [
            "Chromosome: 19\n"
          ]
        },
        {
          "name": "stderr",
          "output_type": "stream",
          "text": [
            "Training: 100%|\u001b[34m██████████\u001b[0m| 49/49 [00:18<00:00,  2.60it/s]\n",
            "Testing: 100%|\u001b[32m██████████\u001b[0m| 10/10 [00:03<00:00,  2.74it/s]\n"
          ]
        },
        {
          "name": "stdout",
          "output_type": "stream",
          "text": [
            "Chromosome: 20\n"
          ]
        },
        {
          "name": "stderr",
          "output_type": "stream",
          "text": [
            "Training: 100%|\u001b[34m██████████\u001b[0m| 49/49 [00:17<00:00,  2.79it/s]\n",
            "Testing: 100%|\u001b[32m██████████\u001b[0m| 10/10 [00:03<00:00,  2.77it/s]\n"
          ]
        },
        {
          "name": "stdout",
          "output_type": "stream",
          "text": [
            "Chromosome: 21\n"
          ]
        },
        {
          "name": "stderr",
          "output_type": "stream",
          "text": [
            "Training: 100%|\u001b[34m██████████\u001b[0m| 49/49 [00:17<00:00,  2.75it/s]\n",
            "Testing: 100%|\u001b[32m██████████\u001b[0m| 10/10 [00:03<00:00,  2.79it/s]\n"
          ]
        },
        {
          "name": "stdout",
          "output_type": "stream",
          "text": [
            "Chromosome: 22\n"
          ]
        },
        {
          "name": "stderr",
          "output_type": "stream",
          "text": [
            "Training: 100%|\u001b[34m██████████\u001b[0m| 49/49 [00:18<00:00,  2.65it/s]\n",
            "Testing: 100%|\u001b[32m██████████\u001b[0m| 10/10 [00:03<00:00,  2.74it/s]\n"
          ]
        },
        {
          "name": "stdout",
          "output_type": "stream",
          "text": [
            "Chromosome: 23\n"
          ]
        },
        {
          "name": "stderr",
          "output_type": "stream",
          "text": [
            "Training: 100%|\u001b[34m██████████\u001b[0m| 49/49 [00:18<00:00,  2.64it/s]\n",
            "Testing: 100%|\u001b[32m██████████\u001b[0m| 10/10 [00:03<00:00,  2.74it/s]\n"
          ]
        },
        {
          "name": "stdout",
          "output_type": "stream",
          "text": [
            "Chromosome: 24\n"
          ]
        },
        {
          "name": "stderr",
          "output_type": "stream",
          "text": [
            "Training: 100%|\u001b[34m██████████\u001b[0m| 49/49 [00:16<00:00,  2.90it/s]\n",
            "Testing: 100%|\u001b[32m██████████\u001b[0m| 10/10 [00:03<00:00,  3.02it/s]\n"
          ]
        },
        {
          "name": "stdout",
          "output_type": "stream",
          "text": [
            "Chromosome: 25\n"
          ]
        },
        {
          "name": "stderr",
          "output_type": "stream",
          "text": [
            "Training: 100%|\u001b[34m██████████\u001b[0m| 49/49 [00:16<00:00,  2.97it/s]\n",
            "Testing: 100%|\u001b[32m██████████\u001b[0m| 10/10 [00:03<00:00,  3.01it/s]\n"
          ]
        },
        {
          "name": "stdout",
          "output_type": "stream",
          "text": [
            "Chromosome: 26\n"
          ]
        },
        {
          "name": "stderr",
          "output_type": "stream",
          "text": [
            "Training: 100%|\u001b[34m██████████\u001b[0m| 49/49 [00:16<00:00,  2.90it/s]\n",
            "Testing: 100%|\u001b[32m██████████\u001b[0m| 10/10 [00:03<00:00,  2.89it/s]\n"
          ]
        },
        {
          "name": "stdout",
          "output_type": "stream",
          "text": [
            "Chromosome: 27\n"
          ]
        },
        {
          "name": "stderr",
          "output_type": "stream",
          "text": [
            "Training: 100%|\u001b[34m██████████\u001b[0m| 49/49 [00:16<00:00,  2.89it/s]\n",
            "Testing: 100%|\u001b[32m██████████\u001b[0m| 10/10 [00:03<00:00,  2.97it/s]\n"
          ]
        },
        {
          "name": "stdout",
          "output_type": "stream",
          "text": [
            "Chromosome: 28\n"
          ]
        },
        {
          "name": "stderr",
          "output_type": "stream",
          "text": [
            "Training: 100%|\u001b[34m██████████\u001b[0m| 49/49 [00:17<00:00,  2.88it/s]\n",
            "Testing: 100%|\u001b[32m██████████\u001b[0m| 10/10 [00:03<00:00,  2.95it/s]\n"
          ]
        },
        {
          "name": "stdout",
          "output_type": "stream",
          "text": [
            "Chromosome: 29\n"
          ]
        },
        {
          "name": "stderr",
          "output_type": "stream",
          "text": [
            "Training: 100%|\u001b[34m██████████\u001b[0m| 49/49 [00:16<00:00,  2.96it/s]\n",
            "Testing: 100%|\u001b[32m██████████\u001b[0m| 10/10 [00:03<00:00,  3.02it/s]\n"
          ]
        },
        {
          "name": "stdout",
          "output_type": "stream",
          "text": [
            "Chromosome: 30\n"
          ]
        },
        {
          "name": "stderr",
          "output_type": "stream",
          "text": [
            "Training: 100%|\u001b[34m██████████\u001b[0m| 49/49 [00:16<00:00,  2.96it/s]\n",
            "Testing: 100%|\u001b[32m██████████\u001b[0m| 10/10 [00:03<00:00,  2.99it/s]\n"
          ]
        },
        {
          "name": "stdout",
          "output_type": "stream",
          "text": [
            "Chromosome: 31\n"
          ]
        },
        {
          "name": "stderr",
          "output_type": "stream",
          "text": [
            "Training: 100%|\u001b[34m██████████\u001b[0m| 49/49 [00:17<00:00,  2.84it/s]\n",
            "Testing: 100%|\u001b[32m██████████\u001b[0m| 10/10 [00:03<00:00,  2.69it/s]\n"
          ]
        },
        {
          "name": "stdout",
          "output_type": "stream",
          "text": [
            "Chromosome: 32\n"
          ]
        },
        {
          "name": "stderr",
          "output_type": "stream",
          "text": [
            "Training: 100%|\u001b[34m██████████\u001b[0m| 49/49 [00:17<00:00,  2.87it/s]\n",
            "Testing: 100%|\u001b[32m██████████\u001b[0m| 10/10 [00:03<00:00,  2.98it/s]\n"
          ]
        },
        {
          "name": "stdout",
          "output_type": "stream",
          "text": [
            "Chromosome: 33\n"
          ]
        },
        {
          "name": "stderr",
          "output_type": "stream",
          "text": [
            "Training: 100%|\u001b[34m██████████\u001b[0m| 49/49 [00:17<00:00,  2.82it/s]\n",
            "Testing: 100%|\u001b[32m██████████\u001b[0m| 10/10 [00:03<00:00,  3.01it/s]\n"
          ]
        },
        {
          "name": "stdout",
          "output_type": "stream",
          "text": [
            "Chromosome: 34\n"
          ]
        },
        {
          "name": "stderr",
          "output_type": "stream",
          "text": [
            "Training: 100%|\u001b[34m██████████\u001b[0m| 49/49 [00:16<00:00,  2.88it/s]\n",
            "Testing: 100%|\u001b[32m██████████\u001b[0m| 10/10 [00:03<00:00,  3.21it/s]\n"
          ]
        },
        {
          "name": "stdout",
          "output_type": "stream",
          "text": [
            "Chromosome: 35\n"
          ]
        },
        {
          "name": "stderr",
          "output_type": "stream",
          "text": [
            "Training: 100%|\u001b[34m██████████\u001b[0m| 49/49 [00:15<00:00,  3.07it/s]\n",
            "Testing: 100%|\u001b[32m██████████\u001b[0m| 10/10 [00:03<00:00,  3.23it/s]\n"
          ]
        },
        {
          "name": "stdout",
          "output_type": "stream",
          "text": [
            "Chromosome: 36\n"
          ]
        },
        {
          "name": "stderr",
          "output_type": "stream",
          "text": [
            "Training: 100%|\u001b[34m██████████\u001b[0m| 49/49 [00:17<00:00,  2.84it/s]\n",
            "Testing: 100%|\u001b[32m██████████\u001b[0m| 10/10 [00:03<00:00,  2.92it/s]\n"
          ]
        },
        {
          "name": "stdout",
          "output_type": "stream",
          "text": [
            "Chromosome: 37\n"
          ]
        },
        {
          "name": "stderr",
          "output_type": "stream",
          "text": [
            "Training: 100%|\u001b[34m██████████\u001b[0m| 49/49 [00:17<00:00,  2.83it/s]\n",
            "Testing: 100%|\u001b[32m██████████\u001b[0m| 10/10 [00:03<00:00,  3.04it/s]\n"
          ]
        },
        {
          "name": "stdout",
          "output_type": "stream",
          "text": [
            "Chromosome: 38\n"
          ]
        },
        {
          "name": "stderr",
          "output_type": "stream",
          "text": [
            "Training: 100%|\u001b[34m██████████\u001b[0m| 49/49 [00:16<00:00,  3.01it/s]\n",
            "Testing: 100%|\u001b[32m██████████\u001b[0m| 10/10 [00:03<00:00,  3.01it/s]\n"
          ]
        },
        {
          "name": "stdout",
          "output_type": "stream",
          "text": [
            "Chromosome: 39\n"
          ]
        },
        {
          "name": "stderr",
          "output_type": "stream",
          "text": [
            "Training: 100%|\u001b[34m██████████\u001b[0m| 49/49 [00:16<00:00,  2.96it/s]\n",
            "Testing: 100%|\u001b[32m██████████\u001b[0m| 10/10 [00:03<00:00,  3.00it/s]\n"
          ]
        },
        {
          "name": "stdout",
          "output_type": "stream",
          "text": [
            "Chromosome: 40\n"
          ]
        },
        {
          "name": "stderr",
          "output_type": "stream",
          "text": [
            "Training: 100%|\u001b[34m██████████\u001b[0m| 49/49 [00:16<00:00,  2.99it/s]\n",
            "Testing: 100%|\u001b[32m██████████\u001b[0m| 10/10 [00:03<00:00,  2.92it/s]\n"
          ]
        },
        {
          "name": "stdout",
          "output_type": "stream",
          "text": [
            "Chromosome: 41\n"
          ]
        },
        {
          "name": "stderr",
          "output_type": "stream",
          "text": [
            "Training: 100%|\u001b[34m██████████\u001b[0m| 49/49 [00:17<00:00,  2.81it/s]\n",
            "Testing: 100%|\u001b[32m██████████\u001b[0m| 10/10 [00:03<00:00,  2.96it/s]\n"
          ]
        },
        {
          "name": "stdout",
          "output_type": "stream",
          "text": [
            "Chromosome: 42\n"
          ]
        },
        {
          "name": "stderr",
          "output_type": "stream",
          "text": [
            "Training: 100%|\u001b[34m██████████\u001b[0m| 49/49 [00:17<00:00,  2.85it/s]\n",
            "Testing: 100%|\u001b[32m██████████\u001b[0m| 10/10 [00:03<00:00,  2.86it/s]\n"
          ]
        },
        {
          "name": "stdout",
          "output_type": "stream",
          "text": [
            "Chromosome: 43\n"
          ]
        },
        {
          "name": "stderr",
          "output_type": "stream",
          "text": [
            "Training: 100%|\u001b[34m██████████\u001b[0m| 49/49 [00:16<00:00,  2.90it/s]\n",
            "Testing: 100%|\u001b[32m██████████\u001b[0m| 10/10 [00:03<00:00,  2.68it/s]\n"
          ]
        },
        {
          "name": "stdout",
          "output_type": "stream",
          "text": [
            "Chromosome: 44\n"
          ]
        },
        {
          "name": "stderr",
          "output_type": "stream",
          "text": [
            "Training: 100%|\u001b[34m██████████\u001b[0m| 49/49 [00:17<00:00,  2.82it/s]\n",
            "Testing: 100%|\u001b[32m██████████\u001b[0m| 10/10 [00:03<00:00,  2.74it/s]\n"
          ]
        },
        {
          "name": "stdout",
          "output_type": "stream",
          "text": [
            "Chromosome: 45\n"
          ]
        },
        {
          "name": "stderr",
          "output_type": "stream",
          "text": [
            "Training: 100%|\u001b[34m██████████\u001b[0m| 49/49 [00:17<00:00,  2.73it/s]\n",
            "Testing: 100%|\u001b[32m██████████\u001b[0m| 10/10 [00:03<00:00,  2.91it/s]\n"
          ]
        },
        {
          "name": "stdout",
          "output_type": "stream",
          "text": [
            "Chromosome: 46\n"
          ]
        },
        {
          "name": "stderr",
          "output_type": "stream",
          "text": [
            "Training: 100%|\u001b[34m██████████\u001b[0m| 49/49 [00:17<00:00,  2.76it/s]\n",
            "Testing: 100%|\u001b[32m██████████\u001b[0m| 10/10 [00:03<00:00,  2.71it/s]\n"
          ]
        },
        {
          "name": "stdout",
          "output_type": "stream",
          "text": [
            "Chromosome: 47\n"
          ]
        },
        {
          "name": "stderr",
          "output_type": "stream",
          "text": [
            "Training: 100%|\u001b[34m██████████\u001b[0m| 49/49 [00:17<00:00,  2.75it/s]\n",
            "Testing: 100%|\u001b[32m██████████\u001b[0m| 10/10 [00:03<00:00,  3.01it/s]\n"
          ]
        },
        {
          "name": "stdout",
          "output_type": "stream",
          "text": [
            "Chromosome: 48\n"
          ]
        },
        {
          "name": "stderr",
          "output_type": "stream",
          "text": [
            "Training: 100%|\u001b[34m██████████\u001b[0m| 49/49 [00:17<00:00,  2.87it/s]\n",
            "Testing: 100%|\u001b[32m██████████\u001b[0m| 10/10 [00:03<00:00,  2.93it/s]\n"
          ]
        },
        {
          "name": "stdout",
          "output_type": "stream",
          "text": [
            "Chromosome: 49\n"
          ]
        },
        {
          "name": "stderr",
          "output_type": "stream",
          "text": [
            "Training: 100%|\u001b[34m██████████\u001b[0m| 49/49 [00:16<00:00,  2.92it/s]\n",
            "Testing: 100%|\u001b[32m██████████\u001b[0m| 10/10 [00:03<00:00,  3.06it/s]\n"
          ]
        },
        {
          "name": "stdout",
          "output_type": "stream",
          "text": [
            "Chromosome: 50\n"
          ]
        },
        {
          "name": "stderr",
          "output_type": "stream",
          "text": [
            "Training: 100%|\u001b[34m██████████\u001b[0m| 49/49 [00:16<00:00,  2.89it/s]\n",
            "Testing: 100%|\u001b[32m██████████\u001b[0m| 10/10 [00:03<00:00,  3.18it/s]\n"
          ]
        },
        {
          "name": "stdout",
          "output_type": "stream",
          "text": [
            "current iteration: 4 / 20 , best train fitness: 0.15000669354078722, average train fitness: 0.12212632670694468, average test fitness: 0.12135279786586758\n",
            "-------------------------------------------------------------------------------------------------\n",
            "Chromosome: 1\n"
          ]
        },
        {
          "name": "stderr",
          "output_type": "stream",
          "text": [
            "Training: 100%|\u001b[34m██████████\u001b[0m| 49/49 [00:16<00:00,  2.97it/s]\n",
            "Testing: 100%|\u001b[32m██████████\u001b[0m| 10/10 [00:03<00:00,  3.10it/s]\n"
          ]
        },
        {
          "name": "stdout",
          "output_type": "stream",
          "text": [
            "Chromosome: 2\n"
          ]
        },
        {
          "name": "stderr",
          "output_type": "stream",
          "text": [
            "Training: 100%|\u001b[34m██████████\u001b[0m| 49/49 [00:16<00:00,  2.96it/s]\n",
            "Testing: 100%|\u001b[32m██████████\u001b[0m| 10/10 [00:03<00:00,  3.04it/s]\n"
          ]
        },
        {
          "name": "stdout",
          "output_type": "stream",
          "text": [
            "Chromosome: 3\n"
          ]
        },
        {
          "name": "stderr",
          "output_type": "stream",
          "text": [
            "Training: 100%|\u001b[34m██████████\u001b[0m| 49/49 [00:16<00:00,  3.03it/s]\n",
            "Testing: 100%|\u001b[32m██████████\u001b[0m| 10/10 [00:03<00:00,  2.97it/s]\n"
          ]
        },
        {
          "name": "stdout",
          "output_type": "stream",
          "text": [
            "Chromosome: 4\n"
          ]
        },
        {
          "name": "stderr",
          "output_type": "stream",
          "text": [
            "Training: 100%|\u001b[34m██████████\u001b[0m| 49/49 [00:16<00:00,  2.96it/s]\n",
            "Testing: 100%|\u001b[32m██████████\u001b[0m| 10/10 [00:03<00:00,  3.10it/s]\n"
          ]
        },
        {
          "name": "stdout",
          "output_type": "stream",
          "text": [
            "Chromosome: 5\n"
          ]
        },
        {
          "name": "stderr",
          "output_type": "stream",
          "text": [
            "Training: 100%|\u001b[34m██████████\u001b[0m| 49/49 [00:16<00:00,  3.01it/s]\n",
            "Testing: 100%|\u001b[32m██████████\u001b[0m| 10/10 [00:03<00:00,  3.03it/s]\n"
          ]
        },
        {
          "name": "stdout",
          "output_type": "stream",
          "text": [
            "Chromosome: 6\n"
          ]
        },
        {
          "name": "stderr",
          "output_type": "stream",
          "text": [
            "Training: 100%|\u001b[34m██████████\u001b[0m| 49/49 [00:16<00:00,  3.02it/s]\n",
            "Testing: 100%|\u001b[32m██████████\u001b[0m| 10/10 [00:03<00:00,  3.14it/s]\n"
          ]
        },
        {
          "name": "stdout",
          "output_type": "stream",
          "text": [
            "Chromosome: 7\n"
          ]
        },
        {
          "name": "stderr",
          "output_type": "stream",
          "text": [
            "Training: 100%|\u001b[34m██████████\u001b[0m| 49/49 [00:16<00:00,  3.02it/s]\n",
            "Testing: 100%|\u001b[32m██████████\u001b[0m| 10/10 [00:03<00:00,  3.15it/s]\n"
          ]
        },
        {
          "name": "stdout",
          "output_type": "stream",
          "text": [
            "Chromosome: 8\n"
          ]
        },
        {
          "name": "stderr",
          "output_type": "stream",
          "text": [
            "Training: 100%|\u001b[34m██████████\u001b[0m| 49/49 [00:16<00:00,  2.97it/s]\n",
            "Testing: 100%|\u001b[32m██████████\u001b[0m| 10/10 [00:03<00:00,  2.98it/s]\n"
          ]
        },
        {
          "name": "stdout",
          "output_type": "stream",
          "text": [
            "Chromosome: 9\n"
          ]
        },
        {
          "name": "stderr",
          "output_type": "stream",
          "text": [
            "Training: 100%|\u001b[34m██████████\u001b[0m| 49/49 [00:16<00:00,  2.97it/s]\n",
            "Testing: 100%|\u001b[32m██████████\u001b[0m| 10/10 [00:03<00:00,  3.06it/s]\n"
          ]
        },
        {
          "name": "stdout",
          "output_type": "stream",
          "text": [
            "Chromosome: 10\n"
          ]
        },
        {
          "name": "stderr",
          "output_type": "stream",
          "text": [
            "Training: 100%|\u001b[34m██████████\u001b[0m| 49/49 [00:16<00:00,  2.98it/s]\n",
            "Testing: 100%|\u001b[32m██████████\u001b[0m| 10/10 [00:03<00:00,  3.11it/s]\n"
          ]
        },
        {
          "name": "stdout",
          "output_type": "stream",
          "text": [
            "Chromosome: 11\n"
          ]
        },
        {
          "name": "stderr",
          "output_type": "stream",
          "text": [
            "Training: 100%|\u001b[34m██████████\u001b[0m| 49/49 [00:16<00:00,  2.96it/s]\n",
            "Testing: 100%|\u001b[32m██████████\u001b[0m| 10/10 [00:03<00:00,  3.15it/s]\n"
          ]
        },
        {
          "name": "stdout",
          "output_type": "stream",
          "text": [
            "Chromosome: 12\n"
          ]
        },
        {
          "name": "stderr",
          "output_type": "stream",
          "text": [
            "Training: 100%|\u001b[34m██████████\u001b[0m| 49/49 [00:15<00:00,  3.09it/s]\n",
            "Testing: 100%|\u001b[32m██████████\u001b[0m| 10/10 [00:03<00:00,  3.25it/s]\n"
          ]
        },
        {
          "name": "stdout",
          "output_type": "stream",
          "text": [
            "Chromosome: 13\n"
          ]
        },
        {
          "name": "stderr",
          "output_type": "stream",
          "text": [
            "Training: 100%|\u001b[34m██████████\u001b[0m| 49/49 [00:15<00:00,  3.16it/s]\n",
            "Testing: 100%|\u001b[32m██████████\u001b[0m| 10/10 [00:03<00:00,  3.22it/s]\n"
          ]
        },
        {
          "name": "stdout",
          "output_type": "stream",
          "text": [
            "Chromosome: 14\n"
          ]
        },
        {
          "name": "stderr",
          "output_type": "stream",
          "text": [
            "Training: 100%|\u001b[34m██████████\u001b[0m| 49/49 [00:16<00:00,  3.03it/s]\n",
            "Testing: 100%|\u001b[32m██████████\u001b[0m| 10/10 [00:03<00:00,  2.56it/s]\n"
          ]
        },
        {
          "name": "stdout",
          "output_type": "stream",
          "text": [
            "Chromosome: 15\n"
          ]
        },
        {
          "name": "stderr",
          "output_type": "stream",
          "text": [
            "Training: 100%|\u001b[34m██████████\u001b[0m| 49/49 [00:16<00:00,  2.89it/s]\n",
            "Testing: 100%|\u001b[32m██████████\u001b[0m| 10/10 [00:03<00:00,  3.12it/s]\n"
          ]
        },
        {
          "name": "stdout",
          "output_type": "stream",
          "text": [
            "Chromosome: 16\n"
          ]
        },
        {
          "name": "stderr",
          "output_type": "stream",
          "text": [
            "Training: 100%|\u001b[34m██████████\u001b[0m| 49/49 [00:15<00:00,  3.07it/s]\n",
            "Testing: 100%|\u001b[32m██████████\u001b[0m| 10/10 [00:03<00:00,  3.07it/s]\n"
          ]
        },
        {
          "name": "stdout",
          "output_type": "stream",
          "text": [
            "Chromosome: 17\n"
          ]
        },
        {
          "name": "stderr",
          "output_type": "stream",
          "text": [
            "Training: 100%|\u001b[34m██████████\u001b[0m| 49/49 [00:17<00:00,  2.85it/s]\n",
            "Testing: 100%|\u001b[32m██████████\u001b[0m| 10/10 [00:03<00:00,  3.21it/s]\n"
          ]
        },
        {
          "name": "stdout",
          "output_type": "stream",
          "text": [
            "Chromosome: 18\n"
          ]
        },
        {
          "name": "stderr",
          "output_type": "stream",
          "text": [
            "Training: 100%|\u001b[34m██████████\u001b[0m| 49/49 [00:15<00:00,  3.08it/s]\n",
            "Testing: 100%|\u001b[32m██████████\u001b[0m| 10/10 [00:03<00:00,  3.20it/s]\n"
          ]
        },
        {
          "name": "stdout",
          "output_type": "stream",
          "text": [
            "Chromosome: 19\n"
          ]
        },
        {
          "name": "stderr",
          "output_type": "stream",
          "text": [
            "Training: 100%|\u001b[34m██████████\u001b[0m| 49/49 [00:15<00:00,  3.13it/s]\n",
            "Testing: 100%|\u001b[32m██████████\u001b[0m| 10/10 [00:03<00:00,  3.22it/s]\n"
          ]
        },
        {
          "name": "stdout",
          "output_type": "stream",
          "text": [
            "Chromosome: 20\n"
          ]
        },
        {
          "name": "stderr",
          "output_type": "stream",
          "text": [
            "Training: 100%|\u001b[34m██████████\u001b[0m| 49/49 [00:15<00:00,  3.10it/s]\n",
            "Testing: 100%|\u001b[32m██████████\u001b[0m| 10/10 [00:03<00:00,  3.19it/s]\n"
          ]
        },
        {
          "name": "stdout",
          "output_type": "stream",
          "text": [
            "Chromosome: 21\n"
          ]
        },
        {
          "name": "stderr",
          "output_type": "stream",
          "text": [
            "Training: 100%|\u001b[34m██████████\u001b[0m| 49/49 [00:16<00:00,  3.00it/s]\n",
            "Testing: 100%|\u001b[32m██████████\u001b[0m| 10/10 [00:03<00:00,  3.12it/s]\n"
          ]
        },
        {
          "name": "stdout",
          "output_type": "stream",
          "text": [
            "Chromosome: 22\n"
          ]
        },
        {
          "name": "stderr",
          "output_type": "stream",
          "text": [
            "Training: 100%|\u001b[34m██████████\u001b[0m| 49/49 [00:16<00:00,  3.00it/s]\n",
            "Testing: 100%|\u001b[32m██████████\u001b[0m| 10/10 [00:03<00:00,  3.16it/s]\n"
          ]
        },
        {
          "name": "stdout",
          "output_type": "stream",
          "text": [
            "Chromosome: 23\n"
          ]
        },
        {
          "name": "stderr",
          "output_type": "stream",
          "text": [
            "Training: 100%|\u001b[34m██████████\u001b[0m| 49/49 [00:16<00:00,  2.97it/s]\n",
            "Testing: 100%|\u001b[32m██████████\u001b[0m| 10/10 [00:03<00:00,  3.13it/s]\n"
          ]
        },
        {
          "name": "stdout",
          "output_type": "stream",
          "text": [
            "Chromosome: 24\n"
          ]
        },
        {
          "name": "stderr",
          "output_type": "stream",
          "text": [
            "Training: 100%|\u001b[34m██████████\u001b[0m| 49/49 [00:16<00:00,  3.01it/s]\n",
            "Testing: 100%|\u001b[32m██████████\u001b[0m| 10/10 [00:03<00:00,  3.08it/s]\n"
          ]
        },
        {
          "name": "stdout",
          "output_type": "stream",
          "text": [
            "Chromosome: 25\n"
          ]
        },
        {
          "name": "stderr",
          "output_type": "stream",
          "text": [
            "Training: 100%|\u001b[34m██████████\u001b[0m| 49/49 [00:16<00:00,  3.04it/s]\n",
            "Testing: 100%|\u001b[32m██████████\u001b[0m| 10/10 [00:03<00:00,  3.18it/s]\n"
          ]
        },
        {
          "name": "stdout",
          "output_type": "stream",
          "text": [
            "Chromosome: 26\n"
          ]
        },
        {
          "name": "stderr",
          "output_type": "stream",
          "text": [
            "Training: 100%|\u001b[34m██████████\u001b[0m| 49/49 [00:15<00:00,  3.09it/s]\n",
            "Testing: 100%|\u001b[32m██████████\u001b[0m| 10/10 [00:03<00:00,  3.12it/s]\n"
          ]
        },
        {
          "name": "stdout",
          "output_type": "stream",
          "text": [
            "Chromosome: 27\n"
          ]
        },
        {
          "name": "stderr",
          "output_type": "stream",
          "text": [
            "Training: 100%|\u001b[34m██████████\u001b[0m| 49/49 [00:16<00:00,  2.95it/s]\n",
            "Testing: 100%|\u001b[32m██████████\u001b[0m| 10/10 [00:03<00:00,  3.08it/s]\n"
          ]
        },
        {
          "name": "stdout",
          "output_type": "stream",
          "text": [
            "Chromosome: 28\n"
          ]
        },
        {
          "name": "stderr",
          "output_type": "stream",
          "text": [
            "Training: 100%|\u001b[34m██████████\u001b[0m| 49/49 [00:16<00:00,  2.99it/s]\n",
            "Testing: 100%|\u001b[32m██████████\u001b[0m| 10/10 [00:03<00:00,  2.94it/s]\n"
          ]
        },
        {
          "name": "stdout",
          "output_type": "stream",
          "text": [
            "Chromosome: 29\n"
          ]
        },
        {
          "name": "stderr",
          "output_type": "stream",
          "text": [
            "Training: 100%|\u001b[34m██████████\u001b[0m| 49/49 [00:19<00:00,  2.49it/s]\n",
            "Testing: 100%|\u001b[32m██████████\u001b[0m| 10/10 [00:04<00:00,  2.19it/s]\n"
          ]
        },
        {
          "name": "stdout",
          "output_type": "stream",
          "text": [
            "Chromosome: 30\n"
          ]
        },
        {
          "name": "stderr",
          "output_type": "stream",
          "text": [
            "Training: 100%|\u001b[34m██████████\u001b[0m| 49/49 [00:17<00:00,  2.80it/s]\n",
            "Testing: 100%|\u001b[32m██████████\u001b[0m| 10/10 [00:03<00:00,  2.89it/s]\n"
          ]
        },
        {
          "name": "stdout",
          "output_type": "stream",
          "text": [
            "Chromosome: 31\n"
          ]
        },
        {
          "name": "stderr",
          "output_type": "stream",
          "text": [
            "Training: 100%|\u001b[34m██████████\u001b[0m| 49/49 [00:18<00:00,  2.68it/s]\n",
            "Testing: 100%|\u001b[32m██████████\u001b[0m| 10/10 [00:03<00:00,  2.86it/s]\n"
          ]
        },
        {
          "name": "stdout",
          "output_type": "stream",
          "text": [
            "Chromosome: 32\n"
          ]
        },
        {
          "name": "stderr",
          "output_type": "stream",
          "text": [
            "Training: 100%|\u001b[34m██████████\u001b[0m| 49/49 [00:17<00:00,  2.84it/s]\n",
            "Testing: 100%|\u001b[32m██████████\u001b[0m| 10/10 [00:03<00:00,  3.07it/s]\n"
          ]
        },
        {
          "name": "stdout",
          "output_type": "stream",
          "text": [
            "Chromosome: 33\n"
          ]
        },
        {
          "name": "stderr",
          "output_type": "stream",
          "text": [
            "Training: 100%|\u001b[34m██████████\u001b[0m| 49/49 [00:16<00:00,  2.93it/s]\n",
            "Testing: 100%|\u001b[32m██████████\u001b[0m| 10/10 [00:03<00:00,  3.02it/s]\n"
          ]
        },
        {
          "name": "stdout",
          "output_type": "stream",
          "text": [
            "Chromosome: 34\n"
          ]
        },
        {
          "name": "stderr",
          "output_type": "stream",
          "text": [
            "Training: 100%|\u001b[34m██████████\u001b[0m| 49/49 [00:16<00:00,  2.94it/s]\n",
            "Testing: 100%|\u001b[32m██████████\u001b[0m| 10/10 [00:03<00:00,  3.07it/s]\n"
          ]
        },
        {
          "name": "stdout",
          "output_type": "stream",
          "text": [
            "Chromosome: 35\n"
          ]
        },
        {
          "name": "stderr",
          "output_type": "stream",
          "text": [
            "Training: 100%|\u001b[34m██████████\u001b[0m| 49/49 [00:16<00:00,  2.97it/s]\n",
            "Testing: 100%|\u001b[32m██████████\u001b[0m| 10/10 [00:03<00:00,  3.18it/s]\n"
          ]
        },
        {
          "name": "stdout",
          "output_type": "stream",
          "text": [
            "Chromosome: 36\n"
          ]
        },
        {
          "name": "stderr",
          "output_type": "stream",
          "text": [
            "Training: 100%|\u001b[34m██████████\u001b[0m| 49/49 [00:15<00:00,  3.10it/s]\n",
            "Testing: 100%|\u001b[32m██████████\u001b[0m| 10/10 [00:03<00:00,  3.16it/s]\n"
          ]
        },
        {
          "name": "stdout",
          "output_type": "stream",
          "text": [
            "Chromosome: 37\n"
          ]
        },
        {
          "name": "stderr",
          "output_type": "stream",
          "text": [
            "Training: 100%|\u001b[34m██████████\u001b[0m| 49/49 [00:15<00:00,  3.10it/s]\n",
            "Testing: 100%|\u001b[32m██████████\u001b[0m| 10/10 [00:03<00:00,  3.16it/s]\n"
          ]
        },
        {
          "name": "stdout",
          "output_type": "stream",
          "text": [
            "Chromosome: 38\n"
          ]
        },
        {
          "name": "stderr",
          "output_type": "stream",
          "text": [
            "Training: 100%|\u001b[34m██████████\u001b[0m| 49/49 [00:16<00:00,  2.96it/s]\n",
            "Testing: 100%|\u001b[32m██████████\u001b[0m| 10/10 [00:03<00:00,  3.03it/s]\n"
          ]
        },
        {
          "name": "stdout",
          "output_type": "stream",
          "text": [
            "Chromosome: 39\n"
          ]
        },
        {
          "name": "stderr",
          "output_type": "stream",
          "text": [
            "Training: 100%|\u001b[34m██████████\u001b[0m| 49/49 [00:16<00:00,  3.04it/s]\n",
            "Testing: 100%|\u001b[32m██████████\u001b[0m| 10/10 [00:03<00:00,  3.18it/s]\n"
          ]
        },
        {
          "name": "stdout",
          "output_type": "stream",
          "text": [
            "Chromosome: 40\n"
          ]
        },
        {
          "name": "stderr",
          "output_type": "stream",
          "text": [
            "Training: 100%|\u001b[34m██████████\u001b[0m| 49/49 [00:16<00:00,  3.03it/s]\n",
            "Testing: 100%|\u001b[32m██████████\u001b[0m| 10/10 [00:03<00:00,  3.20it/s]\n"
          ]
        },
        {
          "name": "stdout",
          "output_type": "stream",
          "text": [
            "Chromosome: 41\n"
          ]
        },
        {
          "name": "stderr",
          "output_type": "stream",
          "text": [
            "Training: 100%|\u001b[34m██████████\u001b[0m| 49/49 [00:15<00:00,  3.07it/s]\n",
            "Testing: 100%|\u001b[32m██████████\u001b[0m| 10/10 [00:03<00:00,  3.14it/s]\n"
          ]
        },
        {
          "name": "stdout",
          "output_type": "stream",
          "text": [
            "Chromosome: 42\n"
          ]
        },
        {
          "name": "stderr",
          "output_type": "stream",
          "text": [
            "Training: 100%|\u001b[34m██████████\u001b[0m| 49/49 [00:16<00:00,  2.95it/s]\n",
            "Testing: 100%|\u001b[32m██████████\u001b[0m| 10/10 [00:03<00:00,  2.98it/s]\n"
          ]
        },
        {
          "name": "stdout",
          "output_type": "stream",
          "text": [
            "Chromosome: 43\n"
          ]
        },
        {
          "name": "stderr",
          "output_type": "stream",
          "text": [
            "Training: 100%|\u001b[34m██████████\u001b[0m| 49/49 [00:16<00:00,  2.95it/s]\n",
            "Testing: 100%|\u001b[32m██████████\u001b[0m| 10/10 [00:03<00:00,  3.10it/s]\n"
          ]
        },
        {
          "name": "stdout",
          "output_type": "stream",
          "text": [
            "Chromosome: 44\n"
          ]
        },
        {
          "name": "stderr",
          "output_type": "stream",
          "text": [
            "Training: 100%|\u001b[34m██████████\u001b[0m| 49/49 [00:16<00:00,  3.02it/s]\n",
            "Testing: 100%|\u001b[32m██████████\u001b[0m| 10/10 [00:03<00:00,  3.14it/s]\n"
          ]
        },
        {
          "name": "stdout",
          "output_type": "stream",
          "text": [
            "Chromosome: 45\n"
          ]
        },
        {
          "name": "stderr",
          "output_type": "stream",
          "text": [
            "Training: 100%|\u001b[34m██████████\u001b[0m| 49/49 [00:16<00:00,  3.03it/s]\n",
            "Testing: 100%|\u001b[32m██████████\u001b[0m| 10/10 [00:03<00:00,  3.13it/s]\n"
          ]
        },
        {
          "name": "stdout",
          "output_type": "stream",
          "text": [
            "Chromosome: 46\n"
          ]
        },
        {
          "name": "stderr",
          "output_type": "stream",
          "text": [
            "Training: 100%|\u001b[34m██████████\u001b[0m| 49/49 [00:16<00:00,  2.97it/s]\n",
            "Testing: 100%|\u001b[32m██████████\u001b[0m| 10/10 [00:03<00:00,  2.87it/s]\n"
          ]
        },
        {
          "name": "stdout",
          "output_type": "stream",
          "text": [
            "Chromosome: 47\n"
          ]
        },
        {
          "name": "stderr",
          "output_type": "stream",
          "text": [
            "Training: 100%|\u001b[34m██████████\u001b[0m| 49/49 [00:16<00:00,  2.99it/s]\n",
            "Testing: 100%|\u001b[32m██████████\u001b[0m| 10/10 [00:03<00:00,  3.21it/s]\n"
          ]
        },
        {
          "name": "stdout",
          "output_type": "stream",
          "text": [
            "Chromosome: 48\n"
          ]
        },
        {
          "name": "stderr",
          "output_type": "stream",
          "text": [
            "Training: 100%|\u001b[34m██████████\u001b[0m| 49/49 [00:15<00:00,  3.18it/s]\n",
            "Testing: 100%|\u001b[32m██████████\u001b[0m| 10/10 [00:03<00:00,  3.24it/s]\n"
          ]
        },
        {
          "name": "stdout",
          "output_type": "stream",
          "text": [
            "Chromosome: 49\n"
          ]
        },
        {
          "name": "stderr",
          "output_type": "stream",
          "text": [
            "Training: 100%|\u001b[34m██████████\u001b[0m| 49/49 [00:15<00:00,  3.15it/s]\n",
            "Testing: 100%|\u001b[32m██████████\u001b[0m| 10/10 [00:03<00:00,  2.93it/s]\n"
          ]
        },
        {
          "name": "stdout",
          "output_type": "stream",
          "text": [
            "Chromosome: 50\n"
          ]
        },
        {
          "name": "stderr",
          "output_type": "stream",
          "text": [
            "Training: 100%|\u001b[34m██████████\u001b[0m| 49/49 [00:16<00:00,  3.02it/s]\n",
            "Testing: 100%|\u001b[32m██████████\u001b[0m| 10/10 [00:03<00:00,  3.06it/s]\n"
          ]
        },
        {
          "name": "stdout",
          "output_type": "stream",
          "text": [
            "current iteration: 5 / 20 , best train fitness: 0.15000669354078722, average train fitness: 0.12565873790152218, average test fitness: 0.12487978291511544\n",
            "-------------------------------------------------------------------------------------------------\n",
            "Chromosome: 1\n"
          ]
        },
        {
          "name": "stderr",
          "output_type": "stream",
          "text": [
            "Training: 100%|\u001b[34m██████████\u001b[0m| 49/49 [00:18<00:00,  2.66it/s]\n",
            "Testing: 100%|\u001b[32m██████████\u001b[0m| 10/10 [00:03<00:00,  2.77it/s]\n"
          ]
        },
        {
          "name": "stdout",
          "output_type": "stream",
          "text": [
            "Chromosome: 2\n"
          ]
        },
        {
          "name": "stderr",
          "output_type": "stream",
          "text": [
            "Training: 100%|\u001b[34m██████████\u001b[0m| 49/49 [00:16<00:00,  2.93it/s]\n",
            "Testing: 100%|\u001b[32m██████████\u001b[0m| 10/10 [00:03<00:00,  3.11it/s]\n"
          ]
        },
        {
          "name": "stdout",
          "output_type": "stream",
          "text": [
            "Chromosome: 3\n"
          ]
        },
        {
          "name": "stderr",
          "output_type": "stream",
          "text": [
            "Training: 100%|\u001b[34m██████████\u001b[0m| 49/49 [00:17<00:00,  2.87it/s]\n",
            "Testing: 100%|\u001b[32m██████████\u001b[0m| 10/10 [00:03<00:00,  3.05it/s]\n"
          ]
        },
        {
          "name": "stdout",
          "output_type": "stream",
          "text": [
            "Chromosome: 4\n"
          ]
        },
        {
          "name": "stderr",
          "output_type": "stream",
          "text": [
            "Training: 100%|\u001b[34m██████████\u001b[0m| 49/49 [00:16<00:00,  3.01it/s]\n",
            "Testing: 100%|\u001b[32m██████████\u001b[0m| 10/10 [00:03<00:00,  3.00it/s]\n"
          ]
        },
        {
          "name": "stdout",
          "output_type": "stream",
          "text": [
            "Chromosome: 5\n"
          ]
        },
        {
          "name": "stderr",
          "output_type": "stream",
          "text": [
            "Training: 100%|\u001b[34m██████████\u001b[0m| 49/49 [00:17<00:00,  2.87it/s]\n",
            "Testing: 100%|\u001b[32m██████████\u001b[0m| 10/10 [00:03<00:00,  3.09it/s]\n"
          ]
        },
        {
          "name": "stdout",
          "output_type": "stream",
          "text": [
            "Chromosome: 6\n"
          ]
        },
        {
          "name": "stderr",
          "output_type": "stream",
          "text": [
            "Training: 100%|\u001b[34m██████████\u001b[0m| 49/49 [00:17<00:00,  2.88it/s]\n",
            "Testing: 100%|\u001b[32m██████████\u001b[0m| 10/10 [00:03<00:00,  3.14it/s]\n"
          ]
        },
        {
          "name": "stdout",
          "output_type": "stream",
          "text": [
            "Chromosome: 7\n"
          ]
        },
        {
          "name": "stderr",
          "output_type": "stream",
          "text": [
            "Training: 100%|\u001b[34m██████████\u001b[0m| 49/49 [00:16<00:00,  3.02it/s]\n",
            "Testing: 100%|\u001b[32m██████████\u001b[0m| 10/10 [00:03<00:00,  3.14it/s]\n"
          ]
        },
        {
          "name": "stdout",
          "output_type": "stream",
          "text": [
            "Chromosome: 8\n"
          ]
        },
        {
          "name": "stderr",
          "output_type": "stream",
          "text": [
            "Training: 100%|\u001b[34m██████████\u001b[0m| 49/49 [00:16<00:00,  3.02it/s]\n",
            "Testing: 100%|\u001b[32m██████████\u001b[0m| 10/10 [00:03<00:00,  3.13it/s]\n"
          ]
        },
        {
          "name": "stdout",
          "output_type": "stream",
          "text": [
            "Chromosome: 9\n"
          ]
        },
        {
          "name": "stderr",
          "output_type": "stream",
          "text": [
            "Training: 100%|\u001b[34m██████████\u001b[0m| 49/49 [00:16<00:00,  3.00it/s]\n",
            "Testing: 100%|\u001b[32m██████████\u001b[0m| 10/10 [00:03<00:00,  3.13it/s]\n"
          ]
        },
        {
          "name": "stdout",
          "output_type": "stream",
          "text": [
            "Chromosome: 10\n"
          ]
        },
        {
          "name": "stderr",
          "output_type": "stream",
          "text": [
            "Training: 100%|\u001b[34m██████████\u001b[0m| 49/49 [00:16<00:00,  3.01it/s]\n",
            "Testing: 100%|\u001b[32m██████████\u001b[0m| 10/10 [00:03<00:00,  3.09it/s]\n"
          ]
        },
        {
          "name": "stdout",
          "output_type": "stream",
          "text": [
            "Chromosome: 11\n"
          ]
        },
        {
          "name": "stderr",
          "output_type": "stream",
          "text": [
            "Training: 100%|\u001b[34m██████████\u001b[0m| 49/49 [00:16<00:00,  3.02it/s]\n",
            "Testing: 100%|\u001b[32m██████████\u001b[0m| 10/10 [00:03<00:00,  3.09it/s]\n"
          ]
        },
        {
          "name": "stdout",
          "output_type": "stream",
          "text": [
            "Chromosome: 12\n"
          ]
        },
        {
          "name": "stderr",
          "output_type": "stream",
          "text": [
            "Training: 100%|\u001b[34m██████████\u001b[0m| 49/49 [00:16<00:00,  3.00it/s]\n",
            "Testing: 100%|\u001b[32m██████████\u001b[0m| 10/10 [00:03<00:00,  3.13it/s]\n"
          ]
        },
        {
          "name": "stdout",
          "output_type": "stream",
          "text": [
            "Chromosome: 13\n"
          ]
        },
        {
          "name": "stderr",
          "output_type": "stream",
          "text": [
            "Training: 100%|\u001b[34m██████████\u001b[0m| 49/49 [00:16<00:00,  3.03it/s]\n",
            "Testing: 100%|\u001b[32m██████████\u001b[0m| 10/10 [00:03<00:00,  3.11it/s]\n"
          ]
        },
        {
          "name": "stdout",
          "output_type": "stream",
          "text": [
            "Chromosome: 14\n"
          ]
        },
        {
          "name": "stderr",
          "output_type": "stream",
          "text": [
            "Training: 100%|\u001b[34m██████████\u001b[0m| 49/49 [00:16<00:00,  3.03it/s]\n",
            "Testing: 100%|\u001b[32m██████████\u001b[0m| 10/10 [00:03<00:00,  3.10it/s]\n"
          ]
        },
        {
          "name": "stdout",
          "output_type": "stream",
          "text": [
            "Chromosome: 15\n"
          ]
        },
        {
          "name": "stderr",
          "output_type": "stream",
          "text": [
            "Training: 100%|\u001b[34m██████████\u001b[0m| 49/49 [00:16<00:00,  3.03it/s]\n",
            "Testing: 100%|\u001b[32m██████████\u001b[0m| 10/10 [00:03<00:00,  3.11it/s]\n"
          ]
        },
        {
          "name": "stdout",
          "output_type": "stream",
          "text": [
            "Chromosome: 16\n"
          ]
        },
        {
          "name": "stderr",
          "output_type": "stream",
          "text": [
            "Training: 100%|\u001b[34m██████████\u001b[0m| 49/49 [00:16<00:00,  3.05it/s]\n",
            "Testing: 100%|\u001b[32m██████████\u001b[0m| 10/10 [00:03<00:00,  3.16it/s]\n"
          ]
        },
        {
          "name": "stdout",
          "output_type": "stream",
          "text": [
            "Chromosome: 17\n"
          ]
        },
        {
          "name": "stderr",
          "output_type": "stream",
          "text": [
            "Training: 100%|\u001b[34m██████████\u001b[0m| 49/49 [00:15<00:00,  3.06it/s]\n",
            "Testing: 100%|\u001b[32m██████████\u001b[0m| 10/10 [00:03<00:00,  3.16it/s]\n"
          ]
        },
        {
          "name": "stdout",
          "output_type": "stream",
          "text": [
            "Chromosome: 18\n"
          ]
        },
        {
          "name": "stderr",
          "output_type": "stream",
          "text": [
            "Training: 100%|\u001b[34m██████████\u001b[0m| 49/49 [00:16<00:00,  3.02it/s]\n",
            "Testing: 100%|\u001b[32m██████████\u001b[0m| 10/10 [00:03<00:00,  3.15it/s]\n"
          ]
        },
        {
          "name": "stdout",
          "output_type": "stream",
          "text": [
            "Chromosome: 19\n"
          ]
        },
        {
          "name": "stderr",
          "output_type": "stream",
          "text": [
            "Training: 100%|\u001b[34m██████████\u001b[0m| 49/49 [00:16<00:00,  3.00it/s]\n",
            "Testing: 100%|\u001b[32m██████████\u001b[0m| 10/10 [00:03<00:00,  3.12it/s]\n"
          ]
        },
        {
          "name": "stdout",
          "output_type": "stream",
          "text": [
            "Chromosome: 20\n"
          ]
        },
        {
          "name": "stderr",
          "output_type": "stream",
          "text": [
            "Training: 100%|\u001b[34m██████████\u001b[0m| 49/49 [00:15<00:00,  3.07it/s]\n",
            "Testing: 100%|\u001b[32m██████████\u001b[0m| 10/10 [00:03<00:00,  3.09it/s]\n"
          ]
        },
        {
          "name": "stdout",
          "output_type": "stream",
          "text": [
            "Chromosome: 21\n"
          ]
        },
        {
          "name": "stderr",
          "output_type": "stream",
          "text": [
            "Training: 100%|\u001b[34m██████████\u001b[0m| 49/49 [00:15<00:00,  3.06it/s]\n",
            "Testing: 100%|\u001b[32m██████████\u001b[0m| 10/10 [00:03<00:00,  3.14it/s]\n"
          ]
        },
        {
          "name": "stdout",
          "output_type": "stream",
          "text": [
            "Chromosome: 22\n"
          ]
        },
        {
          "name": "stderr",
          "output_type": "stream",
          "text": [
            "Training: 100%|\u001b[34m██████████\u001b[0m| 49/49 [00:16<00:00,  3.04it/s]\n",
            "Testing: 100%|\u001b[32m██████████\u001b[0m| 10/10 [00:03<00:00,  3.15it/s]\n"
          ]
        },
        {
          "name": "stdout",
          "output_type": "stream",
          "text": [
            "Chromosome: 23\n"
          ]
        },
        {
          "name": "stderr",
          "output_type": "stream",
          "text": [
            "Training: 100%|\u001b[34m██████████\u001b[0m| 49/49 [00:16<00:00,  3.05it/s]\n",
            "Testing: 100%|\u001b[32m██████████\u001b[0m| 10/10 [00:03<00:00,  3.15it/s]\n"
          ]
        },
        {
          "name": "stdout",
          "output_type": "stream",
          "text": [
            "Chromosome: 24\n"
          ]
        },
        {
          "name": "stderr",
          "output_type": "stream",
          "text": [
            "Training: 100%|\u001b[34m██████████\u001b[0m| 49/49 [00:16<00:00,  3.04it/s]\n",
            "Testing: 100%|\u001b[32m██████████\u001b[0m| 10/10 [00:03<00:00,  3.10it/s]\n"
          ]
        },
        {
          "name": "stdout",
          "output_type": "stream",
          "text": [
            "Chromosome: 25\n"
          ]
        },
        {
          "name": "stderr",
          "output_type": "stream",
          "text": [
            "Training: 100%|\u001b[34m██████████\u001b[0m| 49/49 [00:16<00:00,  3.01it/s]\n",
            "Testing: 100%|\u001b[32m██████████\u001b[0m| 10/10 [00:03<00:00,  3.13it/s]\n"
          ]
        },
        {
          "name": "stdout",
          "output_type": "stream",
          "text": [
            "Chromosome: 26\n"
          ]
        },
        {
          "name": "stderr",
          "output_type": "stream",
          "text": [
            "Training: 100%|\u001b[34m██████████\u001b[0m| 49/49 [00:16<00:00,  3.03it/s]\n",
            "Testing: 100%|\u001b[32m██████████\u001b[0m| 10/10 [00:03<00:00,  3.10it/s]\n"
          ]
        },
        {
          "name": "stdout",
          "output_type": "stream",
          "text": [
            "Chromosome: 27\n"
          ]
        },
        {
          "name": "stderr",
          "output_type": "stream",
          "text": [
            "Training: 100%|\u001b[34m██████████\u001b[0m| 49/49 [00:16<00:00,  3.01it/s]\n",
            "Testing: 100%|\u001b[32m██████████\u001b[0m| 10/10 [00:03<00:00,  3.08it/s]\n"
          ]
        },
        {
          "name": "stdout",
          "output_type": "stream",
          "text": [
            "Chromosome: 28\n"
          ]
        },
        {
          "name": "stderr",
          "output_type": "stream",
          "text": [
            "Training: 100%|\u001b[34m██████████\u001b[0m| 49/49 [00:16<00:00,  3.03it/s]\n",
            "Testing: 100%|\u001b[32m██████████\u001b[0m| 10/10 [00:03<00:00,  3.11it/s]\n"
          ]
        },
        {
          "name": "stdout",
          "output_type": "stream",
          "text": [
            "Chromosome: 29\n"
          ]
        },
        {
          "name": "stderr",
          "output_type": "stream",
          "text": [
            "Training: 100%|\u001b[34m██████████\u001b[0m| 49/49 [00:16<00:00,  3.02it/s]\n",
            "Testing: 100%|\u001b[32m██████████\u001b[0m| 10/10 [00:03<00:00,  3.12it/s]\n"
          ]
        },
        {
          "name": "stdout",
          "output_type": "stream",
          "text": [
            "Chromosome: 30\n"
          ]
        },
        {
          "name": "stderr",
          "output_type": "stream",
          "text": [
            "Training: 100%|\u001b[34m██████████\u001b[0m| 49/49 [00:16<00:00,  3.05it/s]\n",
            "Testing: 100%|\u001b[32m██████████\u001b[0m| 10/10 [00:03<00:00,  3.15it/s]\n"
          ]
        },
        {
          "name": "stdout",
          "output_type": "stream",
          "text": [
            "Chromosome: 31\n"
          ]
        },
        {
          "name": "stderr",
          "output_type": "stream",
          "text": [
            "Training: 100%|\u001b[34m██████████\u001b[0m| 49/49 [00:15<00:00,  3.07it/s]\n",
            "Testing: 100%|\u001b[32m██████████\u001b[0m| 10/10 [00:03<00:00,  3.05it/s]\n"
          ]
        },
        {
          "name": "stdout",
          "output_type": "stream",
          "text": [
            "Chromosome: 32\n"
          ]
        },
        {
          "name": "stderr",
          "output_type": "stream",
          "text": [
            "Training: 100%|\u001b[34m██████████\u001b[0m| 49/49 [00:15<00:00,  3.07it/s]\n",
            "Testing: 100%|\u001b[32m██████████\u001b[0m| 10/10 [00:03<00:00,  3.15it/s]\n"
          ]
        },
        {
          "name": "stdout",
          "output_type": "stream",
          "text": [
            "Chromosome: 33\n"
          ]
        },
        {
          "name": "stderr",
          "output_type": "stream",
          "text": [
            "Training: 100%|\u001b[34m██████████\u001b[0m| 49/49 [00:15<00:00,  3.07it/s]\n",
            "Testing: 100%|\u001b[32m██████████\u001b[0m| 10/10 [00:03<00:00,  3.17it/s]\n"
          ]
        },
        {
          "name": "stdout",
          "output_type": "stream",
          "text": [
            "Chromosome: 34\n"
          ]
        },
        {
          "name": "stderr",
          "output_type": "stream",
          "text": [
            "Training: 100%|\u001b[34m██████████\u001b[0m| 49/49 [00:15<00:00,  3.08it/s]\n",
            "Testing: 100%|\u001b[32m██████████\u001b[0m| 10/10 [00:03<00:00,  3.17it/s]\n"
          ]
        },
        {
          "name": "stdout",
          "output_type": "stream",
          "text": [
            "Chromosome: 35\n"
          ]
        },
        {
          "name": "stderr",
          "output_type": "stream",
          "text": [
            "Training: 100%|\u001b[34m██████████\u001b[0m| 49/49 [00:16<00:00,  3.03it/s]\n",
            "Testing: 100%|\u001b[32m██████████\u001b[0m| 10/10 [00:03<00:00,  3.09it/s]\n"
          ]
        },
        {
          "name": "stdout",
          "output_type": "stream",
          "text": [
            "Chromosome: 36\n"
          ]
        },
        {
          "name": "stderr",
          "output_type": "stream",
          "text": [
            "Training: 100%|\u001b[34m██████████\u001b[0m| 49/49 [00:16<00:00,  3.00it/s]\n",
            "Testing: 100%|\u001b[32m██████████\u001b[0m| 10/10 [00:03<00:00,  3.09it/s]\n"
          ]
        },
        {
          "name": "stdout",
          "output_type": "stream",
          "text": [
            "Chromosome: 37\n"
          ]
        },
        {
          "name": "stderr",
          "output_type": "stream",
          "text": [
            "Training: 100%|\u001b[34m██████████\u001b[0m| 49/49 [00:16<00:00,  3.00it/s]\n",
            "Testing: 100%|\u001b[32m██████████\u001b[0m| 10/10 [00:03<00:00,  3.14it/s]\n"
          ]
        },
        {
          "name": "stdout",
          "output_type": "stream",
          "text": [
            "Chromosome: 38\n"
          ]
        },
        {
          "name": "stderr",
          "output_type": "stream",
          "text": [
            "Training: 100%|\u001b[34m██████████\u001b[0m| 49/49 [00:16<00:00,  3.03it/s]\n",
            "Testing: 100%|\u001b[32m██████████\u001b[0m| 10/10 [00:03<00:00,  3.12it/s]\n"
          ]
        },
        {
          "name": "stdout",
          "output_type": "stream",
          "text": [
            "Chromosome: 39\n"
          ]
        },
        {
          "name": "stderr",
          "output_type": "stream",
          "text": [
            "Training: 100%|\u001b[34m██████████\u001b[0m| 49/49 [00:16<00:00,  3.01it/s]\n",
            "Testing: 100%|\u001b[32m██████████\u001b[0m| 10/10 [00:03<00:00,  3.10it/s]\n"
          ]
        },
        {
          "name": "stdout",
          "output_type": "stream",
          "text": [
            "Chromosome: 40\n"
          ]
        },
        {
          "name": "stderr",
          "output_type": "stream",
          "text": [
            "Training: 100%|\u001b[34m██████████\u001b[0m| 49/49 [00:16<00:00,  3.03it/s]\n",
            "Testing: 100%|\u001b[32m██████████\u001b[0m| 10/10 [00:03<00:00,  3.13it/s]\n"
          ]
        },
        {
          "name": "stdout",
          "output_type": "stream",
          "text": [
            "Chromosome: 41\n"
          ]
        },
        {
          "name": "stderr",
          "output_type": "stream",
          "text": [
            "Training: 100%|\u001b[34m██████████\u001b[0m| 49/49 [00:16<00:00,  3.05it/s]\n",
            "Testing: 100%|\u001b[32m██████████\u001b[0m| 10/10 [00:03<00:00,  3.13it/s]\n"
          ]
        },
        {
          "name": "stdout",
          "output_type": "stream",
          "text": [
            "Chromosome: 42\n"
          ]
        },
        {
          "name": "stderr",
          "output_type": "stream",
          "text": [
            "Training: 100%|\u001b[34m██████████\u001b[0m| 49/49 [00:16<00:00,  3.01it/s]\n",
            "Testing: 100%|\u001b[32m██████████\u001b[0m| 10/10 [00:03<00:00,  3.11it/s]\n"
          ]
        },
        {
          "name": "stdout",
          "output_type": "stream",
          "text": [
            "Chromosome: 43\n"
          ]
        },
        {
          "name": "stderr",
          "output_type": "stream",
          "text": [
            "Training: 100%|\u001b[34m██████████\u001b[0m| 49/49 [00:16<00:00,  3.04it/s]\n",
            "Testing: 100%|\u001b[32m██████████\u001b[0m| 10/10 [00:03<00:00,  3.17it/s]\n"
          ]
        },
        {
          "name": "stdout",
          "output_type": "stream",
          "text": [
            "Chromosome: 44\n"
          ]
        },
        {
          "name": "stderr",
          "output_type": "stream",
          "text": [
            "Training: 100%|\u001b[34m██████████\u001b[0m| 49/49 [00:16<00:00,  3.05it/s]\n",
            "Testing: 100%|\u001b[32m██████████\u001b[0m| 10/10 [00:03<00:00,  3.16it/s]\n"
          ]
        },
        {
          "name": "stdout",
          "output_type": "stream",
          "text": [
            "Chromosome: 45\n"
          ]
        },
        {
          "name": "stderr",
          "output_type": "stream",
          "text": [
            "Training: 100%|\u001b[34m██████████\u001b[0m| 49/49 [00:16<00:00,  3.03it/s]\n",
            "Testing: 100%|\u001b[32m██████████\u001b[0m| 10/10 [00:03<00:00,  3.11it/s]\n"
          ]
        },
        {
          "name": "stdout",
          "output_type": "stream",
          "text": [
            "Chromosome: 46\n"
          ]
        },
        {
          "name": "stderr",
          "output_type": "stream",
          "text": [
            "Training: 100%|\u001b[34m██████████\u001b[0m| 49/49 [00:16<00:00,  3.01it/s]\n",
            "Testing: 100%|\u001b[32m██████████\u001b[0m| 10/10 [00:03<00:00,  3.15it/s]\n"
          ]
        },
        {
          "name": "stdout",
          "output_type": "stream",
          "text": [
            "Chromosome: 47\n"
          ]
        },
        {
          "name": "stderr",
          "output_type": "stream",
          "text": [
            "Training: 100%|\u001b[34m██████████\u001b[0m| 49/49 [00:16<00:00,  3.03it/s]\n",
            "Testing: 100%|\u001b[32m██████████\u001b[0m| 10/10 [00:03<00:00,  3.13it/s]\n"
          ]
        },
        {
          "name": "stdout",
          "output_type": "stream",
          "text": [
            "Chromosome: 48\n"
          ]
        },
        {
          "name": "stderr",
          "output_type": "stream",
          "text": [
            "Training: 100%|\u001b[34m██████████\u001b[0m| 49/49 [00:16<00:00,  3.01it/s]\n",
            "Testing: 100%|\u001b[32m██████████\u001b[0m| 10/10 [00:03<00:00,  3.12it/s]\n"
          ]
        },
        {
          "name": "stdout",
          "output_type": "stream",
          "text": [
            "Chromosome: 49\n"
          ]
        },
        {
          "name": "stderr",
          "output_type": "stream",
          "text": [
            "Training: 100%|\u001b[34m██████████\u001b[0m| 49/49 [00:16<00:00,  3.02it/s]\n",
            "Testing: 100%|\u001b[32m██████████\u001b[0m| 10/10 [00:03<00:00,  3.10it/s]\n"
          ]
        },
        {
          "name": "stdout",
          "output_type": "stream",
          "text": [
            "Chromosome: 50\n"
          ]
        },
        {
          "name": "stderr",
          "output_type": "stream",
          "text": [
            "Training: 100%|\u001b[34m██████████\u001b[0m| 49/49 [00:16<00:00,  3.02it/s]\n",
            "Testing: 100%|\u001b[32m██████████\u001b[0m| 10/10 [00:03<00:00,  3.10it/s]\n"
          ]
        },
        {
          "name": "stdout",
          "output_type": "stream",
          "text": [
            "current iteration: 6 / 20 , best train fitness: 0.15000669354078722, average train fitness: 0.12965970355029013, average test fitness: 0.1275271840691567\n",
            "-------------------------------------------------------------------------------------------------\n",
            "Chromosome: 1\n"
          ]
        },
        {
          "name": "stderr",
          "output_type": "stream",
          "text": [
            "Training: 100%|\u001b[34m██████████\u001b[0m| 49/49 [00:16<00:00,  3.01it/s]\n",
            "Testing: 100%|\u001b[32m██████████\u001b[0m| 10/10 [00:03<00:00,  3.15it/s]\n"
          ]
        },
        {
          "name": "stdout",
          "output_type": "stream",
          "text": [
            "Chromosome: 2\n"
          ]
        },
        {
          "name": "stderr",
          "output_type": "stream",
          "text": [
            "Training: 100%|\u001b[34m██████████\u001b[0m| 49/49 [00:15<00:00,  3.06it/s]\n",
            "Testing: 100%|\u001b[32m██████████\u001b[0m| 10/10 [00:03<00:00,  3.17it/s]\n"
          ]
        },
        {
          "name": "stdout",
          "output_type": "stream",
          "text": [
            "Chromosome: 3\n"
          ]
        },
        {
          "name": "stderr",
          "output_type": "stream",
          "text": [
            "Training: 100%|\u001b[34m██████████\u001b[0m| 49/49 [00:16<00:00,  3.05it/s]\n",
            "Testing: 100%|\u001b[32m██████████\u001b[0m| 10/10 [00:03<00:00,  3.09it/s]\n"
          ]
        },
        {
          "name": "stdout",
          "output_type": "stream",
          "text": [
            "Chromosome: 4\n"
          ]
        },
        {
          "name": "stderr",
          "output_type": "stream",
          "text": [
            "Training: 100%|\u001b[34m██████████\u001b[0m| 49/49 [00:16<00:00,  3.02it/s]\n",
            "Testing: 100%|\u001b[32m██████████\u001b[0m| 10/10 [00:03<00:00,  3.13it/s]\n"
          ]
        },
        {
          "name": "stdout",
          "output_type": "stream",
          "text": [
            "Chromosome: 5\n"
          ]
        },
        {
          "name": "stderr",
          "output_type": "stream",
          "text": [
            "Training: 100%|\u001b[34m██████████\u001b[0m| 49/49 [00:16<00:00,  3.01it/s]\n",
            "Testing: 100%|\u001b[32m██████████\u001b[0m| 10/10 [00:03<00:00,  3.10it/s]\n"
          ]
        },
        {
          "name": "stdout",
          "output_type": "stream",
          "text": [
            "Chromosome: 6\n"
          ]
        },
        {
          "name": "stderr",
          "output_type": "stream",
          "text": [
            "Training: 100%|\u001b[34m██████████\u001b[0m| 49/49 [00:16<00:00,  3.02it/s]\n",
            "Testing: 100%|\u001b[32m██████████\u001b[0m| 10/10 [00:03<00:00,  3.16it/s]\n"
          ]
        },
        {
          "name": "stdout",
          "output_type": "stream",
          "text": [
            "Chromosome: 7\n"
          ]
        },
        {
          "name": "stderr",
          "output_type": "stream",
          "text": [
            "Training: 100%|\u001b[34m██████████\u001b[0m| 49/49 [00:16<00:00,  3.05it/s]\n",
            "Testing: 100%|\u001b[32m██████████\u001b[0m| 10/10 [00:03<00:00,  3.11it/s]\n"
          ]
        },
        {
          "name": "stdout",
          "output_type": "stream",
          "text": [
            "Chromosome: 8\n"
          ]
        },
        {
          "name": "stderr",
          "output_type": "stream",
          "text": [
            "Training: 100%|\u001b[34m██████████\u001b[0m| 49/49 [00:16<00:00,  3.01it/s]\n",
            "Testing: 100%|\u001b[32m██████████\u001b[0m| 10/10 [00:03<00:00,  3.14it/s]\n"
          ]
        },
        {
          "name": "stdout",
          "output_type": "stream",
          "text": [
            "Chromosome: 9\n"
          ]
        },
        {
          "name": "stderr",
          "output_type": "stream",
          "text": [
            "Training: 100%|\u001b[34m██████████\u001b[0m| 49/49 [00:16<00:00,  3.01it/s]\n",
            "Testing: 100%|\u001b[32m██████████\u001b[0m| 10/10 [00:03<00:00,  3.10it/s]\n"
          ]
        },
        {
          "name": "stdout",
          "output_type": "stream",
          "text": [
            "Chromosome: 10\n"
          ]
        },
        {
          "name": "stderr",
          "output_type": "stream",
          "text": [
            "Training: 100%|\u001b[34m██████████\u001b[0m| 49/49 [00:16<00:00,  3.02it/s]\n",
            "Testing: 100%|\u001b[32m██████████\u001b[0m| 10/10 [00:03<00:00,  3.10it/s]\n"
          ]
        },
        {
          "name": "stdout",
          "output_type": "stream",
          "text": [
            "Chromosome: 11\n"
          ]
        },
        {
          "name": "stderr",
          "output_type": "stream",
          "text": [
            "Training: 100%|\u001b[34m██████████\u001b[0m| 49/49 [00:16<00:00,  2.97it/s]\n",
            "Testing: 100%|\u001b[32m██████████\u001b[0m| 10/10 [00:03<00:00,  2.66it/s]\n"
          ]
        },
        {
          "name": "stdout",
          "output_type": "stream",
          "text": [
            "Chromosome: 12\n"
          ]
        },
        {
          "name": "stderr",
          "output_type": "stream",
          "text": [
            "Training: 100%|\u001b[34m██████████\u001b[0m| 49/49 [00:16<00:00,  3.06it/s]\n",
            "Testing: 100%|\u001b[32m██████████\u001b[0m| 10/10 [00:03<00:00,  3.15it/s]\n"
          ]
        },
        {
          "name": "stdout",
          "output_type": "stream",
          "text": [
            "Chromosome: 13\n"
          ]
        },
        {
          "name": "stderr",
          "output_type": "stream",
          "text": [
            "Training: 100%|\u001b[34m██████████\u001b[0m| 49/49 [00:16<00:00,  3.00it/s]\n",
            "Testing: 100%|\u001b[32m██████████\u001b[0m| 10/10 [00:03<00:00,  3.16it/s]\n"
          ]
        },
        {
          "name": "stdout",
          "output_type": "stream",
          "text": [
            "Chromosome: 14\n"
          ]
        },
        {
          "name": "stderr",
          "output_type": "stream",
          "text": [
            "Training: 100%|\u001b[34m██████████\u001b[0m| 49/49 [00:16<00:00,  3.04it/s]\n",
            "Testing: 100%|\u001b[32m██████████\u001b[0m| 10/10 [00:03<00:00,  3.13it/s]\n"
          ]
        },
        {
          "name": "stdout",
          "output_type": "stream",
          "text": [
            "Chromosome: 15\n"
          ]
        },
        {
          "name": "stderr",
          "output_type": "stream",
          "text": [
            "Training: 100%|\u001b[34m██████████\u001b[0m| 49/49 [00:16<00:00,  3.06it/s]\n",
            "Testing: 100%|\u001b[32m██████████\u001b[0m| 10/10 [00:03<00:00,  3.14it/s]\n"
          ]
        },
        {
          "name": "stdout",
          "output_type": "stream",
          "text": [
            "Chromosome: 16\n"
          ]
        },
        {
          "name": "stderr",
          "output_type": "stream",
          "text": [
            "Training: 100%|\u001b[34m██████████\u001b[0m| 49/49 [00:16<00:00,  3.04it/s]\n",
            "Testing: 100%|\u001b[32m██████████\u001b[0m| 10/10 [00:03<00:00,  3.12it/s]\n"
          ]
        },
        {
          "name": "stdout",
          "output_type": "stream",
          "text": [
            "Chromosome: 17\n"
          ]
        },
        {
          "name": "stderr",
          "output_type": "stream",
          "text": [
            "Training: 100%|\u001b[34m██████████\u001b[0m| 49/49 [00:16<00:00,  3.03it/s]\n",
            "Testing: 100%|\u001b[32m██████████\u001b[0m| 10/10 [00:03<00:00,  3.15it/s]\n"
          ]
        },
        {
          "name": "stdout",
          "output_type": "stream",
          "text": [
            "Chromosome: 18\n"
          ]
        },
        {
          "name": "stderr",
          "output_type": "stream",
          "text": [
            "Training: 100%|\u001b[34m██████████\u001b[0m| 49/49 [00:16<00:00,  3.00it/s]\n",
            "Testing: 100%|\u001b[32m██████████\u001b[0m| 10/10 [00:03<00:00,  3.08it/s]\n"
          ]
        },
        {
          "name": "stdout",
          "output_type": "stream",
          "text": [
            "Chromosome: 19\n"
          ]
        },
        {
          "name": "stderr",
          "output_type": "stream",
          "text": [
            "Training: 100%|\u001b[34m██████████\u001b[0m| 49/49 [00:16<00:00,  3.02it/s]\n",
            "Testing: 100%|\u001b[32m██████████\u001b[0m| 10/10 [00:03<00:00,  3.11it/s]\n"
          ]
        },
        {
          "name": "stdout",
          "output_type": "stream",
          "text": [
            "Chromosome: 20\n"
          ]
        },
        {
          "name": "stderr",
          "output_type": "stream",
          "text": [
            "Training: 100%|\u001b[34m██████████\u001b[0m| 49/49 [00:16<00:00,  3.01it/s]\n",
            "Testing: 100%|\u001b[32m██████████\u001b[0m| 10/10 [00:03<00:00,  3.04it/s]\n"
          ]
        },
        {
          "name": "stdout",
          "output_type": "stream",
          "text": [
            "Chromosome: 21\n"
          ]
        },
        {
          "name": "stderr",
          "output_type": "stream",
          "text": [
            "Training: 100%|\u001b[34m██████████\u001b[0m| 49/49 [00:16<00:00,  3.00it/s]\n",
            "Testing: 100%|\u001b[32m██████████\u001b[0m| 10/10 [00:03<00:00,  3.13it/s]\n"
          ]
        },
        {
          "name": "stdout",
          "output_type": "stream",
          "text": [
            "Chromosome: 22\n"
          ]
        },
        {
          "name": "stderr",
          "output_type": "stream",
          "text": [
            "Training: 100%|\u001b[34m██████████\u001b[0m| 49/49 [00:16<00:00,  3.00it/s]\n",
            "Testing: 100%|\u001b[32m██████████\u001b[0m| 10/10 [00:03<00:00,  3.09it/s]\n"
          ]
        },
        {
          "name": "stdout",
          "output_type": "stream",
          "text": [
            "Chromosome: 23\n"
          ]
        },
        {
          "name": "stderr",
          "output_type": "stream",
          "text": [
            "Training: 100%|\u001b[34m██████████\u001b[0m| 49/49 [00:16<00:00,  3.03it/s]\n",
            "Testing: 100%|\u001b[32m██████████\u001b[0m| 10/10 [00:03<00:00,  3.12it/s]\n"
          ]
        },
        {
          "name": "stdout",
          "output_type": "stream",
          "text": [
            "Chromosome: 24\n"
          ]
        },
        {
          "name": "stderr",
          "output_type": "stream",
          "text": [
            "Training: 100%|\u001b[34m██████████\u001b[0m| 49/49 [00:16<00:00,  3.02it/s]\n",
            "Testing: 100%|\u001b[32m██████████\u001b[0m| 10/10 [00:03<00:00,  2.92it/s]\n"
          ]
        },
        {
          "name": "stdout",
          "output_type": "stream",
          "text": [
            "Chromosome: 25\n"
          ]
        },
        {
          "name": "stderr",
          "output_type": "stream",
          "text": [
            "Training: 100%|\u001b[34m██████████\u001b[0m| 49/49 [00:16<00:00,  2.91it/s]\n",
            "Testing: 100%|\u001b[32m██████████\u001b[0m| 10/10 [00:03<00:00,  3.11it/s]\n"
          ]
        },
        {
          "name": "stdout",
          "output_type": "stream",
          "text": [
            "Chromosome: 26\n"
          ]
        },
        {
          "name": "stderr",
          "output_type": "stream",
          "text": [
            "Training: 100%|\u001b[34m██████████\u001b[0m| 49/49 [00:16<00:00,  3.01it/s]\n",
            "Testing: 100%|\u001b[32m██████████\u001b[0m| 10/10 [00:03<00:00,  3.12it/s]\n"
          ]
        },
        {
          "name": "stdout",
          "output_type": "stream",
          "text": [
            "Chromosome: 27\n"
          ]
        },
        {
          "name": "stderr",
          "output_type": "stream",
          "text": [
            "Training: 100%|\u001b[34m██████████\u001b[0m| 49/49 [00:16<00:00,  3.01it/s]\n",
            "Testing: 100%|\u001b[32m██████████\u001b[0m| 10/10 [00:03<00:00,  3.10it/s]\n"
          ]
        },
        {
          "name": "stdout",
          "output_type": "stream",
          "text": [
            "Chromosome: 28\n"
          ]
        },
        {
          "name": "stderr",
          "output_type": "stream",
          "text": [
            "Training: 100%|\u001b[34m██████████\u001b[0m| 49/49 [00:16<00:00,  3.02it/s]\n",
            "Testing: 100%|\u001b[32m██████████\u001b[0m| 10/10 [00:03<00:00,  3.09it/s]\n"
          ]
        },
        {
          "name": "stdout",
          "output_type": "stream",
          "text": [
            "Chromosome: 29\n"
          ]
        },
        {
          "name": "stderr",
          "output_type": "stream",
          "text": [
            "Training: 100%|\u001b[34m██████████\u001b[0m| 49/49 [00:16<00:00,  2.97it/s]\n",
            "Testing: 100%|\u001b[32m██████████\u001b[0m| 10/10 [00:03<00:00,  3.12it/s]\n"
          ]
        },
        {
          "name": "stdout",
          "output_type": "stream",
          "text": [
            "Chromosome: 30\n"
          ]
        },
        {
          "name": "stderr",
          "output_type": "stream",
          "text": [
            "Training: 100%|\u001b[34m██████████\u001b[0m| 49/49 [00:16<00:00,  2.89it/s]\n",
            "Testing: 100%|\u001b[32m██████████\u001b[0m| 10/10 [00:03<00:00,  3.01it/s]\n"
          ]
        },
        {
          "name": "stdout",
          "output_type": "stream",
          "text": [
            "Chromosome: 31\n"
          ]
        },
        {
          "name": "stderr",
          "output_type": "stream",
          "text": [
            "Training: 100%|\u001b[34m██████████\u001b[0m| 49/49 [00:17<00:00,  2.87it/s]\n",
            "Testing: 100%|\u001b[32m██████████\u001b[0m| 10/10 [00:03<00:00,  2.93it/s]\n"
          ]
        },
        {
          "name": "stdout",
          "output_type": "stream",
          "text": [
            "Chromosome: 32\n"
          ]
        },
        {
          "name": "stderr",
          "output_type": "stream",
          "text": [
            "Training: 100%|\u001b[34m██████████\u001b[0m| 49/49 [00:16<00:00,  2.94it/s]\n",
            "Testing: 100%|\u001b[32m██████████\u001b[0m| 10/10 [00:03<00:00,  3.01it/s]\n"
          ]
        },
        {
          "name": "stdout",
          "output_type": "stream",
          "text": [
            "Chromosome: 33\n"
          ]
        },
        {
          "name": "stderr",
          "output_type": "stream",
          "text": [
            "Training: 100%|\u001b[34m██████████\u001b[0m| 49/49 [00:17<00:00,  2.81it/s]\n",
            "Testing: 100%|\u001b[32m██████████\u001b[0m| 10/10 [00:03<00:00,  3.07it/s]\n"
          ]
        },
        {
          "name": "stdout",
          "output_type": "stream",
          "text": [
            "Chromosome: 34\n"
          ]
        },
        {
          "name": "stderr",
          "output_type": "stream",
          "text": [
            "Training: 100%|\u001b[34m██████████\u001b[0m| 49/49 [00:16<00:00,  2.94it/s]\n",
            "Testing: 100%|\u001b[32m██████████\u001b[0m| 10/10 [00:03<00:00,  2.90it/s]\n"
          ]
        },
        {
          "name": "stdout",
          "output_type": "stream",
          "text": [
            "Chromosome: 35\n"
          ]
        },
        {
          "name": "stderr",
          "output_type": "stream",
          "text": [
            "Training: 100%|\u001b[34m██████████\u001b[0m| 49/49 [00:16<00:00,  2.89it/s]\n",
            "Testing: 100%|\u001b[32m██████████\u001b[0m| 10/10 [00:03<00:00,  3.07it/s]\n"
          ]
        },
        {
          "name": "stdout",
          "output_type": "stream",
          "text": [
            "Chromosome: 36\n"
          ]
        },
        {
          "name": "stderr",
          "output_type": "stream",
          "text": [
            "Training: 100%|\u001b[34m██████████\u001b[0m| 49/49 [00:16<00:00,  2.96it/s]\n",
            "Testing: 100%|\u001b[32m██████████\u001b[0m| 10/10 [00:03<00:00,  3.05it/s]\n"
          ]
        },
        {
          "name": "stdout",
          "output_type": "stream",
          "text": [
            "Chromosome: 37\n"
          ]
        },
        {
          "name": "stderr",
          "output_type": "stream",
          "text": [
            "Training: 100%|\u001b[34m██████████\u001b[0m| 49/49 [00:16<00:00,  2.98it/s]\n",
            "Testing: 100%|\u001b[32m██████████\u001b[0m| 10/10 [00:03<00:00,  3.07it/s]\n"
          ]
        },
        {
          "name": "stdout",
          "output_type": "stream",
          "text": [
            "Chromosome: 38\n"
          ]
        },
        {
          "name": "stderr",
          "output_type": "stream",
          "text": [
            "Training: 100%|\u001b[34m██████████\u001b[0m| 49/49 [00:16<00:00,  2.98it/s]\n",
            "Testing: 100%|\u001b[32m██████████\u001b[0m| 10/10 [00:03<00:00,  3.00it/s]\n"
          ]
        },
        {
          "name": "stdout",
          "output_type": "stream",
          "text": [
            "Chromosome: 39\n"
          ]
        },
        {
          "name": "stderr",
          "output_type": "stream",
          "text": [
            "Training: 100%|\u001b[34m██████████\u001b[0m| 49/49 [00:16<00:00,  3.05it/s]\n",
            "Testing: 100%|\u001b[32m██████████\u001b[0m| 10/10 [00:03<00:00,  3.17it/s]\n"
          ]
        },
        {
          "name": "stdout",
          "output_type": "stream",
          "text": [
            "Chromosome: 40\n"
          ]
        },
        {
          "name": "stderr",
          "output_type": "stream",
          "text": [
            "Training: 100%|\u001b[34m██████████\u001b[0m| 49/49 [00:16<00:00,  3.04it/s]\n",
            "Testing: 100%|\u001b[32m██████████\u001b[0m| 10/10 [00:03<00:00,  3.14it/s]\n"
          ]
        },
        {
          "name": "stdout",
          "output_type": "stream",
          "text": [
            "Chromosome: 41\n"
          ]
        },
        {
          "name": "stderr",
          "output_type": "stream",
          "text": [
            "Training: 100%|\u001b[34m██████████\u001b[0m| 49/49 [00:16<00:00,  3.04it/s]\n",
            "Testing: 100%|\u001b[32m██████████\u001b[0m| 10/10 [00:03<00:00,  3.14it/s]\n"
          ]
        },
        {
          "name": "stdout",
          "output_type": "stream",
          "text": [
            "Chromosome: 42\n"
          ]
        },
        {
          "name": "stderr",
          "output_type": "stream",
          "text": [
            "Training: 100%|\u001b[34m██████████\u001b[0m| 49/49 [00:16<00:00,  2.99it/s]\n",
            "Testing: 100%|\u001b[32m██████████\u001b[0m| 10/10 [00:03<00:00,  3.12it/s]\n"
          ]
        },
        {
          "name": "stdout",
          "output_type": "stream",
          "text": [
            "Chromosome: 43\n"
          ]
        },
        {
          "name": "stderr",
          "output_type": "stream",
          "text": [
            "Training: 100%|\u001b[34m██████████\u001b[0m| 49/49 [00:17<00:00,  2.74it/s]\n",
            "Testing: 100%|\u001b[32m██████████\u001b[0m| 10/10 [00:03<00:00,  2.79it/s]\n"
          ]
        },
        {
          "name": "stdout",
          "output_type": "stream",
          "text": [
            "Chromosome: 44\n"
          ]
        },
        {
          "name": "stderr",
          "output_type": "stream",
          "text": [
            "Training: 100%|\u001b[34m██████████\u001b[0m| 49/49 [00:17<00:00,  2.88it/s]\n",
            "Testing: 100%|\u001b[32m██████████\u001b[0m| 10/10 [00:03<00:00,  2.99it/s]\n"
          ]
        },
        {
          "name": "stdout",
          "output_type": "stream",
          "text": [
            "Chromosome: 45\n"
          ]
        },
        {
          "name": "stderr",
          "output_type": "stream",
          "text": [
            "Training: 100%|\u001b[34m██████████\u001b[0m| 49/49 [00:18<00:00,  2.61it/s]\n",
            "Testing: 100%|\u001b[32m██████████\u001b[0m| 10/10 [00:03<00:00,  2.87it/s]\n"
          ]
        },
        {
          "name": "stdout",
          "output_type": "stream",
          "text": [
            "Chromosome: 46\n"
          ]
        },
        {
          "name": "stderr",
          "output_type": "stream",
          "text": [
            "Training: 100%|\u001b[34m██████████\u001b[0m| 49/49 [00:19<00:00,  2.46it/s]\n",
            "Testing: 100%|\u001b[32m██████████\u001b[0m| 10/10 [00:03<00:00,  2.73it/s]\n"
          ]
        },
        {
          "name": "stdout",
          "output_type": "stream",
          "text": [
            "Chromosome: 47\n"
          ]
        },
        {
          "name": "stderr",
          "output_type": "stream",
          "text": [
            "Training: 100%|\u001b[34m██████████\u001b[0m| 49/49 [00:16<00:00,  2.96it/s]\n",
            "Testing: 100%|\u001b[32m██████████\u001b[0m| 10/10 [00:04<00:00,  2.37it/s]\n"
          ]
        },
        {
          "name": "stdout",
          "output_type": "stream",
          "text": [
            "Chromosome: 48\n"
          ]
        },
        {
          "name": "stderr",
          "output_type": "stream",
          "text": [
            "Training: 100%|\u001b[34m██████████\u001b[0m| 49/49 [00:17<00:00,  2.79it/s]\n",
            "Testing: 100%|\u001b[32m██████████\u001b[0m| 10/10 [00:03<00:00,  3.12it/s]\n"
          ]
        },
        {
          "name": "stdout",
          "output_type": "stream",
          "text": [
            "Chromosome: 49\n"
          ]
        },
        {
          "name": "stderr",
          "output_type": "stream",
          "text": [
            "Training: 100%|\u001b[34m██████████\u001b[0m| 49/49 [00:16<00:00,  3.06it/s]\n",
            "Testing: 100%|\u001b[32m██████████\u001b[0m| 10/10 [00:03<00:00,  3.06it/s]\n"
          ]
        },
        {
          "name": "stdout",
          "output_type": "stream",
          "text": [
            "Chromosome: 50\n"
          ]
        },
        {
          "name": "stderr",
          "output_type": "stream",
          "text": [
            "Training: 100%|\u001b[34m██████████\u001b[0m| 49/49 [00:19<00:00,  2.45it/s]\n",
            "Testing: 100%|\u001b[32m██████████\u001b[0m| 10/10 [00:04<00:00,  2.15it/s]\n"
          ]
        },
        {
          "name": "stdout",
          "output_type": "stream",
          "text": [
            "current iteration: 7 / 20 , best train fitness: 0.15000669354078722, average train fitness: 0.1338622539657719, average test fitness: 0.13187456126511096\n",
            "-------------------------------------------------------------------------------------------------\n",
            "Chromosome: 1\n"
          ]
        },
        {
          "name": "stderr",
          "output_type": "stream",
          "text": [
            "Training: 100%|\u001b[34m██████████\u001b[0m| 49/49 [00:20<00:00,  2.34it/s]\n",
            "Testing: 100%|\u001b[32m██████████\u001b[0m| 10/10 [00:03<00:00,  3.14it/s]\n"
          ]
        },
        {
          "name": "stdout",
          "output_type": "stream",
          "text": [
            "Chromosome: 2\n"
          ]
        },
        {
          "name": "stderr",
          "output_type": "stream",
          "text": [
            "Training: 100%|\u001b[34m██████████\u001b[0m| 49/49 [00:16<00:00,  3.05it/s]\n",
            "Testing: 100%|\u001b[32m██████████\u001b[0m| 10/10 [00:03<00:00,  3.17it/s]\n"
          ]
        },
        {
          "name": "stdout",
          "output_type": "stream",
          "text": [
            "Chromosome: 3\n"
          ]
        },
        {
          "name": "stderr",
          "output_type": "stream",
          "text": [
            "Training: 100%|\u001b[34m██████████\u001b[0m| 49/49 [00:15<00:00,  3.07it/s]\n",
            "Testing: 100%|\u001b[32m██████████\u001b[0m| 10/10 [00:03<00:00,  3.17it/s]\n"
          ]
        },
        {
          "name": "stdout",
          "output_type": "stream",
          "text": [
            "Chromosome: 4\n"
          ]
        },
        {
          "name": "stderr",
          "output_type": "stream",
          "text": [
            "Training: 100%|\u001b[34m██████████\u001b[0m| 49/49 [00:15<00:00,  3.08it/s]\n",
            "Testing: 100%|\u001b[32m██████████\u001b[0m| 10/10 [00:03<00:00,  3.12it/s]\n"
          ]
        },
        {
          "name": "stdout",
          "output_type": "stream",
          "text": [
            "Chromosome: 5\n"
          ]
        },
        {
          "name": "stderr",
          "output_type": "stream",
          "text": [
            "Training: 100%|\u001b[34m██████████\u001b[0m| 49/49 [00:16<00:00,  3.04it/s]\n",
            "Testing: 100%|\u001b[32m██████████\u001b[0m| 10/10 [00:03<00:00,  3.15it/s]\n"
          ]
        },
        {
          "name": "stdout",
          "output_type": "stream",
          "text": [
            "Chromosome: 6\n"
          ]
        },
        {
          "name": "stderr",
          "output_type": "stream",
          "text": [
            "Training: 100%|\u001b[34m██████████\u001b[0m| 49/49 [00:15<00:00,  3.06it/s]\n",
            "Testing: 100%|\u001b[32m██████████\u001b[0m| 10/10 [00:03<00:00,  3.16it/s]\n"
          ]
        },
        {
          "name": "stdout",
          "output_type": "stream",
          "text": [
            "Chromosome: 7\n"
          ]
        },
        {
          "name": "stderr",
          "output_type": "stream",
          "text": [
            "Training: 100%|\u001b[34m██████████\u001b[0m| 49/49 [00:15<00:00,  3.08it/s]\n",
            "Testing: 100%|\u001b[32m██████████\u001b[0m| 10/10 [00:03<00:00,  3.17it/s]\n"
          ]
        },
        {
          "name": "stdout",
          "output_type": "stream",
          "text": [
            "Chromosome: 8\n"
          ]
        },
        {
          "name": "stderr",
          "output_type": "stream",
          "text": [
            "Training: 100%|\u001b[34m██████████\u001b[0m| 49/49 [00:16<00:00,  3.01it/s]\n",
            "Testing: 100%|\u001b[32m██████████\u001b[0m| 10/10 [00:03<00:00,  2.72it/s]\n"
          ]
        },
        {
          "name": "stdout",
          "output_type": "stream",
          "text": [
            "Chromosome: 9\n"
          ]
        },
        {
          "name": "stderr",
          "output_type": "stream",
          "text": [
            "Training: 100%|\u001b[34m██████████\u001b[0m| 49/49 [00:17<00:00,  2.87it/s]\n",
            "Testing: 100%|\u001b[32m██████████\u001b[0m| 10/10 [00:03<00:00,  3.03it/s]\n"
          ]
        },
        {
          "name": "stdout",
          "output_type": "stream",
          "text": [
            "Chromosome: 10\n"
          ]
        },
        {
          "name": "stderr",
          "output_type": "stream",
          "text": [
            "Training: 100%|\u001b[34m██████████\u001b[0m| 49/49 [00:16<00:00,  2.99it/s]\n",
            "Testing: 100%|\u001b[32m██████████\u001b[0m| 10/10 [00:03<00:00,  3.16it/s]\n"
          ]
        },
        {
          "name": "stdout",
          "output_type": "stream",
          "text": [
            "Chromosome: 11\n"
          ]
        },
        {
          "name": "stderr",
          "output_type": "stream",
          "text": [
            "Training: 100%|\u001b[34m██████████\u001b[0m| 49/49 [00:16<00:00,  2.95it/s]\n",
            "Testing: 100%|\u001b[32m██████████\u001b[0m| 10/10 [00:03<00:00,  3.04it/s]\n"
          ]
        },
        {
          "name": "stdout",
          "output_type": "stream",
          "text": [
            "Chromosome: 12\n"
          ]
        },
        {
          "name": "stderr",
          "output_type": "stream",
          "text": [
            "Training: 100%|\u001b[34m██████████\u001b[0m| 49/49 [00:16<00:00,  2.95it/s]\n",
            "Testing: 100%|\u001b[32m██████████\u001b[0m| 10/10 [00:03<00:00,  2.95it/s]\n"
          ]
        },
        {
          "name": "stdout",
          "output_type": "stream",
          "text": [
            "Chromosome: 13\n"
          ]
        },
        {
          "name": "stderr",
          "output_type": "stream",
          "text": [
            "Training: 100%|\u001b[34m██████████\u001b[0m| 49/49 [00:16<00:00,  2.88it/s]\n",
            "Testing: 100%|\u001b[32m██████████\u001b[0m| 10/10 [00:03<00:00,  2.88it/s]\n"
          ]
        },
        {
          "name": "stdout",
          "output_type": "stream",
          "text": [
            "Chromosome: 14\n"
          ]
        },
        {
          "name": "stderr",
          "output_type": "stream",
          "text": [
            "Training: 100%|\u001b[34m██████████\u001b[0m| 49/49 [00:16<00:00,  2.97it/s]\n",
            "Testing: 100%|\u001b[32m██████████\u001b[0m| 10/10 [00:03<00:00,  2.97it/s]\n"
          ]
        },
        {
          "name": "stdout",
          "output_type": "stream",
          "text": [
            "Chromosome: 15\n"
          ]
        },
        {
          "name": "stderr",
          "output_type": "stream",
          "text": [
            "Training: 100%|\u001b[34m██████████\u001b[0m| 49/49 [00:17<00:00,  2.77it/s]\n",
            "Testing: 100%|\u001b[32m██████████\u001b[0m| 10/10 [00:03<00:00,  2.97it/s]\n"
          ]
        },
        {
          "name": "stdout",
          "output_type": "stream",
          "text": [
            "Chromosome: 16\n"
          ]
        },
        {
          "name": "stderr",
          "output_type": "stream",
          "text": [
            "Training: 100%|\u001b[34m██████████\u001b[0m| 49/49 [00:18<00:00,  2.69it/s]\n",
            "Testing: 100%|\u001b[32m██████████\u001b[0m| 10/10 [00:03<00:00,  3.02it/s]\n"
          ]
        },
        {
          "name": "stdout",
          "output_type": "stream",
          "text": [
            "Chromosome: 17\n"
          ]
        },
        {
          "name": "stderr",
          "output_type": "stream",
          "text": [
            "Training: 100%|\u001b[34m██████████\u001b[0m| 49/49 [00:18<00:00,  2.70it/s]\n",
            "Testing: 100%|\u001b[32m██████████\u001b[0m| 10/10 [00:04<00:00,  2.35it/s]\n"
          ]
        },
        {
          "name": "stdout",
          "output_type": "stream",
          "text": [
            "Chromosome: 18\n"
          ]
        },
        {
          "name": "stderr",
          "output_type": "stream",
          "text": [
            "Training: 100%|\u001b[34m██████████\u001b[0m| 49/49 [00:18<00:00,  2.59it/s]\n",
            "Testing: 100%|\u001b[32m██████████\u001b[0m| 10/10 [00:03<00:00,  3.00it/s]\n"
          ]
        },
        {
          "name": "stdout",
          "output_type": "stream",
          "text": [
            "Chromosome: 19\n"
          ]
        },
        {
          "name": "stderr",
          "output_type": "stream",
          "text": [
            "Training: 100%|\u001b[34m██████████\u001b[0m| 49/49 [00:17<00:00,  2.75it/s]\n",
            "Testing: 100%|\u001b[32m██████████\u001b[0m| 10/10 [00:03<00:00,  2.86it/s]\n"
          ]
        },
        {
          "name": "stdout",
          "output_type": "stream",
          "text": [
            "Chromosome: 20\n"
          ]
        },
        {
          "name": "stderr",
          "output_type": "stream",
          "text": [
            "Training: 100%|\u001b[34m██████████\u001b[0m| 49/49 [00:17<00:00,  2.79it/s]\n",
            "Testing: 100%|\u001b[32m██████████\u001b[0m| 10/10 [00:03<00:00,  2.96it/s]\n"
          ]
        },
        {
          "name": "stdout",
          "output_type": "stream",
          "text": [
            "Chromosome: 21\n"
          ]
        },
        {
          "name": "stderr",
          "output_type": "stream",
          "text": [
            "Training: 100%|\u001b[34m██████████\u001b[0m| 49/49 [00:16<00:00,  2.98it/s]\n",
            "Testing: 100%|\u001b[32m██████████\u001b[0m| 10/10 [00:03<00:00,  3.21it/s]\n"
          ]
        },
        {
          "name": "stdout",
          "output_type": "stream",
          "text": [
            "Chromosome: 22\n"
          ]
        },
        {
          "name": "stderr",
          "output_type": "stream",
          "text": [
            "Training: 100%|\u001b[34m██████████\u001b[0m| 49/49 [00:15<00:00,  3.09it/s]\n",
            "Testing: 100%|\u001b[32m██████████\u001b[0m| 10/10 [00:03<00:00,  3.23it/s]\n"
          ]
        },
        {
          "name": "stdout",
          "output_type": "stream",
          "text": [
            "Chromosome: 23\n"
          ]
        },
        {
          "name": "stderr",
          "output_type": "stream",
          "text": [
            "Training: 100%|\u001b[34m██████████\u001b[0m| 49/49 [00:15<00:00,  3.09it/s]\n",
            "Testing: 100%|\u001b[32m██████████\u001b[0m| 10/10 [00:03<00:00,  3.20it/s]\n"
          ]
        },
        {
          "name": "stdout",
          "output_type": "stream",
          "text": [
            "Chromosome: 24\n"
          ]
        },
        {
          "name": "stderr",
          "output_type": "stream",
          "text": [
            "Training: 100%|\u001b[34m██████████\u001b[0m| 49/49 [00:16<00:00,  3.04it/s]\n",
            "Testing: 100%|\u001b[32m██████████\u001b[0m| 10/10 [00:03<00:00,  3.12it/s]\n"
          ]
        },
        {
          "name": "stdout",
          "output_type": "stream",
          "text": [
            "Chromosome: 25\n"
          ]
        },
        {
          "name": "stderr",
          "output_type": "stream",
          "text": [
            "Training: 100%|\u001b[34m██████████\u001b[0m| 49/49 [00:16<00:00,  3.02it/s]\n",
            "Testing: 100%|\u001b[32m██████████\u001b[0m| 10/10 [00:03<00:00,  3.15it/s]\n"
          ]
        },
        {
          "name": "stdout",
          "output_type": "stream",
          "text": [
            "Chromosome: 26\n"
          ]
        },
        {
          "name": "stderr",
          "output_type": "stream",
          "text": [
            "Training: 100%|\u001b[34m██████████\u001b[0m| 49/49 [00:16<00:00,  2.89it/s]\n",
            "Testing: 100%|\u001b[32m██████████\u001b[0m| 10/10 [00:03<00:00,  2.99it/s]\n"
          ]
        },
        {
          "name": "stdout",
          "output_type": "stream",
          "text": [
            "Chromosome: 27\n"
          ]
        },
        {
          "name": "stderr",
          "output_type": "stream",
          "text": [
            "Training: 100%|\u001b[34m██████████\u001b[0m| 49/49 [00:15<00:00,  3.07it/s]\n",
            "Testing: 100%|\u001b[32m██████████\u001b[0m| 10/10 [00:03<00:00,  3.15it/s]\n"
          ]
        },
        {
          "name": "stdout",
          "output_type": "stream",
          "text": [
            "Chromosome: 28\n"
          ]
        },
        {
          "name": "stderr",
          "output_type": "stream",
          "text": [
            "Training: 100%|\u001b[34m██████████\u001b[0m| 49/49 [00:15<00:00,  3.09it/s]\n",
            "Testing: 100%|\u001b[32m██████████\u001b[0m| 10/10 [00:03<00:00,  3.19it/s]\n"
          ]
        },
        {
          "name": "stdout",
          "output_type": "stream",
          "text": [
            "Chromosome: 29\n"
          ]
        },
        {
          "name": "stderr",
          "output_type": "stream",
          "text": [
            "Training: 100%|\u001b[34m██████████\u001b[0m| 49/49 [00:15<00:00,  3.09it/s]\n",
            "Testing: 100%|\u001b[32m██████████\u001b[0m| 10/10 [00:03<00:00,  3.02it/s]\n"
          ]
        },
        {
          "name": "stdout",
          "output_type": "stream",
          "text": [
            "Chromosome: 30\n"
          ]
        },
        {
          "name": "stderr",
          "output_type": "stream",
          "text": [
            "Training: 100%|\u001b[34m██████████\u001b[0m| 49/49 [00:15<00:00,  3.08it/s]\n",
            "Testing: 100%|\u001b[32m██████████\u001b[0m| 10/10 [00:03<00:00,  3.20it/s]\n"
          ]
        },
        {
          "name": "stdout",
          "output_type": "stream",
          "text": [
            "Chromosome: 31\n"
          ]
        },
        {
          "name": "stderr",
          "output_type": "stream",
          "text": [
            "Training: 100%|\u001b[34m██████████\u001b[0m| 49/49 [00:15<00:00,  3.08it/s]\n",
            "Testing: 100%|\u001b[32m██████████\u001b[0m| 10/10 [00:03<00:00,  3.16it/s]\n"
          ]
        },
        {
          "name": "stdout",
          "output_type": "stream",
          "text": [
            "Chromosome: 32\n"
          ]
        },
        {
          "name": "stderr",
          "output_type": "stream",
          "text": [
            "Training: 100%|\u001b[34m██████████\u001b[0m| 49/49 [00:15<00:00,  3.08it/s]\n",
            "Testing: 100%|\u001b[32m██████████\u001b[0m| 10/10 [00:03<00:00,  3.16it/s]\n"
          ]
        },
        {
          "name": "stdout",
          "output_type": "stream",
          "text": [
            "Chromosome: 33\n"
          ]
        },
        {
          "name": "stderr",
          "output_type": "stream",
          "text": [
            "Training: 100%|\u001b[34m██████████\u001b[0m| 49/49 [00:15<00:00,  3.09it/s]\n",
            "Testing: 100%|\u001b[32m██████████\u001b[0m| 10/10 [00:03<00:00,  3.20it/s]\n"
          ]
        },
        {
          "name": "stdout",
          "output_type": "stream",
          "text": [
            "Chromosome: 34\n"
          ]
        },
        {
          "name": "stderr",
          "output_type": "stream",
          "text": [
            "Training: 100%|\u001b[34m██████████\u001b[0m| 49/49 [00:15<00:00,  3.10it/s]\n",
            "Testing: 100%|\u001b[32m██████████\u001b[0m| 10/10 [00:03<00:00,  3.17it/s]\n"
          ]
        },
        {
          "name": "stdout",
          "output_type": "stream",
          "text": [
            "Chromosome: 35\n"
          ]
        },
        {
          "name": "stderr",
          "output_type": "stream",
          "text": [
            "Training: 100%|\u001b[34m██████████\u001b[0m| 49/49 [00:15<00:00,  3.09it/s]\n",
            "Testing: 100%|\u001b[32m██████████\u001b[0m| 10/10 [00:03<00:00,  3.22it/s]\n"
          ]
        },
        {
          "name": "stdout",
          "output_type": "stream",
          "text": [
            "Chromosome: 36\n"
          ]
        },
        {
          "name": "stderr",
          "output_type": "stream",
          "text": [
            "Training: 100%|\u001b[34m██████████\u001b[0m| 49/49 [00:15<00:00,  3.09it/s]\n",
            "Testing: 100%|\u001b[32m██████████\u001b[0m| 10/10 [00:03<00:00,  3.19it/s]\n"
          ]
        },
        {
          "name": "stdout",
          "output_type": "stream",
          "text": [
            "Chromosome: 37\n"
          ]
        },
        {
          "name": "stderr",
          "output_type": "stream",
          "text": [
            "Training: 100%|\u001b[34m██████████\u001b[0m| 49/49 [00:15<00:00,  3.09it/s]\n",
            "Testing: 100%|\u001b[32m██████████\u001b[0m| 10/10 [00:03<00:00,  3.19it/s]\n"
          ]
        },
        {
          "name": "stdout",
          "output_type": "stream",
          "text": [
            "Chromosome: 38\n"
          ]
        },
        {
          "name": "stderr",
          "output_type": "stream",
          "text": [
            "Training: 100%|\u001b[34m██████████\u001b[0m| 49/49 [00:15<00:00,  3.09it/s]\n",
            "Testing: 100%|\u001b[32m██████████\u001b[0m| 10/10 [00:03<00:00,  3.18it/s]\n"
          ]
        },
        {
          "name": "stdout",
          "output_type": "stream",
          "text": [
            "Chromosome: 39\n"
          ]
        },
        {
          "name": "stderr",
          "output_type": "stream",
          "text": [
            "Training: 100%|\u001b[34m██████████\u001b[0m| 49/49 [00:16<00:00,  3.06it/s]\n",
            "Testing: 100%|\u001b[32m██████████\u001b[0m| 10/10 [00:03<00:00,  3.15it/s]\n"
          ]
        },
        {
          "name": "stdout",
          "output_type": "stream",
          "text": [
            "Chromosome: 40\n"
          ]
        },
        {
          "name": "stderr",
          "output_type": "stream",
          "text": [
            "Training: 100%|\u001b[34m██████████\u001b[0m| 49/49 [00:16<00:00,  3.05it/s]\n",
            "Testing: 100%|\u001b[32m██████████\u001b[0m| 10/10 [00:03<00:00,  3.12it/s]\n"
          ]
        },
        {
          "name": "stdout",
          "output_type": "stream",
          "text": [
            "Chromosome: 41\n"
          ]
        },
        {
          "name": "stderr",
          "output_type": "stream",
          "text": [
            "Training: 100%|\u001b[34m██████████\u001b[0m| 49/49 [00:16<00:00,  3.04it/s]\n",
            "Testing: 100%|\u001b[32m██████████\u001b[0m| 10/10 [00:03<00:00,  3.18it/s]\n"
          ]
        },
        {
          "name": "stdout",
          "output_type": "stream",
          "text": [
            "Chromosome: 42\n"
          ]
        },
        {
          "name": "stderr",
          "output_type": "stream",
          "text": [
            "Training: 100%|\u001b[34m██████████\u001b[0m| 49/49 [00:15<00:00,  3.10it/s]\n",
            "Testing: 100%|\u001b[32m██████████\u001b[0m| 10/10 [00:03<00:00,  3.18it/s]\n"
          ]
        },
        {
          "name": "stdout",
          "output_type": "stream",
          "text": [
            "Chromosome: 43\n"
          ]
        },
        {
          "name": "stderr",
          "output_type": "stream",
          "text": [
            "Training: 100%|\u001b[34m██████████\u001b[0m| 49/49 [00:15<00:00,  3.11it/s]\n",
            "Testing: 100%|\u001b[32m██████████\u001b[0m| 10/10 [00:03<00:00,  3.19it/s]\n"
          ]
        },
        {
          "name": "stdout",
          "output_type": "stream",
          "text": [
            "Chromosome: 44\n"
          ]
        },
        {
          "name": "stderr",
          "output_type": "stream",
          "text": [
            "Training: 100%|\u001b[34m██████████\u001b[0m| 49/49 [00:16<00:00,  3.06it/s]\n",
            "Testing: 100%|\u001b[32m██████████\u001b[0m| 10/10 [00:03<00:00,  3.13it/s]\n"
          ]
        },
        {
          "name": "stdout",
          "output_type": "stream",
          "text": [
            "Chromosome: 45\n"
          ]
        },
        {
          "name": "stderr",
          "output_type": "stream",
          "text": [
            "Training: 100%|\u001b[34m██████████\u001b[0m| 49/49 [00:16<00:00,  2.94it/s]\n",
            "Testing: 100%|\u001b[32m██████████\u001b[0m| 10/10 [00:03<00:00,  2.91it/s]\n"
          ]
        },
        {
          "name": "stdout",
          "output_type": "stream",
          "text": [
            "Chromosome: 46\n"
          ]
        },
        {
          "name": "stderr",
          "output_type": "stream",
          "text": [
            "Training: 100%|\u001b[34m██████████\u001b[0m| 49/49 [00:15<00:00,  3.13it/s]\n",
            "Testing: 100%|\u001b[32m██████████\u001b[0m| 10/10 [00:03<00:00,  3.22it/s]\n"
          ]
        },
        {
          "name": "stdout",
          "output_type": "stream",
          "text": [
            "Chromosome: 47\n"
          ]
        },
        {
          "name": "stderr",
          "output_type": "stream",
          "text": [
            "Training: 100%|\u001b[34m██████████\u001b[0m| 49/49 [00:15<00:00,  3.12it/s]\n",
            "Testing: 100%|\u001b[32m██████████\u001b[0m| 10/10 [00:03<00:00,  3.20it/s]\n"
          ]
        },
        {
          "name": "stdout",
          "output_type": "stream",
          "text": [
            "Chromosome: 48\n"
          ]
        },
        {
          "name": "stderr",
          "output_type": "stream",
          "text": [
            "Training: 100%|\u001b[34m██████████\u001b[0m| 49/49 [00:15<00:00,  3.13it/s]\n",
            "Testing: 100%|\u001b[32m██████████\u001b[0m| 10/10 [00:03<00:00,  3.23it/s]\n"
          ]
        },
        {
          "name": "stdout",
          "output_type": "stream",
          "text": [
            "Chromosome: 49\n"
          ]
        },
        {
          "name": "stderr",
          "output_type": "stream",
          "text": [
            "Training: 100%|\u001b[34m██████████\u001b[0m| 49/49 [00:15<00:00,  3.08it/s]\n",
            "Testing: 100%|\u001b[32m██████████\u001b[0m| 10/10 [00:03<00:00,  2.62it/s]\n"
          ]
        },
        {
          "name": "stdout",
          "output_type": "stream",
          "text": [
            "Chromosome: 50\n"
          ]
        },
        {
          "name": "stderr",
          "output_type": "stream",
          "text": [
            "Training: 100%|\u001b[34m██████████\u001b[0m| 49/49 [00:17<00:00,  2.82it/s]\n",
            "Testing: 100%|\u001b[32m██████████\u001b[0m| 10/10 [00:03<00:00,  2.72it/s]\n"
          ]
        },
        {
          "name": "stdout",
          "output_type": "stream",
          "text": [
            "current iteration: 8 / 20 , best train fitness: 0.1582192945845273, average train fitness: 0.1392571657531116, average test fitness: 0.13705656059086324\n",
            "-------------------------------------------------------------------------------------------------\n",
            "Chromosome: 1\n"
          ]
        },
        {
          "name": "stderr",
          "output_type": "stream",
          "text": [
            "Training: 100%|\u001b[34m██████████\u001b[0m| 49/49 [00:17<00:00,  2.81it/s]\n",
            "Testing: 100%|\u001b[32m██████████\u001b[0m| 10/10 [00:03<00:00,  3.05it/s]\n"
          ]
        },
        {
          "name": "stdout",
          "output_type": "stream",
          "text": [
            "Chromosome: 2\n"
          ]
        },
        {
          "name": "stderr",
          "output_type": "stream",
          "text": [
            "Training: 100%|\u001b[34m██████████\u001b[0m| 49/49 [00:17<00:00,  2.83it/s]\n",
            "Testing: 100%|\u001b[32m██████████\u001b[0m| 10/10 [00:03<00:00,  2.81it/s]\n"
          ]
        },
        {
          "name": "stdout",
          "output_type": "stream",
          "text": [
            "Chromosome: 3\n"
          ]
        },
        {
          "name": "stderr",
          "output_type": "stream",
          "text": [
            "Training: 100%|\u001b[34m██████████\u001b[0m| 49/49 [00:17<00:00,  2.73it/s]\n",
            "Testing: 100%|\u001b[32m██████████\u001b[0m| 10/10 [00:04<00:00,  2.45it/s]\n"
          ]
        },
        {
          "name": "stdout",
          "output_type": "stream",
          "text": [
            "Chromosome: 4\n"
          ]
        },
        {
          "name": "stderr",
          "output_type": "stream",
          "text": [
            "Training: 100%|\u001b[34m██████████\u001b[0m| 49/49 [00:17<00:00,  2.80it/s]\n",
            "Testing: 100%|\u001b[32m██████████\u001b[0m| 10/10 [00:03<00:00,  3.06it/s]\n"
          ]
        },
        {
          "name": "stdout",
          "output_type": "stream",
          "text": [
            "Chromosome: 5\n"
          ]
        },
        {
          "name": "stderr",
          "output_type": "stream",
          "text": [
            "Training: 100%|\u001b[34m██████████\u001b[0m| 49/49 [00:16<00:00,  2.90it/s]\n",
            "Testing: 100%|\u001b[32m██████████\u001b[0m| 10/10 [00:03<00:00,  3.02it/s]\n"
          ]
        },
        {
          "name": "stdout",
          "output_type": "stream",
          "text": [
            "Chromosome: 6\n"
          ]
        },
        {
          "name": "stderr",
          "output_type": "stream",
          "text": [
            "Training: 100%|\u001b[34m██████████\u001b[0m| 49/49 [00:16<00:00,  2.94it/s]\n",
            "Testing: 100%|\u001b[32m██████████\u001b[0m| 10/10 [00:03<00:00,  3.04it/s]\n"
          ]
        },
        {
          "name": "stdout",
          "output_type": "stream",
          "text": [
            "Chromosome: 7\n"
          ]
        },
        {
          "name": "stderr",
          "output_type": "stream",
          "text": [
            "Training: 100%|\u001b[34m██████████\u001b[0m| 49/49 [00:16<00:00,  2.93it/s]\n",
            "Testing: 100%|\u001b[32m██████████\u001b[0m| 10/10 [00:03<00:00,  3.05it/s]\n"
          ]
        },
        {
          "name": "stdout",
          "output_type": "stream",
          "text": [
            "Chromosome: 8\n"
          ]
        },
        {
          "name": "stderr",
          "output_type": "stream",
          "text": [
            "Training: 100%|\u001b[34m██████████\u001b[0m| 49/49 [00:16<00:00,  2.93it/s]\n",
            "Testing: 100%|\u001b[32m██████████\u001b[0m| 10/10 [00:03<00:00,  3.03it/s]\n"
          ]
        },
        {
          "name": "stdout",
          "output_type": "stream",
          "text": [
            "Chromosome: 9\n"
          ]
        },
        {
          "name": "stderr",
          "output_type": "stream",
          "text": [
            "Training: 100%|\u001b[34m██████████\u001b[0m| 49/49 [00:16<00:00,  2.92it/s]\n",
            "Testing: 100%|\u001b[32m██████████\u001b[0m| 10/10 [00:03<00:00,  3.03it/s]\n"
          ]
        },
        {
          "name": "stdout",
          "output_type": "stream",
          "text": [
            "Chromosome: 10\n"
          ]
        },
        {
          "name": "stderr",
          "output_type": "stream",
          "text": [
            "Training: 100%|\u001b[34m██████████\u001b[0m| 49/49 [00:16<00:00,  2.98it/s]\n",
            "Testing: 100%|\u001b[32m██████████\u001b[0m| 10/10 [00:03<00:00,  3.10it/s]\n"
          ]
        },
        {
          "name": "stdout",
          "output_type": "stream",
          "text": [
            "Chromosome: 11\n"
          ]
        },
        {
          "name": "stderr",
          "output_type": "stream",
          "text": [
            "Training: 100%|\u001b[34m██████████\u001b[0m| 49/49 [00:16<00:00,  3.00it/s]\n",
            "Testing: 100%|\u001b[32m██████████\u001b[0m| 10/10 [00:03<00:00,  3.10it/s]\n"
          ]
        },
        {
          "name": "stdout",
          "output_type": "stream",
          "text": [
            "Chromosome: 12\n"
          ]
        },
        {
          "name": "stderr",
          "output_type": "stream",
          "text": [
            "Training: 100%|\u001b[34m██████████\u001b[0m| 49/49 [00:16<00:00,  3.01it/s]\n",
            "Testing: 100%|\u001b[32m██████████\u001b[0m| 10/10 [00:03<00:00,  3.10it/s]\n"
          ]
        },
        {
          "name": "stdout",
          "output_type": "stream",
          "text": [
            "Chromosome: 13\n"
          ]
        },
        {
          "name": "stderr",
          "output_type": "stream",
          "text": [
            "Training: 100%|\u001b[34m██████████\u001b[0m| 49/49 [00:16<00:00,  2.98it/s]\n",
            "Testing: 100%|\u001b[32m██████████\u001b[0m| 10/10 [00:03<00:00,  3.07it/s]\n"
          ]
        },
        {
          "name": "stdout",
          "output_type": "stream",
          "text": [
            "Chromosome: 14\n"
          ]
        },
        {
          "name": "stderr",
          "output_type": "stream",
          "text": [
            "Training: 100%|\u001b[34m██████████\u001b[0m| 49/49 [00:16<00:00,  2.97it/s]\n",
            "Testing: 100%|\u001b[32m██████████\u001b[0m| 10/10 [00:03<00:00,  3.05it/s]\n"
          ]
        },
        {
          "name": "stdout",
          "output_type": "stream",
          "text": [
            "Chromosome: 15\n"
          ]
        },
        {
          "name": "stderr",
          "output_type": "stream",
          "text": [
            "Training: 100%|\u001b[34m██████████\u001b[0m| 49/49 [00:16<00:00,  3.01it/s]\n",
            "Testing: 100%|\u001b[32m██████████\u001b[0m| 10/10 [00:03<00:00,  3.09it/s]\n"
          ]
        },
        {
          "name": "stdout",
          "output_type": "stream",
          "text": [
            "Chromosome: 16\n"
          ]
        },
        {
          "name": "stderr",
          "output_type": "stream",
          "text": [
            "Training: 100%|\u001b[34m██████████\u001b[0m| 49/49 [00:16<00:00,  3.02it/s]\n",
            "Testing: 100%|\u001b[32m██████████\u001b[0m| 10/10 [00:03<00:00,  3.12it/s]\n"
          ]
        },
        {
          "name": "stdout",
          "output_type": "stream",
          "text": [
            "Chromosome: 17\n"
          ]
        },
        {
          "name": "stderr",
          "output_type": "stream",
          "text": [
            "Training: 100%|\u001b[34m██████████\u001b[0m| 49/49 [00:16<00:00,  3.02it/s]\n",
            "Testing: 100%|\u001b[32m██████████\u001b[0m| 10/10 [00:03<00:00,  3.12it/s]\n"
          ]
        },
        {
          "name": "stdout",
          "output_type": "stream",
          "text": [
            "Chromosome: 18\n"
          ]
        },
        {
          "name": "stderr",
          "output_type": "stream",
          "text": [
            "Training: 100%|\u001b[34m██████████\u001b[0m| 49/49 [00:16<00:00,  3.03it/s]\n",
            "Testing: 100%|\u001b[32m██████████\u001b[0m| 10/10 [00:03<00:00,  3.13it/s]\n"
          ]
        },
        {
          "name": "stdout",
          "output_type": "stream",
          "text": [
            "Chromosome: 19\n"
          ]
        },
        {
          "name": "stderr",
          "output_type": "stream",
          "text": [
            "Training: 100%|\u001b[34m██████████\u001b[0m| 49/49 [00:16<00:00,  3.02it/s]\n",
            "Testing: 100%|\u001b[32m██████████\u001b[0m| 10/10 [00:03<00:00,  3.14it/s]\n"
          ]
        },
        {
          "name": "stdout",
          "output_type": "stream",
          "text": [
            "Chromosome: 20\n"
          ]
        },
        {
          "name": "stderr",
          "output_type": "stream",
          "text": [
            "Training: 100%|\u001b[34m██████████\u001b[0m| 49/49 [00:16<00:00,  3.04it/s]\n",
            "Testing: 100%|\u001b[32m██████████\u001b[0m| 10/10 [00:03<00:00,  3.12it/s]\n"
          ]
        },
        {
          "name": "stdout",
          "output_type": "stream",
          "text": [
            "Chromosome: 21\n"
          ]
        },
        {
          "name": "stderr",
          "output_type": "stream",
          "text": [
            "Training: 100%|\u001b[34m██████████\u001b[0m| 49/49 [00:16<00:00,  3.04it/s]\n",
            "Testing: 100%|\u001b[32m██████████\u001b[0m| 10/10 [00:03<00:00,  3.15it/s]\n"
          ]
        },
        {
          "name": "stdout",
          "output_type": "stream",
          "text": [
            "Chromosome: 22\n"
          ]
        },
        {
          "name": "stderr",
          "output_type": "stream",
          "text": [
            "Training: 100%|\u001b[34m██████████\u001b[0m| 49/49 [00:16<00:00,  2.98it/s]\n",
            "Testing: 100%|\u001b[32m██████████\u001b[0m| 10/10 [00:03<00:00,  3.09it/s]\n"
          ]
        },
        {
          "name": "stdout",
          "output_type": "stream",
          "text": [
            "Chromosome: 23\n"
          ]
        },
        {
          "name": "stderr",
          "output_type": "stream",
          "text": [
            "Training: 100%|\u001b[34m██████████\u001b[0m| 49/49 [00:16<00:00,  2.97it/s]\n",
            "Testing: 100%|\u001b[32m██████████\u001b[0m| 10/10 [00:03<00:00,  3.07it/s]\n"
          ]
        },
        {
          "name": "stdout",
          "output_type": "stream",
          "text": [
            "Chromosome: 24\n"
          ]
        },
        {
          "name": "stderr",
          "output_type": "stream",
          "text": [
            "Training: 100%|\u001b[34m██████████\u001b[0m| 49/49 [00:16<00:00,  2.97it/s]\n",
            "Testing: 100%|\u001b[32m██████████\u001b[0m| 10/10 [00:03<00:00,  3.08it/s]\n"
          ]
        },
        {
          "name": "stdout",
          "output_type": "stream",
          "text": [
            "Chromosome: 25\n"
          ]
        },
        {
          "name": "stderr",
          "output_type": "stream",
          "text": [
            "Training: 100%|\u001b[34m██████████\u001b[0m| 49/49 [00:16<00:00,  2.97it/s]\n",
            "Testing: 100%|\u001b[32m██████████\u001b[0m| 10/10 [00:03<00:00,  3.05it/s]\n"
          ]
        },
        {
          "name": "stdout",
          "output_type": "stream",
          "text": [
            "Chromosome: 26\n"
          ]
        },
        {
          "name": "stderr",
          "output_type": "stream",
          "text": [
            "Training: 100%|\u001b[34m██████████\u001b[0m| 49/49 [00:16<00:00,  2.91it/s]\n",
            "Testing: 100%|\u001b[32m██████████\u001b[0m| 10/10 [00:03<00:00,  3.06it/s]\n"
          ]
        },
        {
          "name": "stdout",
          "output_type": "stream",
          "text": [
            "Chromosome: 27\n"
          ]
        },
        {
          "name": "stderr",
          "output_type": "stream",
          "text": [
            "Training: 100%|\u001b[34m██████████\u001b[0m| 49/49 [00:16<00:00,  2.93it/s]\n",
            "Testing: 100%|\u001b[32m██████████\u001b[0m| 10/10 [00:03<00:00,  3.03it/s]\n"
          ]
        },
        {
          "name": "stdout",
          "output_type": "stream",
          "text": [
            "Chromosome: 28\n"
          ]
        },
        {
          "name": "stderr",
          "output_type": "stream",
          "text": [
            "Training: 100%|\u001b[34m██████████\u001b[0m| 49/49 [00:16<00:00,  2.94it/s]\n",
            "Testing: 100%|\u001b[32m██████████\u001b[0m| 10/10 [00:03<00:00,  3.03it/s]\n"
          ]
        },
        {
          "name": "stdout",
          "output_type": "stream",
          "text": [
            "Chromosome: 29\n"
          ]
        },
        {
          "name": "stderr",
          "output_type": "stream",
          "text": [
            "Training: 100%|\u001b[34m██████████\u001b[0m| 49/49 [00:16<00:00,  2.94it/s]\n",
            "Testing: 100%|\u001b[32m██████████\u001b[0m| 10/10 [00:03<00:00,  3.07it/s]\n"
          ]
        },
        {
          "name": "stdout",
          "output_type": "stream",
          "text": [
            "Chromosome: 30\n"
          ]
        },
        {
          "name": "stderr",
          "output_type": "stream",
          "text": [
            "Training: 100%|\u001b[34m██████████\u001b[0m| 49/49 [00:16<00:00,  2.96it/s]\n",
            "Testing: 100%|\u001b[32m██████████\u001b[0m| 10/10 [00:03<00:00,  3.06it/s]\n"
          ]
        },
        {
          "name": "stdout",
          "output_type": "stream",
          "text": [
            "Chromosome: 31\n"
          ]
        },
        {
          "name": "stderr",
          "output_type": "stream",
          "text": [
            "Training: 100%|\u001b[34m██████████\u001b[0m| 49/49 [00:16<00:00,  2.96it/s]\n",
            "Testing: 100%|\u001b[32m██████████\u001b[0m| 10/10 [00:03<00:00,  3.02it/s]\n"
          ]
        },
        {
          "name": "stdout",
          "output_type": "stream",
          "text": [
            "Chromosome: 32\n"
          ]
        },
        {
          "name": "stderr",
          "output_type": "stream",
          "text": [
            "Training: 100%|\u001b[34m██████████\u001b[0m| 49/49 [00:16<00:00,  2.97it/s]\n",
            "Testing: 100%|\u001b[32m██████████\u001b[0m| 10/10 [00:03<00:00,  3.06it/s]\n"
          ]
        },
        {
          "name": "stdout",
          "output_type": "stream",
          "text": [
            "Chromosome: 33\n"
          ]
        },
        {
          "name": "stderr",
          "output_type": "stream",
          "text": [
            "Training: 100%|\u001b[34m██████████\u001b[0m| 49/49 [00:16<00:00,  2.93it/s]\n",
            "Testing: 100%|\u001b[32m██████████\u001b[0m| 10/10 [00:03<00:00,  3.05it/s]\n"
          ]
        },
        {
          "name": "stdout",
          "output_type": "stream",
          "text": [
            "Chromosome: 34\n"
          ]
        },
        {
          "name": "stderr",
          "output_type": "stream",
          "text": [
            "Training: 100%|\u001b[34m██████████\u001b[0m| 49/49 [00:16<00:00,  2.92it/s]\n",
            "Testing: 100%|\u001b[32m██████████\u001b[0m| 10/10 [00:03<00:00,  3.11it/s]\n"
          ]
        },
        {
          "name": "stdout",
          "output_type": "stream",
          "text": [
            "Chromosome: 35\n"
          ]
        },
        {
          "name": "stderr",
          "output_type": "stream",
          "text": [
            "Training: 100%|\u001b[34m██████████\u001b[0m| 49/49 [00:16<00:00,  3.00it/s]\n",
            "Testing: 100%|\u001b[32m██████████\u001b[0m| 10/10 [00:03<00:00,  3.10it/s]\n"
          ]
        },
        {
          "name": "stdout",
          "output_type": "stream",
          "text": [
            "Chromosome: 36\n"
          ]
        },
        {
          "name": "stderr",
          "output_type": "stream",
          "text": [
            "Training: 100%|\u001b[34m██████████\u001b[0m| 49/49 [00:16<00:00,  2.96it/s]\n",
            "Testing: 100%|\u001b[32m██████████\u001b[0m| 10/10 [00:03<00:00,  3.04it/s]\n"
          ]
        },
        {
          "name": "stdout",
          "output_type": "stream",
          "text": [
            "Chromosome: 37\n"
          ]
        },
        {
          "name": "stderr",
          "output_type": "stream",
          "text": [
            "Training: 100%|\u001b[34m██████████\u001b[0m| 49/49 [00:17<00:00,  2.81it/s]\n",
            "Testing: 100%|\u001b[32m██████████\u001b[0m| 10/10 [00:03<00:00,  2.99it/s]\n"
          ]
        },
        {
          "name": "stdout",
          "output_type": "stream",
          "text": [
            "Chromosome: 38\n"
          ]
        },
        {
          "name": "stderr",
          "output_type": "stream",
          "text": [
            "Training: 100%|\u001b[34m██████████\u001b[0m| 49/49 [00:18<00:00,  2.60it/s]\n",
            "Testing: 100%|\u001b[32m██████████\u001b[0m| 10/10 [00:03<00:00,  2.71it/s]\n"
          ]
        },
        {
          "name": "stdout",
          "output_type": "stream",
          "text": [
            "Chromosome: 39\n"
          ]
        },
        {
          "name": "stderr",
          "output_type": "stream",
          "text": [
            "Training: 100%|\u001b[34m██████████\u001b[0m| 49/49 [00:18<00:00,  2.59it/s]\n",
            "Testing: 100%|\u001b[32m██████████\u001b[0m| 10/10 [00:03<00:00,  2.76it/s]\n"
          ]
        },
        {
          "name": "stdout",
          "output_type": "stream",
          "text": [
            "Chromosome: 40\n"
          ]
        },
        {
          "name": "stderr",
          "output_type": "stream",
          "text": [
            "Training: 100%|\u001b[34m██████████\u001b[0m| 49/49 [00:18<00:00,  2.70it/s]\n",
            "Testing: 100%|\u001b[32m██████████\u001b[0m| 10/10 [00:03<00:00,  2.99it/s]\n"
          ]
        },
        {
          "name": "stdout",
          "output_type": "stream",
          "text": [
            "Chromosome: 41\n"
          ]
        },
        {
          "name": "stderr",
          "output_type": "stream",
          "text": [
            "Training: 100%|\u001b[34m██████████\u001b[0m| 49/49 [00:17<00:00,  2.86it/s]\n",
            "Testing: 100%|\u001b[32m██████████\u001b[0m| 10/10 [00:03<00:00,  2.99it/s]\n"
          ]
        },
        {
          "name": "stdout",
          "output_type": "stream",
          "text": [
            "Chromosome: 42\n"
          ]
        },
        {
          "name": "stderr",
          "output_type": "stream",
          "text": [
            "Training: 100%|\u001b[34m██████████\u001b[0m| 49/49 [00:17<00:00,  2.86it/s]\n",
            "Testing: 100%|\u001b[32m██████████\u001b[0m| 10/10 [00:03<00:00,  2.81it/s]\n"
          ]
        },
        {
          "name": "stdout",
          "output_type": "stream",
          "text": [
            "Chromosome: 43\n"
          ]
        },
        {
          "name": "stderr",
          "output_type": "stream",
          "text": [
            "Training: 100%|\u001b[34m██████████\u001b[0m| 49/49 [00:19<00:00,  2.56it/s]\n",
            "Testing: 100%|\u001b[32m██████████\u001b[0m| 10/10 [00:03<00:00,  2.52it/s]\n"
          ]
        },
        {
          "name": "stdout",
          "output_type": "stream",
          "text": [
            "Chromosome: 44\n"
          ]
        },
        {
          "name": "stderr",
          "output_type": "stream",
          "text": [
            "Training: 100%|\u001b[34m██████████\u001b[0m| 49/49 [00:20<00:00,  2.34it/s]\n",
            "Testing: 100%|\u001b[32m██████████\u001b[0m| 10/10 [00:04<00:00,  2.46it/s]\n"
          ]
        },
        {
          "name": "stdout",
          "output_type": "stream",
          "text": [
            "Chromosome: 45\n"
          ]
        },
        {
          "name": "stderr",
          "output_type": "stream",
          "text": [
            "Training: 100%|\u001b[34m██████████\u001b[0m| 49/49 [00:19<00:00,  2.47it/s]\n",
            "Testing: 100%|\u001b[32m██████████\u001b[0m| 10/10 [00:03<00:00,  2.60it/s]\n"
          ]
        },
        {
          "name": "stdout",
          "output_type": "stream",
          "text": [
            "Chromosome: 46\n"
          ]
        },
        {
          "name": "stderr",
          "output_type": "stream",
          "text": [
            "Training: 100%|\u001b[34m██████████\u001b[0m| 49/49 [00:19<00:00,  2.55it/s]\n",
            "Testing: 100%|\u001b[32m██████████\u001b[0m| 10/10 [00:03<00:00,  2.74it/s]\n"
          ]
        },
        {
          "name": "stdout",
          "output_type": "stream",
          "text": [
            "Chromosome: 47\n"
          ]
        },
        {
          "name": "stderr",
          "output_type": "stream",
          "text": [
            "Training: 100%|\u001b[34m██████████\u001b[0m| 49/49 [00:19<00:00,  2.48it/s]\n",
            "Testing: 100%|\u001b[32m██████████\u001b[0m| 10/10 [00:03<00:00,  2.72it/s]\n"
          ]
        },
        {
          "name": "stdout",
          "output_type": "stream",
          "text": [
            "Chromosome: 48\n"
          ]
        },
        {
          "name": "stderr",
          "output_type": "stream",
          "text": [
            "Training: 100%|\u001b[34m██████████\u001b[0m| 49/49 [00:17<00:00,  2.76it/s]\n",
            "Testing: 100%|\u001b[32m██████████\u001b[0m| 10/10 [00:03<00:00,  2.77it/s]\n"
          ]
        },
        {
          "name": "stdout",
          "output_type": "stream",
          "text": [
            "Chromosome: 49\n"
          ]
        },
        {
          "name": "stderr",
          "output_type": "stream",
          "text": [
            "Training: 100%|\u001b[34m██████████\u001b[0m| 49/49 [00:17<00:00,  2.79it/s]\n",
            "Testing: 100%|\u001b[32m██████████\u001b[0m| 10/10 [00:03<00:00,  2.60it/s]\n"
          ]
        },
        {
          "name": "stdout",
          "output_type": "stream",
          "text": [
            "Chromosome: 50\n"
          ]
        },
        {
          "name": "stderr",
          "output_type": "stream",
          "text": [
            "Training: 100%|\u001b[34m██████████\u001b[0m| 49/49 [00:18<00:00,  2.61it/s]\n",
            "Testing: 100%|\u001b[32m██████████\u001b[0m| 10/10 [00:03<00:00,  2.69it/s]\n"
          ]
        },
        {
          "name": "stdout",
          "output_type": "stream",
          "text": [
            "current iteration: 9 / 20 , best train fitness: 0.16951199696988475, average train fitness: 0.14488944578839802, average test fitness: 0.14249039353430276\n",
            "-------------------------------------------------------------------------------------------------\n",
            "Chromosome: 1\n"
          ]
        },
        {
          "name": "stderr",
          "output_type": "stream",
          "text": [
            "Training: 100%|\u001b[34m██████████\u001b[0m| 49/49 [00:18<00:00,  2.68it/s]\n",
            "Testing: 100%|\u001b[32m██████████\u001b[0m| 10/10 [00:03<00:00,  2.76it/s]\n"
          ]
        },
        {
          "name": "stdout",
          "output_type": "stream",
          "text": [
            "Chromosome: 2\n"
          ]
        },
        {
          "name": "stderr",
          "output_type": "stream",
          "text": [
            "Training: 100%|\u001b[34m██████████\u001b[0m| 49/49 [00:17<00:00,  2.72it/s]\n",
            "Testing: 100%|\u001b[32m██████████\u001b[0m| 10/10 [00:03<00:00,  3.06it/s]\n"
          ]
        },
        {
          "name": "stdout",
          "output_type": "stream",
          "text": [
            "Chromosome: 3\n"
          ]
        },
        {
          "name": "stderr",
          "output_type": "stream",
          "text": [
            "Training: 100%|\u001b[34m██████████\u001b[0m| 49/49 [00:17<00:00,  2.88it/s]\n",
            "Testing: 100%|\u001b[32m██████████\u001b[0m| 10/10 [00:03<00:00,  2.84it/s]\n"
          ]
        },
        {
          "name": "stdout",
          "output_type": "stream",
          "text": [
            "Chromosome: 4\n"
          ]
        },
        {
          "name": "stderr",
          "output_type": "stream",
          "text": [
            "Training: 100%|\u001b[34m██████████\u001b[0m| 49/49 [00:18<00:00,  2.67it/s]\n",
            "Testing: 100%|\u001b[32m██████████\u001b[0m| 10/10 [00:03<00:00,  2.76it/s]\n"
          ]
        },
        {
          "name": "stdout",
          "output_type": "stream",
          "text": [
            "Chromosome: 5\n"
          ]
        },
        {
          "name": "stderr",
          "output_type": "stream",
          "text": [
            "Training: 100%|\u001b[34m██████████\u001b[0m| 49/49 [00:18<00:00,  2.65it/s]\n",
            "Testing: 100%|\u001b[32m██████████\u001b[0m| 10/10 [00:03<00:00,  2.74it/s]\n"
          ]
        },
        {
          "name": "stdout",
          "output_type": "stream",
          "text": [
            "Chromosome: 6\n"
          ]
        },
        {
          "name": "stderr",
          "output_type": "stream",
          "text": [
            "Training: 100%|\u001b[34m██████████\u001b[0m| 49/49 [00:17<00:00,  2.79it/s]\n",
            "Testing: 100%|\u001b[32m██████████\u001b[0m| 10/10 [00:03<00:00,  2.93it/s]\n"
          ]
        },
        {
          "name": "stdout",
          "output_type": "stream",
          "text": [
            "Chromosome: 7\n"
          ]
        },
        {
          "name": "stderr",
          "output_type": "stream",
          "text": [
            "Training: 100%|\u001b[34m██████████\u001b[0m| 49/49 [00:16<00:00,  2.99it/s]\n",
            "Testing: 100%|\u001b[32m██████████\u001b[0m| 10/10 [00:03<00:00,  3.03it/s]\n"
          ]
        },
        {
          "name": "stdout",
          "output_type": "stream",
          "text": [
            "Chromosome: 8\n"
          ]
        },
        {
          "name": "stderr",
          "output_type": "stream",
          "text": [
            "Training: 100%|\u001b[34m██████████\u001b[0m| 49/49 [00:17<00:00,  2.88it/s]\n",
            "Testing: 100%|\u001b[32m██████████\u001b[0m| 10/10 [00:03<00:00,  2.89it/s]\n"
          ]
        },
        {
          "name": "stdout",
          "output_type": "stream",
          "text": [
            "Chromosome: 9\n"
          ]
        },
        {
          "name": "stderr",
          "output_type": "stream",
          "text": [
            "Training: 100%|\u001b[34m██████████\u001b[0m| 49/49 [00:17<00:00,  2.74it/s]\n",
            "Testing: 100%|\u001b[32m██████████\u001b[0m| 10/10 [00:03<00:00,  2.92it/s]\n"
          ]
        },
        {
          "name": "stdout",
          "output_type": "stream",
          "text": [
            "Chromosome: 10\n"
          ]
        },
        {
          "name": "stderr",
          "output_type": "stream",
          "text": [
            "Training: 100%|\u001b[34m██████████\u001b[0m| 49/49 [00:17<00:00,  2.80it/s]\n",
            "Testing: 100%|\u001b[32m██████████\u001b[0m| 10/10 [00:03<00:00,  2.83it/s]\n"
          ]
        },
        {
          "name": "stdout",
          "output_type": "stream",
          "text": [
            "Chromosome: 11\n"
          ]
        },
        {
          "name": "stderr",
          "output_type": "stream",
          "text": [
            "Training: 100%|\u001b[34m██████████\u001b[0m| 49/49 [00:18<00:00,  2.60it/s]\n",
            "Testing: 100%|\u001b[32m██████████\u001b[0m| 10/10 [00:03<00:00,  2.76it/s]\n"
          ]
        },
        {
          "name": "stdout",
          "output_type": "stream",
          "text": [
            "Chromosome: 12\n"
          ]
        },
        {
          "name": "stderr",
          "output_type": "stream",
          "text": [
            "Training: 100%|\u001b[34m██████████\u001b[0m| 49/49 [00:18<00:00,  2.62it/s]\n",
            "Testing: 100%|\u001b[32m██████████\u001b[0m| 10/10 [00:03<00:00,  2.96it/s]\n"
          ]
        },
        {
          "name": "stdout",
          "output_type": "stream",
          "text": [
            "Chromosome: 13\n"
          ]
        },
        {
          "name": "stderr",
          "output_type": "stream",
          "text": [
            "Training: 100%|\u001b[34m██████████\u001b[0m| 49/49 [00:18<00:00,  2.67it/s]\n",
            "Testing: 100%|\u001b[32m██████████\u001b[0m| 10/10 [00:03<00:00,  2.70it/s]\n"
          ]
        },
        {
          "name": "stdout",
          "output_type": "stream",
          "text": [
            "Chromosome: 14\n"
          ]
        },
        {
          "name": "stderr",
          "output_type": "stream",
          "text": [
            "Training: 100%|\u001b[34m██████████\u001b[0m| 49/49 [00:19<00:00,  2.57it/s]\n",
            "Testing: 100%|\u001b[32m██████████\u001b[0m| 10/10 [00:03<00:00,  2.73it/s]\n"
          ]
        },
        {
          "name": "stdout",
          "output_type": "stream",
          "text": [
            "Chromosome: 15\n"
          ]
        },
        {
          "name": "stderr",
          "output_type": "stream",
          "text": [
            "Training: 100%|\u001b[34m██████████\u001b[0m| 49/49 [00:17<00:00,  2.82it/s]\n",
            "Testing: 100%|\u001b[32m██████████\u001b[0m| 10/10 [00:03<00:00,  2.97it/s]\n"
          ]
        },
        {
          "name": "stdout",
          "output_type": "stream",
          "text": [
            "Chromosome: 16\n"
          ]
        },
        {
          "name": "stderr",
          "output_type": "stream",
          "text": [
            "Training: 100%|\u001b[34m██████████\u001b[0m| 49/49 [00:16<00:00,  2.88it/s]\n",
            "Testing: 100%|\u001b[32m██████████\u001b[0m| 10/10 [00:03<00:00,  3.00it/s]\n"
          ]
        },
        {
          "name": "stdout",
          "output_type": "stream",
          "text": [
            "Chromosome: 17\n"
          ]
        },
        {
          "name": "stderr",
          "output_type": "stream",
          "text": [
            "Training: 100%|\u001b[34m██████████\u001b[0m| 49/49 [00:17<00:00,  2.82it/s]\n",
            "Testing: 100%|\u001b[32m██████████\u001b[0m| 10/10 [00:03<00:00,  2.90it/s]\n"
          ]
        },
        {
          "name": "stdout",
          "output_type": "stream",
          "text": [
            "Chromosome: 18\n"
          ]
        },
        {
          "name": "stderr",
          "output_type": "stream",
          "text": [
            "Training: 100%|\u001b[34m██████████\u001b[0m| 49/49 [00:18<00:00,  2.70it/s]\n",
            "Testing: 100%|\u001b[32m██████████\u001b[0m| 10/10 [00:03<00:00,  2.69it/s]\n"
          ]
        },
        {
          "name": "stdout",
          "output_type": "stream",
          "text": [
            "Chromosome: 19\n"
          ]
        },
        {
          "name": "stderr",
          "output_type": "stream",
          "text": [
            "Training: 100%|\u001b[34m██████████\u001b[0m| 49/49 [00:18<00:00,  2.65it/s]\n",
            "Testing: 100%|\u001b[32m██████████\u001b[0m| 10/10 [00:03<00:00,  2.76it/s]\n"
          ]
        },
        {
          "name": "stdout",
          "output_type": "stream",
          "text": [
            "Chromosome: 20\n"
          ]
        },
        {
          "name": "stderr",
          "output_type": "stream",
          "text": [
            "Training: 100%|\u001b[34m██████████\u001b[0m| 49/49 [00:17<00:00,  2.74it/s]\n",
            "Testing: 100%|\u001b[32m██████████\u001b[0m| 10/10 [00:03<00:00,  2.67it/s]\n"
          ]
        },
        {
          "name": "stdout",
          "output_type": "stream",
          "text": [
            "Chromosome: 21\n"
          ]
        },
        {
          "name": "stderr",
          "output_type": "stream",
          "text": [
            "Training: 100%|\u001b[34m██████████\u001b[0m| 49/49 [00:17<00:00,  2.73it/s]\n",
            "Testing: 100%|\u001b[32m██████████\u001b[0m| 10/10 [00:03<00:00,  2.86it/s]\n"
          ]
        },
        {
          "name": "stdout",
          "output_type": "stream",
          "text": [
            "Chromosome: 22\n"
          ]
        },
        {
          "name": "stderr",
          "output_type": "stream",
          "text": [
            "Training: 100%|\u001b[34m██████████\u001b[0m| 49/49 [00:19<00:00,  2.49it/s]\n",
            "Testing: 100%|\u001b[32m██████████\u001b[0m| 10/10 [00:03<00:00,  2.58it/s]\n"
          ]
        },
        {
          "name": "stdout",
          "output_type": "stream",
          "text": [
            "Chromosome: 23\n"
          ]
        },
        {
          "name": "stderr",
          "output_type": "stream",
          "text": [
            "Training: 100%|\u001b[34m██████████\u001b[0m| 49/49 [00:20<00:00,  2.43it/s]\n",
            "Testing: 100%|\u001b[32m██████████\u001b[0m| 10/10 [00:03<00:00,  2.56it/s]\n"
          ]
        },
        {
          "name": "stdout",
          "output_type": "stream",
          "text": [
            "Chromosome: 24\n"
          ]
        },
        {
          "name": "stderr",
          "output_type": "stream",
          "text": [
            "Training: 100%|\u001b[34m██████████\u001b[0m| 49/49 [00:20<00:00,  2.43it/s]\n",
            "Testing: 100%|\u001b[32m██████████\u001b[0m| 10/10 [00:04<00:00,  2.45it/s]\n"
          ]
        },
        {
          "name": "stdout",
          "output_type": "stream",
          "text": [
            "Chromosome: 25\n"
          ]
        },
        {
          "name": "stderr",
          "output_type": "stream",
          "text": [
            "Training: 100%|\u001b[34m██████████\u001b[0m| 49/49 [00:17<00:00,  2.73it/s]\n",
            "Testing: 100%|\u001b[32m██████████\u001b[0m| 10/10 [00:03<00:00,  2.79it/s]\n"
          ]
        },
        {
          "name": "stdout",
          "output_type": "stream",
          "text": [
            "Chromosome: 26\n"
          ]
        },
        {
          "name": "stderr",
          "output_type": "stream",
          "text": [
            "Training: 100%|\u001b[34m██████████\u001b[0m| 49/49 [00:18<00:00,  2.67it/s]\n",
            "Testing: 100%|\u001b[32m██████████\u001b[0m| 10/10 [00:03<00:00,  2.79it/s]\n"
          ]
        },
        {
          "name": "stdout",
          "output_type": "stream",
          "text": [
            "Chromosome: 27\n"
          ]
        },
        {
          "name": "stderr",
          "output_type": "stream",
          "text": [
            "Training: 100%|\u001b[34m██████████\u001b[0m| 49/49 [00:18<00:00,  2.72it/s]\n",
            "Testing: 100%|\u001b[32m██████████\u001b[0m| 10/10 [00:03<00:00,  2.82it/s]\n"
          ]
        },
        {
          "name": "stdout",
          "output_type": "stream",
          "text": [
            "Chromosome: 28\n"
          ]
        },
        {
          "name": "stderr",
          "output_type": "stream",
          "text": [
            "Training: 100%|\u001b[34m██████████\u001b[0m| 49/49 [00:18<00:00,  2.66it/s]\n",
            "Testing: 100%|\u001b[32m██████████\u001b[0m| 10/10 [00:03<00:00,  2.80it/s]\n"
          ]
        },
        {
          "name": "stdout",
          "output_type": "stream",
          "text": [
            "Chromosome: 29\n"
          ]
        },
        {
          "name": "stderr",
          "output_type": "stream",
          "text": [
            "Training: 100%|\u001b[34m██████████\u001b[0m| 49/49 [00:18<00:00,  2.66it/s]\n",
            "Testing: 100%|\u001b[32m██████████\u001b[0m| 10/10 [00:03<00:00,  2.81it/s]\n"
          ]
        },
        {
          "name": "stdout",
          "output_type": "stream",
          "text": [
            "Chromosome: 30\n"
          ]
        },
        {
          "name": "stderr",
          "output_type": "stream",
          "text": [
            "Training: 100%|\u001b[34m██████████\u001b[0m| 49/49 [00:17<00:00,  2.75it/s]\n",
            "Testing: 100%|\u001b[32m██████████\u001b[0m| 10/10 [00:03<00:00,  2.88it/s]\n"
          ]
        },
        {
          "name": "stdout",
          "output_type": "stream",
          "text": [
            "Chromosome: 31\n"
          ]
        },
        {
          "name": "stderr",
          "output_type": "stream",
          "text": [
            "Training: 100%|\u001b[34m██████████\u001b[0m| 49/49 [00:17<00:00,  2.87it/s]\n",
            "Testing: 100%|\u001b[32m██████████\u001b[0m| 10/10 [00:03<00:00,  2.96it/s]\n"
          ]
        },
        {
          "name": "stdout",
          "output_type": "stream",
          "text": [
            "Chromosome: 32\n"
          ]
        },
        {
          "name": "stderr",
          "output_type": "stream",
          "text": [
            "Training: 100%|\u001b[34m██████████\u001b[0m| 49/49 [00:16<00:00,  2.90it/s]\n",
            "Testing: 100%|\u001b[32m██████████\u001b[0m| 10/10 [00:03<00:00,  2.96it/s]\n"
          ]
        },
        {
          "name": "stdout",
          "output_type": "stream",
          "text": [
            "Chromosome: 33\n"
          ]
        },
        {
          "name": "stderr",
          "output_type": "stream",
          "text": [
            "Training: 100%|\u001b[34m██████████\u001b[0m| 49/49 [00:18<00:00,  2.66it/s]\n",
            "Testing: 100%|\u001b[32m██████████\u001b[0m| 10/10 [00:04<00:00,  2.23it/s]\n"
          ]
        },
        {
          "name": "stdout",
          "output_type": "stream",
          "text": [
            "Chromosome: 34\n"
          ]
        },
        {
          "name": "stderr",
          "output_type": "stream",
          "text": [
            "Training: 100%|\u001b[34m██████████\u001b[0m| 49/49 [00:19<00:00,  2.52it/s]\n",
            "Testing: 100%|\u001b[32m██████████\u001b[0m| 10/10 [00:03<00:00,  2.51it/s]\n"
          ]
        },
        {
          "name": "stdout",
          "output_type": "stream",
          "text": [
            "Chromosome: 35\n"
          ]
        },
        {
          "name": "stderr",
          "output_type": "stream",
          "text": [
            "Training: 100%|\u001b[34m██████████\u001b[0m| 49/49 [00:18<00:00,  2.71it/s]\n",
            "Testing: 100%|\u001b[32m██████████\u001b[0m| 10/10 [00:03<00:00,  2.88it/s]\n"
          ]
        },
        {
          "name": "stdout",
          "output_type": "stream",
          "text": [
            "Chromosome: 36\n"
          ]
        },
        {
          "name": "stderr",
          "output_type": "stream",
          "text": [
            "Training: 100%|\u001b[34m██████████\u001b[0m| 49/49 [00:18<00:00,  2.70it/s]\n",
            "Testing: 100%|\u001b[32m██████████\u001b[0m| 10/10 [00:03<00:00,  2.58it/s]\n"
          ]
        },
        {
          "name": "stdout",
          "output_type": "stream",
          "text": [
            "Chromosome: 37\n"
          ]
        },
        {
          "name": "stderr",
          "output_type": "stream",
          "text": [
            "Training: 100%|\u001b[34m██████████\u001b[0m| 49/49 [00:20<00:00,  2.36it/s]\n",
            "Testing: 100%|\u001b[32m██████████\u001b[0m| 10/10 [00:04<00:00,  2.26it/s]\n"
          ]
        },
        {
          "name": "stdout",
          "output_type": "stream",
          "text": [
            "Chromosome: 38\n"
          ]
        },
        {
          "name": "stderr",
          "output_type": "stream",
          "text": [
            "Training: 100%|\u001b[34m██████████\u001b[0m| 49/49 [00:20<00:00,  2.44it/s]\n",
            "Testing: 100%|\u001b[32m██████████\u001b[0m| 10/10 [00:03<00:00,  2.89it/s]\n"
          ]
        },
        {
          "name": "stdout",
          "output_type": "stream",
          "text": [
            "Chromosome: 39\n"
          ]
        },
        {
          "name": "stderr",
          "output_type": "stream",
          "text": [
            "Training: 100%|\u001b[34m██████████\u001b[0m| 49/49 [00:19<00:00,  2.54it/s]\n",
            "Testing: 100%|\u001b[32m██████████\u001b[0m| 10/10 [00:03<00:00,  2.60it/s]\n"
          ]
        },
        {
          "name": "stdout",
          "output_type": "stream",
          "text": [
            "Chromosome: 40\n"
          ]
        },
        {
          "name": "stderr",
          "output_type": "stream",
          "text": [
            "Training: 100%|\u001b[34m██████████\u001b[0m| 49/49 [00:19<00:00,  2.53it/s]\n",
            "Testing: 100%|\u001b[32m██████████\u001b[0m| 10/10 [00:04<00:00,  2.40it/s]\n"
          ]
        },
        {
          "name": "stdout",
          "output_type": "stream",
          "text": [
            "Chromosome: 41\n"
          ]
        },
        {
          "name": "stderr",
          "output_type": "stream",
          "text": [
            "Training: 100%|\u001b[34m██████████\u001b[0m| 49/49 [00:19<00:00,  2.55it/s]\n",
            "Testing: 100%|\u001b[32m██████████\u001b[0m| 10/10 [00:03<00:00,  2.64it/s]\n"
          ]
        },
        {
          "name": "stdout",
          "output_type": "stream",
          "text": [
            "Chromosome: 42\n"
          ]
        },
        {
          "name": "stderr",
          "output_type": "stream",
          "text": [
            "Training: 100%|\u001b[34m██████████\u001b[0m| 49/49 [00:18<00:00,  2.63it/s]\n",
            "Testing: 100%|\u001b[32m██████████\u001b[0m| 10/10 [00:03<00:00,  2.65it/s]\n"
          ]
        },
        {
          "name": "stdout",
          "output_type": "stream",
          "text": [
            "Chromosome: 43\n"
          ]
        },
        {
          "name": "stderr",
          "output_type": "stream",
          "text": [
            "Training: 100%|\u001b[34m██████████\u001b[0m| 49/49 [00:17<00:00,  2.74it/s]\n",
            "Testing: 100%|\u001b[32m██████████\u001b[0m| 10/10 [00:03<00:00,  2.90it/s]\n"
          ]
        },
        {
          "name": "stdout",
          "output_type": "stream",
          "text": [
            "Chromosome: 44\n"
          ]
        },
        {
          "name": "stderr",
          "output_type": "stream",
          "text": [
            "Training: 100%|\u001b[34m██████████\u001b[0m| 49/49 [00:17<00:00,  2.86it/s]\n",
            "Testing: 100%|\u001b[32m██████████\u001b[0m| 10/10 [00:03<00:00,  2.89it/s]\n"
          ]
        },
        {
          "name": "stdout",
          "output_type": "stream",
          "text": [
            "Chromosome: 45\n"
          ]
        },
        {
          "name": "stderr",
          "output_type": "stream",
          "text": [
            "Training: 100%|\u001b[34m██████████\u001b[0m| 49/49 [00:16<00:00,  2.93it/s]\n",
            "Testing: 100%|\u001b[32m██████████\u001b[0m| 10/10 [00:03<00:00,  3.01it/s]\n"
          ]
        },
        {
          "name": "stdout",
          "output_type": "stream",
          "text": [
            "Chromosome: 46\n"
          ]
        },
        {
          "name": "stderr",
          "output_type": "stream",
          "text": [
            "Training: 100%|\u001b[34m██████████\u001b[0m| 49/49 [00:18<00:00,  2.60it/s]\n",
            "Testing: 100%|\u001b[32m██████████\u001b[0m| 10/10 [00:03<00:00,  2.81it/s]\n"
          ]
        },
        {
          "name": "stdout",
          "output_type": "stream",
          "text": [
            "Chromosome: 47\n"
          ]
        },
        {
          "name": "stderr",
          "output_type": "stream",
          "text": [
            "Training: 100%|\u001b[34m██████████\u001b[0m| 49/49 [00:18<00:00,  2.62it/s]\n",
            "Testing: 100%|\u001b[32m██████████\u001b[0m| 10/10 [00:03<00:00,  2.59it/s]\n"
          ]
        },
        {
          "name": "stdout",
          "output_type": "stream",
          "text": [
            "Chromosome: 48\n"
          ]
        },
        {
          "name": "stderr",
          "output_type": "stream",
          "text": [
            "Training: 100%|\u001b[34m██████████\u001b[0m| 49/49 [00:18<00:00,  2.63it/s]\n",
            "Testing: 100%|\u001b[32m██████████\u001b[0m| 10/10 [00:03<00:00,  2.67it/s]\n"
          ]
        },
        {
          "name": "stdout",
          "output_type": "stream",
          "text": [
            "Chromosome: 49\n"
          ]
        },
        {
          "name": "stderr",
          "output_type": "stream",
          "text": [
            "Training: 100%|\u001b[34m██████████\u001b[0m| 49/49 [00:17<00:00,  2.78it/s]\n",
            "Testing: 100%|\u001b[32m██████████\u001b[0m| 10/10 [00:03<00:00,  2.84it/s]\n"
          ]
        },
        {
          "name": "stdout",
          "output_type": "stream",
          "text": [
            "Chromosome: 50\n"
          ]
        },
        {
          "name": "stderr",
          "output_type": "stream",
          "text": [
            "Training: 100%|\u001b[34m██████████\u001b[0m| 49/49 [00:17<00:00,  2.76it/s]\n",
            "Testing: 100%|\u001b[32m██████████\u001b[0m| 10/10 [00:03<00:00,  2.89it/s]\n"
          ]
        },
        {
          "name": "stdout",
          "output_type": "stream",
          "text": [
            "current iteration: 10 / 20 , best train fitness: 0.16951199696988475, average train fitness: 0.15127975942224875, average test fitness: 0.14811168654263024\n",
            "-------------------------------------------------------------------------------------------------\n",
            "Chromosome: 1\n"
          ]
        },
        {
          "name": "stderr",
          "output_type": "stream",
          "text": [
            "Training: 100%|\u001b[34m██████████\u001b[0m| 49/49 [00:17<00:00,  2.81it/s]\n",
            "Testing: 100%|\u001b[32m██████████\u001b[0m| 10/10 [00:03<00:00,  2.94it/s]\n"
          ]
        },
        {
          "name": "stdout",
          "output_type": "stream",
          "text": [
            "Chromosome: 2\n"
          ]
        },
        {
          "name": "stderr",
          "output_type": "stream",
          "text": [
            "Training: 100%|\u001b[34m██████████\u001b[0m| 49/49 [00:17<00:00,  2.81it/s]\n",
            "Testing: 100%|\u001b[32m██████████\u001b[0m| 10/10 [00:03<00:00,  3.06it/s]\n"
          ]
        },
        {
          "name": "stdout",
          "output_type": "stream",
          "text": [
            "Chromosome: 3\n"
          ]
        },
        {
          "name": "stderr",
          "output_type": "stream",
          "text": [
            "Training: 100%|\u001b[34m██████████\u001b[0m| 49/49 [00:16<00:00,  2.90it/s]\n",
            "Testing: 100%|\u001b[32m██████████\u001b[0m| 10/10 [00:03<00:00,  2.98it/s]\n"
          ]
        },
        {
          "name": "stdout",
          "output_type": "stream",
          "text": [
            "Chromosome: 4\n"
          ]
        },
        {
          "name": "stderr",
          "output_type": "stream",
          "text": [
            "Training: 100%|\u001b[34m██████████\u001b[0m| 49/49 [00:18<00:00,  2.70it/s]\n",
            "Testing: 100%|\u001b[32m██████████\u001b[0m| 10/10 [00:03<00:00,  2.92it/s]\n"
          ]
        },
        {
          "name": "stdout",
          "output_type": "stream",
          "text": [
            "Chromosome: 5\n"
          ]
        },
        {
          "name": "stderr",
          "output_type": "stream",
          "text": [
            "Training: 100%|\u001b[34m██████████\u001b[0m| 49/49 [00:17<00:00,  2.82it/s]\n",
            "Testing: 100%|\u001b[32m██████████\u001b[0m| 10/10 [00:03<00:00,  2.97it/s]\n"
          ]
        },
        {
          "name": "stdout",
          "output_type": "stream",
          "text": [
            "Chromosome: 6\n"
          ]
        },
        {
          "name": "stderr",
          "output_type": "stream",
          "text": [
            "Training: 100%|\u001b[34m██████████\u001b[0m| 49/49 [00:18<00:00,  2.67it/s]\n",
            "Testing: 100%|\u001b[32m██████████\u001b[0m| 10/10 [00:03<00:00,  2.93it/s]\n"
          ]
        },
        {
          "name": "stdout",
          "output_type": "stream",
          "text": [
            "Chromosome: 7\n"
          ]
        },
        {
          "name": "stderr",
          "output_type": "stream",
          "text": [
            "Training: 100%|\u001b[34m██████████\u001b[0m| 49/49 [00:17<00:00,  2.81it/s]\n",
            "Testing: 100%|\u001b[32m██████████\u001b[0m| 10/10 [00:03<00:00,  2.87it/s]\n"
          ]
        },
        {
          "name": "stdout",
          "output_type": "stream",
          "text": [
            "Chromosome: 8\n"
          ]
        },
        {
          "name": "stderr",
          "output_type": "stream",
          "text": [
            "Training: 100%|\u001b[34m██████████\u001b[0m| 49/49 [00:18<00:00,  2.62it/s]\n",
            "Testing: 100%|\u001b[32m██████████\u001b[0m| 10/10 [00:03<00:00,  2.77it/s]\n"
          ]
        },
        {
          "name": "stdout",
          "output_type": "stream",
          "text": [
            "Chromosome: 9\n"
          ]
        },
        {
          "name": "stderr",
          "output_type": "stream",
          "text": [
            "Training: 100%|\u001b[34m██████████\u001b[0m| 49/49 [00:17<00:00,  2.78it/s]\n",
            "Testing: 100%|\u001b[32m██████████\u001b[0m| 10/10 [00:03<00:00,  2.82it/s]\n"
          ]
        },
        {
          "name": "stdout",
          "output_type": "stream",
          "text": [
            "Chromosome: 10\n"
          ]
        },
        {
          "name": "stderr",
          "output_type": "stream",
          "text": [
            "Training: 100%|\u001b[34m██████████\u001b[0m| 49/49 [00:17<00:00,  2.76it/s]\n",
            "Testing: 100%|\u001b[32m██████████\u001b[0m| 10/10 [00:03<00:00,  2.95it/s]\n"
          ]
        },
        {
          "name": "stdout",
          "output_type": "stream",
          "text": [
            "Chromosome: 11\n"
          ]
        },
        {
          "name": "stderr",
          "output_type": "stream",
          "text": [
            "Training: 100%|\u001b[34m██████████\u001b[0m| 49/49 [00:18<00:00,  2.72it/s]\n",
            "Testing: 100%|\u001b[32m██████████\u001b[0m| 10/10 [00:03<00:00,  2.68it/s]\n"
          ]
        },
        {
          "name": "stdout",
          "output_type": "stream",
          "text": [
            "Chromosome: 12\n"
          ]
        },
        {
          "name": "stderr",
          "output_type": "stream",
          "text": [
            "Training: 100%|\u001b[34m██████████\u001b[0m| 49/49 [00:18<00:00,  2.69it/s]\n",
            "Testing: 100%|\u001b[32m██████████\u001b[0m| 10/10 [00:03<00:00,  2.93it/s]\n"
          ]
        },
        {
          "name": "stdout",
          "output_type": "stream",
          "text": [
            "Chromosome: 13\n"
          ]
        },
        {
          "name": "stderr",
          "output_type": "stream",
          "text": [
            "Training: 100%|\u001b[34m██████████\u001b[0m| 49/49 [00:18<00:00,  2.68it/s]\n",
            "Testing: 100%|\u001b[32m██████████\u001b[0m| 10/10 [00:03<00:00,  2.71it/s]\n"
          ]
        },
        {
          "name": "stdout",
          "output_type": "stream",
          "text": [
            "Chromosome: 14\n"
          ]
        },
        {
          "name": "stderr",
          "output_type": "stream",
          "text": [
            "Training: 100%|\u001b[34m██████████\u001b[0m| 49/49 [00:18<00:00,  2.68it/s]\n",
            "Testing: 100%|\u001b[32m██████████\u001b[0m| 10/10 [00:03<00:00,  2.90it/s]\n"
          ]
        },
        {
          "name": "stdout",
          "output_type": "stream",
          "text": [
            "Chromosome: 15\n"
          ]
        },
        {
          "name": "stderr",
          "output_type": "stream",
          "text": [
            "Training: 100%|\u001b[34m██████████\u001b[0m| 49/49 [00:17<00:00,  2.87it/s]\n",
            "Testing: 100%|\u001b[32m██████████\u001b[0m| 10/10 [00:03<00:00,  3.01it/s]\n"
          ]
        },
        {
          "name": "stdout",
          "output_type": "stream",
          "text": [
            "Chromosome: 16\n"
          ]
        },
        {
          "name": "stderr",
          "output_type": "stream",
          "text": [
            "Training: 100%|\u001b[34m██████████\u001b[0m| 49/49 [00:16<00:00,  2.90it/s]\n",
            "Testing: 100%|\u001b[32m██████████\u001b[0m| 10/10 [00:03<00:00,  2.99it/s]\n"
          ]
        },
        {
          "name": "stdout",
          "output_type": "stream",
          "text": [
            "Chromosome: 17\n"
          ]
        },
        {
          "name": "stderr",
          "output_type": "stream",
          "text": [
            "Training: 100%|\u001b[34m██████████\u001b[0m| 49/49 [00:17<00:00,  2.88it/s]\n",
            "Testing: 100%|\u001b[32m██████████\u001b[0m| 10/10 [00:03<00:00,  2.91it/s]\n"
          ]
        },
        {
          "name": "stdout",
          "output_type": "stream",
          "text": [
            "Chromosome: 18\n"
          ]
        },
        {
          "name": "stderr",
          "output_type": "stream",
          "text": [
            "Training: 100%|\u001b[34m██████████\u001b[0m| 49/49 [00:16<00:00,  2.88it/s]\n",
            "Testing: 100%|\u001b[32m██████████\u001b[0m| 10/10 [00:03<00:00,  2.96it/s]\n"
          ]
        },
        {
          "name": "stdout",
          "output_type": "stream",
          "text": [
            "Chromosome: 19\n"
          ]
        },
        {
          "name": "stderr",
          "output_type": "stream",
          "text": [
            "Training: 100%|\u001b[34m██████████\u001b[0m| 49/49 [00:17<00:00,  2.85it/s]\n",
            "Testing: 100%|\u001b[32m██████████\u001b[0m| 10/10 [00:03<00:00,  2.94it/s]\n"
          ]
        },
        {
          "name": "stdout",
          "output_type": "stream",
          "text": [
            "Chromosome: 20\n"
          ]
        },
        {
          "name": "stderr",
          "output_type": "stream",
          "text": [
            "Training: 100%|\u001b[34m██████████\u001b[0m| 49/49 [00:17<00:00,  2.88it/s]\n",
            "Testing: 100%|\u001b[32m██████████\u001b[0m| 10/10 [00:03<00:00,  2.97it/s]\n"
          ]
        },
        {
          "name": "stdout",
          "output_type": "stream",
          "text": [
            "Chromosome: 21\n"
          ]
        },
        {
          "name": "stderr",
          "output_type": "stream",
          "text": [
            "Training: 100%|\u001b[34m██████████\u001b[0m| 49/49 [00:17<00:00,  2.84it/s]\n",
            "Testing: 100%|\u001b[32m██████████\u001b[0m| 10/10 [00:03<00:00,  2.94it/s]\n"
          ]
        },
        {
          "name": "stdout",
          "output_type": "stream",
          "text": [
            "Chromosome: 22\n"
          ]
        },
        {
          "name": "stderr",
          "output_type": "stream",
          "text": [
            "Training: 100%|\u001b[34m██████████\u001b[0m| 49/49 [00:17<00:00,  2.87it/s]\n",
            "Testing: 100%|\u001b[32m██████████\u001b[0m| 10/10 [00:03<00:00,  3.01it/s]\n"
          ]
        },
        {
          "name": "stdout",
          "output_type": "stream",
          "text": [
            "Chromosome: 23\n"
          ]
        },
        {
          "name": "stderr",
          "output_type": "stream",
          "text": [
            "Training: 100%|\u001b[34m██████████\u001b[0m| 49/49 [00:17<00:00,  2.88it/s]\n",
            "Testing: 100%|\u001b[32m██████████\u001b[0m| 10/10 [00:03<00:00,  3.01it/s]\n"
          ]
        },
        {
          "name": "stdout",
          "output_type": "stream",
          "text": [
            "Chromosome: 24\n"
          ]
        },
        {
          "name": "stderr",
          "output_type": "stream",
          "text": [
            "Training: 100%|\u001b[34m██████████\u001b[0m| 49/49 [00:16<00:00,  2.92it/s]\n",
            "Testing: 100%|\u001b[32m██████████\u001b[0m| 10/10 [00:03<00:00,  2.95it/s]\n"
          ]
        },
        {
          "name": "stdout",
          "output_type": "stream",
          "text": [
            "Chromosome: 25\n"
          ]
        },
        {
          "name": "stderr",
          "output_type": "stream",
          "text": [
            "Training: 100%|\u001b[34m██████████\u001b[0m| 49/49 [00:18<00:00,  2.58it/s]\n",
            "Testing: 100%|\u001b[32m██████████\u001b[0m| 10/10 [00:03<00:00,  2.58it/s]\n"
          ]
        },
        {
          "name": "stdout",
          "output_type": "stream",
          "text": [
            "Chromosome: 26\n"
          ]
        },
        {
          "name": "stderr",
          "output_type": "stream",
          "text": [
            "Training: 100%|\u001b[34m██████████\u001b[0m| 49/49 [00:19<00:00,  2.48it/s]\n",
            "Testing: 100%|\u001b[32m██████████\u001b[0m| 10/10 [00:03<00:00,  2.54it/s]\n"
          ]
        },
        {
          "name": "stdout",
          "output_type": "stream",
          "text": [
            "Chromosome: 27\n"
          ]
        },
        {
          "name": "stderr",
          "output_type": "stream",
          "text": [
            "Training: 100%|\u001b[34m██████████\u001b[0m| 49/49 [00:18<00:00,  2.69it/s]\n",
            "Testing: 100%|\u001b[32m██████████\u001b[0m| 10/10 [00:03<00:00,  2.81it/s]\n"
          ]
        },
        {
          "name": "stdout",
          "output_type": "stream",
          "text": [
            "Chromosome: 28\n"
          ]
        },
        {
          "name": "stderr",
          "output_type": "stream",
          "text": [
            "Training: 100%|\u001b[34m██████████\u001b[0m| 49/49 [00:17<00:00,  2.72it/s]\n",
            "Testing: 100%|\u001b[32m██████████\u001b[0m| 10/10 [00:03<00:00,  2.84it/s]\n"
          ]
        },
        {
          "name": "stdout",
          "output_type": "stream",
          "text": [
            "Chromosome: 29\n"
          ]
        },
        {
          "name": "stderr",
          "output_type": "stream",
          "text": [
            "Training: 100%|\u001b[34m██████████\u001b[0m| 49/49 [00:17<00:00,  2.74it/s]\n",
            "Testing: 100%|\u001b[32m██████████\u001b[0m| 10/10 [00:03<00:00,  2.67it/s]\n"
          ]
        },
        {
          "name": "stdout",
          "output_type": "stream",
          "text": [
            "Chromosome: 30\n"
          ]
        },
        {
          "name": "stderr",
          "output_type": "stream",
          "text": [
            "Training: 100%|\u001b[34m██████████\u001b[0m| 49/49 [00:17<00:00,  2.74it/s]\n",
            "Testing: 100%|\u001b[32m██████████\u001b[0m| 10/10 [00:03<00:00,  2.84it/s]\n"
          ]
        },
        {
          "name": "stdout",
          "output_type": "stream",
          "text": [
            "Chromosome: 31\n"
          ]
        },
        {
          "name": "stderr",
          "output_type": "stream",
          "text": [
            "Training: 100%|\u001b[34m██████████\u001b[0m| 49/49 [00:18<00:00,  2.67it/s]\n",
            "Testing: 100%|\u001b[32m██████████\u001b[0m| 10/10 [00:03<00:00,  2.79it/s]\n"
          ]
        },
        {
          "name": "stdout",
          "output_type": "stream",
          "text": [
            "Chromosome: 32\n"
          ]
        },
        {
          "name": "stderr",
          "output_type": "stream",
          "text": [
            "Training: 100%|\u001b[34m██████████\u001b[0m| 49/49 [00:18<00:00,  2.72it/s]\n",
            "Testing: 100%|\u001b[32m██████████\u001b[0m| 10/10 [00:03<00:00,  2.83it/s]\n"
          ]
        },
        {
          "name": "stdout",
          "output_type": "stream",
          "text": [
            "Chromosome: 33\n"
          ]
        },
        {
          "name": "stderr",
          "output_type": "stream",
          "text": [
            "Training: 100%|\u001b[34m██████████\u001b[0m| 49/49 [00:17<00:00,  2.75it/s]\n",
            "Testing: 100%|\u001b[32m██████████\u001b[0m| 10/10 [00:03<00:00,  3.06it/s]\n"
          ]
        },
        {
          "name": "stdout",
          "output_type": "stream",
          "text": [
            "Chromosome: 34\n"
          ]
        },
        {
          "name": "stderr",
          "output_type": "stream",
          "text": [
            "Training: 100%|\u001b[34m██████████\u001b[0m| 49/49 [00:16<00:00,  2.91it/s]\n",
            "Testing: 100%|\u001b[32m██████████\u001b[0m| 10/10 [00:03<00:00,  2.97it/s]\n"
          ]
        },
        {
          "name": "stdout",
          "output_type": "stream",
          "text": [
            "Chromosome: 35\n"
          ]
        },
        {
          "name": "stderr",
          "output_type": "stream",
          "text": [
            "Training: 100%|\u001b[34m██████████\u001b[0m| 49/49 [00:18<00:00,  2.65it/s]\n",
            "Testing: 100%|\u001b[32m██████████\u001b[0m| 10/10 [00:03<00:00,  2.62it/s]\n"
          ]
        },
        {
          "name": "stdout",
          "output_type": "stream",
          "text": [
            "Chromosome: 36\n"
          ]
        },
        {
          "name": "stderr",
          "output_type": "stream",
          "text": [
            "Training: 100%|\u001b[34m██████████\u001b[0m| 49/49 [00:17<00:00,  2.79it/s]\n",
            "Testing: 100%|\u001b[32m██████████\u001b[0m| 10/10 [00:03<00:00,  2.98it/s]\n"
          ]
        },
        {
          "name": "stdout",
          "output_type": "stream",
          "text": [
            "Chromosome: 37\n"
          ]
        },
        {
          "name": "stderr",
          "output_type": "stream",
          "text": [
            "Training: 100%|\u001b[34m██████████\u001b[0m| 49/49 [00:18<00:00,  2.68it/s]\n",
            "Testing: 100%|\u001b[32m██████████\u001b[0m| 10/10 [00:03<00:00,  3.02it/s]\n"
          ]
        },
        {
          "name": "stdout",
          "output_type": "stream",
          "text": [
            "Chromosome: 38\n"
          ]
        },
        {
          "name": "stderr",
          "output_type": "stream",
          "text": [
            "Training: 100%|\u001b[34m██████████\u001b[0m| 49/49 [00:19<00:00,  2.50it/s]\n",
            "Testing: 100%|\u001b[32m██████████\u001b[0m| 10/10 [00:03<00:00,  3.04it/s]\n"
          ]
        },
        {
          "name": "stdout",
          "output_type": "stream",
          "text": [
            "Chromosome: 39\n"
          ]
        },
        {
          "name": "stderr",
          "output_type": "stream",
          "text": [
            "Training: 100%|\u001b[34m██████████\u001b[0m| 49/49 [00:16<00:00,  2.90it/s]\n",
            "Testing: 100%|\u001b[32m██████████\u001b[0m| 10/10 [00:03<00:00,  3.10it/s]\n"
          ]
        },
        {
          "name": "stdout",
          "output_type": "stream",
          "text": [
            "Chromosome: 40\n"
          ]
        },
        {
          "name": "stderr",
          "output_type": "stream",
          "text": [
            "Training: 100%|\u001b[34m██████████\u001b[0m| 49/49 [00:16<00:00,  2.99it/s]\n",
            "Testing: 100%|\u001b[32m██████████\u001b[0m| 10/10 [00:03<00:00,  3.06it/s]\n"
          ]
        },
        {
          "name": "stdout",
          "output_type": "stream",
          "text": [
            "Chromosome: 41\n"
          ]
        },
        {
          "name": "stderr",
          "output_type": "stream",
          "text": [
            "Training: 100%|\u001b[34m██████████\u001b[0m| 49/49 [00:16<00:00,  2.97it/s]\n",
            "Testing: 100%|\u001b[32m██████████\u001b[0m| 10/10 [00:03<00:00,  2.97it/s]\n"
          ]
        },
        {
          "name": "stdout",
          "output_type": "stream",
          "text": [
            "Chromosome: 42\n"
          ]
        },
        {
          "name": "stderr",
          "output_type": "stream",
          "text": [
            "Training: 100%|\u001b[34m██████████\u001b[0m| 49/49 [00:16<00:00,  2.97it/s]\n",
            "Testing: 100%|\u001b[32m██████████\u001b[0m| 10/10 [00:03<00:00,  3.07it/s]\n"
          ]
        },
        {
          "name": "stdout",
          "output_type": "stream",
          "text": [
            "Chromosome: 43\n"
          ]
        },
        {
          "name": "stderr",
          "output_type": "stream",
          "text": [
            "Training: 100%|\u001b[34m██████████\u001b[0m| 49/49 [00:16<00:00,  2.92it/s]\n",
            "Testing: 100%|\u001b[32m██████████\u001b[0m| 10/10 [00:03<00:00,  3.07it/s]\n"
          ]
        },
        {
          "name": "stdout",
          "output_type": "stream",
          "text": [
            "Chromosome: 44\n"
          ]
        },
        {
          "name": "stderr",
          "output_type": "stream",
          "text": [
            "Training: 100%|\u001b[34m██████████\u001b[0m| 49/49 [00:16<00:00,  2.97it/s]\n",
            "Testing: 100%|\u001b[32m██████████\u001b[0m| 10/10 [00:03<00:00,  2.80it/s]\n"
          ]
        },
        {
          "name": "stdout",
          "output_type": "stream",
          "text": [
            "Chromosome: 45\n"
          ]
        },
        {
          "name": "stderr",
          "output_type": "stream",
          "text": [
            "Training: 100%|\u001b[34m██████████\u001b[0m| 49/49 [00:16<00:00,  2.98it/s]\n",
            "Testing: 100%|\u001b[32m██████████\u001b[0m| 10/10 [00:03<00:00,  3.06it/s]\n"
          ]
        },
        {
          "name": "stdout",
          "output_type": "stream",
          "text": [
            "Chromosome: 46\n"
          ]
        },
        {
          "name": "stderr",
          "output_type": "stream",
          "text": [
            "Training: 100%|\u001b[34m██████████\u001b[0m| 49/49 [00:16<00:00,  2.96it/s]\n",
            "Testing: 100%|\u001b[32m██████████\u001b[0m| 10/10 [00:03<00:00,  2.90it/s]\n"
          ]
        },
        {
          "name": "stdout",
          "output_type": "stream",
          "text": [
            "Chromosome: 47\n"
          ]
        },
        {
          "name": "stderr",
          "output_type": "stream",
          "text": [
            "Training: 100%|\u001b[34m██████████\u001b[0m| 49/49 [00:18<00:00,  2.66it/s]\n",
            "Testing: 100%|\u001b[32m██████████\u001b[0m| 10/10 [00:03<00:00,  2.78it/s]\n"
          ]
        },
        {
          "name": "stdout",
          "output_type": "stream",
          "text": [
            "Chromosome: 48\n"
          ]
        },
        {
          "name": "stderr",
          "output_type": "stream",
          "text": [
            "Training: 100%|\u001b[34m██████████\u001b[0m| 49/49 [00:18<00:00,  2.59it/s]\n",
            "Testing: 100%|\u001b[32m██████████\u001b[0m| 10/10 [00:04<00:00,  2.47it/s]\n"
          ]
        },
        {
          "name": "stdout",
          "output_type": "stream",
          "text": [
            "Chromosome: 49\n"
          ]
        },
        {
          "name": "stderr",
          "output_type": "stream",
          "text": [
            "Training: 100%|\u001b[34m██████████\u001b[0m| 49/49 [00:20<00:00,  2.37it/s]\n",
            "Testing: 100%|\u001b[32m██████████\u001b[0m| 10/10 [00:03<00:00,  2.78it/s]\n"
          ]
        },
        {
          "name": "stdout",
          "output_type": "stream",
          "text": [
            "Chromosome: 50\n"
          ]
        },
        {
          "name": "stderr",
          "output_type": "stream",
          "text": [
            "Training: 100%|\u001b[34m██████████\u001b[0m| 49/49 [00:18<00:00,  2.65it/s]\n",
            "Testing: 100%|\u001b[32m██████████\u001b[0m| 10/10 [00:03<00:00,  2.82it/s]\n"
          ]
        },
        {
          "name": "stdout",
          "output_type": "stream",
          "text": [
            "current iteration: 11 / 20 , best train fitness: 0.1788436779562308, average train fitness: 0.1552598701843194, average test fitness: 0.15165401758253572\n",
            "-------------------------------------------------------------------------------------------------\n",
            "Chromosome: 1\n"
          ]
        },
        {
          "name": "stderr",
          "output_type": "stream",
          "text": [
            "Training: 100%|\u001b[34m██████████\u001b[0m| 49/49 [00:17<00:00,  2.81it/s]\n",
            "Testing: 100%|\u001b[32m██████████\u001b[0m| 10/10 [00:03<00:00,  3.02it/s]\n"
          ]
        },
        {
          "name": "stdout",
          "output_type": "stream",
          "text": [
            "Chromosome: 2\n"
          ]
        },
        {
          "name": "stderr",
          "output_type": "stream",
          "text": [
            "Training: 100%|\u001b[34m██████████\u001b[0m| 49/49 [00:16<00:00,  2.92it/s]\n",
            "Testing: 100%|\u001b[32m██████████\u001b[0m| 10/10 [00:03<00:00,  2.67it/s]\n"
          ]
        },
        {
          "name": "stdout",
          "output_type": "stream",
          "text": [
            "Chromosome: 3\n"
          ]
        },
        {
          "name": "stderr",
          "output_type": "stream",
          "text": [
            "Training: 100%|\u001b[34m██████████\u001b[0m| 49/49 [00:16<00:00,  2.97it/s]\n",
            "Testing: 100%|\u001b[32m██████████\u001b[0m| 10/10 [00:03<00:00,  2.92it/s]\n"
          ]
        },
        {
          "name": "stdout",
          "output_type": "stream",
          "text": [
            "Chromosome: 4\n"
          ]
        },
        {
          "name": "stderr",
          "output_type": "stream",
          "text": [
            "Training: 100%|\u001b[34m██████████\u001b[0m| 49/49 [00:17<00:00,  2.88it/s]\n",
            "Testing: 100%|\u001b[32m██████████\u001b[0m| 10/10 [00:04<00:00,  2.46it/s]\n"
          ]
        },
        {
          "name": "stdout",
          "output_type": "stream",
          "text": [
            "Chromosome: 5\n"
          ]
        },
        {
          "name": "stderr",
          "output_type": "stream",
          "text": [
            "Training: 100%|\u001b[34m██████████\u001b[0m| 49/49 [00:17<00:00,  2.87it/s]\n",
            "Testing: 100%|\u001b[32m██████████\u001b[0m| 10/10 [00:03<00:00,  2.68it/s]\n"
          ]
        },
        {
          "name": "stdout",
          "output_type": "stream",
          "text": [
            "Chromosome: 6\n"
          ]
        },
        {
          "name": "stderr",
          "output_type": "stream",
          "text": [
            "Training: 100%|\u001b[34m██████████\u001b[0m| 49/49 [00:19<00:00,  2.57it/s]\n",
            "Testing: 100%|\u001b[32m██████████\u001b[0m| 10/10 [00:03<00:00,  2.84it/s]\n"
          ]
        },
        {
          "name": "stdout",
          "output_type": "stream",
          "text": [
            "Chromosome: 7\n"
          ]
        },
        {
          "name": "stderr",
          "output_type": "stream",
          "text": [
            "Training: 100%|\u001b[34m██████████\u001b[0m| 49/49 [00:16<00:00,  2.91it/s]\n",
            "Testing: 100%|\u001b[32m██████████\u001b[0m| 10/10 [00:03<00:00,  2.86it/s]\n"
          ]
        },
        {
          "name": "stdout",
          "output_type": "stream",
          "text": [
            "Chromosome: 8\n"
          ]
        },
        {
          "name": "stderr",
          "output_type": "stream",
          "text": [
            "Training: 100%|\u001b[34m██████████\u001b[0m| 49/49 [00:17<00:00,  2.87it/s]\n",
            "Testing: 100%|\u001b[32m██████████\u001b[0m| 10/10 [00:03<00:00,  3.05it/s]\n"
          ]
        },
        {
          "name": "stdout",
          "output_type": "stream",
          "text": [
            "Chromosome: 9\n"
          ]
        },
        {
          "name": "stderr",
          "output_type": "stream",
          "text": [
            "Training: 100%|\u001b[34m██████████\u001b[0m| 49/49 [00:17<00:00,  2.80it/s]\n",
            "Testing: 100%|\u001b[32m██████████\u001b[0m| 10/10 [00:03<00:00,  2.92it/s]\n"
          ]
        },
        {
          "name": "stdout",
          "output_type": "stream",
          "text": [
            "Chromosome: 10\n"
          ]
        },
        {
          "name": "stderr",
          "output_type": "stream",
          "text": [
            "Training: 100%|\u001b[34m██████████\u001b[0m| 49/49 [00:17<00:00,  2.80it/s]\n",
            "Testing: 100%|\u001b[32m██████████\u001b[0m| 10/10 [00:03<00:00,  2.70it/s]\n"
          ]
        },
        {
          "name": "stdout",
          "output_type": "stream",
          "text": [
            "Chromosome: 11\n"
          ]
        },
        {
          "name": "stderr",
          "output_type": "stream",
          "text": [
            "Training: 100%|\u001b[34m██████████\u001b[0m| 49/49 [00:16<00:00,  2.92it/s]\n",
            "Testing: 100%|\u001b[32m██████████\u001b[0m| 10/10 [00:03<00:00,  3.05it/s]\n"
          ]
        },
        {
          "name": "stdout",
          "output_type": "stream",
          "text": [
            "Chromosome: 12\n"
          ]
        },
        {
          "name": "stderr",
          "output_type": "stream",
          "text": [
            "Training: 100%|\u001b[34m██████████\u001b[0m| 49/49 [00:16<00:00,  2.98it/s]\n",
            "Testing: 100%|\u001b[32m██████████\u001b[0m| 10/10 [00:03<00:00,  3.08it/s]\n"
          ]
        },
        {
          "name": "stdout",
          "output_type": "stream",
          "text": [
            "Chromosome: 13\n"
          ]
        },
        {
          "name": "stderr",
          "output_type": "stream",
          "text": [
            "Training: 100%|\u001b[34m██████████\u001b[0m| 49/49 [00:17<00:00,  2.84it/s]\n",
            "Testing: 100%|\u001b[32m██████████\u001b[0m| 10/10 [00:03<00:00,  3.11it/s]\n"
          ]
        },
        {
          "name": "stdout",
          "output_type": "stream",
          "text": [
            "Chromosome: 14\n"
          ]
        },
        {
          "name": "stderr",
          "output_type": "stream",
          "text": [
            "Training: 100%|\u001b[34m██████████\u001b[0m| 49/49 [00:16<00:00,  2.95it/s]\n",
            "Testing: 100%|\u001b[32m██████████\u001b[0m| 10/10 [00:03<00:00,  3.17it/s]\n"
          ]
        },
        {
          "name": "stdout",
          "output_type": "stream",
          "text": [
            "Chromosome: 15\n"
          ]
        },
        {
          "name": "stderr",
          "output_type": "stream",
          "text": [
            "Training: 100%|\u001b[34m██████████\u001b[0m| 49/49 [00:17<00:00,  2.73it/s]\n",
            "Testing: 100%|\u001b[32m██████████\u001b[0m| 10/10 [00:04<00:00,  2.32it/s]\n"
          ]
        },
        {
          "name": "stdout",
          "output_type": "stream",
          "text": [
            "Chromosome: 16\n"
          ]
        },
        {
          "name": "stderr",
          "output_type": "stream",
          "text": [
            "Training: 100%|\u001b[34m██████████\u001b[0m| 49/49 [00:17<00:00,  2.81it/s]\n",
            "Testing: 100%|\u001b[32m██████████\u001b[0m| 10/10 [00:03<00:00,  2.84it/s]\n"
          ]
        },
        {
          "name": "stdout",
          "output_type": "stream",
          "text": [
            "Chromosome: 17\n"
          ]
        },
        {
          "name": "stderr",
          "output_type": "stream",
          "text": [
            "Training: 100%|\u001b[34m██████████\u001b[0m| 49/49 [00:17<00:00,  2.78it/s]\n",
            "Testing: 100%|\u001b[32m██████████\u001b[0m| 10/10 [00:03<00:00,  2.88it/s]\n"
          ]
        },
        {
          "name": "stdout",
          "output_type": "stream",
          "text": [
            "Chromosome: 18\n"
          ]
        },
        {
          "name": "stderr",
          "output_type": "stream",
          "text": [
            "Training: 100%|\u001b[34m██████████\u001b[0m| 49/49 [00:17<00:00,  2.87it/s]\n",
            "Testing: 100%|\u001b[32m██████████\u001b[0m| 10/10 [00:03<00:00,  2.82it/s]\n"
          ]
        },
        {
          "name": "stdout",
          "output_type": "stream",
          "text": [
            "Chromosome: 19\n"
          ]
        },
        {
          "name": "stderr",
          "output_type": "stream",
          "text": [
            "Training: 100%|\u001b[34m██████████\u001b[0m| 49/49 [00:17<00:00,  2.77it/s]\n",
            "Testing: 100%|\u001b[32m██████████\u001b[0m| 10/10 [00:03<00:00,  3.02it/s]\n"
          ]
        },
        {
          "name": "stdout",
          "output_type": "stream",
          "text": [
            "Chromosome: 20\n"
          ]
        },
        {
          "name": "stderr",
          "output_type": "stream",
          "text": [
            "Training: 100%|\u001b[34m██████████\u001b[0m| 49/49 [00:16<00:00,  2.97it/s]\n",
            "Testing: 100%|\u001b[32m██████████\u001b[0m| 10/10 [00:04<00:00,  2.24it/s]\n"
          ]
        },
        {
          "name": "stdout",
          "output_type": "stream",
          "text": [
            "Chromosome: 21\n"
          ]
        },
        {
          "name": "stderr",
          "output_type": "stream",
          "text": [
            "Training: 100%|\u001b[34m██████████\u001b[0m| 49/49 [00:18<00:00,  2.70it/s]\n",
            "Testing: 100%|\u001b[32m██████████\u001b[0m| 10/10 [00:03<00:00,  2.92it/s]\n"
          ]
        },
        {
          "name": "stdout",
          "output_type": "stream",
          "text": [
            "Chromosome: 22\n"
          ]
        },
        {
          "name": "stderr",
          "output_type": "stream",
          "text": [
            "Training: 100%|\u001b[34m██████████\u001b[0m| 49/49 [00:16<00:00,  2.93it/s]\n",
            "Testing: 100%|\u001b[32m██████████\u001b[0m| 10/10 [00:03<00:00,  3.19it/s]\n"
          ]
        },
        {
          "name": "stdout",
          "output_type": "stream",
          "text": [
            "Chromosome: 23\n"
          ]
        },
        {
          "name": "stderr",
          "output_type": "stream",
          "text": [
            "Training: 100%|\u001b[34m██████████\u001b[0m| 49/49 [00:16<00:00,  3.05it/s]\n",
            "Testing: 100%|\u001b[32m██████████\u001b[0m| 10/10 [00:03<00:00,  3.15it/s]\n"
          ]
        },
        {
          "name": "stdout",
          "output_type": "stream",
          "text": [
            "Chromosome: 24\n"
          ]
        },
        {
          "name": "stderr",
          "output_type": "stream",
          "text": [
            "Training: 100%|\u001b[34m██████████\u001b[0m| 49/49 [00:16<00:00,  3.00it/s]\n",
            "Testing: 100%|\u001b[32m██████████\u001b[0m| 10/10 [00:03<00:00,  3.12it/s]\n"
          ]
        },
        {
          "name": "stdout",
          "output_type": "stream",
          "text": [
            "Chromosome: 25\n"
          ]
        },
        {
          "name": "stderr",
          "output_type": "stream",
          "text": [
            "Training: 100%|\u001b[34m██████████\u001b[0m| 49/49 [00:16<00:00,  2.96it/s]\n",
            "Testing: 100%|\u001b[32m██████████\u001b[0m| 10/10 [00:03<00:00,  3.15it/s]\n"
          ]
        },
        {
          "name": "stdout",
          "output_type": "stream",
          "text": [
            "Chromosome: 26\n"
          ]
        },
        {
          "name": "stderr",
          "output_type": "stream",
          "text": [
            "Training: 100%|\u001b[34m██████████\u001b[0m| 49/49 [00:16<00:00,  2.96it/s]\n",
            "Testing: 100%|\u001b[32m██████████\u001b[0m| 10/10 [00:03<00:00,  3.03it/s]\n"
          ]
        },
        {
          "name": "stdout",
          "output_type": "stream",
          "text": [
            "Chromosome: 27\n"
          ]
        },
        {
          "name": "stderr",
          "output_type": "stream",
          "text": [
            "Training: 100%|\u001b[34m██████████\u001b[0m| 49/49 [00:16<00:00,  2.99it/s]\n",
            "Testing: 100%|\u001b[32m██████████\u001b[0m| 10/10 [00:03<00:00,  3.16it/s]\n"
          ]
        },
        {
          "name": "stdout",
          "output_type": "stream",
          "text": [
            "Chromosome: 28\n"
          ]
        },
        {
          "name": "stderr",
          "output_type": "stream",
          "text": [
            "Training: 100%|\u001b[34m██████████\u001b[0m| 49/49 [00:15<00:00,  3.07it/s]\n",
            "Testing: 100%|\u001b[32m██████████\u001b[0m| 10/10 [00:03<00:00,  3.16it/s]\n"
          ]
        },
        {
          "name": "stdout",
          "output_type": "stream",
          "text": [
            "Chromosome: 29\n"
          ]
        },
        {
          "name": "stderr",
          "output_type": "stream",
          "text": [
            "Training: 100%|\u001b[34m██████████\u001b[0m| 49/49 [00:16<00:00,  3.05it/s]\n",
            "Testing: 100%|\u001b[32m██████████\u001b[0m| 10/10 [00:03<00:00,  3.17it/s]\n"
          ]
        },
        {
          "name": "stdout",
          "output_type": "stream",
          "text": [
            "Chromosome: 30\n"
          ]
        },
        {
          "name": "stderr",
          "output_type": "stream",
          "text": [
            "Training: 100%|\u001b[34m██████████\u001b[0m| 49/49 [00:16<00:00,  3.05it/s]\n",
            "Testing: 100%|\u001b[32m██████████\u001b[0m| 10/10 [00:03<00:00,  3.20it/s]\n"
          ]
        },
        {
          "name": "stdout",
          "output_type": "stream",
          "text": [
            "Chromosome: 31\n"
          ]
        },
        {
          "name": "stderr",
          "output_type": "stream",
          "text": [
            "Training: 100%|\u001b[34m██████████\u001b[0m| 49/49 [00:16<00:00,  3.01it/s]\n",
            "Testing: 100%|\u001b[32m██████████\u001b[0m| 10/10 [00:03<00:00,  3.10it/s]\n"
          ]
        },
        {
          "name": "stdout",
          "output_type": "stream",
          "text": [
            "Chromosome: 32\n"
          ]
        },
        {
          "name": "stderr",
          "output_type": "stream",
          "text": [
            "Training: 100%|\u001b[34m██████████\u001b[0m| 49/49 [00:16<00:00,  3.06it/s]\n",
            "Testing: 100%|\u001b[32m██████████\u001b[0m| 10/10 [00:03<00:00,  2.91it/s]\n"
          ]
        },
        {
          "name": "stdout",
          "output_type": "stream",
          "text": [
            "Chromosome: 33\n"
          ]
        },
        {
          "name": "stderr",
          "output_type": "stream",
          "text": [
            "Training: 100%|\u001b[34m██████████\u001b[0m| 49/49 [00:17<00:00,  2.82it/s]\n",
            "Testing: 100%|\u001b[32m██████████\u001b[0m| 10/10 [00:03<00:00,  3.04it/s]\n"
          ]
        },
        {
          "name": "stdout",
          "output_type": "stream",
          "text": [
            "Chromosome: 34\n"
          ]
        },
        {
          "name": "stderr",
          "output_type": "stream",
          "text": [
            "Training: 100%|\u001b[34m██████████\u001b[0m| 49/49 [00:16<00:00,  3.03it/s]\n",
            "Testing: 100%|\u001b[32m██████████\u001b[0m| 10/10 [00:03<00:00,  2.93it/s]\n"
          ]
        },
        {
          "name": "stdout",
          "output_type": "stream",
          "text": [
            "Chromosome: 35\n"
          ]
        },
        {
          "name": "stderr",
          "output_type": "stream",
          "text": [
            "Training: 100%|\u001b[34m██████████\u001b[0m| 49/49 [00:17<00:00,  2.76it/s]\n",
            "Testing: 100%|\u001b[32m██████████\u001b[0m| 10/10 [00:03<00:00,  2.96it/s]\n"
          ]
        },
        {
          "name": "stdout",
          "output_type": "stream",
          "text": [
            "Chromosome: 36\n"
          ]
        },
        {
          "name": "stderr",
          "output_type": "stream",
          "text": [
            "Training: 100%|\u001b[34m██████████\u001b[0m| 49/49 [00:16<00:00,  2.89it/s]\n",
            "Testing: 100%|\u001b[32m██████████\u001b[0m| 10/10 [00:03<00:00,  3.04it/s]\n"
          ]
        },
        {
          "name": "stdout",
          "output_type": "stream",
          "text": [
            "Chromosome: 37\n"
          ]
        },
        {
          "name": "stderr",
          "output_type": "stream",
          "text": [
            "Training: 100%|\u001b[34m██████████\u001b[0m| 49/49 [00:16<00:00,  2.98it/s]\n",
            "Testing: 100%|\u001b[32m██████████\u001b[0m| 10/10 [00:03<00:00,  3.19it/s]\n"
          ]
        },
        {
          "name": "stdout",
          "output_type": "stream",
          "text": [
            "Chromosome: 38\n"
          ]
        },
        {
          "name": "stderr",
          "output_type": "stream",
          "text": [
            "Training: 100%|\u001b[34m██████████\u001b[0m| 49/49 [00:16<00:00,  3.06it/s]\n",
            "Testing: 100%|\u001b[32m██████████\u001b[0m| 10/10 [00:03<00:00,  3.16it/s]\n"
          ]
        },
        {
          "name": "stdout",
          "output_type": "stream",
          "text": [
            "Chromosome: 39\n"
          ]
        },
        {
          "name": "stderr",
          "output_type": "stream",
          "text": [
            "Training: 100%|\u001b[34m██████████\u001b[0m| 49/49 [00:16<00:00,  3.04it/s]\n",
            "Testing: 100%|\u001b[32m██████████\u001b[0m| 10/10 [00:03<00:00,  3.15it/s]\n"
          ]
        },
        {
          "name": "stdout",
          "output_type": "stream",
          "text": [
            "Chromosome: 40\n"
          ]
        },
        {
          "name": "stderr",
          "output_type": "stream",
          "text": [
            "Training: 100%|\u001b[34m██████████\u001b[0m| 49/49 [00:16<00:00,  2.89it/s]\n",
            "Testing: 100%|\u001b[32m██████████\u001b[0m| 10/10 [00:03<00:00,  3.07it/s]\n"
          ]
        },
        {
          "name": "stdout",
          "output_type": "stream",
          "text": [
            "Chromosome: 41\n"
          ]
        },
        {
          "name": "stderr",
          "output_type": "stream",
          "text": [
            "Training: 100%|\u001b[34m██████████\u001b[0m| 49/49 [00:17<00:00,  2.85it/s]\n",
            "Testing: 100%|\u001b[32m██████████\u001b[0m| 10/10 [00:03<00:00,  2.96it/s]\n"
          ]
        },
        {
          "name": "stdout",
          "output_type": "stream",
          "text": [
            "Chromosome: 42\n"
          ]
        },
        {
          "name": "stderr",
          "output_type": "stream",
          "text": [
            "Training: 100%|\u001b[34m██████████\u001b[0m| 49/49 [00:16<00:00,  2.94it/s]\n",
            "Testing: 100%|\u001b[32m██████████\u001b[0m| 10/10 [00:03<00:00,  2.99it/s]\n"
          ]
        },
        {
          "name": "stdout",
          "output_type": "stream",
          "text": [
            "Chromosome: 43\n"
          ]
        },
        {
          "name": "stderr",
          "output_type": "stream",
          "text": [
            "Training: 100%|\u001b[34m██████████\u001b[0m| 49/49 [00:16<00:00,  3.03it/s]\n",
            "Testing: 100%|\u001b[32m██████████\u001b[0m| 10/10 [00:03<00:00,  3.14it/s]\n"
          ]
        },
        {
          "name": "stdout",
          "output_type": "stream",
          "text": [
            "Chromosome: 44\n"
          ]
        },
        {
          "name": "stderr",
          "output_type": "stream",
          "text": [
            "Training: 100%|\u001b[34m██████████\u001b[0m| 49/49 [00:16<00:00,  3.03it/s]\n",
            "Testing: 100%|\u001b[32m██████████\u001b[0m| 10/10 [00:03<00:00,  3.12it/s]\n"
          ]
        },
        {
          "name": "stdout",
          "output_type": "stream",
          "text": [
            "Chromosome: 45\n"
          ]
        },
        {
          "name": "stderr",
          "output_type": "stream",
          "text": [
            "Training: 100%|\u001b[34m██████████\u001b[0m| 49/49 [00:15<00:00,  3.10it/s]\n",
            "Testing: 100%|\u001b[32m██████████\u001b[0m| 10/10 [00:03<00:00,  3.17it/s]\n"
          ]
        },
        {
          "name": "stdout",
          "output_type": "stream",
          "text": [
            "Chromosome: 46\n"
          ]
        },
        {
          "name": "stderr",
          "output_type": "stream",
          "text": [
            "Training: 100%|\u001b[34m██████████\u001b[0m| 49/49 [00:15<00:00,  3.11it/s]\n",
            "Testing: 100%|\u001b[32m██████████\u001b[0m| 10/10 [00:03<00:00,  3.22it/s]\n"
          ]
        },
        {
          "name": "stdout",
          "output_type": "stream",
          "text": [
            "Chromosome: 47\n"
          ]
        },
        {
          "name": "stderr",
          "output_type": "stream",
          "text": [
            "Training: 100%|\u001b[34m██████████\u001b[0m| 49/49 [00:15<00:00,  3.10it/s]\n",
            "Testing: 100%|\u001b[32m██████████\u001b[0m| 10/10 [00:03<00:00,  3.18it/s]\n"
          ]
        },
        {
          "name": "stdout",
          "output_type": "stream",
          "text": [
            "Chromosome: 48\n"
          ]
        },
        {
          "name": "stderr",
          "output_type": "stream",
          "text": [
            "Training: 100%|\u001b[34m██████████\u001b[0m| 49/49 [00:15<00:00,  3.07it/s]\n",
            "Testing: 100%|\u001b[32m██████████\u001b[0m| 10/10 [00:03<00:00,  3.13it/s]\n"
          ]
        },
        {
          "name": "stdout",
          "output_type": "stream",
          "text": [
            "Chromosome: 49\n"
          ]
        },
        {
          "name": "stderr",
          "output_type": "stream",
          "text": [
            "Training: 100%|\u001b[34m██████████\u001b[0m| 49/49 [00:16<00:00,  3.04it/s]\n",
            "Testing: 100%|\u001b[32m██████████\u001b[0m| 10/10 [00:03<00:00,  3.15it/s]\n"
          ]
        },
        {
          "name": "stdout",
          "output_type": "stream",
          "text": [
            "Chromosome: 50\n"
          ]
        },
        {
          "name": "stderr",
          "output_type": "stream",
          "text": [
            "Training: 100%|\u001b[34m██████████\u001b[0m| 49/49 [00:15<00:00,  3.08it/s]\n",
            "Testing: 100%|\u001b[32m██████████\u001b[0m| 10/10 [00:03<00:00,  3.19it/s]\n"
          ]
        },
        {
          "name": "stdout",
          "output_type": "stream",
          "text": [
            "current iteration: 12 / 20 , best train fitness: 0.1788436779562308, average train fitness: 0.1573281370559517, average test fitness: 0.15378443855047225\n",
            "-------------------------------------------------------------------------------------------------\n",
            "Chromosome: 1\n"
          ]
        },
        {
          "name": "stderr",
          "output_type": "stream",
          "text": [
            "Training: 100%|\u001b[34m██████████\u001b[0m| 49/49 [00:15<00:00,  3.08it/s]\n",
            "Testing: 100%|\u001b[32m██████████\u001b[0m| 10/10 [00:03<00:00,  3.20it/s]\n"
          ]
        },
        {
          "name": "stdout",
          "output_type": "stream",
          "text": [
            "Chromosome: 2\n"
          ]
        },
        {
          "name": "stderr",
          "output_type": "stream",
          "text": [
            "Training: 100%|\u001b[34m██████████\u001b[0m| 49/49 [00:15<00:00,  3.11it/s]\n",
            "Testing: 100%|\u001b[32m██████████\u001b[0m| 10/10 [00:03<00:00,  3.21it/s]\n"
          ]
        },
        {
          "name": "stdout",
          "output_type": "stream",
          "text": [
            "Chromosome: 3\n"
          ]
        },
        {
          "name": "stderr",
          "output_type": "stream",
          "text": [
            "Training: 100%|\u001b[34m██████████\u001b[0m| 49/49 [00:15<00:00,  3.08it/s]\n",
            "Testing: 100%|\u001b[32m██████████\u001b[0m| 10/10 [00:03<00:00,  3.05it/s]\n"
          ]
        },
        {
          "name": "stdout",
          "output_type": "stream",
          "text": [
            "Chromosome: 4\n"
          ]
        },
        {
          "name": "stderr",
          "output_type": "stream",
          "text": [
            "Training: 100%|\u001b[34m██████████\u001b[0m| 49/49 [00:15<00:00,  3.08it/s]\n",
            "Testing: 100%|\u001b[32m██████████\u001b[0m| 10/10 [00:03<00:00,  3.18it/s]\n"
          ]
        },
        {
          "name": "stdout",
          "output_type": "stream",
          "text": [
            "Chromosome: 5\n"
          ]
        },
        {
          "name": "stderr",
          "output_type": "stream",
          "text": [
            "Training: 100%|\u001b[34m██████████\u001b[0m| 49/49 [00:15<00:00,  3.08it/s]\n",
            "Testing: 100%|\u001b[32m██████████\u001b[0m| 10/10 [00:03<00:00,  3.08it/s]\n"
          ]
        },
        {
          "name": "stdout",
          "output_type": "stream",
          "text": [
            "Chromosome: 6\n"
          ]
        },
        {
          "name": "stderr",
          "output_type": "stream",
          "text": [
            "Training: 100%|\u001b[34m██████████\u001b[0m| 49/49 [00:16<00:00,  2.95it/s]\n",
            "Testing: 100%|\u001b[32m██████████\u001b[0m| 10/10 [00:03<00:00,  2.89it/s]\n"
          ]
        },
        {
          "name": "stdout",
          "output_type": "stream",
          "text": [
            "Chromosome: 7\n"
          ]
        },
        {
          "name": "stderr",
          "output_type": "stream",
          "text": [
            "Training: 100%|\u001b[34m██████████\u001b[0m| 49/49 [00:18<00:00,  2.72it/s]\n",
            "Testing: 100%|\u001b[32m██████████\u001b[0m| 10/10 [00:04<00:00,  2.45it/s]\n"
          ]
        },
        {
          "name": "stdout",
          "output_type": "stream",
          "text": [
            "Chromosome: 8\n"
          ]
        },
        {
          "name": "stderr",
          "output_type": "stream",
          "text": [
            "Training: 100%|\u001b[34m██████████\u001b[0m| 49/49 [00:17<00:00,  2.84it/s]\n",
            "Testing: 100%|\u001b[32m██████████\u001b[0m| 10/10 [00:03<00:00,  2.81it/s]\n"
          ]
        },
        {
          "name": "stdout",
          "output_type": "stream",
          "text": [
            "Chromosome: 9\n"
          ]
        },
        {
          "name": "stderr",
          "output_type": "stream",
          "text": [
            "Training: 100%|\u001b[34m██████████\u001b[0m| 49/49 [00:17<00:00,  2.83it/s]\n",
            "Testing: 100%|\u001b[32m██████████\u001b[0m| 10/10 [00:03<00:00,  2.75it/s]\n"
          ]
        },
        {
          "name": "stdout",
          "output_type": "stream",
          "text": [
            "Chromosome: 10\n"
          ]
        },
        {
          "name": "stderr",
          "output_type": "stream",
          "text": [
            "Training: 100%|\u001b[34m██████████\u001b[0m| 49/49 [00:16<00:00,  2.95it/s]\n",
            "Testing: 100%|\u001b[32m██████████\u001b[0m| 10/10 [00:03<00:00,  3.13it/s]\n"
          ]
        },
        {
          "name": "stdout",
          "output_type": "stream",
          "text": [
            "Chromosome: 11\n"
          ]
        },
        {
          "name": "stderr",
          "output_type": "stream",
          "text": [
            "Training: 100%|\u001b[34m██████████\u001b[0m| 49/49 [00:16<00:00,  2.99it/s]\n",
            "Testing: 100%|\u001b[32m██████████\u001b[0m| 10/10 [00:03<00:00,  3.03it/s]\n"
          ]
        },
        {
          "name": "stdout",
          "output_type": "stream",
          "text": [
            "Chromosome: 12\n"
          ]
        },
        {
          "name": "stderr",
          "output_type": "stream",
          "text": [
            "Training: 100%|\u001b[34m██████████\u001b[0m| 49/49 [00:16<00:00,  2.95it/s]\n",
            "Testing: 100%|\u001b[32m██████████\u001b[0m| 10/10 [00:03<00:00,  2.87it/s]\n"
          ]
        },
        {
          "name": "stdout",
          "output_type": "stream",
          "text": [
            "Chromosome: 13\n"
          ]
        },
        {
          "name": "stderr",
          "output_type": "stream",
          "text": [
            "Training: 100%|\u001b[34m██████████\u001b[0m| 49/49 [00:16<00:00,  2.97it/s]\n",
            "Testing: 100%|\u001b[32m██████████\u001b[0m| 10/10 [00:03<00:00,  2.93it/s]\n"
          ]
        },
        {
          "name": "stdout",
          "output_type": "stream",
          "text": [
            "Chromosome: 14\n"
          ]
        },
        {
          "name": "stderr",
          "output_type": "stream",
          "text": [
            "Training: 100%|\u001b[34m██████████\u001b[0m| 49/49 [00:17<00:00,  2.81it/s]\n",
            "Testing: 100%|\u001b[32m██████████\u001b[0m| 10/10 [00:03<00:00,  2.89it/s]\n"
          ]
        },
        {
          "name": "stdout",
          "output_type": "stream",
          "text": [
            "Chromosome: 15\n"
          ]
        },
        {
          "name": "stderr",
          "output_type": "stream",
          "text": [
            "Training: 100%|\u001b[34m██████████\u001b[0m| 49/49 [00:17<00:00,  2.81it/s]\n",
            "Testing: 100%|\u001b[32m██████████\u001b[0m| 10/10 [00:03<00:00,  3.03it/s]\n"
          ]
        },
        {
          "name": "stdout",
          "output_type": "stream",
          "text": [
            "Chromosome: 16\n"
          ]
        },
        {
          "name": "stderr",
          "output_type": "stream",
          "text": [
            "Training: 100%|\u001b[34m██████████\u001b[0m| 49/49 [00:17<00:00,  2.88it/s]\n",
            "Testing: 100%|\u001b[32m██████████\u001b[0m| 10/10 [00:03<00:00,  3.13it/s]\n"
          ]
        },
        {
          "name": "stdout",
          "output_type": "stream",
          "text": [
            "Chromosome: 17\n"
          ]
        },
        {
          "name": "stderr",
          "output_type": "stream",
          "text": [
            "Training: 100%|\u001b[34m██████████\u001b[0m| 49/49 [00:16<00:00,  2.98it/s]\n",
            "Testing: 100%|\u001b[32m██████████\u001b[0m| 10/10 [00:03<00:00,  3.07it/s]\n"
          ]
        },
        {
          "name": "stdout",
          "output_type": "stream",
          "text": [
            "Chromosome: 18\n"
          ]
        },
        {
          "name": "stderr",
          "output_type": "stream",
          "text": [
            "Training: 100%|\u001b[34m██████████\u001b[0m| 49/49 [00:16<00:00,  2.90it/s]\n",
            "Testing: 100%|\u001b[32m██████████\u001b[0m| 10/10 [00:03<00:00,  2.91it/s]\n"
          ]
        },
        {
          "name": "stdout",
          "output_type": "stream",
          "text": [
            "Chromosome: 19\n"
          ]
        },
        {
          "name": "stderr",
          "output_type": "stream",
          "text": [
            "Training: 100%|\u001b[34m██████████\u001b[0m| 49/49 [00:17<00:00,  2.84it/s]\n",
            "Testing: 100%|\u001b[32m██████████\u001b[0m| 10/10 [00:03<00:00,  2.72it/s]\n"
          ]
        },
        {
          "name": "stdout",
          "output_type": "stream",
          "text": [
            "Chromosome: 20\n"
          ]
        },
        {
          "name": "stderr",
          "output_type": "stream",
          "text": [
            "Training: 100%|\u001b[34m██████████\u001b[0m| 49/49 [00:17<00:00,  2.80it/s]\n",
            "Testing: 100%|\u001b[32m██████████\u001b[0m| 10/10 [00:03<00:00,  2.92it/s]\n"
          ]
        },
        {
          "name": "stdout",
          "output_type": "stream",
          "text": [
            "Chromosome: 21\n"
          ]
        },
        {
          "name": "stderr",
          "output_type": "stream",
          "text": [
            "Training: 100%|\u001b[34m██████████\u001b[0m| 49/49 [00:16<00:00,  2.89it/s]\n",
            "Testing: 100%|\u001b[32m██████████\u001b[0m| 10/10 [00:03<00:00,  3.15it/s]\n"
          ]
        },
        {
          "name": "stdout",
          "output_type": "stream",
          "text": [
            "Chromosome: 22\n"
          ]
        },
        {
          "name": "stderr",
          "output_type": "stream",
          "text": [
            "Training: 100%|\u001b[34m██████████\u001b[0m| 49/49 [00:16<00:00,  3.00it/s]\n",
            "Testing: 100%|\u001b[32m██████████\u001b[0m| 10/10 [00:03<00:00,  3.19it/s]\n"
          ]
        },
        {
          "name": "stdout",
          "output_type": "stream",
          "text": [
            "Chromosome: 23\n"
          ]
        },
        {
          "name": "stderr",
          "output_type": "stream",
          "text": [
            "Training: 100%|\u001b[34m██████████\u001b[0m| 49/49 [00:16<00:00,  2.95it/s]\n",
            "Testing: 100%|\u001b[32m██████████\u001b[0m| 10/10 [00:03<00:00,  3.00it/s]\n"
          ]
        },
        {
          "name": "stdout",
          "output_type": "stream",
          "text": [
            "Chromosome: 24\n"
          ]
        },
        {
          "name": "stderr",
          "output_type": "stream",
          "text": [
            "Training: 100%|\u001b[34m██████████\u001b[0m| 49/49 [00:16<00:00,  2.95it/s]\n",
            "Testing: 100%|\u001b[32m██████████\u001b[0m| 10/10 [00:03<00:00,  2.97it/s]\n"
          ]
        },
        {
          "name": "stdout",
          "output_type": "stream",
          "text": [
            "Chromosome: 25\n"
          ]
        },
        {
          "name": "stderr",
          "output_type": "stream",
          "text": [
            "Training: 100%|\u001b[34m██████████\u001b[0m| 49/49 [00:18<00:00,  2.60it/s]\n",
            "Testing: 100%|\u001b[32m██████████\u001b[0m| 10/10 [00:03<00:00,  3.07it/s]\n"
          ]
        },
        {
          "name": "stdout",
          "output_type": "stream",
          "text": [
            "Chromosome: 26\n"
          ]
        },
        {
          "name": "stderr",
          "output_type": "stream",
          "text": [
            "Training: 100%|\u001b[34m██████████\u001b[0m| 49/49 [00:17<00:00,  2.80it/s]\n",
            "Testing: 100%|\u001b[32m██████████\u001b[0m| 10/10 [00:03<00:00,  3.01it/s]\n"
          ]
        },
        {
          "name": "stdout",
          "output_type": "stream",
          "text": [
            "Chromosome: 27\n"
          ]
        },
        {
          "name": "stderr",
          "output_type": "stream",
          "text": [
            "Training: 100%|\u001b[34m██████████\u001b[0m| 49/49 [00:17<00:00,  2.86it/s]\n",
            "Testing: 100%|\u001b[32m██████████\u001b[0m| 10/10 [00:03<00:00,  2.93it/s]\n"
          ]
        },
        {
          "name": "stdout",
          "output_type": "stream",
          "text": [
            "Chromosome: 28\n"
          ]
        },
        {
          "name": "stderr",
          "output_type": "stream",
          "text": [
            "Training: 100%|\u001b[34m██████████\u001b[0m| 49/49 [00:18<00:00,  2.61it/s]\n",
            "Testing: 100%|\u001b[32m██████████\u001b[0m| 10/10 [00:03<00:00,  2.81it/s]\n"
          ]
        },
        {
          "name": "stdout",
          "output_type": "stream",
          "text": [
            "Chromosome: 29\n"
          ]
        },
        {
          "name": "stderr",
          "output_type": "stream",
          "text": [
            "Training: 100%|\u001b[34m██████████\u001b[0m| 49/49 [00:17<00:00,  2.88it/s]\n",
            "Testing: 100%|\u001b[32m██████████\u001b[0m| 10/10 [00:03<00:00,  3.00it/s]\n"
          ]
        },
        {
          "name": "stdout",
          "output_type": "stream",
          "text": [
            "Chromosome: 30\n"
          ]
        },
        {
          "name": "stderr",
          "output_type": "stream",
          "text": [
            "Training: 100%|\u001b[34m██████████\u001b[0m| 49/49 [00:17<00:00,  2.82it/s]\n",
            "Testing: 100%|\u001b[32m██████████\u001b[0m| 10/10 [00:03<00:00,  2.85it/s]\n"
          ]
        },
        {
          "name": "stdout",
          "output_type": "stream",
          "text": [
            "Chromosome: 31\n"
          ]
        },
        {
          "name": "stderr",
          "output_type": "stream",
          "text": [
            "Training: 100%|\u001b[34m██████████\u001b[0m| 49/49 [00:17<00:00,  2.78it/s]\n",
            "Testing: 100%|\u001b[32m██████████\u001b[0m| 10/10 [00:03<00:00,  2.91it/s]\n"
          ]
        },
        {
          "name": "stdout",
          "output_type": "stream",
          "text": [
            "Chromosome: 32\n"
          ]
        },
        {
          "name": "stderr",
          "output_type": "stream",
          "text": [
            "Training: 100%|\u001b[34m██████████\u001b[0m| 49/49 [00:17<00:00,  2.75it/s]\n",
            "Testing: 100%|\u001b[32m██████████\u001b[0m| 10/10 [00:03<00:00,  2.95it/s]\n"
          ]
        },
        {
          "name": "stdout",
          "output_type": "stream",
          "text": [
            "Chromosome: 33\n"
          ]
        },
        {
          "name": "stderr",
          "output_type": "stream",
          "text": [
            "Training: 100%|\u001b[34m██████████\u001b[0m| 49/49 [00:17<00:00,  2.75it/s]\n",
            "Testing: 100%|\u001b[32m██████████\u001b[0m| 10/10 [00:03<00:00,  2.76it/s]\n"
          ]
        },
        {
          "name": "stdout",
          "output_type": "stream",
          "text": [
            "Chromosome: 34\n"
          ]
        },
        {
          "name": "stderr",
          "output_type": "stream",
          "text": [
            "Training: 100%|\u001b[34m██████████\u001b[0m| 49/49 [00:17<00:00,  2.74it/s]\n",
            "Testing: 100%|\u001b[32m██████████\u001b[0m| 10/10 [00:03<00:00,  2.87it/s]\n"
          ]
        },
        {
          "name": "stdout",
          "output_type": "stream",
          "text": [
            "Chromosome: 35\n"
          ]
        },
        {
          "name": "stderr",
          "output_type": "stream",
          "text": [
            "Training: 100%|\u001b[34m██████████\u001b[0m| 49/49 [00:17<00:00,  2.84it/s]\n",
            "Testing: 100%|\u001b[32m██████████\u001b[0m| 10/10 [00:03<00:00,  2.91it/s]\n"
          ]
        },
        {
          "name": "stdout",
          "output_type": "stream",
          "text": [
            "Chromosome: 36\n"
          ]
        },
        {
          "name": "stderr",
          "output_type": "stream",
          "text": [
            "Training: 100%|\u001b[34m██████████\u001b[0m| 49/49 [00:16<00:00,  2.96it/s]\n",
            "Testing: 100%|\u001b[32m██████████\u001b[0m| 10/10 [00:03<00:00,  2.84it/s]\n"
          ]
        },
        {
          "name": "stdout",
          "output_type": "stream",
          "text": [
            "Chromosome: 37\n"
          ]
        },
        {
          "name": "stderr",
          "output_type": "stream",
          "text": [
            "Training: 100%|\u001b[34m██████████\u001b[0m| 49/49 [00:16<00:00,  2.88it/s]\n",
            "Testing: 100%|\u001b[32m██████████\u001b[0m| 10/10 [00:03<00:00,  2.73it/s]\n"
          ]
        },
        {
          "name": "stdout",
          "output_type": "stream",
          "text": [
            "Chromosome: 38\n"
          ]
        },
        {
          "name": "stderr",
          "output_type": "stream",
          "text": [
            "Training: 100%|\u001b[34m██████████\u001b[0m| 49/49 [00:16<00:00,  2.93it/s]\n",
            "Testing: 100%|\u001b[32m██████████\u001b[0m| 10/10 [00:03<00:00,  2.99it/s]\n"
          ]
        },
        {
          "name": "stdout",
          "output_type": "stream",
          "text": [
            "Chromosome: 39\n"
          ]
        },
        {
          "name": "stderr",
          "output_type": "stream",
          "text": [
            "Training: 100%|\u001b[34m██████████\u001b[0m| 49/49 [00:17<00:00,  2.73it/s]\n",
            "Testing: 100%|\u001b[32m██████████\u001b[0m| 10/10 [00:03<00:00,  3.03it/s]\n"
          ]
        },
        {
          "name": "stdout",
          "output_type": "stream",
          "text": [
            "Chromosome: 40\n"
          ]
        },
        {
          "name": "stderr",
          "output_type": "stream",
          "text": [
            "Training: 100%|\u001b[34m██████████\u001b[0m| 49/49 [00:16<00:00,  3.00it/s]\n",
            "Testing: 100%|\u001b[32m██████████\u001b[0m| 10/10 [00:03<00:00,  3.09it/s]\n"
          ]
        },
        {
          "name": "stdout",
          "output_type": "stream",
          "text": [
            "Chromosome: 41\n"
          ]
        },
        {
          "name": "stderr",
          "output_type": "stream",
          "text": [
            "Training: 100%|\u001b[34m██████████\u001b[0m| 49/49 [00:17<00:00,  2.80it/s]\n",
            "Testing: 100%|\u001b[32m██████████\u001b[0m| 10/10 [00:03<00:00,  2.95it/s]\n"
          ]
        },
        {
          "name": "stdout",
          "output_type": "stream",
          "text": [
            "Chromosome: 42\n"
          ]
        },
        {
          "name": "stderr",
          "output_type": "stream",
          "text": [
            "Training: 100%|\u001b[34m██████████\u001b[0m| 49/49 [00:17<00:00,  2.84it/s]\n",
            "Testing: 100%|\u001b[32m██████████\u001b[0m| 10/10 [00:03<00:00,  3.00it/s]\n"
          ]
        },
        {
          "name": "stdout",
          "output_type": "stream",
          "text": [
            "Chromosome: 43\n"
          ]
        },
        {
          "name": "stderr",
          "output_type": "stream",
          "text": [
            "Training: 100%|\u001b[34m██████████\u001b[0m| 49/49 [00:18<00:00,  2.62it/s]\n",
            "Testing: 100%|\u001b[32m██████████\u001b[0m| 10/10 [00:04<00:00,  2.43it/s]\n"
          ]
        },
        {
          "name": "stdout",
          "output_type": "stream",
          "text": [
            "Chromosome: 44\n"
          ]
        },
        {
          "name": "stderr",
          "output_type": "stream",
          "text": [
            "Training: 100%|\u001b[34m██████████\u001b[0m| 49/49 [00:17<00:00,  2.76it/s]\n",
            "Testing: 100%|\u001b[32m██████████\u001b[0m| 10/10 [00:03<00:00,  3.02it/s]\n"
          ]
        },
        {
          "name": "stdout",
          "output_type": "stream",
          "text": [
            "Chromosome: 45\n"
          ]
        },
        {
          "name": "stderr",
          "output_type": "stream",
          "text": [
            "Training: 100%|\u001b[34m██████████\u001b[0m| 49/49 [00:16<00:00,  3.00it/s]\n",
            "Testing: 100%|\u001b[32m██████████\u001b[0m| 10/10 [00:03<00:00,  2.96it/s]\n"
          ]
        },
        {
          "name": "stdout",
          "output_type": "stream",
          "text": [
            "Chromosome: 46\n"
          ]
        },
        {
          "name": "stderr",
          "output_type": "stream",
          "text": [
            "Training: 100%|\u001b[34m██████████\u001b[0m| 49/49 [00:17<00:00,  2.84it/s]\n",
            "Testing: 100%|\u001b[32m██████████\u001b[0m| 10/10 [00:03<00:00,  2.98it/s]\n"
          ]
        },
        {
          "name": "stdout",
          "output_type": "stream",
          "text": [
            "Chromosome: 47\n"
          ]
        },
        {
          "name": "stderr",
          "output_type": "stream",
          "text": [
            "Training: 100%|\u001b[34m██████████\u001b[0m| 49/49 [00:18<00:00,  2.69it/s]\n",
            "Testing: 100%|\u001b[32m██████████\u001b[0m| 10/10 [00:03<00:00,  2.95it/s]\n"
          ]
        },
        {
          "name": "stdout",
          "output_type": "stream",
          "text": [
            "Chromosome: 48\n"
          ]
        },
        {
          "name": "stderr",
          "output_type": "stream",
          "text": [
            "Training: 100%|\u001b[34m██████████\u001b[0m| 49/49 [00:17<00:00,  2.85it/s]\n",
            "Testing: 100%|\u001b[32m██████████\u001b[0m| 10/10 [00:03<00:00,  2.80it/s]\n"
          ]
        },
        {
          "name": "stdout",
          "output_type": "stream",
          "text": [
            "Chromosome: 49\n"
          ]
        },
        {
          "name": "stderr",
          "output_type": "stream",
          "text": [
            "Training: 100%|\u001b[34m██████████\u001b[0m| 49/49 [00:17<00:00,  2.77it/s]\n",
            "Testing: 100%|\u001b[32m██████████\u001b[0m| 10/10 [00:03<00:00,  2.88it/s]\n"
          ]
        },
        {
          "name": "stdout",
          "output_type": "stream",
          "text": [
            "Chromosome: 50\n"
          ]
        },
        {
          "name": "stderr",
          "output_type": "stream",
          "text": [
            "Training: 100%|\u001b[34m██████████\u001b[0m| 49/49 [00:18<00:00,  2.71it/s]\n",
            "Testing: 100%|\u001b[32m██████████\u001b[0m| 10/10 [00:03<00:00,  2.67it/s]\n"
          ]
        },
        {
          "name": "stdout",
          "output_type": "stream",
          "text": [
            "current iteration: 13 / 20 , best train fitness: 0.1788436779562308, average train fitness: 0.1593992241973779, average test fitness: 0.15528854408860204\n",
            "-------------------------------------------------------------------------------------------------\n",
            "Chromosome: 1\n"
          ]
        },
        {
          "name": "stderr",
          "output_type": "stream",
          "text": [
            "Training: 100%|\u001b[34m██████████\u001b[0m| 49/49 [00:17<00:00,  2.79it/s]\n",
            "Testing: 100%|\u001b[32m██████████\u001b[0m| 10/10 [00:03<00:00,  2.98it/s]\n"
          ]
        },
        {
          "name": "stdout",
          "output_type": "stream",
          "text": [
            "Chromosome: 2\n"
          ]
        },
        {
          "name": "stderr",
          "output_type": "stream",
          "text": [
            "Training: 100%|\u001b[34m██████████\u001b[0m| 49/49 [00:16<00:00,  2.92it/s]\n",
            "Testing: 100%|\u001b[32m██████████\u001b[0m| 10/10 [00:03<00:00,  2.83it/s]\n"
          ]
        },
        {
          "name": "stdout",
          "output_type": "stream",
          "text": [
            "Chromosome: 3\n"
          ]
        },
        {
          "name": "stderr",
          "output_type": "stream",
          "text": [
            "Training: 100%|\u001b[34m██████████\u001b[0m| 49/49 [00:17<00:00,  2.88it/s]\n",
            "Testing: 100%|\u001b[32m██████████\u001b[0m| 10/10 [00:03<00:00,  3.07it/s]\n"
          ]
        },
        {
          "name": "stdout",
          "output_type": "stream",
          "text": [
            "Chromosome: 4\n"
          ]
        },
        {
          "name": "stderr",
          "output_type": "stream",
          "text": [
            "Training: 100%|\u001b[34m██████████\u001b[0m| 49/49 [00:16<00:00,  2.92it/s]\n",
            "Testing: 100%|\u001b[32m██████████\u001b[0m| 10/10 [00:03<00:00,  2.98it/s]\n"
          ]
        },
        {
          "name": "stdout",
          "output_type": "stream",
          "text": [
            "Chromosome: 5\n"
          ]
        },
        {
          "name": "stderr",
          "output_type": "stream",
          "text": [
            "Training: 100%|\u001b[34m██████████\u001b[0m| 49/49 [00:16<00:00,  2.90it/s]\n",
            "Testing: 100%|\u001b[32m██████████\u001b[0m| 10/10 [00:03<00:00,  2.86it/s]\n"
          ]
        },
        {
          "name": "stdout",
          "output_type": "stream",
          "text": [
            "Chromosome: 6\n"
          ]
        },
        {
          "name": "stderr",
          "output_type": "stream",
          "text": [
            "Training: 100%|\u001b[34m██████████\u001b[0m| 49/49 [00:16<00:00,  2.91it/s]\n",
            "Testing: 100%|\u001b[32m██████████\u001b[0m| 10/10 [00:03<00:00,  3.14it/s]\n"
          ]
        },
        {
          "name": "stdout",
          "output_type": "stream",
          "text": [
            "Chromosome: 7\n"
          ]
        },
        {
          "name": "stderr",
          "output_type": "stream",
          "text": [
            "Training: 100%|\u001b[34m██████████\u001b[0m| 49/49 [00:17<00:00,  2.85it/s]\n",
            "Testing: 100%|\u001b[32m██████████\u001b[0m| 10/10 [00:03<00:00,  2.95it/s]\n"
          ]
        },
        {
          "name": "stdout",
          "output_type": "stream",
          "text": [
            "Chromosome: 8\n"
          ]
        },
        {
          "name": "stderr",
          "output_type": "stream",
          "text": [
            "Training: 100%|\u001b[34m██████████\u001b[0m| 49/49 [00:17<00:00,  2.85it/s]\n",
            "Testing: 100%|\u001b[32m██████████\u001b[0m| 10/10 [00:03<00:00,  3.07it/s]\n"
          ]
        },
        {
          "name": "stdout",
          "output_type": "stream",
          "text": [
            "Chromosome: 9\n"
          ]
        },
        {
          "name": "stderr",
          "output_type": "stream",
          "text": [
            "Training: 100%|\u001b[34m██████████\u001b[0m| 49/49 [00:18<00:00,  2.68it/s]\n",
            "Testing: 100%|\u001b[32m██████████\u001b[0m| 10/10 [00:03<00:00,  2.96it/s]\n"
          ]
        },
        {
          "name": "stdout",
          "output_type": "stream",
          "text": [
            "Chromosome: 10\n"
          ]
        },
        {
          "name": "stderr",
          "output_type": "stream",
          "text": [
            "Training: 100%|\u001b[34m██████████\u001b[0m| 49/49 [00:16<00:00,  2.90it/s]\n",
            "Testing: 100%|\u001b[32m██████████\u001b[0m| 10/10 [00:03<00:00,  3.04it/s]\n"
          ]
        },
        {
          "name": "stdout",
          "output_type": "stream",
          "text": [
            "Chromosome: 11\n"
          ]
        },
        {
          "name": "stderr",
          "output_type": "stream",
          "text": [
            "Training: 100%|\u001b[34m██████████\u001b[0m| 49/49 [00:16<00:00,  3.04it/s]\n",
            "Testing: 100%|\u001b[32m██████████\u001b[0m| 10/10 [00:03<00:00,  3.10it/s]\n"
          ]
        },
        {
          "name": "stdout",
          "output_type": "stream",
          "text": [
            "Chromosome: 12\n"
          ]
        },
        {
          "name": "stderr",
          "output_type": "stream",
          "text": [
            "Training: 100%|\u001b[34m██████████\u001b[0m| 49/49 [00:17<00:00,  2.82it/s]\n",
            "Testing: 100%|\u001b[32m██████████\u001b[0m| 10/10 [00:03<00:00,  2.93it/s]\n"
          ]
        },
        {
          "name": "stdout",
          "output_type": "stream",
          "text": [
            "Chromosome: 13\n"
          ]
        },
        {
          "name": "stderr",
          "output_type": "stream",
          "text": [
            "Training: 100%|\u001b[34m██████████\u001b[0m| 49/49 [00:16<00:00,  2.92it/s]\n",
            "Testing: 100%|\u001b[32m██████████\u001b[0m| 10/10 [00:03<00:00,  2.89it/s]\n"
          ]
        },
        {
          "name": "stdout",
          "output_type": "stream",
          "text": [
            "Chromosome: 14\n"
          ]
        },
        {
          "name": "stderr",
          "output_type": "stream",
          "text": [
            "Training: 100%|\u001b[34m██████████\u001b[0m| 49/49 [00:17<00:00,  2.83it/s]\n",
            "Testing: 100%|\u001b[32m██████████\u001b[0m| 10/10 [00:03<00:00,  2.99it/s]\n"
          ]
        },
        {
          "name": "stdout",
          "output_type": "stream",
          "text": [
            "Chromosome: 15\n"
          ]
        },
        {
          "name": "stderr",
          "output_type": "stream",
          "text": [
            "Training: 100%|\u001b[34m██████████\u001b[0m| 49/49 [00:16<00:00,  3.01it/s]\n",
            "Testing: 100%|\u001b[32m██████████\u001b[0m| 10/10 [00:03<00:00,  3.19it/s]\n"
          ]
        },
        {
          "name": "stdout",
          "output_type": "stream",
          "text": [
            "Chromosome: 16\n"
          ]
        },
        {
          "name": "stderr",
          "output_type": "stream",
          "text": [
            "Training: 100%|\u001b[34m██████████\u001b[0m| 49/49 [00:16<00:00,  3.05it/s]\n",
            "Testing: 100%|\u001b[32m██████████\u001b[0m| 10/10 [00:03<00:00,  3.16it/s]\n"
          ]
        },
        {
          "name": "stdout",
          "output_type": "stream",
          "text": [
            "Chromosome: 17\n"
          ]
        },
        {
          "name": "stderr",
          "output_type": "stream",
          "text": [
            "Training: 100%|\u001b[34m██████████\u001b[0m| 49/49 [00:15<00:00,  3.10it/s]\n",
            "Testing: 100%|\u001b[32m██████████\u001b[0m| 10/10 [00:03<00:00,  3.20it/s]\n"
          ]
        },
        {
          "name": "stdout",
          "output_type": "stream",
          "text": [
            "Chromosome: 18\n"
          ]
        },
        {
          "name": "stderr",
          "output_type": "stream",
          "text": [
            "Training: 100%|\u001b[34m██████████\u001b[0m| 49/49 [00:15<00:00,  3.12it/s]\n",
            "Testing: 100%|\u001b[32m██████████\u001b[0m| 10/10 [00:03<00:00,  3.20it/s]\n"
          ]
        },
        {
          "name": "stdout",
          "output_type": "stream",
          "text": [
            "Chromosome: 19\n"
          ]
        },
        {
          "name": "stderr",
          "output_type": "stream",
          "text": [
            "Training: 100%|\u001b[34m██████████\u001b[0m| 49/49 [00:15<00:00,  3.07it/s]\n",
            "Testing: 100%|\u001b[32m██████████\u001b[0m| 10/10 [00:03<00:00,  3.14it/s]\n"
          ]
        },
        {
          "name": "stdout",
          "output_type": "stream",
          "text": [
            "Chromosome: 20\n"
          ]
        },
        {
          "name": "stderr",
          "output_type": "stream",
          "text": [
            "Training: 100%|\u001b[34m██████████\u001b[0m| 49/49 [00:16<00:00,  3.03it/s]\n",
            "Testing: 100%|\u001b[32m██████████\u001b[0m| 10/10 [00:03<00:00,  3.10it/s]\n"
          ]
        },
        {
          "name": "stdout",
          "output_type": "stream",
          "text": [
            "Chromosome: 21\n"
          ]
        },
        {
          "name": "stderr",
          "output_type": "stream",
          "text": [
            "Training: 100%|\u001b[34m██████████\u001b[0m| 49/49 [00:15<00:00,  3.14it/s]\n",
            "Testing: 100%|\u001b[32m██████████\u001b[0m| 10/10 [00:03<00:00,  3.24it/s]\n"
          ]
        },
        {
          "name": "stdout",
          "output_type": "stream",
          "text": [
            "Chromosome: 22\n"
          ]
        },
        {
          "name": "stderr",
          "output_type": "stream",
          "text": [
            "Training: 100%|\u001b[34m██████████\u001b[0m| 49/49 [00:15<00:00,  3.07it/s]\n",
            "Testing: 100%|\u001b[32m██████████\u001b[0m| 10/10 [00:03<00:00,  3.16it/s]\n"
          ]
        },
        {
          "name": "stdout",
          "output_type": "stream",
          "text": [
            "Chromosome: 23\n"
          ]
        },
        {
          "name": "stderr",
          "output_type": "stream",
          "text": [
            "Training: 100%|\u001b[34m██████████\u001b[0m| 49/49 [00:15<00:00,  3.11it/s]\n",
            "Testing: 100%|\u001b[32m██████████\u001b[0m| 10/10 [00:03<00:00,  3.16it/s]\n"
          ]
        },
        {
          "name": "stdout",
          "output_type": "stream",
          "text": [
            "Chromosome: 24\n"
          ]
        },
        {
          "name": "stderr",
          "output_type": "stream",
          "text": [
            "Training: 100%|\u001b[34m██████████\u001b[0m| 49/49 [00:16<00:00,  3.01it/s]\n",
            "Testing: 100%|\u001b[32m██████████\u001b[0m| 10/10 [00:03<00:00,  3.09it/s]\n"
          ]
        },
        {
          "name": "stdout",
          "output_type": "stream",
          "text": [
            "Chromosome: 25\n"
          ]
        },
        {
          "name": "stderr",
          "output_type": "stream",
          "text": [
            "Training: 100%|\u001b[34m██████████\u001b[0m| 49/49 [00:15<00:00,  3.08it/s]\n",
            "Testing: 100%|\u001b[32m██████████\u001b[0m| 10/10 [00:03<00:00,  3.18it/s]\n"
          ]
        },
        {
          "name": "stdout",
          "output_type": "stream",
          "text": [
            "Chromosome: 26\n"
          ]
        },
        {
          "name": "stderr",
          "output_type": "stream",
          "text": [
            "Training: 100%|\u001b[34m██████████\u001b[0m| 49/49 [00:17<00:00,  2.77it/s]\n",
            "Testing: 100%|\u001b[32m██████████\u001b[0m| 10/10 [00:03<00:00,  2.89it/s]\n"
          ]
        },
        {
          "name": "stdout",
          "output_type": "stream",
          "text": [
            "Chromosome: 27\n"
          ]
        },
        {
          "name": "stderr",
          "output_type": "stream",
          "text": [
            "Training: 100%|\u001b[34m██████████\u001b[0m| 49/49 [00:16<00:00,  2.88it/s]\n",
            "Testing: 100%|\u001b[32m██████████\u001b[0m| 10/10 [00:03<00:00,  2.91it/s]\n"
          ]
        },
        {
          "name": "stdout",
          "output_type": "stream",
          "text": [
            "Chromosome: 28\n"
          ]
        },
        {
          "name": "stderr",
          "output_type": "stream",
          "text": [
            "Training: 100%|\u001b[34m██████████\u001b[0m| 49/49 [00:17<00:00,  2.79it/s]\n",
            "Testing: 100%|\u001b[32m██████████\u001b[0m| 10/10 [00:03<00:00,  2.86it/s]\n"
          ]
        },
        {
          "name": "stdout",
          "output_type": "stream",
          "text": [
            "Chromosome: 29\n"
          ]
        },
        {
          "name": "stderr",
          "output_type": "stream",
          "text": [
            "Training: 100%|\u001b[34m██████████\u001b[0m| 49/49 [00:17<00:00,  2.78it/s]\n",
            "Testing: 100%|\u001b[32m██████████\u001b[0m| 10/10 [00:03<00:00,  2.92it/s]\n"
          ]
        },
        {
          "name": "stdout",
          "output_type": "stream",
          "text": [
            "Chromosome: 30\n"
          ]
        },
        {
          "name": "stderr",
          "output_type": "stream",
          "text": [
            "Training: 100%|\u001b[34m██████████\u001b[0m| 49/49 [00:17<00:00,  2.84it/s]\n",
            "Testing: 100%|\u001b[32m██████████\u001b[0m| 10/10 [00:03<00:00,  3.13it/s]\n"
          ]
        },
        {
          "name": "stdout",
          "output_type": "stream",
          "text": [
            "Chromosome: 31\n"
          ]
        },
        {
          "name": "stderr",
          "output_type": "stream",
          "text": [
            "Training: 100%|\u001b[34m██████████\u001b[0m| 49/49 [00:17<00:00,  2.81it/s]\n",
            "Testing: 100%|\u001b[32m██████████\u001b[0m| 10/10 [00:03<00:00,  3.04it/s]\n"
          ]
        },
        {
          "name": "stdout",
          "output_type": "stream",
          "text": [
            "Chromosome: 32\n"
          ]
        },
        {
          "name": "stderr",
          "output_type": "stream",
          "text": [
            "Training: 100%|\u001b[34m██████████\u001b[0m| 49/49 [00:16<00:00,  3.01it/s]\n",
            "Testing: 100%|\u001b[32m██████████\u001b[0m| 10/10 [00:03<00:00,  3.22it/s]\n"
          ]
        },
        {
          "name": "stdout",
          "output_type": "stream",
          "text": [
            "Chromosome: 33\n"
          ]
        },
        {
          "name": "stderr",
          "output_type": "stream",
          "text": [
            "Training: 100%|\u001b[34m██████████\u001b[0m| 49/49 [00:15<00:00,  3.13it/s]\n",
            "Testing: 100%|\u001b[32m██████████\u001b[0m| 10/10 [00:03<00:00,  3.22it/s]\n"
          ]
        },
        {
          "name": "stdout",
          "output_type": "stream",
          "text": [
            "Chromosome: 34\n"
          ]
        },
        {
          "name": "stderr",
          "output_type": "stream",
          "text": [
            "Training: 100%|\u001b[34m██████████\u001b[0m| 49/49 [00:15<00:00,  3.08it/s]\n",
            "Testing: 100%|\u001b[32m██████████\u001b[0m| 10/10 [00:03<00:00,  3.20it/s]\n"
          ]
        },
        {
          "name": "stdout",
          "output_type": "stream",
          "text": [
            "Chromosome: 35\n"
          ]
        },
        {
          "name": "stderr",
          "output_type": "stream",
          "text": [
            "Training: 100%|\u001b[34m██████████\u001b[0m| 49/49 [00:15<00:00,  3.13it/s]\n",
            "Testing: 100%|\u001b[32m██████████\u001b[0m| 10/10 [00:03<00:00,  3.22it/s]\n"
          ]
        },
        {
          "name": "stdout",
          "output_type": "stream",
          "text": [
            "Chromosome: 36\n"
          ]
        },
        {
          "name": "stderr",
          "output_type": "stream",
          "text": [
            "Training: 100%|\u001b[34m██████████\u001b[0m| 49/49 [00:15<00:00,  3.13it/s]\n",
            "Testing: 100%|\u001b[32m██████████\u001b[0m| 10/10 [00:03<00:00,  3.18it/s]\n"
          ]
        },
        {
          "name": "stdout",
          "output_type": "stream",
          "text": [
            "Chromosome: 37\n"
          ]
        },
        {
          "name": "stderr",
          "output_type": "stream",
          "text": [
            "Training: 100%|\u001b[34m██████████\u001b[0m| 49/49 [00:15<00:00,  3.08it/s]\n",
            "Testing: 100%|\u001b[32m██████████\u001b[0m| 10/10 [00:03<00:00,  3.21it/s]\n"
          ]
        },
        {
          "name": "stdout",
          "output_type": "stream",
          "text": [
            "Chromosome: 38\n"
          ]
        },
        {
          "name": "stderr",
          "output_type": "stream",
          "text": [
            "Training: 100%|\u001b[34m██████████\u001b[0m| 49/49 [00:15<00:00,  3.10it/s]\n",
            "Testing: 100%|\u001b[32m██████████\u001b[0m| 10/10 [00:03<00:00,  3.16it/s]\n"
          ]
        },
        {
          "name": "stdout",
          "output_type": "stream",
          "text": [
            "Chromosome: 39\n"
          ]
        },
        {
          "name": "stderr",
          "output_type": "stream",
          "text": [
            "Training: 100%|\u001b[34m██████████\u001b[0m| 49/49 [00:15<00:00,  3.13it/s]\n",
            "Testing: 100%|\u001b[32m██████████\u001b[0m| 10/10 [00:03<00:00,  3.23it/s]\n"
          ]
        },
        {
          "name": "stdout",
          "output_type": "stream",
          "text": [
            "Chromosome: 40\n"
          ]
        },
        {
          "name": "stderr",
          "output_type": "stream",
          "text": [
            "Training: 100%|\u001b[34m██████████\u001b[0m| 49/49 [00:15<00:00,  3.13it/s]\n",
            "Testing: 100%|\u001b[32m██████████\u001b[0m| 10/10 [00:03<00:00,  3.23it/s]\n"
          ]
        },
        {
          "name": "stdout",
          "output_type": "stream",
          "text": [
            "Chromosome: 41\n"
          ]
        },
        {
          "name": "stderr",
          "output_type": "stream",
          "text": [
            "Training: 100%|\u001b[34m██████████\u001b[0m| 49/49 [00:15<00:00,  3.10it/s]\n",
            "Testing: 100%|\u001b[32m██████████\u001b[0m| 10/10 [00:03<00:00,  3.09it/s]\n"
          ]
        },
        {
          "name": "stdout",
          "output_type": "stream",
          "text": [
            "Chromosome: 42\n"
          ]
        },
        {
          "name": "stderr",
          "output_type": "stream",
          "text": [
            "Training: 100%|\u001b[34m██████████\u001b[0m| 49/49 [00:15<00:00,  3.09it/s]\n",
            "Testing: 100%|\u001b[32m██████████\u001b[0m| 10/10 [00:03<00:00,  3.18it/s]\n"
          ]
        },
        {
          "name": "stdout",
          "output_type": "stream",
          "text": [
            "Chromosome: 43\n"
          ]
        },
        {
          "name": "stderr",
          "output_type": "stream",
          "text": [
            "Training: 100%|\u001b[34m██████████\u001b[0m| 49/49 [00:15<00:00,  3.10it/s]\n",
            "Testing: 100%|\u001b[32m██████████\u001b[0m| 10/10 [00:03<00:00,  3.17it/s]\n"
          ]
        },
        {
          "name": "stdout",
          "output_type": "stream",
          "text": [
            "Chromosome: 44\n"
          ]
        },
        {
          "name": "stderr",
          "output_type": "stream",
          "text": [
            "Training: 100%|\u001b[34m██████████\u001b[0m| 49/49 [00:15<00:00,  3.12it/s]\n",
            "Testing: 100%|\u001b[32m██████████\u001b[0m| 10/10 [00:03<00:00,  3.23it/s]\n"
          ]
        },
        {
          "name": "stdout",
          "output_type": "stream",
          "text": [
            "Chromosome: 45\n"
          ]
        },
        {
          "name": "stderr",
          "output_type": "stream",
          "text": [
            "Training: 100%|\u001b[34m██████████\u001b[0m| 49/49 [00:15<00:00,  3.10it/s]\n",
            "Testing: 100%|\u001b[32m██████████\u001b[0m| 10/10 [00:03<00:00,  3.25it/s]\n"
          ]
        },
        {
          "name": "stdout",
          "output_type": "stream",
          "text": [
            "Chromosome: 46\n"
          ]
        },
        {
          "name": "stderr",
          "output_type": "stream",
          "text": [
            "Training: 100%|\u001b[34m██████████\u001b[0m| 49/49 [00:15<00:00,  3.08it/s]\n",
            "Testing: 100%|\u001b[32m██████████\u001b[0m| 10/10 [00:03<00:00,  3.18it/s]\n"
          ]
        },
        {
          "name": "stdout",
          "output_type": "stream",
          "text": [
            "Chromosome: 47\n"
          ]
        },
        {
          "name": "stderr",
          "output_type": "stream",
          "text": [
            "Training: 100%|\u001b[34m██████████\u001b[0m| 49/49 [00:16<00:00,  3.03it/s]\n",
            "Testing: 100%|\u001b[32m██████████\u001b[0m| 10/10 [00:03<00:00,  3.21it/s]\n"
          ]
        },
        {
          "name": "stdout",
          "output_type": "stream",
          "text": [
            "Chromosome: 48\n"
          ]
        },
        {
          "name": "stderr",
          "output_type": "stream",
          "text": [
            "Training: 100%|\u001b[34m██████████\u001b[0m| 49/49 [00:15<00:00,  3.11it/s]\n",
            "Testing: 100%|\u001b[32m██████████\u001b[0m| 10/10 [00:03<00:00,  3.16it/s]\n"
          ]
        },
        {
          "name": "stdout",
          "output_type": "stream",
          "text": [
            "Chromosome: 49\n"
          ]
        },
        {
          "name": "stderr",
          "output_type": "stream",
          "text": [
            "Training: 100%|\u001b[34m██████████\u001b[0m| 49/49 [00:15<00:00,  3.12it/s]\n",
            "Testing: 100%|\u001b[32m██████████\u001b[0m| 10/10 [00:03<00:00,  3.24it/s]\n"
          ]
        },
        {
          "name": "stdout",
          "output_type": "stream",
          "text": [
            "Chromosome: 50\n"
          ]
        },
        {
          "name": "stderr",
          "output_type": "stream",
          "text": [
            "Training: 100%|\u001b[34m██████████\u001b[0m| 49/49 [00:15<00:00,  3.11it/s]\n",
            "Testing: 100%|\u001b[32m██████████\u001b[0m| 10/10 [00:03<00:00,  3.23it/s]\n"
          ]
        },
        {
          "name": "stdout",
          "output_type": "stream",
          "text": [
            "current iteration: 14 / 20 , best train fitness: 0.1788436779562308, average train fitness: 0.16122615191401268, average test fitness: 0.15694961708784103\n",
            "-------------------------------------------------------------------------------------------------\n",
            "Chromosome: 1\n"
          ]
        },
        {
          "name": "stderr",
          "output_type": "stream",
          "text": [
            "Training: 100%|\u001b[34m██████████\u001b[0m| 49/49 [00:15<00:00,  3.11it/s]\n",
            "Testing: 100%|\u001b[32m██████████\u001b[0m| 10/10 [00:03<00:00,  3.21it/s]\n"
          ]
        },
        {
          "name": "stdout",
          "output_type": "stream",
          "text": [
            "Chromosome: 2\n"
          ]
        },
        {
          "name": "stderr",
          "output_type": "stream",
          "text": [
            "Training: 100%|\u001b[34m██████████\u001b[0m| 49/49 [00:15<00:00,  3.13it/s]\n",
            "Testing: 100%|\u001b[32m██████████\u001b[0m| 10/10 [00:03<00:00,  3.19it/s]\n"
          ]
        },
        {
          "name": "stdout",
          "output_type": "stream",
          "text": [
            "Chromosome: 3\n"
          ]
        },
        {
          "name": "stderr",
          "output_type": "stream",
          "text": [
            "Training: 100%|\u001b[34m██████████\u001b[0m| 49/49 [00:15<00:00,  3.11it/s]\n",
            "Testing: 100%|\u001b[32m██████████\u001b[0m| 10/10 [00:03<00:00,  3.19it/s]\n"
          ]
        },
        {
          "name": "stdout",
          "output_type": "stream",
          "text": [
            "Chromosome: 4\n"
          ]
        },
        {
          "name": "stderr",
          "output_type": "stream",
          "text": [
            "Training: 100%|\u001b[34m██████████\u001b[0m| 49/49 [00:15<00:00,  3.11it/s]\n",
            "Testing: 100%|\u001b[32m██████████\u001b[0m| 10/10 [00:03<00:00,  3.19it/s]\n"
          ]
        },
        {
          "name": "stdout",
          "output_type": "stream",
          "text": [
            "Chromosome: 5\n"
          ]
        },
        {
          "name": "stderr",
          "output_type": "stream",
          "text": [
            "Training: 100%|\u001b[34m██████████\u001b[0m| 49/49 [00:15<00:00,  3.10it/s]\n",
            "Testing: 100%|\u001b[32m██████████\u001b[0m| 10/10 [00:03<00:00,  3.20it/s]\n"
          ]
        },
        {
          "name": "stdout",
          "output_type": "stream",
          "text": [
            "Chromosome: 6\n"
          ]
        },
        {
          "name": "stderr",
          "output_type": "stream",
          "text": [
            "Training: 100%|\u001b[34m██████████\u001b[0m| 49/49 [00:15<00:00,  3.09it/s]\n",
            "Testing: 100%|\u001b[32m██████████\u001b[0m| 10/10 [00:03<00:00,  3.20it/s]\n"
          ]
        },
        {
          "name": "stdout",
          "output_type": "stream",
          "text": [
            "Chromosome: 7\n"
          ]
        },
        {
          "name": "stderr",
          "output_type": "stream",
          "text": [
            "Training: 100%|\u001b[34m██████████\u001b[0m| 49/49 [00:15<00:00,  3.10it/s]\n",
            "Testing: 100%|\u001b[32m██████████\u001b[0m| 10/10 [00:03<00:00,  3.19it/s]\n"
          ]
        },
        {
          "name": "stdout",
          "output_type": "stream",
          "text": [
            "Chromosome: 8\n"
          ]
        },
        {
          "name": "stderr",
          "output_type": "stream",
          "text": [
            "Training: 100%|\u001b[34m██████████\u001b[0m| 49/49 [00:15<00:00,  3.11it/s]\n",
            "Testing: 100%|\u001b[32m██████████\u001b[0m| 10/10 [00:03<00:00,  3.16it/s]\n"
          ]
        },
        {
          "name": "stdout",
          "output_type": "stream",
          "text": [
            "Chromosome: 9\n"
          ]
        },
        {
          "name": "stderr",
          "output_type": "stream",
          "text": [
            "Training: 100%|\u001b[34m██████████\u001b[0m| 49/49 [00:15<00:00,  3.12it/s]\n",
            "Testing: 100%|\u001b[32m██████████\u001b[0m| 10/10 [00:03<00:00,  3.22it/s]\n"
          ]
        },
        {
          "name": "stdout",
          "output_type": "stream",
          "text": [
            "Chromosome: 10\n"
          ]
        },
        {
          "name": "stderr",
          "output_type": "stream",
          "text": [
            "Training: 100%|\u001b[34m██████████\u001b[0m| 49/49 [00:15<00:00,  3.13it/s]\n",
            "Testing: 100%|\u001b[32m██████████\u001b[0m| 10/10 [00:03<00:00,  3.20it/s]\n"
          ]
        },
        {
          "name": "stdout",
          "output_type": "stream",
          "text": [
            "Chromosome: 11\n"
          ]
        },
        {
          "name": "stderr",
          "output_type": "stream",
          "text": [
            "Training: 100%|\u001b[34m██████████\u001b[0m| 49/49 [00:15<00:00,  3.09it/s]\n",
            "Testing: 100%|\u001b[32m██████████\u001b[0m| 10/10 [00:03<00:00,  3.25it/s]\n"
          ]
        },
        {
          "name": "stdout",
          "output_type": "stream",
          "text": [
            "Chromosome: 12\n"
          ]
        },
        {
          "name": "stderr",
          "output_type": "stream",
          "text": [
            "Training: 100%|\u001b[34m██████████\u001b[0m| 49/49 [00:15<00:00,  3.11it/s]\n",
            "Testing: 100%|\u001b[32m██████████\u001b[0m| 10/10 [00:03<00:00,  3.20it/s]\n"
          ]
        },
        {
          "name": "stdout",
          "output_type": "stream",
          "text": [
            "Chromosome: 13\n"
          ]
        },
        {
          "name": "stderr",
          "output_type": "stream",
          "text": [
            "Training: 100%|\u001b[34m██████████\u001b[0m| 49/49 [00:15<00:00,  3.10it/s]\n",
            "Testing: 100%|\u001b[32m██████████\u001b[0m| 10/10 [00:03<00:00,  3.19it/s]\n"
          ]
        },
        {
          "name": "stdout",
          "output_type": "stream",
          "text": [
            "Chromosome: 14\n"
          ]
        },
        {
          "name": "stderr",
          "output_type": "stream",
          "text": [
            "Training: 100%|\u001b[34m██████████\u001b[0m| 49/49 [00:15<00:00,  3.14it/s]\n",
            "Testing: 100%|\u001b[32m██████████\u001b[0m| 10/10 [00:03<00:00,  3.23it/s]\n"
          ]
        },
        {
          "name": "stdout",
          "output_type": "stream",
          "text": [
            "Chromosome: 15\n"
          ]
        },
        {
          "name": "stderr",
          "output_type": "stream",
          "text": [
            "Training: 100%|\u001b[34m██████████\u001b[0m| 49/49 [00:15<00:00,  3.09it/s]\n",
            "Testing: 100%|\u001b[32m██████████\u001b[0m| 10/10 [00:03<00:00,  3.22it/s]\n"
          ]
        },
        {
          "name": "stdout",
          "output_type": "stream",
          "text": [
            "Chromosome: 16\n"
          ]
        },
        {
          "name": "stderr",
          "output_type": "stream",
          "text": [
            "Training: 100%|\u001b[34m██████████\u001b[0m| 49/49 [00:15<00:00,  3.11it/s]\n",
            "Testing: 100%|\u001b[32m██████████\u001b[0m| 10/10 [00:03<00:00,  3.20it/s]\n"
          ]
        },
        {
          "name": "stdout",
          "output_type": "stream",
          "text": [
            "Chromosome: 17\n"
          ]
        },
        {
          "name": "stderr",
          "output_type": "stream",
          "text": [
            "Training: 100%|\u001b[34m██████████\u001b[0m| 49/49 [00:15<00:00,  3.10it/s]\n",
            "Testing: 100%|\u001b[32m██████████\u001b[0m| 10/10 [00:03<00:00,  3.22it/s]\n"
          ]
        },
        {
          "name": "stdout",
          "output_type": "stream",
          "text": [
            "Chromosome: 18\n"
          ]
        },
        {
          "name": "stderr",
          "output_type": "stream",
          "text": [
            "Training: 100%|\u001b[34m██████████\u001b[0m| 49/49 [00:15<00:00,  3.12it/s]\n",
            "Testing: 100%|\u001b[32m██████████\u001b[0m| 10/10 [00:03<00:00,  3.18it/s]\n"
          ]
        },
        {
          "name": "stdout",
          "output_type": "stream",
          "text": [
            "Chromosome: 19\n"
          ]
        },
        {
          "name": "stderr",
          "output_type": "stream",
          "text": [
            "Training: 100%|\u001b[34m██████████\u001b[0m| 49/49 [00:15<00:00,  3.10it/s]\n",
            "Testing: 100%|\u001b[32m██████████\u001b[0m| 10/10 [00:03<00:00,  3.24it/s]\n"
          ]
        },
        {
          "name": "stdout",
          "output_type": "stream",
          "text": [
            "Chromosome: 20\n"
          ]
        },
        {
          "name": "stderr",
          "output_type": "stream",
          "text": [
            "Training: 100%|\u001b[34m██████████\u001b[0m| 49/49 [00:15<00:00,  3.13it/s]\n",
            "Testing: 100%|\u001b[32m██████████\u001b[0m| 10/10 [00:03<00:00,  3.22it/s]\n"
          ]
        },
        {
          "name": "stdout",
          "output_type": "stream",
          "text": [
            "Chromosome: 21\n"
          ]
        },
        {
          "name": "stderr",
          "output_type": "stream",
          "text": [
            "Training: 100%|\u001b[34m██████████\u001b[0m| 49/49 [00:15<00:00,  3.14it/s]\n",
            "Testing: 100%|\u001b[32m██████████\u001b[0m| 10/10 [00:03<00:00,  3.23it/s]\n"
          ]
        },
        {
          "name": "stdout",
          "output_type": "stream",
          "text": [
            "Chromosome: 22\n"
          ]
        },
        {
          "name": "stderr",
          "output_type": "stream",
          "text": [
            "Training: 100%|\u001b[34m██████████\u001b[0m| 49/49 [00:15<00:00,  3.11it/s]\n",
            "Testing: 100%|\u001b[32m██████████\u001b[0m| 10/10 [00:03<00:00,  3.21it/s]\n"
          ]
        },
        {
          "name": "stdout",
          "output_type": "stream",
          "text": [
            "Chromosome: 23\n"
          ]
        },
        {
          "name": "stderr",
          "output_type": "stream",
          "text": [
            "Training: 100%|\u001b[34m██████████\u001b[0m| 49/49 [00:15<00:00,  3.10it/s]\n",
            "Testing: 100%|\u001b[32m██████████\u001b[0m| 10/10 [00:03<00:00,  3.20it/s]\n"
          ]
        },
        {
          "name": "stdout",
          "output_type": "stream",
          "text": [
            "Chromosome: 24\n"
          ]
        },
        {
          "name": "stderr",
          "output_type": "stream",
          "text": [
            "Training: 100%|\u001b[34m██████████\u001b[0m| 49/49 [00:15<00:00,  3.10it/s]\n",
            "Testing: 100%|\u001b[32m██████████\u001b[0m| 10/10 [00:03<00:00,  3.21it/s]\n"
          ]
        },
        {
          "name": "stdout",
          "output_type": "stream",
          "text": [
            "Chromosome: 25\n"
          ]
        },
        {
          "name": "stderr",
          "output_type": "stream",
          "text": [
            "Training: 100%|\u001b[34m██████████\u001b[0m| 49/49 [00:15<00:00,  3.08it/s]\n",
            "Testing: 100%|\u001b[32m██████████\u001b[0m| 10/10 [00:03<00:00,  3.21it/s]\n"
          ]
        },
        {
          "name": "stdout",
          "output_type": "stream",
          "text": [
            "Chromosome: 26\n"
          ]
        },
        {
          "name": "stderr",
          "output_type": "stream",
          "text": [
            "Training: 100%|\u001b[34m██████████\u001b[0m| 49/49 [00:15<00:00,  3.12it/s]\n",
            "Testing: 100%|\u001b[32m██████████\u001b[0m| 10/10 [00:03<00:00,  3.21it/s]\n"
          ]
        },
        {
          "name": "stdout",
          "output_type": "stream",
          "text": [
            "Chromosome: 27\n"
          ]
        },
        {
          "name": "stderr",
          "output_type": "stream",
          "text": [
            "Training: 100%|\u001b[34m██████████\u001b[0m| 49/49 [00:15<00:00,  3.08it/s]\n",
            "Testing: 100%|\u001b[32m██████████\u001b[0m| 10/10 [00:03<00:00,  3.21it/s]\n"
          ]
        },
        {
          "name": "stdout",
          "output_type": "stream",
          "text": [
            "Chromosome: 28\n"
          ]
        },
        {
          "name": "stderr",
          "output_type": "stream",
          "text": [
            "Training: 100%|\u001b[34m██████████\u001b[0m| 49/49 [00:15<00:00,  3.10it/s]\n",
            "Testing: 100%|\u001b[32m██████████\u001b[0m| 10/10 [00:03<00:00,  3.18it/s]\n"
          ]
        },
        {
          "name": "stdout",
          "output_type": "stream",
          "text": [
            "Chromosome: 29\n"
          ]
        },
        {
          "name": "stderr",
          "output_type": "stream",
          "text": [
            "Training: 100%|\u001b[34m██████████\u001b[0m| 49/49 [00:15<00:00,  3.13it/s]\n",
            "Testing: 100%|\u001b[32m██████████\u001b[0m| 10/10 [00:03<00:00,  3.23it/s]\n"
          ]
        },
        {
          "name": "stdout",
          "output_type": "stream",
          "text": [
            "Chromosome: 30\n"
          ]
        },
        {
          "name": "stderr",
          "output_type": "stream",
          "text": [
            "Training: 100%|\u001b[34m██████████\u001b[0m| 49/49 [00:15<00:00,  3.08it/s]\n",
            "Testing: 100%|\u001b[32m██████████\u001b[0m| 10/10 [00:03<00:00,  3.20it/s]\n"
          ]
        },
        {
          "name": "stdout",
          "output_type": "stream",
          "text": [
            "Chromosome: 31\n"
          ]
        },
        {
          "name": "stderr",
          "output_type": "stream",
          "text": [
            "Training: 100%|\u001b[34m██████████\u001b[0m| 49/49 [00:15<00:00,  3.12it/s]\n",
            "Testing: 100%|\u001b[32m██████████\u001b[0m| 10/10 [00:03<00:00,  3.20it/s]\n"
          ]
        },
        {
          "name": "stdout",
          "output_type": "stream",
          "text": [
            "Chromosome: 32\n"
          ]
        },
        {
          "name": "stderr",
          "output_type": "stream",
          "text": [
            "Training: 100%|\u001b[34m██████████\u001b[0m| 49/49 [00:15<00:00,  3.14it/s]\n",
            "Testing: 100%|\u001b[32m██████████\u001b[0m| 10/10 [00:03<00:00,  3.21it/s]\n"
          ]
        },
        {
          "name": "stdout",
          "output_type": "stream",
          "text": [
            "Chromosome: 33\n"
          ]
        },
        {
          "name": "stderr",
          "output_type": "stream",
          "text": [
            "Training: 100%|\u001b[34m██████████\u001b[0m| 49/49 [00:15<00:00,  3.14it/s]\n",
            "Testing: 100%|\u001b[32m██████████\u001b[0m| 10/10 [00:03<00:00,  3.22it/s]\n"
          ]
        },
        {
          "name": "stdout",
          "output_type": "stream",
          "text": [
            "Chromosome: 34\n"
          ]
        },
        {
          "name": "stderr",
          "output_type": "stream",
          "text": [
            "Training: 100%|\u001b[34m██████████\u001b[0m| 49/49 [00:15<00:00,  3.13it/s]\n",
            "Testing: 100%|\u001b[32m██████████\u001b[0m| 10/10 [00:03<00:00,  3.23it/s]\n"
          ]
        },
        {
          "name": "stdout",
          "output_type": "stream",
          "text": [
            "Chromosome: 35\n"
          ]
        },
        {
          "name": "stderr",
          "output_type": "stream",
          "text": [
            "Training: 100%|\u001b[34m██████████\u001b[0m| 49/49 [00:15<00:00,  3.10it/s]\n",
            "Testing: 100%|\u001b[32m██████████\u001b[0m| 10/10 [00:03<00:00,  3.23it/s]\n"
          ]
        },
        {
          "name": "stdout",
          "output_type": "stream",
          "text": [
            "Chromosome: 36\n"
          ]
        },
        {
          "name": "stderr",
          "output_type": "stream",
          "text": [
            "Training: 100%|\u001b[34m██████████\u001b[0m| 49/49 [00:16<00:00,  2.91it/s]\n",
            "Testing: 100%|\u001b[32m██████████\u001b[0m| 10/10 [00:03<00:00,  3.19it/s]\n"
          ]
        },
        {
          "name": "stdout",
          "output_type": "stream",
          "text": [
            "Chromosome: 37\n"
          ]
        },
        {
          "name": "stderr",
          "output_type": "stream",
          "text": [
            "Training: 100%|\u001b[34m██████████\u001b[0m| 49/49 [00:15<00:00,  3.11it/s]\n",
            "Testing: 100%|\u001b[32m██████████\u001b[0m| 10/10 [00:03<00:00,  3.21it/s]\n"
          ]
        },
        {
          "name": "stdout",
          "output_type": "stream",
          "text": [
            "Chromosome: 38\n"
          ]
        },
        {
          "name": "stderr",
          "output_type": "stream",
          "text": [
            "Training: 100%|\u001b[34m██████████\u001b[0m| 49/49 [00:15<00:00,  3.10it/s]\n",
            "Testing: 100%|\u001b[32m██████████\u001b[0m| 10/10 [00:03<00:00,  3.22it/s]\n"
          ]
        },
        {
          "name": "stdout",
          "output_type": "stream",
          "text": [
            "Chromosome: 39\n"
          ]
        },
        {
          "name": "stderr",
          "output_type": "stream",
          "text": [
            "Training: 100%|\u001b[34m██████████\u001b[0m| 49/49 [00:15<00:00,  3.10it/s]\n",
            "Testing: 100%|\u001b[32m██████████\u001b[0m| 10/10 [00:03<00:00,  3.16it/s]\n"
          ]
        },
        {
          "name": "stdout",
          "output_type": "stream",
          "text": [
            "Chromosome: 40\n"
          ]
        },
        {
          "name": "stderr",
          "output_type": "stream",
          "text": [
            "Training: 100%|\u001b[34m██████████\u001b[0m| 49/49 [00:15<00:00,  3.08it/s]\n",
            "Testing: 100%|\u001b[32m██████████\u001b[0m| 10/10 [00:03<00:00,  3.23it/s]\n"
          ]
        },
        {
          "name": "stdout",
          "output_type": "stream",
          "text": [
            "Chromosome: 41\n"
          ]
        },
        {
          "name": "stderr",
          "output_type": "stream",
          "text": [
            "Training: 100%|\u001b[34m██████████\u001b[0m| 49/49 [00:15<00:00,  3.14it/s]\n",
            "Testing: 100%|\u001b[32m██████████\u001b[0m| 10/10 [00:03<00:00,  3.23it/s]\n"
          ]
        },
        {
          "name": "stdout",
          "output_type": "stream",
          "text": [
            "Chromosome: 42\n"
          ]
        },
        {
          "name": "stderr",
          "output_type": "stream",
          "text": [
            "Training: 100%|\u001b[34m██████████\u001b[0m| 49/49 [00:15<00:00,  3.10it/s]\n",
            "Testing: 100%|\u001b[32m██████████\u001b[0m| 10/10 [00:03<00:00,  3.20it/s]\n"
          ]
        },
        {
          "name": "stdout",
          "output_type": "stream",
          "text": [
            "Chromosome: 43\n"
          ]
        },
        {
          "name": "stderr",
          "output_type": "stream",
          "text": [
            "Training: 100%|\u001b[34m██████████\u001b[0m| 49/49 [00:15<00:00,  3.12it/s]\n",
            "Testing: 100%|\u001b[32m██████████\u001b[0m| 10/10 [00:03<00:00,  3.17it/s]\n"
          ]
        },
        {
          "name": "stdout",
          "output_type": "stream",
          "text": [
            "Chromosome: 44\n"
          ]
        },
        {
          "name": "stderr",
          "output_type": "stream",
          "text": [
            "Training: 100%|\u001b[34m██████████\u001b[0m| 49/49 [00:15<00:00,  3.11it/s]\n",
            "Testing: 100%|\u001b[32m██████████\u001b[0m| 10/10 [00:03<00:00,  3.12it/s]\n"
          ]
        },
        {
          "name": "stdout",
          "output_type": "stream",
          "text": [
            "Chromosome: 45\n"
          ]
        },
        {
          "name": "stderr",
          "output_type": "stream",
          "text": [
            "Training: 100%|\u001b[34m██████████\u001b[0m| 49/49 [00:15<00:00,  3.11it/s]\n",
            "Testing: 100%|\u001b[32m██████████\u001b[0m| 10/10 [00:03<00:00,  3.19it/s]\n"
          ]
        },
        {
          "name": "stdout",
          "output_type": "stream",
          "text": [
            "Chromosome: 46\n"
          ]
        },
        {
          "name": "stderr",
          "output_type": "stream",
          "text": [
            "Training: 100%|\u001b[34m██████████\u001b[0m| 49/49 [00:15<00:00,  3.13it/s]\n",
            "Testing: 100%|\u001b[32m██████████\u001b[0m| 10/10 [00:03<00:00,  3.16it/s]\n"
          ]
        },
        {
          "name": "stdout",
          "output_type": "stream",
          "text": [
            "Chromosome: 47\n"
          ]
        },
        {
          "name": "stderr",
          "output_type": "stream",
          "text": [
            "Training: 100%|\u001b[34m██████████\u001b[0m| 49/49 [00:15<00:00,  3.11it/s]\n",
            "Testing: 100%|\u001b[32m██████████\u001b[0m| 10/10 [00:03<00:00,  3.21it/s]\n"
          ]
        },
        {
          "name": "stdout",
          "output_type": "stream",
          "text": [
            "Chromosome: 48\n"
          ]
        },
        {
          "name": "stderr",
          "output_type": "stream",
          "text": [
            "Training: 100%|\u001b[34m██████████\u001b[0m| 49/49 [00:15<00:00,  3.11it/s]\n",
            "Testing: 100%|\u001b[32m██████████\u001b[0m| 10/10 [00:03<00:00,  3.15it/s]\n"
          ]
        },
        {
          "name": "stdout",
          "output_type": "stream",
          "text": [
            "Chromosome: 49\n"
          ]
        },
        {
          "name": "stderr",
          "output_type": "stream",
          "text": [
            "Training: 100%|\u001b[34m██████████\u001b[0m| 49/49 [00:15<00:00,  3.09it/s]\n",
            "Testing: 100%|\u001b[32m██████████\u001b[0m| 10/10 [00:03<00:00,  3.09it/s]\n"
          ]
        },
        {
          "name": "stdout",
          "output_type": "stream",
          "text": [
            "Chromosome: 50\n"
          ]
        },
        {
          "name": "stderr",
          "output_type": "stream",
          "text": [
            "Training: 100%|\u001b[34m██████████\u001b[0m| 49/49 [00:15<00:00,  3.10it/s]\n",
            "Testing: 100%|\u001b[32m██████████\u001b[0m| 10/10 [00:03<00:00,  3.20it/s]\n"
          ]
        },
        {
          "name": "stdout",
          "output_type": "stream",
          "text": [
            "current iteration: 15 / 20 , best train fitness: 0.1788436779562308, average train fitness: 0.16188294941065262, average test fitness: 0.1578692201077938\n",
            "-------------------------------------------------------------------------------------------------\n",
            "Chromosome: 1\n"
          ]
        },
        {
          "name": "stderr",
          "output_type": "stream",
          "text": [
            "Training: 100%|\u001b[34m██████████\u001b[0m| 49/49 [00:15<00:00,  3.09it/s]\n",
            "Testing: 100%|\u001b[32m██████████\u001b[0m| 10/10 [00:03<00:00,  3.20it/s]\n"
          ]
        },
        {
          "name": "stdout",
          "output_type": "stream",
          "text": [
            "Chromosome: 2\n"
          ]
        },
        {
          "name": "stderr",
          "output_type": "stream",
          "text": [
            "Training: 100%|\u001b[34m██████████\u001b[0m| 49/49 [00:15<00:00,  3.11it/s]\n",
            "Testing: 100%|\u001b[32m██████████\u001b[0m| 10/10 [00:03<00:00,  3.20it/s]\n"
          ]
        },
        {
          "name": "stdout",
          "output_type": "stream",
          "text": [
            "Chromosome: 3\n"
          ]
        },
        {
          "name": "stderr",
          "output_type": "stream",
          "text": [
            "Training: 100%|\u001b[34m██████████\u001b[0m| 49/49 [00:15<00:00,  3.12it/s]\n",
            "Testing: 100%|\u001b[32m██████████\u001b[0m| 10/10 [00:03<00:00,  3.21it/s]\n"
          ]
        },
        {
          "name": "stdout",
          "output_type": "stream",
          "text": [
            "Chromosome: 4\n"
          ]
        },
        {
          "name": "stderr",
          "output_type": "stream",
          "text": [
            "Training: 100%|\u001b[34m██████████\u001b[0m| 49/49 [00:15<00:00,  3.10it/s]\n",
            "Testing: 100%|\u001b[32m██████████\u001b[0m| 10/10 [00:03<00:00,  3.19it/s]\n"
          ]
        },
        {
          "name": "stdout",
          "output_type": "stream",
          "text": [
            "Chromosome: 5\n"
          ]
        },
        {
          "name": "stderr",
          "output_type": "stream",
          "text": [
            "Training: 100%|\u001b[34m██████████\u001b[0m| 49/49 [00:15<00:00,  3.09it/s]\n",
            "Testing: 100%|\u001b[32m██████████\u001b[0m| 10/10 [00:03<00:00,  3.17it/s]\n"
          ]
        },
        {
          "name": "stdout",
          "output_type": "stream",
          "text": [
            "Chromosome: 6\n"
          ]
        },
        {
          "name": "stderr",
          "output_type": "stream",
          "text": [
            "Training: 100%|\u001b[34m██████████\u001b[0m| 49/49 [00:15<00:00,  3.10it/s]\n",
            "Testing: 100%|\u001b[32m██████████\u001b[0m| 10/10 [00:03<00:00,  3.22it/s]\n"
          ]
        },
        {
          "name": "stdout",
          "output_type": "stream",
          "text": [
            "Chromosome: 7\n"
          ]
        },
        {
          "name": "stderr",
          "output_type": "stream",
          "text": [
            "Training: 100%|\u001b[34m██████████\u001b[0m| 49/49 [00:15<00:00,  3.11it/s]\n",
            "Testing: 100%|\u001b[32m██████████\u001b[0m| 10/10 [00:03<00:00,  3.21it/s]\n"
          ]
        },
        {
          "name": "stdout",
          "output_type": "stream",
          "text": [
            "Chromosome: 8\n"
          ]
        },
        {
          "name": "stderr",
          "output_type": "stream",
          "text": [
            "Training: 100%|\u001b[34m██████████\u001b[0m| 49/49 [00:15<00:00,  3.11it/s]\n",
            "Testing: 100%|\u001b[32m██████████\u001b[0m| 10/10 [00:03<00:00,  3.20it/s]\n"
          ]
        },
        {
          "name": "stdout",
          "output_type": "stream",
          "text": [
            "Chromosome: 9\n"
          ]
        },
        {
          "name": "stderr",
          "output_type": "stream",
          "text": [
            "Training: 100%|\u001b[34m██████████\u001b[0m| 49/49 [00:15<00:00,  3.09it/s]\n",
            "Testing: 100%|\u001b[32m██████████\u001b[0m| 10/10 [00:03<00:00,  3.19it/s]\n"
          ]
        },
        {
          "name": "stdout",
          "output_type": "stream",
          "text": [
            "Chromosome: 10\n"
          ]
        },
        {
          "name": "stderr",
          "output_type": "stream",
          "text": [
            "Training: 100%|\u001b[34m██████████\u001b[0m| 49/49 [00:15<00:00,  3.14it/s]\n",
            "Testing: 100%|\u001b[32m██████████\u001b[0m| 10/10 [00:03<00:00,  3.19it/s]\n"
          ]
        },
        {
          "name": "stdout",
          "output_type": "stream",
          "text": [
            "Chromosome: 11\n"
          ]
        },
        {
          "name": "stderr",
          "output_type": "stream",
          "text": [
            "Training: 100%|\u001b[34m██████████\u001b[0m| 49/49 [00:15<00:00,  3.11it/s]\n",
            "Testing: 100%|\u001b[32m██████████\u001b[0m| 10/10 [00:03<00:00,  3.22it/s]\n"
          ]
        },
        {
          "name": "stdout",
          "output_type": "stream",
          "text": [
            "Chromosome: 12\n"
          ]
        },
        {
          "name": "stderr",
          "output_type": "stream",
          "text": [
            "Training: 100%|\u001b[34m██████████\u001b[0m| 49/49 [00:15<00:00,  3.12it/s]\n",
            "Testing: 100%|\u001b[32m██████████\u001b[0m| 10/10 [00:03<00:00,  3.23it/s]\n"
          ]
        },
        {
          "name": "stdout",
          "output_type": "stream",
          "text": [
            "Chromosome: 13\n"
          ]
        },
        {
          "name": "stderr",
          "output_type": "stream",
          "text": [
            "Training: 100%|\u001b[34m██████████\u001b[0m| 49/49 [00:15<00:00,  3.11it/s]\n",
            "Testing: 100%|\u001b[32m██████████\u001b[0m| 10/10 [00:03<00:00,  3.20it/s]\n"
          ]
        },
        {
          "name": "stdout",
          "output_type": "stream",
          "text": [
            "Chromosome: 14\n"
          ]
        },
        {
          "name": "stderr",
          "output_type": "stream",
          "text": [
            "Training: 100%|\u001b[34m██████████\u001b[0m| 49/49 [00:15<00:00,  3.11it/s]\n",
            "Testing: 100%|\u001b[32m██████████\u001b[0m| 10/10 [00:03<00:00,  3.22it/s]\n"
          ]
        },
        {
          "name": "stdout",
          "output_type": "stream",
          "text": [
            "Chromosome: 15\n"
          ]
        },
        {
          "name": "stderr",
          "output_type": "stream",
          "text": [
            "Training: 100%|\u001b[34m██████████\u001b[0m| 49/49 [00:15<00:00,  3.12it/s]\n",
            "Testing: 100%|\u001b[32m██████████\u001b[0m| 10/10 [00:03<00:00,  3.20it/s]\n"
          ]
        },
        {
          "name": "stdout",
          "output_type": "stream",
          "text": [
            "Chromosome: 16\n"
          ]
        },
        {
          "name": "stderr",
          "output_type": "stream",
          "text": [
            "Training: 100%|\u001b[34m██████████\u001b[0m| 49/49 [00:15<00:00,  3.11it/s]\n",
            "Testing: 100%|\u001b[32m██████████\u001b[0m| 10/10 [00:03<00:00,  3.20it/s]\n"
          ]
        },
        {
          "name": "stdout",
          "output_type": "stream",
          "text": [
            "Chromosome: 17\n"
          ]
        },
        {
          "name": "stderr",
          "output_type": "stream",
          "text": [
            "Training: 100%|\u001b[34m██████████\u001b[0m| 49/49 [00:15<00:00,  3.11it/s]\n",
            "Testing: 100%|\u001b[32m██████████\u001b[0m| 10/10 [00:03<00:00,  3.22it/s]\n"
          ]
        },
        {
          "name": "stdout",
          "output_type": "stream",
          "text": [
            "Chromosome: 18\n"
          ]
        },
        {
          "name": "stderr",
          "output_type": "stream",
          "text": [
            "Training: 100%|\u001b[34m██████████\u001b[0m| 49/49 [00:15<00:00,  3.10it/s]\n",
            "Testing: 100%|\u001b[32m██████████\u001b[0m| 10/10 [00:03<00:00,  3.19it/s]\n"
          ]
        },
        {
          "name": "stdout",
          "output_type": "stream",
          "text": [
            "Chromosome: 19\n"
          ]
        },
        {
          "name": "stderr",
          "output_type": "stream",
          "text": [
            "Training: 100%|\u001b[34m██████████\u001b[0m| 49/49 [00:15<00:00,  3.08it/s]\n",
            "Testing: 100%|\u001b[32m██████████\u001b[0m| 10/10 [00:03<00:00,  3.19it/s]\n"
          ]
        },
        {
          "name": "stdout",
          "output_type": "stream",
          "text": [
            "Chromosome: 20\n"
          ]
        },
        {
          "name": "stderr",
          "output_type": "stream",
          "text": [
            "Training: 100%|\u001b[34m██████████\u001b[0m| 49/49 [00:15<00:00,  3.09it/s]\n",
            "Testing: 100%|\u001b[32m██████████\u001b[0m| 10/10 [00:03<00:00,  3.22it/s]\n"
          ]
        },
        {
          "name": "stdout",
          "output_type": "stream",
          "text": [
            "Chromosome: 21\n"
          ]
        },
        {
          "name": "stderr",
          "output_type": "stream",
          "text": [
            "Training: 100%|\u001b[34m██████████\u001b[0m| 49/49 [00:15<00:00,  3.11it/s]\n",
            "Testing: 100%|\u001b[32m██████████\u001b[0m| 10/10 [00:03<00:00,  3.20it/s]\n"
          ]
        },
        {
          "name": "stdout",
          "output_type": "stream",
          "text": [
            "Chromosome: 22\n"
          ]
        },
        {
          "name": "stderr",
          "output_type": "stream",
          "text": [
            "Training: 100%|\u001b[34m██████████\u001b[0m| 49/49 [00:15<00:00,  3.11it/s]\n",
            "Testing: 100%|\u001b[32m██████████\u001b[0m| 10/10 [00:03<00:00,  3.20it/s]\n"
          ]
        },
        {
          "name": "stdout",
          "output_type": "stream",
          "text": [
            "Chromosome: 23\n"
          ]
        },
        {
          "name": "stderr",
          "output_type": "stream",
          "text": [
            "Training: 100%|\u001b[34m██████████\u001b[0m| 49/49 [00:15<00:00,  3.13it/s]\n",
            "Testing: 100%|\u001b[32m██████████\u001b[0m| 10/10 [00:03<00:00,  3.12it/s]\n"
          ]
        },
        {
          "name": "stdout",
          "output_type": "stream",
          "text": [
            "Chromosome: 24\n"
          ]
        },
        {
          "name": "stderr",
          "output_type": "stream",
          "text": [
            "Training: 100%|\u001b[34m██████████\u001b[0m| 49/49 [00:15<00:00,  3.13it/s]\n",
            "Testing: 100%|\u001b[32m██████████\u001b[0m| 10/10 [00:03<00:00,  3.21it/s]\n"
          ]
        },
        {
          "name": "stdout",
          "output_type": "stream",
          "text": [
            "Chromosome: 25\n"
          ]
        },
        {
          "name": "stderr",
          "output_type": "stream",
          "text": [
            "Training: 100%|\u001b[34m██████████\u001b[0m| 49/49 [00:15<00:00,  3.11it/s]\n",
            "Testing: 100%|\u001b[32m██████████\u001b[0m| 10/10 [00:03<00:00,  3.20it/s]\n"
          ]
        },
        {
          "name": "stdout",
          "output_type": "stream",
          "text": [
            "Chromosome: 26\n"
          ]
        },
        {
          "name": "stderr",
          "output_type": "stream",
          "text": [
            "Training: 100%|\u001b[34m██████████\u001b[0m| 49/49 [00:15<00:00,  3.09it/s]\n",
            "Testing: 100%|\u001b[32m██████████\u001b[0m| 10/10 [00:03<00:00,  3.21it/s]\n"
          ]
        },
        {
          "name": "stdout",
          "output_type": "stream",
          "text": [
            "Chromosome: 27\n"
          ]
        },
        {
          "name": "stderr",
          "output_type": "stream",
          "text": [
            "Training: 100%|\u001b[34m██████████\u001b[0m| 49/49 [00:15<00:00,  3.11it/s]\n",
            "Testing: 100%|\u001b[32m██████████\u001b[0m| 10/10 [00:03<00:00,  3.21it/s]\n"
          ]
        },
        {
          "name": "stdout",
          "output_type": "stream",
          "text": [
            "Chromosome: 28\n"
          ]
        },
        {
          "name": "stderr",
          "output_type": "stream",
          "text": [
            "Training: 100%|\u001b[34m██████████\u001b[0m| 49/49 [00:15<00:00,  3.11it/s]\n",
            "Testing: 100%|\u001b[32m██████████\u001b[0m| 10/10 [00:03<00:00,  3.09it/s]\n"
          ]
        },
        {
          "name": "stdout",
          "output_type": "stream",
          "text": [
            "Chromosome: 29\n"
          ]
        },
        {
          "name": "stderr",
          "output_type": "stream",
          "text": [
            "Training: 100%|\u001b[34m██████████\u001b[0m| 49/49 [00:15<00:00,  3.11it/s]\n",
            "Testing: 100%|\u001b[32m██████████\u001b[0m| 10/10 [00:03<00:00,  3.20it/s]\n"
          ]
        },
        {
          "name": "stdout",
          "output_type": "stream",
          "text": [
            "Chromosome: 30\n"
          ]
        },
        {
          "name": "stderr",
          "output_type": "stream",
          "text": [
            "Training: 100%|\u001b[34m██████████\u001b[0m| 49/49 [00:15<00:00,  3.11it/s]\n",
            "Testing: 100%|\u001b[32m██████████\u001b[0m| 10/10 [00:03<00:00,  3.19it/s]\n"
          ]
        },
        {
          "name": "stdout",
          "output_type": "stream",
          "text": [
            "Chromosome: 31\n"
          ]
        },
        {
          "name": "stderr",
          "output_type": "stream",
          "text": [
            "Training: 100%|\u001b[34m██████████\u001b[0m| 49/49 [00:15<00:00,  3.12it/s]\n",
            "Testing: 100%|\u001b[32m██████████\u001b[0m| 10/10 [00:03<00:00,  3.19it/s]\n"
          ]
        },
        {
          "name": "stdout",
          "output_type": "stream",
          "text": [
            "Chromosome: 32\n"
          ]
        },
        {
          "name": "stderr",
          "output_type": "stream",
          "text": [
            "Training: 100%|\u001b[34m██████████\u001b[0m| 49/49 [00:15<00:00,  3.12it/s]\n",
            "Testing: 100%|\u001b[32m██████████\u001b[0m| 10/10 [00:03<00:00,  3.20it/s]\n"
          ]
        },
        {
          "name": "stdout",
          "output_type": "stream",
          "text": [
            "Chromosome: 33\n"
          ]
        },
        {
          "name": "stderr",
          "output_type": "stream",
          "text": [
            "Training: 100%|\u001b[34m██████████\u001b[0m| 49/49 [00:15<00:00,  3.10it/s]\n",
            "Testing: 100%|\u001b[32m██████████\u001b[0m| 10/10 [00:03<00:00,  3.22it/s]\n"
          ]
        },
        {
          "name": "stdout",
          "output_type": "stream",
          "text": [
            "Chromosome: 34\n"
          ]
        },
        {
          "name": "stderr",
          "output_type": "stream",
          "text": [
            "Training: 100%|\u001b[34m██████████\u001b[0m| 49/49 [00:15<00:00,  3.07it/s]\n",
            "Testing: 100%|\u001b[32m██████████\u001b[0m| 10/10 [00:03<00:00,  3.21it/s]\n"
          ]
        },
        {
          "name": "stdout",
          "output_type": "stream",
          "text": [
            "Chromosome: 35\n"
          ]
        },
        {
          "name": "stderr",
          "output_type": "stream",
          "text": [
            "Training: 100%|\u001b[34m██████████\u001b[0m| 49/49 [00:15<00:00,  3.10it/s]\n",
            "Testing: 100%|\u001b[32m██████████\u001b[0m| 10/10 [00:03<00:00,  3.21it/s]\n"
          ]
        },
        {
          "name": "stdout",
          "output_type": "stream",
          "text": [
            "Chromosome: 36\n"
          ]
        },
        {
          "name": "stderr",
          "output_type": "stream",
          "text": [
            "Training: 100%|\u001b[34m██████████\u001b[0m| 49/49 [00:15<00:00,  3.12it/s]\n",
            "Testing: 100%|\u001b[32m██████████\u001b[0m| 10/10 [00:03<00:00,  3.20it/s]\n"
          ]
        },
        {
          "name": "stdout",
          "output_type": "stream",
          "text": [
            "Chromosome: 37\n"
          ]
        },
        {
          "name": "stderr",
          "output_type": "stream",
          "text": [
            "Training: 100%|\u001b[34m██████████\u001b[0m| 49/49 [00:15<00:00,  3.09it/s]\n",
            "Testing: 100%|\u001b[32m██████████\u001b[0m| 10/10 [00:03<00:00,  3.13it/s]\n"
          ]
        },
        {
          "name": "stdout",
          "output_type": "stream",
          "text": [
            "Chromosome: 38\n"
          ]
        },
        {
          "name": "stderr",
          "output_type": "stream",
          "text": [
            "Training: 100%|\u001b[34m██████████\u001b[0m| 49/49 [00:15<00:00,  3.11it/s]\n",
            "Testing: 100%|\u001b[32m██████████\u001b[0m| 10/10 [00:03<00:00,  3.08it/s]\n"
          ]
        },
        {
          "name": "stdout",
          "output_type": "stream",
          "text": [
            "Chromosome: 39\n"
          ]
        },
        {
          "name": "stderr",
          "output_type": "stream",
          "text": [
            "Training: 100%|\u001b[34m██████████\u001b[0m| 49/49 [00:15<00:00,  3.12it/s]\n",
            "Testing: 100%|\u001b[32m██████████\u001b[0m| 10/10 [00:03<00:00,  3.23it/s]\n"
          ]
        },
        {
          "name": "stdout",
          "output_type": "stream",
          "text": [
            "Chromosome: 40\n"
          ]
        },
        {
          "name": "stderr",
          "output_type": "stream",
          "text": [
            "Training: 100%|\u001b[34m██████████\u001b[0m| 49/49 [00:15<00:00,  3.12it/s]\n",
            "Testing: 100%|\u001b[32m██████████\u001b[0m| 10/10 [00:03<00:00,  3.21it/s]\n"
          ]
        },
        {
          "name": "stdout",
          "output_type": "stream",
          "text": [
            "Chromosome: 41\n"
          ]
        },
        {
          "name": "stderr",
          "output_type": "stream",
          "text": [
            "Training: 100%|\u001b[34m██████████\u001b[0m| 49/49 [00:15<00:00,  3.11it/s]\n",
            "Testing: 100%|\u001b[32m██████████\u001b[0m| 10/10 [00:03<00:00,  3.19it/s]\n"
          ]
        },
        {
          "name": "stdout",
          "output_type": "stream",
          "text": [
            "Chromosome: 42\n"
          ]
        },
        {
          "name": "stderr",
          "output_type": "stream",
          "text": [
            "Training: 100%|\u001b[34m██████████\u001b[0m| 49/49 [00:15<00:00,  3.10it/s]\n",
            "Testing: 100%|\u001b[32m██████████\u001b[0m| 10/10 [00:03<00:00,  3.21it/s]\n"
          ]
        },
        {
          "name": "stdout",
          "output_type": "stream",
          "text": [
            "Chromosome: 43\n"
          ]
        },
        {
          "name": "stderr",
          "output_type": "stream",
          "text": [
            "Training: 100%|\u001b[34m██████████\u001b[0m| 49/49 [00:15<00:00,  3.11it/s]\n",
            "Testing: 100%|\u001b[32m██████████\u001b[0m| 10/10 [00:03<00:00,  3.21it/s]\n"
          ]
        },
        {
          "name": "stdout",
          "output_type": "stream",
          "text": [
            "Chromosome: 44\n"
          ]
        },
        {
          "name": "stderr",
          "output_type": "stream",
          "text": [
            "Training: 100%|\u001b[34m██████████\u001b[0m| 49/49 [00:15<00:00,  3.08it/s]\n",
            "Testing: 100%|\u001b[32m██████████\u001b[0m| 10/10 [00:03<00:00,  3.19it/s]\n"
          ]
        },
        {
          "name": "stdout",
          "output_type": "stream",
          "text": [
            "Chromosome: 45\n"
          ]
        },
        {
          "name": "stderr",
          "output_type": "stream",
          "text": [
            "Training: 100%|\u001b[34m██████████\u001b[0m| 49/49 [00:15<00:00,  3.15it/s]\n",
            "Testing: 100%|\u001b[32m██████████\u001b[0m| 10/10 [00:03<00:00,  3.23it/s]\n"
          ]
        },
        {
          "name": "stdout",
          "output_type": "stream",
          "text": [
            "Chromosome: 46\n"
          ]
        },
        {
          "name": "stderr",
          "output_type": "stream",
          "text": [
            "Training: 100%|\u001b[34m██████████\u001b[0m| 49/49 [00:15<00:00,  3.10it/s]\n",
            "Testing: 100%|\u001b[32m██████████\u001b[0m| 10/10 [00:03<00:00,  3.19it/s]\n"
          ]
        },
        {
          "name": "stdout",
          "output_type": "stream",
          "text": [
            "Chromosome: 47\n"
          ]
        },
        {
          "name": "stderr",
          "output_type": "stream",
          "text": [
            "Training: 100%|\u001b[34m██████████\u001b[0m| 49/49 [00:15<00:00,  3.11it/s]\n",
            "Testing: 100%|\u001b[32m██████████\u001b[0m| 10/10 [00:03<00:00,  3.17it/s]\n"
          ]
        },
        {
          "name": "stdout",
          "output_type": "stream",
          "text": [
            "Chromosome: 48\n"
          ]
        },
        {
          "name": "stderr",
          "output_type": "stream",
          "text": [
            "Training: 100%|\u001b[34m██████████\u001b[0m| 49/49 [00:15<00:00,  3.10it/s]\n",
            "Testing: 100%|\u001b[32m██████████\u001b[0m| 10/10 [00:03<00:00,  3.24it/s]\n"
          ]
        },
        {
          "name": "stdout",
          "output_type": "stream",
          "text": [
            "Chromosome: 49\n"
          ]
        },
        {
          "name": "stderr",
          "output_type": "stream",
          "text": [
            "Training: 100%|\u001b[34m██████████\u001b[0m| 49/49 [00:15<00:00,  3.10it/s]\n",
            "Testing: 100%|\u001b[32m██████████\u001b[0m| 10/10 [00:03<00:00,  3.21it/s]\n"
          ]
        },
        {
          "name": "stdout",
          "output_type": "stream",
          "text": [
            "Chromosome: 50\n"
          ]
        },
        {
          "name": "stderr",
          "output_type": "stream",
          "text": [
            "Training: 100%|\u001b[34m██████████\u001b[0m| 49/49 [00:15<00:00,  3.10it/s]\n",
            "Testing: 100%|\u001b[32m██████████\u001b[0m| 10/10 [00:03<00:00,  3.19it/s]\n"
          ]
        },
        {
          "name": "stdout",
          "output_type": "stream",
          "text": [
            "current iteration: 16 / 20 , best train fitness: 0.1788436779562308, average train fitness: 0.16278885496514184, average test fitness: 0.15885044622421268\n",
            "-------------------------------------------------------------------------------------------------\n",
            "Chromosome: 1\n"
          ]
        },
        {
          "name": "stderr",
          "output_type": "stream",
          "text": [
            "Training: 100%|\u001b[34m██████████\u001b[0m| 49/49 [00:15<00:00,  3.11it/s]\n",
            "Testing: 100%|\u001b[32m██████████\u001b[0m| 10/10 [00:03<00:00,  3.21it/s]\n"
          ]
        },
        {
          "name": "stdout",
          "output_type": "stream",
          "text": [
            "Chromosome: 2\n"
          ]
        },
        {
          "name": "stderr",
          "output_type": "stream",
          "text": [
            "Training: 100%|\u001b[34m██████████\u001b[0m| 49/49 [00:15<00:00,  3.11it/s]\n",
            "Testing: 100%|\u001b[32m██████████\u001b[0m| 10/10 [00:03<00:00,  3.21it/s]\n"
          ]
        },
        {
          "name": "stdout",
          "output_type": "stream",
          "text": [
            "Chromosome: 3\n"
          ]
        },
        {
          "name": "stderr",
          "output_type": "stream",
          "text": [
            "Training: 100%|\u001b[34m██████████\u001b[0m| 49/49 [00:15<00:00,  3.11it/s]\n",
            "Testing: 100%|\u001b[32m██████████\u001b[0m| 10/10 [00:03<00:00,  3.19it/s]\n"
          ]
        },
        {
          "name": "stdout",
          "output_type": "stream",
          "text": [
            "Chromosome: 4\n"
          ]
        },
        {
          "name": "stderr",
          "output_type": "stream",
          "text": [
            "Training: 100%|\u001b[34m██████████\u001b[0m| 49/49 [00:15<00:00,  3.11it/s]\n",
            "Testing: 100%|\u001b[32m██████████\u001b[0m| 10/10 [00:03<00:00,  3.19it/s]\n"
          ]
        },
        {
          "name": "stdout",
          "output_type": "stream",
          "text": [
            "Chromosome: 5\n"
          ]
        },
        {
          "name": "stderr",
          "output_type": "stream",
          "text": [
            "Training: 100%|\u001b[34m██████████\u001b[0m| 49/49 [00:15<00:00,  3.10it/s]\n",
            "Testing: 100%|\u001b[32m██████████\u001b[0m| 10/10 [00:03<00:00,  3.17it/s]\n"
          ]
        },
        {
          "name": "stdout",
          "output_type": "stream",
          "text": [
            "Chromosome: 6\n"
          ]
        },
        {
          "name": "stderr",
          "output_type": "stream",
          "text": [
            "Training: 100%|\u001b[34m██████████\u001b[0m| 49/49 [00:15<00:00,  3.10it/s]\n",
            "Testing: 100%|\u001b[32m██████████\u001b[0m| 10/10 [00:03<00:00,  3.23it/s]\n"
          ]
        },
        {
          "name": "stdout",
          "output_type": "stream",
          "text": [
            "Chromosome: 7\n"
          ]
        },
        {
          "name": "stderr",
          "output_type": "stream",
          "text": [
            "Training: 100%|\u001b[34m██████████\u001b[0m| 49/49 [00:15<00:00,  3.10it/s]\n",
            "Testing: 100%|\u001b[32m██████████\u001b[0m| 10/10 [00:03<00:00,  3.19it/s]\n"
          ]
        },
        {
          "name": "stdout",
          "output_type": "stream",
          "text": [
            "Chromosome: 8\n"
          ]
        },
        {
          "name": "stderr",
          "output_type": "stream",
          "text": [
            "Training: 100%|\u001b[34m██████████\u001b[0m| 49/49 [00:15<00:00,  3.10it/s]\n",
            "Testing: 100%|\u001b[32m██████████\u001b[0m| 10/10 [00:03<00:00,  3.22it/s]\n"
          ]
        },
        {
          "name": "stdout",
          "output_type": "stream",
          "text": [
            "Chromosome: 9\n"
          ]
        },
        {
          "name": "stderr",
          "output_type": "stream",
          "text": [
            "Training: 100%|\u001b[34m██████████\u001b[0m| 49/49 [00:15<00:00,  3.09it/s]\n",
            "Testing: 100%|\u001b[32m██████████\u001b[0m| 10/10 [00:03<00:00,  3.20it/s]\n"
          ]
        },
        {
          "name": "stdout",
          "output_type": "stream",
          "text": [
            "Chromosome: 10\n"
          ]
        },
        {
          "name": "stderr",
          "output_type": "stream",
          "text": [
            "Training: 100%|\u001b[34m██████████\u001b[0m| 49/49 [00:15<00:00,  3.12it/s]\n",
            "Testing: 100%|\u001b[32m██████████\u001b[0m| 10/10 [00:03<00:00,  3.18it/s]\n"
          ]
        },
        {
          "name": "stdout",
          "output_type": "stream",
          "text": [
            "Chromosome: 11\n"
          ]
        },
        {
          "name": "stderr",
          "output_type": "stream",
          "text": [
            "Training: 100%|\u001b[34m██████████\u001b[0m| 49/49 [00:15<00:00,  3.12it/s]\n",
            "Testing: 100%|\u001b[32m██████████\u001b[0m| 10/10 [00:03<00:00,  3.22it/s]\n"
          ]
        },
        {
          "name": "stdout",
          "output_type": "stream",
          "text": [
            "Chromosome: 12\n"
          ]
        },
        {
          "name": "stderr",
          "output_type": "stream",
          "text": [
            "Training: 100%|\u001b[34m██████████\u001b[0m| 49/49 [00:15<00:00,  3.11it/s]\n",
            "Testing: 100%|\u001b[32m██████████\u001b[0m| 10/10 [00:03<00:00,  3.21it/s]\n"
          ]
        },
        {
          "name": "stdout",
          "output_type": "stream",
          "text": [
            "Chromosome: 13\n"
          ]
        },
        {
          "name": "stderr",
          "output_type": "stream",
          "text": [
            "Training: 100%|\u001b[34m██████████\u001b[0m| 49/49 [00:15<00:00,  3.09it/s]\n",
            "Testing: 100%|\u001b[32m██████████\u001b[0m| 10/10 [00:03<00:00,  3.20it/s]\n"
          ]
        },
        {
          "name": "stdout",
          "output_type": "stream",
          "text": [
            "Chromosome: 14\n"
          ]
        },
        {
          "name": "stderr",
          "output_type": "stream",
          "text": [
            "Training: 100%|\u001b[34m██████████\u001b[0m| 49/49 [00:15<00:00,  3.12it/s]\n",
            "Testing: 100%|\u001b[32m██████████\u001b[0m| 10/10 [00:03<00:00,  3.19it/s]\n"
          ]
        },
        {
          "name": "stdout",
          "output_type": "stream",
          "text": [
            "Chromosome: 15\n"
          ]
        },
        {
          "name": "stderr",
          "output_type": "stream",
          "text": [
            "Training: 100%|\u001b[34m██████████\u001b[0m| 49/49 [00:15<00:00,  3.12it/s]\n",
            "Testing: 100%|\u001b[32m██████████\u001b[0m| 10/10 [00:03<00:00,  3.20it/s]\n"
          ]
        },
        {
          "name": "stdout",
          "output_type": "stream",
          "text": [
            "Chromosome: 16\n"
          ]
        },
        {
          "name": "stderr",
          "output_type": "stream",
          "text": [
            "Training: 100%|\u001b[34m██████████\u001b[0m| 49/49 [00:15<00:00,  3.12it/s]\n",
            "Testing: 100%|\u001b[32m██████████\u001b[0m| 10/10 [00:03<00:00,  3.21it/s]\n"
          ]
        },
        {
          "name": "stdout",
          "output_type": "stream",
          "text": [
            "Chromosome: 17\n"
          ]
        },
        {
          "name": "stderr",
          "output_type": "stream",
          "text": [
            "Training: 100%|\u001b[34m██████████\u001b[0m| 49/49 [00:15<00:00,  3.11it/s]\n",
            "Testing: 100%|\u001b[32m██████████\u001b[0m| 10/10 [00:03<00:00,  3.10it/s]\n"
          ]
        },
        {
          "name": "stdout",
          "output_type": "stream",
          "text": [
            "Chromosome: 18\n"
          ]
        },
        {
          "name": "stderr",
          "output_type": "stream",
          "text": [
            "Training: 100%|\u001b[34m██████████\u001b[0m| 49/49 [00:15<00:00,  3.15it/s]\n",
            "Testing: 100%|\u001b[32m██████████\u001b[0m| 10/10 [00:03<00:00,  3.20it/s]\n"
          ]
        },
        {
          "name": "stdout",
          "output_type": "stream",
          "text": [
            "Chromosome: 19\n"
          ]
        },
        {
          "name": "stderr",
          "output_type": "stream",
          "text": [
            "Training: 100%|\u001b[34m██████████\u001b[0m| 49/49 [00:15<00:00,  3.12it/s]\n",
            "Testing: 100%|\u001b[32m██████████\u001b[0m| 10/10 [00:03<00:00,  3.21it/s]\n"
          ]
        },
        {
          "name": "stdout",
          "output_type": "stream",
          "text": [
            "Chromosome: 20\n"
          ]
        },
        {
          "name": "stderr",
          "output_type": "stream",
          "text": [
            "Training: 100%|\u001b[34m██████████\u001b[0m| 49/49 [00:15<00:00,  3.10it/s]\n",
            "Testing: 100%|\u001b[32m██████████\u001b[0m| 10/10 [00:03<00:00,  3.21it/s]\n"
          ]
        },
        {
          "name": "stdout",
          "output_type": "stream",
          "text": [
            "Chromosome: 21\n"
          ]
        },
        {
          "name": "stderr",
          "output_type": "stream",
          "text": [
            "Training: 100%|\u001b[34m██████████\u001b[0m| 49/49 [00:15<00:00,  3.12it/s]\n",
            "Testing: 100%|\u001b[32m██████████\u001b[0m| 10/10 [00:03<00:00,  3.23it/s]\n"
          ]
        },
        {
          "name": "stdout",
          "output_type": "stream",
          "text": [
            "Chromosome: 22\n"
          ]
        },
        {
          "name": "stderr",
          "output_type": "stream",
          "text": [
            "Training: 100%|\u001b[34m██████████\u001b[0m| 49/49 [00:15<00:00,  3.11it/s]\n",
            "Testing: 100%|\u001b[32m██████████\u001b[0m| 10/10 [00:03<00:00,  3.14it/s]\n"
          ]
        },
        {
          "name": "stdout",
          "output_type": "stream",
          "text": [
            "Chromosome: 23\n"
          ]
        },
        {
          "name": "stderr",
          "output_type": "stream",
          "text": [
            "Training: 100%|\u001b[34m██████████\u001b[0m| 49/49 [00:15<00:00,  3.15it/s]\n",
            "Testing: 100%|\u001b[32m██████████\u001b[0m| 10/10 [00:03<00:00,  3.24it/s]\n"
          ]
        },
        {
          "name": "stdout",
          "output_type": "stream",
          "text": [
            "Chromosome: 24\n"
          ]
        },
        {
          "name": "stderr",
          "output_type": "stream",
          "text": [
            "Training: 100%|\u001b[34m██████████\u001b[0m| 49/49 [00:15<00:00,  3.11it/s]\n",
            "Testing: 100%|\u001b[32m██████████\u001b[0m| 10/10 [00:03<00:00,  3.21it/s]\n"
          ]
        },
        {
          "name": "stdout",
          "output_type": "stream",
          "text": [
            "Chromosome: 25\n"
          ]
        },
        {
          "name": "stderr",
          "output_type": "stream",
          "text": [
            "Training: 100%|\u001b[34m██████████\u001b[0m| 49/49 [00:15<00:00,  3.15it/s]\n",
            "Testing: 100%|\u001b[32m██████████\u001b[0m| 10/10 [00:03<00:00,  3.24it/s]\n"
          ]
        },
        {
          "name": "stdout",
          "output_type": "stream",
          "text": [
            "Chromosome: 26\n"
          ]
        },
        {
          "name": "stderr",
          "output_type": "stream",
          "text": [
            "Training: 100%|\u001b[34m██████████\u001b[0m| 49/49 [00:15<00:00,  3.10it/s]\n",
            "Testing: 100%|\u001b[32m██████████\u001b[0m| 10/10 [00:03<00:00,  3.21it/s]\n"
          ]
        },
        {
          "name": "stdout",
          "output_type": "stream",
          "text": [
            "Chromosome: 27\n"
          ]
        },
        {
          "name": "stderr",
          "output_type": "stream",
          "text": [
            "Training: 100%|\u001b[34m██████████\u001b[0m| 49/49 [00:15<00:00,  3.09it/s]\n",
            "Testing: 100%|\u001b[32m██████████\u001b[0m| 10/10 [00:03<00:00,  3.22it/s]\n"
          ]
        },
        {
          "name": "stdout",
          "output_type": "stream",
          "text": [
            "Chromosome: 28\n"
          ]
        },
        {
          "name": "stderr",
          "output_type": "stream",
          "text": [
            "Training: 100%|\u001b[34m██████████\u001b[0m| 49/49 [00:15<00:00,  3.11it/s]\n",
            "Testing: 100%|\u001b[32m██████████\u001b[0m| 10/10 [00:03<00:00,  3.21it/s]\n"
          ]
        },
        {
          "name": "stdout",
          "output_type": "stream",
          "text": [
            "Chromosome: 29\n"
          ]
        },
        {
          "name": "stderr",
          "output_type": "stream",
          "text": [
            "Training: 100%|\u001b[34m██████████\u001b[0m| 49/49 [00:15<00:00,  3.11it/s]\n",
            "Testing: 100%|\u001b[32m██████████\u001b[0m| 10/10 [00:03<00:00,  3.23it/s]\n"
          ]
        },
        {
          "name": "stdout",
          "output_type": "stream",
          "text": [
            "Chromosome: 30\n"
          ]
        },
        {
          "name": "stderr",
          "output_type": "stream",
          "text": [
            "Training: 100%|\u001b[34m██████████\u001b[0m| 49/49 [00:15<00:00,  3.10it/s]\n",
            "Testing: 100%|\u001b[32m██████████\u001b[0m| 10/10 [00:03<00:00,  3.20it/s]\n"
          ]
        },
        {
          "name": "stdout",
          "output_type": "stream",
          "text": [
            "Chromosome: 31\n"
          ]
        },
        {
          "name": "stderr",
          "output_type": "stream",
          "text": [
            "Training: 100%|\u001b[34m██████████\u001b[0m| 49/49 [00:15<00:00,  3.11it/s]\n",
            "Testing: 100%|\u001b[32m██████████\u001b[0m| 10/10 [00:03<00:00,  3.20it/s]\n"
          ]
        },
        {
          "name": "stdout",
          "output_type": "stream",
          "text": [
            "Chromosome: 32\n"
          ]
        },
        {
          "name": "stderr",
          "output_type": "stream",
          "text": [
            "Training: 100%|\u001b[34m██████████\u001b[0m| 49/49 [00:15<00:00,  3.09it/s]\n",
            "Testing: 100%|\u001b[32m██████████\u001b[0m| 10/10 [00:03<00:00,  3.04it/s]\n"
          ]
        },
        {
          "name": "stdout",
          "output_type": "stream",
          "text": [
            "Chromosome: 33\n"
          ]
        },
        {
          "name": "stderr",
          "output_type": "stream",
          "text": [
            "Training: 100%|\u001b[34m██████████\u001b[0m| 49/49 [00:15<00:00,  3.11it/s]\n",
            "Testing: 100%|\u001b[32m██████████\u001b[0m| 10/10 [00:03<00:00,  3.22it/s]\n"
          ]
        },
        {
          "name": "stdout",
          "output_type": "stream",
          "text": [
            "Chromosome: 34\n"
          ]
        },
        {
          "name": "stderr",
          "output_type": "stream",
          "text": [
            "Training: 100%|\u001b[34m██████████\u001b[0m| 49/49 [00:15<00:00,  3.12it/s]\n",
            "Testing: 100%|\u001b[32m██████████\u001b[0m| 10/10 [00:03<00:00,  3.19it/s]\n"
          ]
        },
        {
          "name": "stdout",
          "output_type": "stream",
          "text": [
            "Chromosome: 35\n"
          ]
        },
        {
          "name": "stderr",
          "output_type": "stream",
          "text": [
            "Training: 100%|\u001b[34m██████████\u001b[0m| 49/49 [00:15<00:00,  3.13it/s]\n",
            "Testing: 100%|\u001b[32m██████████\u001b[0m| 10/10 [00:03<00:00,  3.24it/s]\n"
          ]
        },
        {
          "name": "stdout",
          "output_type": "stream",
          "text": [
            "Chromosome: 36\n"
          ]
        },
        {
          "name": "stderr",
          "output_type": "stream",
          "text": [
            "Training: 100%|\u001b[34m██████████\u001b[0m| 49/49 [00:15<00:00,  3.11it/s]\n",
            "Testing: 100%|\u001b[32m██████████\u001b[0m| 10/10 [00:03<00:00,  3.22it/s]\n"
          ]
        },
        {
          "name": "stdout",
          "output_type": "stream",
          "text": [
            "Chromosome: 37\n"
          ]
        },
        {
          "name": "stderr",
          "output_type": "stream",
          "text": [
            "Training: 100%|\u001b[34m██████████\u001b[0m| 49/49 [00:15<00:00,  3.09it/s]\n",
            "Testing: 100%|\u001b[32m██████████\u001b[0m| 10/10 [00:03<00:00,  3.24it/s]\n"
          ]
        },
        {
          "name": "stdout",
          "output_type": "stream",
          "text": [
            "Chromosome: 38\n"
          ]
        },
        {
          "name": "stderr",
          "output_type": "stream",
          "text": [
            "Training: 100%|\u001b[34m██████████\u001b[0m| 49/49 [00:15<00:00,  3.12it/s]\n",
            "Testing: 100%|\u001b[32m██████████\u001b[0m| 10/10 [00:03<00:00,  3.20it/s]\n"
          ]
        },
        {
          "name": "stdout",
          "output_type": "stream",
          "text": [
            "Chromosome: 39\n"
          ]
        },
        {
          "name": "stderr",
          "output_type": "stream",
          "text": [
            "Training: 100%|\u001b[34m██████████\u001b[0m| 49/49 [00:15<00:00,  3.07it/s]\n",
            "Testing: 100%|\u001b[32m██████████\u001b[0m| 10/10 [00:03<00:00,  3.17it/s]\n"
          ]
        },
        {
          "name": "stdout",
          "output_type": "stream",
          "text": [
            "Chromosome: 40\n"
          ]
        },
        {
          "name": "stderr",
          "output_type": "stream",
          "text": [
            "Training: 100%|\u001b[34m██████████\u001b[0m| 49/49 [00:15<00:00,  3.11it/s]\n",
            "Testing: 100%|\u001b[32m██████████\u001b[0m| 10/10 [00:03<00:00,  3.19it/s]\n"
          ]
        },
        {
          "name": "stdout",
          "output_type": "stream",
          "text": [
            "Chromosome: 41\n"
          ]
        },
        {
          "name": "stderr",
          "output_type": "stream",
          "text": [
            "Training: 100%|\u001b[34m██████████\u001b[0m| 49/49 [00:15<00:00,  3.11it/s]\n",
            "Testing: 100%|\u001b[32m██████████\u001b[0m| 10/10 [00:03<00:00,  3.21it/s]\n"
          ]
        },
        {
          "name": "stdout",
          "output_type": "stream",
          "text": [
            "Chromosome: 42\n"
          ]
        },
        {
          "name": "stderr",
          "output_type": "stream",
          "text": [
            "Training: 100%|\u001b[34m██████████\u001b[0m| 49/49 [00:15<00:00,  3.09it/s]\n",
            "Testing: 100%|\u001b[32m██████████\u001b[0m| 10/10 [00:03<00:00,  3.21it/s]\n"
          ]
        },
        {
          "name": "stdout",
          "output_type": "stream",
          "text": [
            "Chromosome: 43\n"
          ]
        },
        {
          "name": "stderr",
          "output_type": "stream",
          "text": [
            "Training: 100%|\u001b[34m██████████\u001b[0m| 49/49 [00:15<00:00,  3.11it/s]\n",
            "Testing: 100%|\u001b[32m██████████\u001b[0m| 10/10 [00:03<00:00,  3.22it/s]\n"
          ]
        },
        {
          "name": "stdout",
          "output_type": "stream",
          "text": [
            "Chromosome: 44\n"
          ]
        },
        {
          "name": "stderr",
          "output_type": "stream",
          "text": [
            "Training: 100%|\u001b[34m██████████\u001b[0m| 49/49 [00:15<00:00,  3.12it/s]\n",
            "Testing: 100%|\u001b[32m██████████\u001b[0m| 10/10 [00:03<00:00,  3.20it/s]\n"
          ]
        },
        {
          "name": "stdout",
          "output_type": "stream",
          "text": [
            "Chromosome: 45\n"
          ]
        },
        {
          "name": "stderr",
          "output_type": "stream",
          "text": [
            "Training: 100%|\u001b[34m██████████\u001b[0m| 49/49 [00:15<00:00,  3.12it/s]\n",
            "Testing: 100%|\u001b[32m██████████\u001b[0m| 10/10 [00:03<00:00,  3.22it/s]\n"
          ]
        },
        {
          "name": "stdout",
          "output_type": "stream",
          "text": [
            "Chromosome: 46\n"
          ]
        },
        {
          "name": "stderr",
          "output_type": "stream",
          "text": [
            "Training: 100%|\u001b[34m██████████\u001b[0m| 49/49 [00:15<00:00,  3.10it/s]\n",
            "Testing: 100%|\u001b[32m██████████\u001b[0m| 10/10 [00:03<00:00,  3.22it/s]\n"
          ]
        },
        {
          "name": "stdout",
          "output_type": "stream",
          "text": [
            "Chromosome: 47\n"
          ]
        },
        {
          "name": "stderr",
          "output_type": "stream",
          "text": [
            "Training: 100%|\u001b[34m██████████\u001b[0m| 49/49 [00:15<00:00,  3.07it/s]\n",
            "Testing: 100%|\u001b[32m██████████\u001b[0m| 10/10 [00:03<00:00,  3.19it/s]\n"
          ]
        },
        {
          "name": "stdout",
          "output_type": "stream",
          "text": [
            "Chromosome: 48\n"
          ]
        },
        {
          "name": "stderr",
          "output_type": "stream",
          "text": [
            "Training: 100%|\u001b[34m██████████\u001b[0m| 49/49 [00:15<00:00,  3.11it/s]\n",
            "Testing: 100%|\u001b[32m██████████\u001b[0m| 10/10 [00:03<00:00,  3.21it/s]\n"
          ]
        },
        {
          "name": "stdout",
          "output_type": "stream",
          "text": [
            "Chromosome: 49\n"
          ]
        },
        {
          "name": "stderr",
          "output_type": "stream",
          "text": [
            "Training: 100%|\u001b[34m██████████\u001b[0m| 49/49 [00:15<00:00,  3.10it/s]\n",
            "Testing: 100%|\u001b[32m██████████\u001b[0m| 10/10 [00:03<00:00,  3.19it/s]\n"
          ]
        },
        {
          "name": "stdout",
          "output_type": "stream",
          "text": [
            "Chromosome: 50\n"
          ]
        },
        {
          "name": "stderr",
          "output_type": "stream",
          "text": [
            "Training: 100%|\u001b[34m██████████\u001b[0m| 49/49 [00:15<00:00,  3.11it/s]\n",
            "Testing: 100%|\u001b[32m██████████\u001b[0m| 10/10 [00:03<00:00,  3.21it/s]\n"
          ]
        },
        {
          "name": "stdout",
          "output_type": "stream",
          "text": [
            "current iteration: 17 / 20 , best train fitness: 0.1788436779562308, average train fitness: 0.16468518367227244, average test fitness: 0.16058163240551948\n",
            "-------------------------------------------------------------------------------------------------\n",
            "Chromosome: 1\n"
          ]
        },
        {
          "name": "stderr",
          "output_type": "stream",
          "text": [
            "Training: 100%|\u001b[34m██████████\u001b[0m| 49/49 [00:15<00:00,  3.15it/s]\n",
            "Testing: 100%|\u001b[32m██████████\u001b[0m| 10/10 [00:03<00:00,  3.21it/s]\n"
          ]
        },
        {
          "name": "stdout",
          "output_type": "stream",
          "text": [
            "Chromosome: 2\n"
          ]
        },
        {
          "name": "stderr",
          "output_type": "stream",
          "text": [
            "Training: 100%|\u001b[34m██████████\u001b[0m| 49/49 [00:15<00:00,  3.09it/s]\n",
            "Testing: 100%|\u001b[32m██████████\u001b[0m| 10/10 [00:03<00:00,  3.22it/s]\n"
          ]
        },
        {
          "name": "stdout",
          "output_type": "stream",
          "text": [
            "Chromosome: 3\n"
          ]
        },
        {
          "name": "stderr",
          "output_type": "stream",
          "text": [
            "Training: 100%|\u001b[34m██████████\u001b[0m| 49/49 [00:15<00:00,  3.12it/s]\n",
            "Testing: 100%|\u001b[32m██████████\u001b[0m| 10/10 [00:03<00:00,  3.15it/s]\n"
          ]
        },
        {
          "name": "stdout",
          "output_type": "stream",
          "text": [
            "Chromosome: 4\n"
          ]
        },
        {
          "name": "stderr",
          "output_type": "stream",
          "text": [
            "Training: 100%|\u001b[34m██████████\u001b[0m| 49/49 [00:15<00:00,  3.10it/s]\n",
            "Testing: 100%|\u001b[32m██████████\u001b[0m| 10/10 [00:03<00:00,  3.19it/s]\n"
          ]
        },
        {
          "name": "stdout",
          "output_type": "stream",
          "text": [
            "Chromosome: 5\n"
          ]
        },
        {
          "name": "stderr",
          "output_type": "stream",
          "text": [
            "Training: 100%|\u001b[34m██████████\u001b[0m| 49/49 [00:15<00:00,  3.12it/s]\n",
            "Testing: 100%|\u001b[32m██████████\u001b[0m| 10/10 [00:03<00:00,  3.21it/s]\n"
          ]
        },
        {
          "name": "stdout",
          "output_type": "stream",
          "text": [
            "Chromosome: 6\n"
          ]
        },
        {
          "name": "stderr",
          "output_type": "stream",
          "text": [
            "Training: 100%|\u001b[34m██████████\u001b[0m| 49/49 [00:15<00:00,  3.15it/s]\n",
            "Testing: 100%|\u001b[32m██████████\u001b[0m| 10/10 [00:03<00:00,  3.20it/s]\n"
          ]
        },
        {
          "name": "stdout",
          "output_type": "stream",
          "text": [
            "Chromosome: 7\n"
          ]
        },
        {
          "name": "stderr",
          "output_type": "stream",
          "text": [
            "Training: 100%|\u001b[34m██████████\u001b[0m| 49/49 [00:15<00:00,  3.10it/s]\n",
            "Testing: 100%|\u001b[32m██████████\u001b[0m| 10/10 [00:03<00:00,  3.21it/s]\n"
          ]
        },
        {
          "name": "stdout",
          "output_type": "stream",
          "text": [
            "Chromosome: 8\n"
          ]
        },
        {
          "name": "stderr",
          "output_type": "stream",
          "text": [
            "Training: 100%|\u001b[34m██████████\u001b[0m| 49/49 [00:15<00:00,  3.10it/s]\n",
            "Testing: 100%|\u001b[32m██████████\u001b[0m| 10/10 [00:03<00:00,  3.19it/s]\n"
          ]
        },
        {
          "name": "stdout",
          "output_type": "stream",
          "text": [
            "Chromosome: 9\n"
          ]
        },
        {
          "name": "stderr",
          "output_type": "stream",
          "text": [
            "Training: 100%|\u001b[34m██████████\u001b[0m| 49/49 [00:15<00:00,  3.11it/s]\n",
            "Testing: 100%|\u001b[32m██████████\u001b[0m| 10/10 [00:03<00:00,  3.20it/s]\n"
          ]
        },
        {
          "name": "stdout",
          "output_type": "stream",
          "text": [
            "Chromosome: 10\n"
          ]
        },
        {
          "name": "stderr",
          "output_type": "stream",
          "text": [
            "Training: 100%|\u001b[34m██████████\u001b[0m| 49/49 [00:15<00:00,  3.10it/s]\n",
            "Testing: 100%|\u001b[32m██████████\u001b[0m| 10/10 [00:03<00:00,  3.21it/s]\n"
          ]
        },
        {
          "name": "stdout",
          "output_type": "stream",
          "text": [
            "Chromosome: 11\n"
          ]
        },
        {
          "name": "stderr",
          "output_type": "stream",
          "text": [
            "Training: 100%|\u001b[34m██████████\u001b[0m| 49/49 [00:15<00:00,  3.11it/s]\n",
            "Testing: 100%|\u001b[32m██████████\u001b[0m| 10/10 [00:03<00:00,  3.08it/s]\n"
          ]
        },
        {
          "name": "stdout",
          "output_type": "stream",
          "text": [
            "Chromosome: 12\n"
          ]
        },
        {
          "name": "stderr",
          "output_type": "stream",
          "text": [
            "Training: 100%|\u001b[34m██████████\u001b[0m| 49/49 [00:15<00:00,  3.12it/s]\n",
            "Testing: 100%|\u001b[32m██████████\u001b[0m| 10/10 [00:03<00:00,  3.23it/s]\n"
          ]
        },
        {
          "name": "stdout",
          "output_type": "stream",
          "text": [
            "Chromosome: 13\n"
          ]
        },
        {
          "name": "stderr",
          "output_type": "stream",
          "text": [
            "Training: 100%|\u001b[34m██████████\u001b[0m| 49/49 [00:15<00:00,  3.12it/s]\n",
            "Testing: 100%|\u001b[32m██████████\u001b[0m| 10/10 [00:03<00:00,  3.17it/s]\n"
          ]
        },
        {
          "name": "stdout",
          "output_type": "stream",
          "text": [
            "Chromosome: 14\n"
          ]
        },
        {
          "name": "stderr",
          "output_type": "stream",
          "text": [
            "Training: 100%|\u001b[34m██████████\u001b[0m| 49/49 [00:15<00:00,  3.14it/s]\n",
            "Testing: 100%|\u001b[32m██████████\u001b[0m| 10/10 [00:03<00:00,  3.24it/s]\n"
          ]
        },
        {
          "name": "stdout",
          "output_type": "stream",
          "text": [
            "Chromosome: 15\n"
          ]
        },
        {
          "name": "stderr",
          "output_type": "stream",
          "text": [
            "Training: 100%|\u001b[34m██████████\u001b[0m| 49/49 [00:15<00:00,  3.12it/s]\n",
            "Testing: 100%|\u001b[32m██████████\u001b[0m| 10/10 [00:03<00:00,  3.20it/s]\n"
          ]
        },
        {
          "name": "stdout",
          "output_type": "stream",
          "text": [
            "Chromosome: 16\n"
          ]
        },
        {
          "name": "stderr",
          "output_type": "stream",
          "text": [
            "Training: 100%|\u001b[34m██████████\u001b[0m| 49/49 [00:15<00:00,  3.12it/s]\n",
            "Testing: 100%|\u001b[32m██████████\u001b[0m| 10/10 [00:03<00:00,  3.21it/s]\n"
          ]
        },
        {
          "name": "stdout",
          "output_type": "stream",
          "text": [
            "Chromosome: 17\n"
          ]
        },
        {
          "name": "stderr",
          "output_type": "stream",
          "text": [
            "Training: 100%|\u001b[34m██████████\u001b[0m| 49/49 [00:15<00:00,  3.08it/s]\n",
            "Testing: 100%|\u001b[32m██████████\u001b[0m| 10/10 [00:03<00:00,  3.18it/s]\n"
          ]
        },
        {
          "name": "stdout",
          "output_type": "stream",
          "text": [
            "Chromosome: 18\n"
          ]
        },
        {
          "name": "stderr",
          "output_type": "stream",
          "text": [
            "Training: 100%|\u001b[34m██████████\u001b[0m| 49/49 [00:15<00:00,  3.12it/s]\n",
            "Testing: 100%|\u001b[32m██████████\u001b[0m| 10/10 [00:03<00:00,  3.22it/s]\n"
          ]
        },
        {
          "name": "stdout",
          "output_type": "stream",
          "text": [
            "Chromosome: 19\n"
          ]
        },
        {
          "name": "stderr",
          "output_type": "stream",
          "text": [
            "Training: 100%|\u001b[34m██████████\u001b[0m| 49/49 [00:15<00:00,  3.10it/s]\n",
            "Testing: 100%|\u001b[32m██████████\u001b[0m| 10/10 [00:03<00:00,  3.19it/s]\n"
          ]
        },
        {
          "name": "stdout",
          "output_type": "stream",
          "text": [
            "Chromosome: 20\n"
          ]
        },
        {
          "name": "stderr",
          "output_type": "stream",
          "text": [
            "Training: 100%|\u001b[34m██████████\u001b[0m| 49/49 [00:15<00:00,  3.10it/s]\n",
            "Testing: 100%|\u001b[32m██████████\u001b[0m| 10/10 [00:03<00:00,  3.21it/s]\n"
          ]
        },
        {
          "name": "stdout",
          "output_type": "stream",
          "text": [
            "Chromosome: 21\n"
          ]
        },
        {
          "name": "stderr",
          "output_type": "stream",
          "text": [
            "Training: 100%|\u001b[34m██████████\u001b[0m| 49/49 [00:15<00:00,  3.09it/s]\n",
            "Testing: 100%|\u001b[32m██████████\u001b[0m| 10/10 [00:03<00:00,  3.20it/s]\n"
          ]
        },
        {
          "name": "stdout",
          "output_type": "stream",
          "text": [
            "Chromosome: 22\n"
          ]
        },
        {
          "name": "stderr",
          "output_type": "stream",
          "text": [
            "Training: 100%|\u001b[34m██████████\u001b[0m| 49/49 [00:15<00:00,  3.12it/s]\n",
            "Testing: 100%|\u001b[32m██████████\u001b[0m| 10/10 [00:03<00:00,  3.21it/s]\n"
          ]
        },
        {
          "name": "stdout",
          "output_type": "stream",
          "text": [
            "Chromosome: 23\n"
          ]
        },
        {
          "name": "stderr",
          "output_type": "stream",
          "text": [
            "Training: 100%|\u001b[34m██████████\u001b[0m| 49/49 [00:15<00:00,  3.11it/s]\n",
            "Testing: 100%|\u001b[32m██████████\u001b[0m| 10/10 [00:03<00:00,  3.21it/s]\n"
          ]
        },
        {
          "name": "stdout",
          "output_type": "stream",
          "text": [
            "Chromosome: 24\n"
          ]
        },
        {
          "name": "stderr",
          "output_type": "stream",
          "text": [
            "Training: 100%|\u001b[34m██████████\u001b[0m| 49/49 [00:15<00:00,  3.11it/s]\n",
            "Testing: 100%|\u001b[32m██████████\u001b[0m| 10/10 [00:03<00:00,  3.18it/s]\n"
          ]
        },
        {
          "name": "stdout",
          "output_type": "stream",
          "text": [
            "Chromosome: 25\n"
          ]
        },
        {
          "name": "stderr",
          "output_type": "stream",
          "text": [
            "Training: 100%|\u001b[34m██████████\u001b[0m| 49/49 [00:16<00:00,  3.02it/s]\n",
            "Testing: 100%|\u001b[32m██████████\u001b[0m| 10/10 [00:03<00:00,  3.19it/s]\n"
          ]
        },
        {
          "name": "stdout",
          "output_type": "stream",
          "text": [
            "Chromosome: 26\n"
          ]
        },
        {
          "name": "stderr",
          "output_type": "stream",
          "text": [
            "Training: 100%|\u001b[34m██████████\u001b[0m| 49/49 [00:15<00:00,  3.08it/s]\n",
            "Testing: 100%|\u001b[32m██████████\u001b[0m| 10/10 [00:03<00:00,  3.19it/s]\n"
          ]
        },
        {
          "name": "stdout",
          "output_type": "stream",
          "text": [
            "Chromosome: 27\n"
          ]
        },
        {
          "name": "stderr",
          "output_type": "stream",
          "text": [
            "Training: 100%|\u001b[34m██████████\u001b[0m| 49/49 [00:15<00:00,  3.13it/s]\n",
            "Testing: 100%|\u001b[32m██████████\u001b[0m| 10/10 [00:03<00:00,  3.14it/s]\n"
          ]
        },
        {
          "name": "stdout",
          "output_type": "stream",
          "text": [
            "Chromosome: 28\n"
          ]
        },
        {
          "name": "stderr",
          "output_type": "stream",
          "text": [
            "Training: 100%|\u001b[34m██████████\u001b[0m| 49/49 [00:15<00:00,  3.11it/s]\n",
            "Testing: 100%|\u001b[32m██████████\u001b[0m| 10/10 [00:03<00:00,  3.25it/s]\n"
          ]
        },
        {
          "name": "stdout",
          "output_type": "stream",
          "text": [
            "Chromosome: 29\n"
          ]
        },
        {
          "name": "stderr",
          "output_type": "stream",
          "text": [
            "Training: 100%|\u001b[34m██████████\u001b[0m| 49/49 [00:15<00:00,  3.14it/s]\n",
            "Testing: 100%|\u001b[32m██████████\u001b[0m| 10/10 [00:03<00:00,  3.22it/s]\n"
          ]
        },
        {
          "name": "stdout",
          "output_type": "stream",
          "text": [
            "Chromosome: 30\n"
          ]
        },
        {
          "name": "stderr",
          "output_type": "stream",
          "text": [
            "Training: 100%|\u001b[34m██████████\u001b[0m| 49/49 [00:15<00:00,  3.12it/s]\n",
            "Testing: 100%|\u001b[32m██████████\u001b[0m| 10/10 [00:03<00:00,  3.18it/s]\n"
          ]
        },
        {
          "name": "stdout",
          "output_type": "stream",
          "text": [
            "Chromosome: 31\n"
          ]
        },
        {
          "name": "stderr",
          "output_type": "stream",
          "text": [
            "Training: 100%|\u001b[34m██████████\u001b[0m| 49/49 [00:15<00:00,  3.09it/s]\n",
            "Testing: 100%|\u001b[32m██████████\u001b[0m| 10/10 [00:03<00:00,  3.20it/s]\n"
          ]
        },
        {
          "name": "stdout",
          "output_type": "stream",
          "text": [
            "Chromosome: 32\n"
          ]
        },
        {
          "name": "stderr",
          "output_type": "stream",
          "text": [
            "Training: 100%|\u001b[34m██████████\u001b[0m| 49/49 [00:15<00:00,  3.12it/s]\n",
            "Testing: 100%|\u001b[32m██████████\u001b[0m| 10/10 [00:03<00:00,  3.19it/s]\n"
          ]
        },
        {
          "name": "stdout",
          "output_type": "stream",
          "text": [
            "Chromosome: 33\n"
          ]
        },
        {
          "name": "stderr",
          "output_type": "stream",
          "text": [
            "Training: 100%|\u001b[34m██████████\u001b[0m| 49/49 [00:15<00:00,  3.10it/s]\n",
            "Testing: 100%|\u001b[32m██████████\u001b[0m| 10/10 [00:03<00:00,  3.22it/s]\n"
          ]
        },
        {
          "name": "stdout",
          "output_type": "stream",
          "text": [
            "Chromosome: 34\n"
          ]
        },
        {
          "name": "stderr",
          "output_type": "stream",
          "text": [
            "Training: 100%|\u001b[34m██████████\u001b[0m| 49/49 [00:15<00:00,  3.12it/s]\n",
            "Testing: 100%|\u001b[32m██████████\u001b[0m| 10/10 [00:03<00:00,  3.20it/s]\n"
          ]
        },
        {
          "name": "stdout",
          "output_type": "stream",
          "text": [
            "Chromosome: 35\n"
          ]
        },
        {
          "name": "stderr",
          "output_type": "stream",
          "text": [
            "Training: 100%|\u001b[34m██████████\u001b[0m| 49/49 [00:15<00:00,  3.14it/s]\n",
            "Testing: 100%|\u001b[32m██████████\u001b[0m| 10/10 [00:03<00:00,  3.22it/s]\n"
          ]
        },
        {
          "name": "stdout",
          "output_type": "stream",
          "text": [
            "Chromosome: 36\n"
          ]
        },
        {
          "name": "stderr",
          "output_type": "stream",
          "text": [
            "Training: 100%|\u001b[34m██████████\u001b[0m| 49/49 [00:15<00:00,  3.12it/s]\n",
            "Testing: 100%|\u001b[32m██████████\u001b[0m| 10/10 [00:03<00:00,  3.24it/s]\n"
          ]
        },
        {
          "name": "stdout",
          "output_type": "stream",
          "text": [
            "Chromosome: 37\n"
          ]
        },
        {
          "name": "stderr",
          "output_type": "stream",
          "text": [
            "Training: 100%|\u001b[34m██████████\u001b[0m| 49/49 [00:15<00:00,  3.11it/s]\n",
            "Testing: 100%|\u001b[32m██████████\u001b[0m| 10/10 [00:03<00:00,  3.21it/s]\n"
          ]
        },
        {
          "name": "stdout",
          "output_type": "stream",
          "text": [
            "Chromosome: 38\n"
          ]
        },
        {
          "name": "stderr",
          "output_type": "stream",
          "text": [
            "Training: 100%|\u001b[34m██████████\u001b[0m| 49/49 [00:15<00:00,  3.14it/s]\n",
            "Testing: 100%|\u001b[32m██████████\u001b[0m| 10/10 [00:03<00:00,  3.20it/s]\n"
          ]
        },
        {
          "name": "stdout",
          "output_type": "stream",
          "text": [
            "Chromosome: 39\n"
          ]
        },
        {
          "name": "stderr",
          "output_type": "stream",
          "text": [
            "Training: 100%|\u001b[34m██████████\u001b[0m| 49/49 [00:15<00:00,  3.10it/s]\n",
            "Testing: 100%|\u001b[32m██████████\u001b[0m| 10/10 [00:03<00:00,  3.15it/s]\n"
          ]
        },
        {
          "name": "stdout",
          "output_type": "stream",
          "text": [
            "Chromosome: 40\n"
          ]
        },
        {
          "name": "stderr",
          "output_type": "stream",
          "text": [
            "Training: 100%|\u001b[34m██████████\u001b[0m| 49/49 [00:15<00:00,  3.11it/s]\n",
            "Testing: 100%|\u001b[32m██████████\u001b[0m| 10/10 [00:03<00:00,  3.19it/s]\n"
          ]
        },
        {
          "name": "stdout",
          "output_type": "stream",
          "text": [
            "Chromosome: 41\n"
          ]
        },
        {
          "name": "stderr",
          "output_type": "stream",
          "text": [
            "Training: 100%|\u001b[34m██████████\u001b[0m| 49/49 [00:15<00:00,  3.08it/s]\n",
            "Testing: 100%|\u001b[32m██████████\u001b[0m| 10/10 [00:03<00:00,  3.18it/s]\n"
          ]
        },
        {
          "name": "stdout",
          "output_type": "stream",
          "text": [
            "Chromosome: 42\n"
          ]
        },
        {
          "name": "stderr",
          "output_type": "stream",
          "text": [
            "Training: 100%|\u001b[34m██████████\u001b[0m| 49/49 [00:15<00:00,  3.10it/s]\n",
            "Testing: 100%|\u001b[32m██████████\u001b[0m| 10/10 [00:03<00:00,  3.17it/s]\n"
          ]
        },
        {
          "name": "stdout",
          "output_type": "stream",
          "text": [
            "Chromosome: 43\n"
          ]
        },
        {
          "name": "stderr",
          "output_type": "stream",
          "text": [
            "Training: 100%|\u001b[34m██████████\u001b[0m| 49/49 [00:15<00:00,  3.14it/s]\n",
            "Testing: 100%|\u001b[32m██████████\u001b[0m| 10/10 [00:03<00:00,  3.23it/s]\n"
          ]
        },
        {
          "name": "stdout",
          "output_type": "stream",
          "text": [
            "Chromosome: 44\n"
          ]
        },
        {
          "name": "stderr",
          "output_type": "stream",
          "text": [
            "Training: 100%|\u001b[34m██████████\u001b[0m| 49/49 [00:15<00:00,  3.14it/s]\n",
            "Testing: 100%|\u001b[32m██████████\u001b[0m| 10/10 [00:03<00:00,  3.23it/s]\n"
          ]
        },
        {
          "name": "stdout",
          "output_type": "stream",
          "text": [
            "Chromosome: 45\n"
          ]
        },
        {
          "name": "stderr",
          "output_type": "stream",
          "text": [
            "Training: 100%|\u001b[34m██████████\u001b[0m| 49/49 [00:15<00:00,  3.14it/s]\n",
            "Testing: 100%|\u001b[32m██████████\u001b[0m| 10/10 [00:03<00:00,  3.11it/s]\n"
          ]
        },
        {
          "name": "stdout",
          "output_type": "stream",
          "text": [
            "Chromosome: 46\n"
          ]
        },
        {
          "name": "stderr",
          "output_type": "stream",
          "text": [
            "Training: 100%|\u001b[34m██████████\u001b[0m| 49/49 [00:15<00:00,  3.14it/s]\n",
            "Testing: 100%|\u001b[32m██████████\u001b[0m| 10/10 [00:03<00:00,  3.24it/s]\n"
          ]
        },
        {
          "name": "stdout",
          "output_type": "stream",
          "text": [
            "Chromosome: 47\n"
          ]
        },
        {
          "name": "stderr",
          "output_type": "stream",
          "text": [
            "Training: 100%|\u001b[34m██████████\u001b[0m| 49/49 [00:15<00:00,  3.11it/s]\n",
            "Testing: 100%|\u001b[32m██████████\u001b[0m| 10/10 [00:03<00:00,  3.18it/s]\n"
          ]
        },
        {
          "name": "stdout",
          "output_type": "stream",
          "text": [
            "Chromosome: 48\n"
          ]
        },
        {
          "name": "stderr",
          "output_type": "stream",
          "text": [
            "Training: 100%|\u001b[34m██████████\u001b[0m| 49/49 [00:15<00:00,  3.11it/s]\n",
            "Testing: 100%|\u001b[32m██████████\u001b[0m| 10/10 [00:03<00:00,  3.19it/s]\n"
          ]
        },
        {
          "name": "stdout",
          "output_type": "stream",
          "text": [
            "Chromosome: 49\n"
          ]
        },
        {
          "name": "stderr",
          "output_type": "stream",
          "text": [
            "Training: 100%|\u001b[34m██████████\u001b[0m| 49/49 [00:15<00:00,  3.09it/s]\n",
            "Testing: 100%|\u001b[32m██████████\u001b[0m| 10/10 [00:03<00:00,  3.23it/s]\n"
          ]
        },
        {
          "name": "stdout",
          "output_type": "stream",
          "text": [
            "Chromosome: 50\n"
          ]
        },
        {
          "name": "stderr",
          "output_type": "stream",
          "text": [
            "Training: 100%|\u001b[34m██████████\u001b[0m| 49/49 [00:15<00:00,  3.15it/s]\n",
            "Testing: 100%|\u001b[32m██████████\u001b[0m| 10/10 [00:03<00:00,  3.23it/s]\n"
          ]
        },
        {
          "name": "stdout",
          "output_type": "stream",
          "text": [
            "current iteration: 18 / 20 , best train fitness: 0.18646477618995977, average train fitness: 0.16632912529366362, average test fitness: 0.1620728633105755\n",
            "-------------------------------------------------------------------------------------------------\n",
            "Chromosome: 1\n"
          ]
        },
        {
          "name": "stderr",
          "output_type": "stream",
          "text": [
            "Training: 100%|\u001b[34m██████████\u001b[0m| 49/49 [00:15<00:00,  3.12it/s]\n",
            "Testing: 100%|\u001b[32m██████████\u001b[0m| 10/10 [00:03<00:00,  3.19it/s]\n"
          ]
        },
        {
          "name": "stdout",
          "output_type": "stream",
          "text": [
            "Chromosome: 2\n"
          ]
        },
        {
          "name": "stderr",
          "output_type": "stream",
          "text": [
            "Training: 100%|\u001b[34m██████████\u001b[0m| 49/49 [00:15<00:00,  3.13it/s]\n",
            "Testing: 100%|\u001b[32m██████████\u001b[0m| 10/10 [00:03<00:00,  3.21it/s]\n"
          ]
        },
        {
          "name": "stdout",
          "output_type": "stream",
          "text": [
            "Chromosome: 3\n"
          ]
        },
        {
          "name": "stderr",
          "output_type": "stream",
          "text": [
            "Training: 100%|\u001b[34m██████████\u001b[0m| 49/49 [00:15<00:00,  3.15it/s]\n",
            "Testing: 100%|\u001b[32m██████████\u001b[0m| 10/10 [00:03<00:00,  3.24it/s]\n"
          ]
        },
        {
          "name": "stdout",
          "output_type": "stream",
          "text": [
            "Chromosome: 4\n"
          ]
        },
        {
          "name": "stderr",
          "output_type": "stream",
          "text": [
            "Training: 100%|\u001b[34m██████████\u001b[0m| 49/49 [00:15<00:00,  3.13it/s]\n",
            "Testing: 100%|\u001b[32m██████████\u001b[0m| 10/10 [00:03<00:00,  3.19it/s]\n"
          ]
        },
        {
          "name": "stdout",
          "output_type": "stream",
          "text": [
            "Chromosome: 5\n"
          ]
        },
        {
          "name": "stderr",
          "output_type": "stream",
          "text": [
            "Training: 100%|\u001b[34m██████████\u001b[0m| 49/49 [00:15<00:00,  3.09it/s]\n",
            "Testing: 100%|\u001b[32m██████████\u001b[0m| 10/10 [00:03<00:00,  3.20it/s]\n"
          ]
        },
        {
          "name": "stdout",
          "output_type": "stream",
          "text": [
            "Chromosome: 6\n"
          ]
        },
        {
          "name": "stderr",
          "output_type": "stream",
          "text": [
            "Training: 100%|\u001b[34m██████████\u001b[0m| 49/49 [00:15<00:00,  3.08it/s]\n",
            "Testing: 100%|\u001b[32m██████████\u001b[0m| 10/10 [00:03<00:00,  3.19it/s]\n"
          ]
        },
        {
          "name": "stdout",
          "output_type": "stream",
          "text": [
            "Chromosome: 7\n"
          ]
        },
        {
          "name": "stderr",
          "output_type": "stream",
          "text": [
            "Training: 100%|\u001b[34m██████████\u001b[0m| 49/49 [00:15<00:00,  3.09it/s]\n",
            "Testing: 100%|\u001b[32m██████████\u001b[0m| 10/10 [00:03<00:00,  3.22it/s]\n"
          ]
        },
        {
          "name": "stdout",
          "output_type": "stream",
          "text": [
            "Chromosome: 8\n"
          ]
        },
        {
          "name": "stderr",
          "output_type": "stream",
          "text": [
            "Training: 100%|\u001b[34m██████████\u001b[0m| 49/49 [00:15<00:00,  3.12it/s]\n",
            "Testing: 100%|\u001b[32m██████████\u001b[0m| 10/10 [00:03<00:00,  3.19it/s]\n"
          ]
        },
        {
          "name": "stdout",
          "output_type": "stream",
          "text": [
            "Chromosome: 9\n"
          ]
        },
        {
          "name": "stderr",
          "output_type": "stream",
          "text": [
            "Training: 100%|\u001b[34m██████████\u001b[0m| 49/49 [00:15<00:00,  3.11it/s]\n",
            "Testing: 100%|\u001b[32m██████████\u001b[0m| 10/10 [00:03<00:00,  3.20it/s]\n"
          ]
        },
        {
          "name": "stdout",
          "output_type": "stream",
          "text": [
            "Chromosome: 10\n"
          ]
        },
        {
          "name": "stderr",
          "output_type": "stream",
          "text": [
            "Training: 100%|\u001b[34m██████████\u001b[0m| 49/49 [00:15<00:00,  3.10it/s]\n",
            "Testing: 100%|\u001b[32m██████████\u001b[0m| 10/10 [00:03<00:00,  3.10it/s]\n"
          ]
        },
        {
          "name": "stdout",
          "output_type": "stream",
          "text": [
            "Chromosome: 11\n"
          ]
        },
        {
          "name": "stderr",
          "output_type": "stream",
          "text": [
            "Training: 100%|\u001b[34m██████████\u001b[0m| 49/49 [00:15<00:00,  3.11it/s]\n",
            "Testing: 100%|\u001b[32m██████████\u001b[0m| 10/10 [00:03<00:00,  3.19it/s]\n"
          ]
        },
        {
          "name": "stdout",
          "output_type": "stream",
          "text": [
            "Chromosome: 12\n"
          ]
        },
        {
          "name": "stderr",
          "output_type": "stream",
          "text": [
            "Training: 100%|\u001b[34m██████████\u001b[0m| 49/49 [00:15<00:00,  3.14it/s]\n",
            "Testing: 100%|\u001b[32m██████████\u001b[0m| 10/10 [00:03<00:00,  3.24it/s]\n"
          ]
        },
        {
          "name": "stdout",
          "output_type": "stream",
          "text": [
            "Chromosome: 13\n"
          ]
        },
        {
          "name": "stderr",
          "output_type": "stream",
          "text": [
            "Training: 100%|\u001b[34m██████████\u001b[0m| 49/49 [00:15<00:00,  3.13it/s]\n",
            "Testing: 100%|\u001b[32m██████████\u001b[0m| 10/10 [00:03<00:00,  3.22it/s]\n"
          ]
        },
        {
          "name": "stdout",
          "output_type": "stream",
          "text": [
            "Chromosome: 14\n"
          ]
        },
        {
          "name": "stderr",
          "output_type": "stream",
          "text": [
            "Training: 100%|\u001b[34m██████████\u001b[0m| 49/49 [00:15<00:00,  3.10it/s]\n",
            "Testing: 100%|\u001b[32m██████████\u001b[0m| 10/10 [00:03<00:00,  3.20it/s]\n"
          ]
        },
        {
          "name": "stdout",
          "output_type": "stream",
          "text": [
            "Chromosome: 15\n"
          ]
        },
        {
          "name": "stderr",
          "output_type": "stream",
          "text": [
            "Training: 100%|\u001b[34m██████████\u001b[0m| 49/49 [00:15<00:00,  3.10it/s]\n",
            "Testing: 100%|\u001b[32m██████████\u001b[0m| 10/10 [00:03<00:00,  3.18it/s]\n"
          ]
        },
        {
          "name": "stdout",
          "output_type": "stream",
          "text": [
            "Chromosome: 16\n"
          ]
        },
        {
          "name": "stderr",
          "output_type": "stream",
          "text": [
            "Training: 100%|\u001b[34m██████████\u001b[0m| 49/49 [00:16<00:00,  3.00it/s]\n",
            "Testing: 100%|\u001b[32m██████████\u001b[0m| 10/10 [00:03<00:00,  3.20it/s]\n"
          ]
        },
        {
          "name": "stdout",
          "output_type": "stream",
          "text": [
            "Chromosome: 17\n"
          ]
        },
        {
          "name": "stderr",
          "output_type": "stream",
          "text": [
            "Training: 100%|\u001b[34m██████████\u001b[0m| 49/49 [00:15<00:00,  3.09it/s]\n",
            "Testing: 100%|\u001b[32m██████████\u001b[0m| 10/10 [00:03<00:00,  3.08it/s]\n"
          ]
        },
        {
          "name": "stdout",
          "output_type": "stream",
          "text": [
            "Chromosome: 18\n"
          ]
        },
        {
          "name": "stderr",
          "output_type": "stream",
          "text": [
            "Training: 100%|\u001b[34m██████████\u001b[0m| 49/49 [00:15<00:00,  3.08it/s]\n",
            "Testing: 100%|\u001b[32m██████████\u001b[0m| 10/10 [00:03<00:00,  3.19it/s]\n"
          ]
        },
        {
          "name": "stdout",
          "output_type": "stream",
          "text": [
            "Chromosome: 19\n"
          ]
        },
        {
          "name": "stderr",
          "output_type": "stream",
          "text": [
            "Training: 100%|\u001b[34m██████████\u001b[0m| 49/49 [00:15<00:00,  3.10it/s]\n",
            "Testing: 100%|\u001b[32m██████████\u001b[0m| 10/10 [00:03<00:00,  3.19it/s]\n"
          ]
        },
        {
          "name": "stdout",
          "output_type": "stream",
          "text": [
            "Chromosome: 20\n"
          ]
        },
        {
          "name": "stderr",
          "output_type": "stream",
          "text": [
            "Training: 100%|\u001b[34m██████████\u001b[0m| 49/49 [00:15<00:00,  3.09it/s]\n",
            "Testing: 100%|\u001b[32m██████████\u001b[0m| 10/10 [00:03<00:00,  3.22it/s]\n"
          ]
        },
        {
          "name": "stdout",
          "output_type": "stream",
          "text": [
            "Chromosome: 21\n"
          ]
        },
        {
          "name": "stderr",
          "output_type": "stream",
          "text": [
            "Training: 100%|\u001b[34m██████████\u001b[0m| 49/49 [00:15<00:00,  3.11it/s]\n",
            "Testing: 100%|\u001b[32m██████████\u001b[0m| 10/10 [00:03<00:00,  3.25it/s]\n"
          ]
        },
        {
          "name": "stdout",
          "output_type": "stream",
          "text": [
            "Chromosome: 22\n"
          ]
        },
        {
          "name": "stderr",
          "output_type": "stream",
          "text": [
            "Training: 100%|\u001b[34m██████████\u001b[0m| 49/49 [00:15<00:00,  3.13it/s]\n",
            "Testing: 100%|\u001b[32m██████████\u001b[0m| 10/10 [00:03<00:00,  3.17it/s]\n"
          ]
        },
        {
          "name": "stdout",
          "output_type": "stream",
          "text": [
            "Chromosome: 23\n"
          ]
        },
        {
          "name": "stderr",
          "output_type": "stream",
          "text": [
            "Training: 100%|\u001b[34m██████████\u001b[0m| 49/49 [00:15<00:00,  3.07it/s]\n",
            "Testing: 100%|\u001b[32m██████████\u001b[0m| 10/10 [00:03<00:00,  3.19it/s]\n"
          ]
        },
        {
          "name": "stdout",
          "output_type": "stream",
          "text": [
            "Chromosome: 24\n"
          ]
        },
        {
          "name": "stderr",
          "output_type": "stream",
          "text": [
            "Training: 100%|\u001b[34m██████████\u001b[0m| 49/49 [00:15<00:00,  3.13it/s]\n",
            "Testing: 100%|\u001b[32m██████████\u001b[0m| 10/10 [00:03<00:00,  3.23it/s]\n"
          ]
        },
        {
          "name": "stdout",
          "output_type": "stream",
          "text": [
            "Chromosome: 25\n"
          ]
        },
        {
          "name": "stderr",
          "output_type": "stream",
          "text": [
            "Training: 100%|\u001b[34m██████████\u001b[0m| 49/49 [00:15<00:00,  3.10it/s]\n",
            "Testing: 100%|\u001b[32m██████████\u001b[0m| 10/10 [00:03<00:00,  3.21it/s]\n"
          ]
        },
        {
          "name": "stdout",
          "output_type": "stream",
          "text": [
            "Chromosome: 26\n"
          ]
        },
        {
          "name": "stderr",
          "output_type": "stream",
          "text": [
            "Training: 100%|\u001b[34m██████████\u001b[0m| 49/49 [00:15<00:00,  3.10it/s]\n",
            "Testing: 100%|\u001b[32m██████████\u001b[0m| 10/10 [00:03<00:00,  3.20it/s]\n"
          ]
        },
        {
          "name": "stdout",
          "output_type": "stream",
          "text": [
            "Chromosome: 27\n"
          ]
        },
        {
          "name": "stderr",
          "output_type": "stream",
          "text": [
            "Training: 100%|\u001b[34m██████████\u001b[0m| 49/49 [00:15<00:00,  3.15it/s]\n",
            "Testing: 100%|\u001b[32m██████████\u001b[0m| 10/10 [00:03<00:00,  3.17it/s]\n"
          ]
        },
        {
          "name": "stdout",
          "output_type": "stream",
          "text": [
            "Chromosome: 28\n"
          ]
        },
        {
          "name": "stderr",
          "output_type": "stream",
          "text": [
            "Training: 100%|\u001b[34m██████████\u001b[0m| 49/49 [00:15<00:00,  3.13it/s]\n",
            "Testing: 100%|\u001b[32m██████████\u001b[0m| 10/10 [00:03<00:00,  3.21it/s]\n"
          ]
        },
        {
          "name": "stdout",
          "output_type": "stream",
          "text": [
            "Chromosome: 29\n"
          ]
        },
        {
          "name": "stderr",
          "output_type": "stream",
          "text": [
            "Training: 100%|\u001b[34m██████████\u001b[0m| 49/49 [00:15<00:00,  3.11it/s]\n",
            "Testing: 100%|\u001b[32m██████████\u001b[0m| 10/10 [00:03<00:00,  3.21it/s]\n"
          ]
        },
        {
          "name": "stdout",
          "output_type": "stream",
          "text": [
            "Chromosome: 30\n"
          ]
        },
        {
          "name": "stderr",
          "output_type": "stream",
          "text": [
            "Training: 100%|\u001b[34m██████████\u001b[0m| 49/49 [00:15<00:00,  3.09it/s]\n",
            "Testing: 100%|\u001b[32m██████████\u001b[0m| 10/10 [00:03<00:00,  3.20it/s]\n"
          ]
        },
        {
          "name": "stdout",
          "output_type": "stream",
          "text": [
            "Chromosome: 31\n"
          ]
        },
        {
          "name": "stderr",
          "output_type": "stream",
          "text": [
            "Training: 100%|\u001b[34m██████████\u001b[0m| 49/49 [00:15<00:00,  3.12it/s]\n",
            "Testing: 100%|\u001b[32m██████████\u001b[0m| 10/10 [00:03<00:00,  3.21it/s]\n"
          ]
        },
        {
          "name": "stdout",
          "output_type": "stream",
          "text": [
            "Chromosome: 32\n"
          ]
        },
        {
          "name": "stderr",
          "output_type": "stream",
          "text": [
            "Training: 100%|\u001b[34m██████████\u001b[0m| 49/49 [00:15<00:00,  3.11it/s]\n",
            "Testing: 100%|\u001b[32m██████████\u001b[0m| 10/10 [00:03<00:00,  3.25it/s]\n"
          ]
        },
        {
          "name": "stdout",
          "output_type": "stream",
          "text": [
            "Chromosome: 33\n"
          ]
        },
        {
          "name": "stderr",
          "output_type": "stream",
          "text": [
            "Training: 100%|\u001b[34m██████████\u001b[0m| 49/49 [00:15<00:00,  3.13it/s]\n",
            "Testing: 100%|\u001b[32m██████████\u001b[0m| 10/10 [00:03<00:00,  3.21it/s]\n"
          ]
        },
        {
          "name": "stdout",
          "output_type": "stream",
          "text": [
            "Chromosome: 34\n"
          ]
        },
        {
          "name": "stderr",
          "output_type": "stream",
          "text": [
            "Training: 100%|\u001b[34m██████████\u001b[0m| 49/49 [00:15<00:00,  3.14it/s]\n",
            "Testing: 100%|\u001b[32m██████████\u001b[0m| 10/10 [00:03<00:00,  3.22it/s]\n"
          ]
        },
        {
          "name": "stdout",
          "output_type": "stream",
          "text": [
            "Chromosome: 35\n"
          ]
        },
        {
          "name": "stderr",
          "output_type": "stream",
          "text": [
            "Training: 100%|\u001b[34m██████████\u001b[0m| 49/49 [00:15<00:00,  3.11it/s]\n",
            "Testing: 100%|\u001b[32m██████████\u001b[0m| 10/10 [00:03<00:00,  3.22it/s]\n"
          ]
        },
        {
          "name": "stdout",
          "output_type": "stream",
          "text": [
            "Chromosome: 36\n"
          ]
        },
        {
          "name": "stderr",
          "output_type": "stream",
          "text": [
            "Training: 100%|\u001b[34m██████████\u001b[0m| 49/49 [00:15<00:00,  3.13it/s]\n",
            "Testing: 100%|\u001b[32m██████████\u001b[0m| 10/10 [00:03<00:00,  3.23it/s]\n"
          ]
        },
        {
          "name": "stdout",
          "output_type": "stream",
          "text": [
            "Chromosome: 37\n"
          ]
        },
        {
          "name": "stderr",
          "output_type": "stream",
          "text": [
            "Training: 100%|\u001b[34m██████████\u001b[0m| 49/49 [00:15<00:00,  3.12it/s]\n",
            "Testing: 100%|\u001b[32m██████████\u001b[0m| 10/10 [00:03<00:00,  3.22it/s]\n"
          ]
        },
        {
          "name": "stdout",
          "output_type": "stream",
          "text": [
            "Chromosome: 38\n"
          ]
        },
        {
          "name": "stderr",
          "output_type": "stream",
          "text": [
            "Training: 100%|\u001b[34m██████████\u001b[0m| 49/49 [00:15<00:00,  3.11it/s]\n",
            "Testing: 100%|\u001b[32m██████████\u001b[0m| 10/10 [00:03<00:00,  3.20it/s]\n"
          ]
        },
        {
          "name": "stdout",
          "output_type": "stream",
          "text": [
            "Chromosome: 39\n"
          ]
        },
        {
          "name": "stderr",
          "output_type": "stream",
          "text": [
            "Training: 100%|\u001b[34m██████████\u001b[0m| 49/49 [00:15<00:00,  3.12it/s]\n",
            "Testing: 100%|\u001b[32m██████████\u001b[0m| 10/10 [00:03<00:00,  3.20it/s]\n"
          ]
        },
        {
          "name": "stdout",
          "output_type": "stream",
          "text": [
            "Chromosome: 40\n"
          ]
        },
        {
          "name": "stderr",
          "output_type": "stream",
          "text": [
            "Training: 100%|\u001b[34m██████████\u001b[0m| 49/49 [00:15<00:00,  3.09it/s]\n",
            "Testing: 100%|\u001b[32m██████████\u001b[0m| 10/10 [00:03<00:00,  3.21it/s]\n"
          ]
        },
        {
          "name": "stdout",
          "output_type": "stream",
          "text": [
            "Chromosome: 41\n"
          ]
        },
        {
          "name": "stderr",
          "output_type": "stream",
          "text": [
            "Training: 100%|\u001b[34m██████████\u001b[0m| 49/49 [00:15<00:00,  3.12it/s]\n",
            "Testing: 100%|\u001b[32m██████████\u001b[0m| 10/10 [00:03<00:00,  3.19it/s]\n"
          ]
        },
        {
          "name": "stdout",
          "output_type": "stream",
          "text": [
            "Chromosome: 42\n"
          ]
        },
        {
          "name": "stderr",
          "output_type": "stream",
          "text": [
            "Training: 100%|\u001b[34m██████████\u001b[0m| 49/49 [00:15<00:00,  3.12it/s]\n",
            "Testing: 100%|\u001b[32m██████████\u001b[0m| 10/10 [00:03<00:00,  3.22it/s]\n"
          ]
        },
        {
          "name": "stdout",
          "output_type": "stream",
          "text": [
            "Chromosome: 43\n"
          ]
        },
        {
          "name": "stderr",
          "output_type": "stream",
          "text": [
            "Training: 100%|\u001b[34m██████████\u001b[0m| 49/49 [00:15<00:00,  3.13it/s]\n",
            "Testing: 100%|\u001b[32m██████████\u001b[0m| 10/10 [00:03<00:00,  3.20it/s]\n"
          ]
        },
        {
          "name": "stdout",
          "output_type": "stream",
          "text": [
            "Chromosome: 44\n"
          ]
        },
        {
          "name": "stderr",
          "output_type": "stream",
          "text": [
            "Training: 100%|\u001b[34m██████████\u001b[0m| 49/49 [00:16<00:00,  3.06it/s]\n",
            "Testing: 100%|\u001b[32m██████████\u001b[0m| 10/10 [00:03<00:00,  3.08it/s]\n"
          ]
        },
        {
          "name": "stdout",
          "output_type": "stream",
          "text": [
            "Chromosome: 45\n"
          ]
        },
        {
          "name": "stderr",
          "output_type": "stream",
          "text": [
            "Training: 100%|\u001b[34m██████████\u001b[0m| 49/49 [00:16<00:00,  3.03it/s]\n",
            "Testing: 100%|\u001b[32m██████████\u001b[0m| 10/10 [00:03<00:00,  3.18it/s]\n"
          ]
        },
        {
          "name": "stdout",
          "output_type": "stream",
          "text": [
            "Chromosome: 46\n"
          ]
        },
        {
          "name": "stderr",
          "output_type": "stream",
          "text": [
            "Training: 100%|\u001b[34m██████████\u001b[0m| 49/49 [00:18<00:00,  2.65it/s]\n",
            "Testing: 100%|\u001b[32m██████████\u001b[0m| 10/10 [00:03<00:00,  2.98it/s]\n"
          ]
        },
        {
          "name": "stdout",
          "output_type": "stream",
          "text": [
            "Chromosome: 47\n"
          ]
        },
        {
          "name": "stderr",
          "output_type": "stream",
          "text": [
            "Training: 100%|\u001b[34m██████████\u001b[0m| 49/49 [00:18<00:00,  2.72it/s]\n",
            "Testing: 100%|\u001b[32m██████████\u001b[0m| 10/10 [00:03<00:00,  2.74it/s]\n"
          ]
        },
        {
          "name": "stdout",
          "output_type": "stream",
          "text": [
            "Chromosome: 48\n"
          ]
        },
        {
          "name": "stderr",
          "output_type": "stream",
          "text": [
            "Training: 100%|\u001b[34m██████████\u001b[0m| 49/49 [00:18<00:00,  2.68it/s]\n",
            "Testing: 100%|\u001b[32m██████████\u001b[0m| 10/10 [00:03<00:00,  2.84it/s]\n"
          ]
        },
        {
          "name": "stdout",
          "output_type": "stream",
          "text": [
            "Chromosome: 49\n"
          ]
        },
        {
          "name": "stderr",
          "output_type": "stream",
          "text": [
            "Training: 100%|\u001b[34m██████████\u001b[0m| 49/49 [00:18<00:00,  2.69it/s]\n",
            "Testing: 100%|\u001b[32m██████████\u001b[0m| 10/10 [00:03<00:00,  2.69it/s]\n"
          ]
        },
        {
          "name": "stdout",
          "output_type": "stream",
          "text": [
            "Chromosome: 50\n"
          ]
        },
        {
          "name": "stderr",
          "output_type": "stream",
          "text": [
            "Training: 100%|\u001b[34m██████████\u001b[0m| 49/49 [00:18<00:00,  2.63it/s]\n",
            "Testing: 100%|\u001b[32m██████████\u001b[0m| 10/10 [00:03<00:00,  2.73it/s]\n"
          ]
        },
        {
          "name": "stdout",
          "output_type": "stream",
          "text": [
            "current iteration: 19 / 20 , best train fitness: 0.18646477618995977, average train fitness: 0.16705439122355717, average test fitness: 0.16276929181814195\n",
            "-------------------------------------------------------------------------------------------------\n",
            "Chromosome: 1\n"
          ]
        },
        {
          "name": "stderr",
          "output_type": "stream",
          "text": [
            "Training: 100%|\u001b[34m██████████\u001b[0m| 49/49 [00:18<00:00,  2.70it/s]\n",
            "Testing: 100%|\u001b[32m██████████\u001b[0m| 10/10 [00:03<00:00,  2.71it/s]\n"
          ]
        },
        {
          "name": "stdout",
          "output_type": "stream",
          "text": [
            "Chromosome: 2\n"
          ]
        },
        {
          "name": "stderr",
          "output_type": "stream",
          "text": [
            "Training: 100%|\u001b[34m██████████\u001b[0m| 49/49 [00:18<00:00,  2.63it/s]\n",
            "Testing: 100%|\u001b[32m██████████\u001b[0m| 10/10 [00:03<00:00,  2.52it/s]\n"
          ]
        },
        {
          "name": "stdout",
          "output_type": "stream",
          "text": [
            "Chromosome: 3\n"
          ]
        },
        {
          "name": "stderr",
          "output_type": "stream",
          "text": [
            "Training: 100%|\u001b[34m██████████\u001b[0m| 49/49 [00:18<00:00,  2.68it/s]\n",
            "Testing: 100%|\u001b[32m██████████\u001b[0m| 10/10 [00:03<00:00,  2.94it/s]\n"
          ]
        },
        {
          "name": "stdout",
          "output_type": "stream",
          "text": [
            "Chromosome: 4\n"
          ]
        },
        {
          "name": "stderr",
          "output_type": "stream",
          "text": [
            "Training: 100%|\u001b[34m██████████\u001b[0m| 49/49 [00:17<00:00,  2.83it/s]\n",
            "Testing: 100%|\u001b[32m██████████\u001b[0m| 10/10 [00:03<00:00,  3.06it/s]\n"
          ]
        },
        {
          "name": "stdout",
          "output_type": "stream",
          "text": [
            "Chromosome: 5\n"
          ]
        },
        {
          "name": "stderr",
          "output_type": "stream",
          "text": [
            "Training: 100%|\u001b[34m██████████\u001b[0m| 49/49 [00:16<00:00,  2.98it/s]\n",
            "Testing: 100%|\u001b[32m██████████\u001b[0m| 10/10 [00:03<00:00,  3.02it/s]\n"
          ]
        },
        {
          "name": "stdout",
          "output_type": "stream",
          "text": [
            "Chromosome: 6\n"
          ]
        },
        {
          "name": "stderr",
          "output_type": "stream",
          "text": [
            "Training: 100%|\u001b[34m██████████\u001b[0m| 49/49 [00:16<00:00,  2.97it/s]\n",
            "Testing: 100%|\u001b[32m██████████\u001b[0m| 10/10 [00:03<00:00,  3.07it/s]\n"
          ]
        },
        {
          "name": "stdout",
          "output_type": "stream",
          "text": [
            "Chromosome: 7\n"
          ]
        },
        {
          "name": "stderr",
          "output_type": "stream",
          "text": [
            "Training: 100%|\u001b[34m██████████\u001b[0m| 49/49 [00:17<00:00,  2.82it/s]\n",
            "Testing: 100%|\u001b[32m██████████\u001b[0m| 10/10 [00:03<00:00,  2.66it/s]\n"
          ]
        },
        {
          "name": "stdout",
          "output_type": "stream",
          "text": [
            "Chromosome: 8\n"
          ]
        },
        {
          "name": "stderr",
          "output_type": "stream",
          "text": [
            "Training: 100%|\u001b[34m██████████\u001b[0m| 49/49 [00:16<00:00,  3.05it/s]\n",
            "Testing: 100%|\u001b[32m██████████\u001b[0m| 10/10 [00:03<00:00,  2.98it/s]\n"
          ]
        },
        {
          "name": "stdout",
          "output_type": "stream",
          "text": [
            "Chromosome: 9\n"
          ]
        },
        {
          "name": "stderr",
          "output_type": "stream",
          "text": [
            "Training: 100%|\u001b[34m██████████\u001b[0m| 49/49 [00:17<00:00,  2.74it/s]\n",
            "Testing: 100%|\u001b[32m██████████\u001b[0m| 10/10 [00:03<00:00,  2.68it/s]\n"
          ]
        },
        {
          "name": "stdout",
          "output_type": "stream",
          "text": [
            "Chromosome: 10\n"
          ]
        },
        {
          "name": "stderr",
          "output_type": "stream",
          "text": [
            "Training: 100%|\u001b[34m██████████\u001b[0m| 49/49 [00:17<00:00,  2.85it/s]\n",
            "Testing: 100%|\u001b[32m██████████\u001b[0m| 10/10 [00:03<00:00,  2.61it/s]\n"
          ]
        },
        {
          "name": "stdout",
          "output_type": "stream",
          "text": [
            "Chromosome: 11\n"
          ]
        },
        {
          "name": "stderr",
          "output_type": "stream",
          "text": [
            "Training: 100%|\u001b[34m██████████\u001b[0m| 49/49 [00:19<00:00,  2.57it/s]\n",
            "Testing: 100%|\u001b[32m██████████\u001b[0m| 10/10 [00:03<00:00,  2.86it/s]\n"
          ]
        },
        {
          "name": "stdout",
          "output_type": "stream",
          "text": [
            "Chromosome: 12\n"
          ]
        },
        {
          "name": "stderr",
          "output_type": "stream",
          "text": [
            "Training: 100%|\u001b[34m██████████\u001b[0m| 49/49 [00:19<00:00,  2.54it/s]\n",
            "Testing: 100%|\u001b[32m██████████\u001b[0m| 10/10 [00:03<00:00,  2.96it/s]\n"
          ]
        },
        {
          "name": "stdout",
          "output_type": "stream",
          "text": [
            "Chromosome: 13\n"
          ]
        },
        {
          "name": "stderr",
          "output_type": "stream",
          "text": [
            "Training: 100%|\u001b[34m██████████\u001b[0m| 49/49 [00:16<00:00,  2.92it/s]\n",
            "Testing: 100%|\u001b[32m██████████\u001b[0m| 10/10 [00:03<00:00,  3.09it/s]\n"
          ]
        },
        {
          "name": "stdout",
          "output_type": "stream",
          "text": [
            "Chromosome: 14\n"
          ]
        },
        {
          "name": "stderr",
          "output_type": "stream",
          "text": [
            "Training: 100%|\u001b[34m██████████\u001b[0m| 49/49 [00:16<00:00,  3.02it/s]\n",
            "Testing: 100%|\u001b[32m██████████\u001b[0m| 10/10 [00:03<00:00,  3.12it/s]\n"
          ]
        },
        {
          "name": "stdout",
          "output_type": "stream",
          "text": [
            "Chromosome: 15\n"
          ]
        },
        {
          "name": "stderr",
          "output_type": "stream",
          "text": [
            "Training: 100%|\u001b[34m██████████\u001b[0m| 49/49 [00:17<00:00,  2.77it/s]\n",
            "Testing: 100%|\u001b[32m██████████\u001b[0m| 10/10 [00:03<00:00,  2.82it/s]\n"
          ]
        },
        {
          "name": "stdout",
          "output_type": "stream",
          "text": [
            "Chromosome: 16\n"
          ]
        },
        {
          "name": "stderr",
          "output_type": "stream",
          "text": [
            "Training: 100%|\u001b[34m██████████\u001b[0m| 49/49 [00:18<00:00,  2.69it/s]\n",
            "Testing: 100%|\u001b[32m██████████\u001b[0m| 10/10 [00:03<00:00,  2.91it/s]\n"
          ]
        },
        {
          "name": "stdout",
          "output_type": "stream",
          "text": [
            "Chromosome: 17\n"
          ]
        },
        {
          "name": "stderr",
          "output_type": "stream",
          "text": [
            "Training: 100%|\u001b[34m██████████\u001b[0m| 49/49 [00:17<00:00,  2.86it/s]\n",
            "Testing: 100%|\u001b[32m██████████\u001b[0m| 10/10 [00:03<00:00,  2.82it/s]\n"
          ]
        },
        {
          "name": "stdout",
          "output_type": "stream",
          "text": [
            "Chromosome: 18\n"
          ]
        },
        {
          "name": "stderr",
          "output_type": "stream",
          "text": [
            "Training: 100%|\u001b[34m██████████\u001b[0m| 49/49 [00:19<00:00,  2.46it/s]\n",
            "Testing: 100%|\u001b[32m██████████\u001b[0m| 10/10 [00:03<00:00,  2.77it/s]\n"
          ]
        },
        {
          "name": "stdout",
          "output_type": "stream",
          "text": [
            "Chromosome: 19\n"
          ]
        },
        {
          "name": "stderr",
          "output_type": "stream",
          "text": [
            "Training: 100%|\u001b[34m██████████\u001b[0m| 49/49 [00:16<00:00,  2.90it/s]\n",
            "Testing: 100%|\u001b[32m██████████\u001b[0m| 10/10 [00:03<00:00,  3.16it/s]\n"
          ]
        },
        {
          "name": "stdout",
          "output_type": "stream",
          "text": [
            "Chromosome: 20\n"
          ]
        },
        {
          "name": "stderr",
          "output_type": "stream",
          "text": [
            "Training: 100%|\u001b[34m██████████\u001b[0m| 49/49 [00:16<00:00,  3.05it/s]\n",
            "Testing: 100%|\u001b[32m██████████\u001b[0m| 10/10 [00:03<00:00,  2.88it/s]\n"
          ]
        },
        {
          "name": "stdout",
          "output_type": "stream",
          "text": [
            "Chromosome: 21\n"
          ]
        },
        {
          "name": "stderr",
          "output_type": "stream",
          "text": [
            "Training: 100%|\u001b[34m██████████\u001b[0m| 49/49 [00:17<00:00,  2.85it/s]\n",
            "Testing: 100%|\u001b[32m██████████\u001b[0m| 10/10 [00:03<00:00,  2.97it/s]\n"
          ]
        },
        {
          "name": "stdout",
          "output_type": "stream",
          "text": [
            "Chromosome: 22\n"
          ]
        },
        {
          "name": "stderr",
          "output_type": "stream",
          "text": [
            "Training: 100%|\u001b[34m██████████\u001b[0m| 49/49 [00:18<00:00,  2.60it/s]\n",
            "Testing: 100%|\u001b[32m██████████\u001b[0m| 10/10 [00:03<00:00,  2.73it/s]\n"
          ]
        },
        {
          "name": "stdout",
          "output_type": "stream",
          "text": [
            "Chromosome: 23\n"
          ]
        },
        {
          "name": "stderr",
          "output_type": "stream",
          "text": [
            "Training: 100%|\u001b[34m██████████\u001b[0m| 49/49 [00:17<00:00,  2.86it/s]\n",
            "Testing: 100%|\u001b[32m██████████\u001b[0m| 10/10 [00:03<00:00,  2.60it/s]\n"
          ]
        },
        {
          "name": "stdout",
          "output_type": "stream",
          "text": [
            "Chromosome: 24\n"
          ]
        },
        {
          "name": "stderr",
          "output_type": "stream",
          "text": [
            "Training: 100%|\u001b[34m██████████\u001b[0m| 49/49 [00:18<00:00,  2.62it/s]\n",
            "Testing: 100%|\u001b[32m██████████\u001b[0m| 10/10 [00:03<00:00,  2.91it/s]\n"
          ]
        },
        {
          "name": "stdout",
          "output_type": "stream",
          "text": [
            "Chromosome: 25\n"
          ]
        },
        {
          "name": "stderr",
          "output_type": "stream",
          "text": [
            "Training: 100%|\u001b[34m██████████\u001b[0m| 49/49 [00:17<00:00,  2.83it/s]\n",
            "Testing: 100%|\u001b[32m██████████\u001b[0m| 10/10 [00:03<00:00,  2.61it/s]\n"
          ]
        },
        {
          "name": "stdout",
          "output_type": "stream",
          "text": [
            "Chromosome: 26\n"
          ]
        },
        {
          "name": "stderr",
          "output_type": "stream",
          "text": [
            "Training: 100%|\u001b[34m██████████\u001b[0m| 49/49 [00:16<00:00,  3.00it/s]\n",
            "Testing: 100%|\u001b[32m██████████\u001b[0m| 10/10 [00:03<00:00,  3.21it/s]\n"
          ]
        },
        {
          "name": "stdout",
          "output_type": "stream",
          "text": [
            "Chromosome: 27\n"
          ]
        },
        {
          "name": "stderr",
          "output_type": "stream",
          "text": [
            "Training: 100%|\u001b[34m██████████\u001b[0m| 49/49 [00:15<00:00,  3.13it/s]\n",
            "Testing: 100%|\u001b[32m██████████\u001b[0m| 10/10 [00:03<00:00,  3.26it/s]\n"
          ]
        },
        {
          "name": "stdout",
          "output_type": "stream",
          "text": [
            "Chromosome: 28\n"
          ]
        },
        {
          "name": "stderr",
          "output_type": "stream",
          "text": [
            "Training: 100%|\u001b[34m██████████\u001b[0m| 49/49 [00:15<00:00,  3.07it/s]\n",
            "Testing: 100%|\u001b[32m██████████\u001b[0m| 10/10 [00:03<00:00,  2.92it/s]\n"
          ]
        },
        {
          "name": "stdout",
          "output_type": "stream",
          "text": [
            "Chromosome: 29\n"
          ]
        },
        {
          "name": "stderr",
          "output_type": "stream",
          "text": [
            "Training: 100%|\u001b[34m██████████\u001b[0m| 49/49 [00:16<00:00,  3.06it/s]\n",
            "Testing: 100%|\u001b[32m██████████\u001b[0m| 10/10 [00:03<00:00,  3.20it/s]\n"
          ]
        },
        {
          "name": "stdout",
          "output_type": "stream",
          "text": [
            "Chromosome: 30\n"
          ]
        },
        {
          "name": "stderr",
          "output_type": "stream",
          "text": [
            "Training: 100%|\u001b[34m██████████\u001b[0m| 49/49 [00:17<00:00,  2.83it/s]\n",
            "Testing: 100%|\u001b[32m██████████\u001b[0m| 10/10 [00:03<00:00,  3.25it/s]\n"
          ]
        },
        {
          "name": "stdout",
          "output_type": "stream",
          "text": [
            "Chromosome: 31\n"
          ]
        },
        {
          "name": "stderr",
          "output_type": "stream",
          "text": [
            "Training: 100%|\u001b[34m██████████\u001b[0m| 49/49 [00:15<00:00,  3.13it/s]\n",
            "Testing: 100%|\u001b[32m██████████\u001b[0m| 10/10 [00:03<00:00,  2.69it/s]\n"
          ]
        },
        {
          "name": "stdout",
          "output_type": "stream",
          "text": [
            "Chromosome: 32\n"
          ]
        },
        {
          "name": "stderr",
          "output_type": "stream",
          "text": [
            "Training: 100%|\u001b[34m██████████\u001b[0m| 49/49 [00:16<00:00,  3.06it/s]\n",
            "Testing: 100%|\u001b[32m██████████\u001b[0m| 10/10 [00:03<00:00,  3.26it/s]\n"
          ]
        },
        {
          "name": "stdout",
          "output_type": "stream",
          "text": [
            "Chromosome: 33\n"
          ]
        },
        {
          "name": "stderr",
          "output_type": "stream",
          "text": [
            "Training: 100%|\u001b[34m██████████\u001b[0m| 49/49 [00:15<00:00,  3.17it/s]\n",
            "Testing: 100%|\u001b[32m██████████\u001b[0m| 10/10 [00:03<00:00,  3.17it/s]\n"
          ]
        },
        {
          "name": "stdout",
          "output_type": "stream",
          "text": [
            "Chromosome: 34\n"
          ]
        },
        {
          "name": "stderr",
          "output_type": "stream",
          "text": [
            "Training: 100%|\u001b[34m██████████\u001b[0m| 49/49 [00:15<00:00,  3.17it/s]\n",
            "Testing: 100%|\u001b[32m██████████\u001b[0m| 10/10 [00:03<00:00,  3.29it/s]\n"
          ]
        },
        {
          "name": "stdout",
          "output_type": "stream",
          "text": [
            "Chromosome: 35\n"
          ]
        },
        {
          "name": "stderr",
          "output_type": "stream",
          "text": [
            "Training: 100%|\u001b[34m██████████\u001b[0m| 49/49 [00:15<00:00,  3.06it/s]\n",
            "Testing: 100%|\u001b[32m██████████\u001b[0m| 10/10 [00:03<00:00,  3.15it/s]\n"
          ]
        },
        {
          "name": "stdout",
          "output_type": "stream",
          "text": [
            "Chromosome: 36\n"
          ]
        },
        {
          "name": "stderr",
          "output_type": "stream",
          "text": [
            "Training: 100%|\u001b[34m██████████\u001b[0m| 49/49 [00:16<00:00,  3.04it/s]\n",
            "Testing: 100%|\u001b[32m██████████\u001b[0m| 10/10 [00:03<00:00,  3.14it/s]\n"
          ]
        },
        {
          "name": "stdout",
          "output_type": "stream",
          "text": [
            "Chromosome: 37\n"
          ]
        },
        {
          "name": "stderr",
          "output_type": "stream",
          "text": [
            "Training: 100%|\u001b[34m██████████\u001b[0m| 49/49 [00:15<00:00,  3.14it/s]\n",
            "Testing: 100%|\u001b[32m██████████\u001b[0m| 10/10 [00:03<00:00,  3.20it/s]\n"
          ]
        },
        {
          "name": "stdout",
          "output_type": "stream",
          "text": [
            "Chromosome: 38\n"
          ]
        },
        {
          "name": "stderr",
          "output_type": "stream",
          "text": [
            "Training: 100%|\u001b[34m██████████\u001b[0m| 49/49 [00:16<00:00,  2.90it/s]\n",
            "Testing: 100%|\u001b[32m██████████\u001b[0m| 10/10 [00:03<00:00,  3.09it/s]\n"
          ]
        },
        {
          "name": "stdout",
          "output_type": "stream",
          "text": [
            "Chromosome: 39\n"
          ]
        },
        {
          "name": "stderr",
          "output_type": "stream",
          "text": [
            "Training: 100%|\u001b[34m██████████\u001b[0m| 49/49 [00:17<00:00,  2.87it/s]\n",
            "Testing: 100%|\u001b[32m██████████\u001b[0m| 10/10 [00:03<00:00,  3.12it/s]\n"
          ]
        },
        {
          "name": "stdout",
          "output_type": "stream",
          "text": [
            "Chromosome: 40\n"
          ]
        },
        {
          "name": "stderr",
          "output_type": "stream",
          "text": [
            "Training: 100%|\u001b[34m██████████\u001b[0m| 49/49 [00:15<00:00,  3.09it/s]\n",
            "Testing: 100%|\u001b[32m██████████\u001b[0m| 10/10 [00:03<00:00,  3.10it/s]\n"
          ]
        },
        {
          "name": "stdout",
          "output_type": "stream",
          "text": [
            "Chromosome: 41\n"
          ]
        },
        {
          "name": "stderr",
          "output_type": "stream",
          "text": [
            "Training: 100%|\u001b[34m██████████\u001b[0m| 49/49 [00:17<00:00,  2.86it/s]\n",
            "Testing: 100%|\u001b[32m██████████\u001b[0m| 10/10 [00:03<00:00,  2.85it/s]\n"
          ]
        },
        {
          "name": "stdout",
          "output_type": "stream",
          "text": [
            "Chromosome: 42\n"
          ]
        },
        {
          "name": "stderr",
          "output_type": "stream",
          "text": [
            "Training: 100%|\u001b[34m██████████\u001b[0m| 49/49 [00:16<00:00,  3.03it/s]\n",
            "Testing: 100%|\u001b[32m██████████\u001b[0m| 10/10 [00:03<00:00,  3.03it/s]\n"
          ]
        },
        {
          "name": "stdout",
          "output_type": "stream",
          "text": [
            "Chromosome: 43\n"
          ]
        },
        {
          "name": "stderr",
          "output_type": "stream",
          "text": [
            "Training: 100%|\u001b[34m██████████\u001b[0m| 49/49 [00:16<00:00,  3.06it/s]\n",
            "Testing: 100%|\u001b[32m██████████\u001b[0m| 10/10 [00:03<00:00,  3.24it/s]\n"
          ]
        },
        {
          "name": "stdout",
          "output_type": "stream",
          "text": [
            "Chromosome: 44\n"
          ]
        },
        {
          "name": "stderr",
          "output_type": "stream",
          "text": [
            "Training: 100%|\u001b[34m██████████\u001b[0m| 49/49 [00:15<00:00,  3.07it/s]\n",
            "Testing: 100%|\u001b[32m██████████\u001b[0m| 10/10 [00:03<00:00,  3.22it/s]\n"
          ]
        },
        {
          "name": "stdout",
          "output_type": "stream",
          "text": [
            "Chromosome: 45\n"
          ]
        },
        {
          "name": "stderr",
          "output_type": "stream",
          "text": [
            "Training: 100%|\u001b[34m██████████\u001b[0m| 49/49 [00:15<00:00,  3.12it/s]\n",
            "Testing: 100%|\u001b[32m██████████\u001b[0m| 10/10 [00:03<00:00,  3.21it/s]\n"
          ]
        },
        {
          "name": "stdout",
          "output_type": "stream",
          "text": [
            "Chromosome: 46\n"
          ]
        },
        {
          "name": "stderr",
          "output_type": "stream",
          "text": [
            "Training: 100%|\u001b[34m██████████\u001b[0m| 49/49 [00:17<00:00,  2.83it/s]\n",
            "Testing: 100%|\u001b[32m██████████\u001b[0m| 10/10 [00:03<00:00,  2.90it/s]\n"
          ]
        },
        {
          "name": "stdout",
          "output_type": "stream",
          "text": [
            "Chromosome: 47\n"
          ]
        },
        {
          "name": "stderr",
          "output_type": "stream",
          "text": [
            "Training: 100%|\u001b[34m██████████\u001b[0m| 49/49 [00:16<00:00,  2.89it/s]\n",
            "Testing: 100%|\u001b[32m██████████\u001b[0m| 10/10 [00:03<00:00,  3.06it/s]\n"
          ]
        },
        {
          "name": "stdout",
          "output_type": "stream",
          "text": [
            "Chromosome: 48\n"
          ]
        },
        {
          "name": "stderr",
          "output_type": "stream",
          "text": [
            "Training: 100%|\u001b[34m██████████\u001b[0m| 49/49 [00:17<00:00,  2.76it/s]\n",
            "Testing: 100%|\u001b[32m██████████\u001b[0m| 10/10 [00:03<00:00,  2.80it/s]\n"
          ]
        },
        {
          "name": "stdout",
          "output_type": "stream",
          "text": [
            "Chromosome: 49\n"
          ]
        },
        {
          "name": "stderr",
          "output_type": "stream",
          "text": [
            "Training: 100%|\u001b[34m██████████\u001b[0m| 49/49 [00:16<00:00,  2.89it/s]\n",
            "Testing: 100%|\u001b[32m██████████\u001b[0m| 10/10 [00:03<00:00,  2.96it/s]\n"
          ]
        },
        {
          "name": "stdout",
          "output_type": "stream",
          "text": [
            "Chromosome: 50\n"
          ]
        },
        {
          "name": "stderr",
          "output_type": "stream",
          "text": [
            "Training: 100%|\u001b[34m██████████\u001b[0m| 49/49 [00:17<00:00,  2.84it/s]\n",
            "Testing: 100%|\u001b[32m██████████\u001b[0m| 10/10 [00:03<00:00,  3.05it/s]"
          ]
        },
        {
          "name": "stdout",
          "output_type": "stream",
          "text": [
            "current iteration: 20 / 20 , best train fitness: 0.18646477618995977, average train fitness: 0.16786418226908664, average test fitness: 0.16341075387597087\n",
            "-------------------------------------------------------------------------------------------------\n"
          ]
        },
        {
          "name": "stderr",
          "output_type": "stream",
          "text": [
            "\n"
          ]
        }
      ],
      "source": [
        "ea = EvolutionaryAlgorithm(N_ITER, MUT_PROB, RECOMB_PROB, POPULATION_SIZE)\n",
        "ans, train_acc, test_acc = ea.run()"
      ]
    },
    {
      "cell_type": "code",
      "execution_count": 79,
      "id": "1d50f27f",
      "metadata": {},
      "outputs": [
        {
          "name": "stderr",
          "output_type": "stream",
          "text": [
            "confusion matrix train: 100%|\u001b[34m██████████\u001b[0m| 49/49 [00:13<00:00,  3.73it/s]\n",
            "onfusion matrix test: 100%|\u001b[32m██████████\u001b[0m| 10/10 [00:03<00:00,  3.14it/s]"
          ]
        },
        {
          "name": "stdout",
          "output_type": "stream",
          "text": [
            "0.1797931283712387\n"
          ]
        },
        {
          "name": "stderr",
          "output_type": "stream",
          "text": [
            "\n"
          ]
        }
      ],
      "source": [
        "y_predtr= torch.zeros(0,dtype=torch.long, device=device)\n",
        "y_true_train = torch.zeros(0,dtype=torch.long, device=device)\n",
        "y_predts= torch.zeros(0,dtype=torch.long, device=device)\n",
        "y_true_test = torch.zeros(0,dtype=torch.long, device=device)\n",
        "test_accuracy =  0\n",
        "for x_train, y_train in tqdm(train_dataloader, desc=f\"confusion matrix train\", colour=\"blue\"):\n",
        "        # Forward pass\n",
        "        x_train, y_train = x_train.to(device), y_train.to(device)\n",
        "        x = feature_extractor(x_train)\n",
        "        x = ans.model.Layer1.forward(x)\n",
        "        x = ans.model.Act1.forward(x)\n",
        "        x = ans.model.Layer2.forward(x)\n",
        "        x = ans.model.Act2.forward(x)\n",
        "        \n",
        "\n",
        "        # Report batch metrics\n",
        "        y_predict_train = torch.argmax(x, dim=1)\n",
        "        accuracy = torch.mean((y_train == y_predict_train).float())\n",
        "        y_predtr=torch.cat([y_predtr,y_predict_train.view(-1)])\n",
        "        y_true_train=torch.cat([y_true_train,y_train.view(-1)])\n",
        "\n",
        "with torch.no_grad():\n",
        "    for x_test, y_test in tqdm(test_dataloader, desc=f\"onfusion matrix test\", colour=\"green\"):\n",
        "            # Forward pass\n",
        "            x_test, y_test = x_test.to(device), y_test.to(device)\n",
        "            x = feature_extractor(x_test)\n",
        "            x = ans.model.Layer1.forward(x)\n",
        "            x = ans.model.Act1.forward(x)\n",
        "            x = ans.model.Layer2.forward(x)\n",
        "            x = ans.model.Act2.forward(x)\n",
        "            \n",
        "\n",
        "            # Report batch metrics\n",
        "            y_predict_test = torch.argmax(x, dim=1)\n",
        "            accuracy = torch.mean((y_test == y_predict_test).float())\n",
        "            test_accuracy += accuracy.item()\n",
        "            y_predts=torch.cat([y_predts,y_predict_test.view(-1)])\n",
        "            y_true_test=torch.cat([y_true_test,y_test.view(-1)])\n",
        "\n",
        "test_accuracy /= len(test_dataloader)\n",
        "print(test_accuracy)"
      ]
    },
    {
      "cell_type": "code",
      "execution_count": 80,
      "id": "35d6941e",
      "metadata": {},
      "outputs": [
        {
          "name": "stdout",
          "output_type": "stream",
          "text": [
            "0.1797931283712387\n"
          ]
        }
      ],
      "source": [
        "print(test_accuracy)"
      ]
    },
    {
      "cell_type": "code",
      "execution_count": 70,
      "id": "qF6WCrlnohrT",
      "metadata": {
        "colab": {
          "base_uri": "https://localhost:8080/",
          "height": 512
        },
        "id": "qF6WCrlnohrT",
        "outputId": "9ead6a0a-bc5f-4039-e69d-56827e1cdbe1"
      },
      "outputs": [
        {
          "data": {
            "image/png": "[encoded data removed]",
            "text/plain": [
              "<Figure size 1000x600 with 2 Axes>"
            ]
          },
          "metadata": {},
          "output_type": "display_data"
        }
      ],
      "source": [
        "#Confusion Matrix for the training set\n",
        "y_predtr_numpy = y_predtr.data.cpu().numpy()\n",
        "y_train_numpy = y_true_train.data.cpu().numpy()\n",
        "cm_train = confusion_matrix(y_train_numpy, y_predtr_numpy)\n",
        "plt.subplots(figsize=(10, 6))\n",
        "sb.heatmap(cm_train, annot = True, fmt = 'g')\n",
        "plt.xlabel(\"Predicted\")\n",
        "plt.ylabel(\"Actual\")\n",
        "plt.title(\"Confusion Matrix for the training set\")\n",
        "plt.show()"
      ]
    },
    {
      "cell_type": "code",
      "execution_count": 71,
      "id": "xSptRG5-pLCB",
      "metadata": {
        "colab": {
          "base_uri": "https://localhost:8080/"
        },
        "id": "xSptRG5-pLCB",
        "outputId": "836bc589-40c6-4a02-ebf5-a76b38c2adbc"
      },
      "outputs": [
        {
          "name": "stdout",
          "output_type": "stream",
          "text": [
            "0.1450067561763057\n"
          ]
        }
      ],
      "source": [
        "print(f1_score(y_train_numpy, y_predtr_numpy, average='weighted'))"
      ]
    },
    {
      "cell_type": "code",
      "execution_count": 73,
      "id": "pyJgZww-p6-J",
      "metadata": {
        "colab": {
          "base_uri": "https://localhost:8080/",
          "height": 517
        },
        "id": "pyJgZww-p6-J",
        "outputId": "9dfe9033-cde7-495b-ef2f-1d200c028881"
      },
      "outputs": [
        {
          "data": {
            "image/png": "[encoded data removed]",
            "text/plain": [
              "<Figure size 1000x600 with 2 Axes>"
            ]
          },
          "metadata": {},
          "output_type": "display_data"
        }
      ],
      "source": [
        "#Confusion Matrix for the test set\n",
        "y_predts_numpy = y_predts.data.cpu().numpy()\n",
        "y_test_numpy = y_true_test.data.cpu().numpy()\n",
        "cm_train = confusion_matrix(y_test_numpy, y_predts_numpy)\n",
        "plt.subplots(figsize=(10, 6))\n",
        "sb.heatmap(cm_train, annot = True, fmt = 'g')\n",
        "plt.xlabel(\"Predicted\")\n",
        "plt.ylabel(\"Actual\")\n",
        "plt.title(\"Confusion Matrix for the testing set\")\n",
        "plt.show()"
      ]
    },
    {
      "cell_type": "code",
      "execution_count": 74,
      "id": "zhM9E0R1qHWJ",
      "metadata": {
        "colab": {
          "base_uri": "https://localhost:8080/"
        },
        "id": "zhM9E0R1qHWJ",
        "outputId": "acc57afe-6c81-4830-9ae3-850edde0cc3c"
      },
      "outputs": [
        {
          "name": "stdout",
          "output_type": "stream",
          "text": [
            "0.1414073754991522\n"
          ]
        }
      ],
      "source": [
        "print(f1_score(y_test_numpy, y_predts_numpy, average='weighted'))"
      ]
    },
    {
      "cell_type": "code",
      "execution_count": 76,
      "id": "m2yc4ev-P_fo",
      "metadata": {
        "colab": {
          "base_uri": "https://localhost:8080/",
          "height": 542
        },
        "id": "m2yc4ev-P_fo",
        "outputId": "170d36cf-7068-427a-86da-8cc19ae3a030"
      },
      "outputs": [
        {
          "data": {
            "image/png": "[encoded data removed]",
            "text/plain": [
              "<Figure size 800x600 with 1 Axes>"
            ]
          },
          "metadata": {},
          "output_type": "display_data"
        }
      ],
      "source": [
        "# train acc \n",
        "sb.set_style(\"darkgrid\")\n",
        "plt.figure(figsize=(8, 6))\n",
        "\n",
        "# Loop through each key in the dictionary and plot a line\n",
        "for key, data in train_acc.items():\n",
        "    sb.lineplot(x=range(1, N_ITER + 1), y=data)\n",
        "\n",
        "# Add labels and legend\n",
        "plt.ylabel('Train Accuracy')\n",
        "plt.xlabel('Generation')\n",
        "\n",
        "\n",
        "# Show the plot\n",
        "plt.show()"
      ]
    },
    {
      "cell_type": "code",
      "execution_count": 77,
      "id": "Mw_diKxhOpTM",
      "metadata": {
        "colab": {
          "base_uri": "https://localhost:8080/",
          "height": 542
        },
        "id": "Mw_diKxhOpTM",
        "outputId": "b14ba5e4-5ee2-4749-c6f8-48d65f83e159"
      },
      "outputs": [
        {
          "data": {
            "image/png": "[encoded data removed]",
            "text/plain": [
              "<Figure size 800x600 with 1 Axes>"
            ]
          },
          "metadata": {},
          "output_type": "display_data"
        }
      ],
      "source": [
        "# test acc \n",
        "sb.set_style(\"darkgrid\")\n",
        "plt.figure(figsize=(8, 6))\n",
        "\n",
        "# Loop through each key in the dictionary and plot a line\n",
        "for key, data in test_acc.items():\n",
        "    sb.lineplot(x=range(1, N_ITER + 1), y=data)\n",
        "\n",
        "# Add labels and legend\n",
        "plt.ylabel('Test Accuracy')\n",
        "plt.xlabel('Generation')\n",
        "\n",
        "\n",
        "# Show the plot\n",
        "plt.show()"
      ]
    },
    {
      "cell_type": "code",
      "execution_count": null,
      "id": "fesrVjMDPtPf",
      "metadata": {
        "id": "fesrVjMDPtPf"
      },
      "outputs": [],
      "source": []
    }
  ],
  "metadata": {
    "accelerator": "GPU",
    "colab": {
      "provenance": []
    },
    "gpuClass": "standard",
    "kernelspec": {
      "display_name": "Python 3 (ipykernel)",
      "language": "python",
      "name": "python3"
    },
    "language_info": {
      "codemirror_mode": {
        "name": "ipython",
        "version": 3
      },
      "file_extension": ".py",
      "mimetype": "text/x-python",
      "name": "python",
      "nbconvert_exporter": "python",
      "pygments_lexer": "ipython3",
      "version": "3.10.9"
    }
  },
  "nbformat": 4,
  "nbformat_minor": 5
}
